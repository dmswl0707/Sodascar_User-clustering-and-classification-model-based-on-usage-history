{
  "nbformat": 4,
  "nbformat_minor": 0,
  "metadata": {
    "colab": {
      "name": "EDA.ipynb",
      "provenance": [],
      "collapsed_sections": [],
      "authorship_tag": "ABX9TyO2g5GXC7gew9T4TI/cujAF",
      "include_colab_link": true
    },
    "kernelspec": {
      "name": "python3",
      "display_name": "Python 3"
    },
    "language_info": {
      "name": "python"
    }
  },
  "cells": [
    {
      "cell_type": "markdown",
      "metadata": {
        "id": "view-in-github",
        "colab_type": "text"
      },
      "source": [
        "<a href=\"https://colab.research.google.com/github/dmswl0707/Sodescar/blob/eunji/EDA.ipynb\" target=\"_parent\"><img src=\"https://colab.research.google.com/assets/colab-badge.svg\" alt=\"Open In Colab\"/></a>"
      ]
    },
    {
      "cell_type": "code",
      "execution_count": 1,
      "metadata": {
        "colab": {
          "base_uri": "https://localhost:8080/"
        },
        "id": "_bXfVEhwqXQT",
        "outputId": "8f31d442-e635-4c66-bd69-9513351a6b5e"
      },
      "outputs": [
        {
          "output_type": "stream",
          "name": "stdout",
          "text": [
            "Drive already mounted at /content/drive; to attempt to forcibly remount, call drive.mount(\"/content/drive\", force_remount=True).\n"
          ]
        }
      ],
      "source": [
        "from google.colab import drive\n",
        "drive.mount('/content/drive')"
      ]
    },
    {
      "cell_type": "code",
      "source": [
        "import pandas as pd\n",
        "import numpy as np\n",
        "import matplotlib.pyplot as plt"
      ],
      "metadata": {
        "id": "JcneX5BduXrl"
      },
      "execution_count": 2,
      "outputs": []
    },
    {
      "cell_type": "code",
      "source": [
        "data = pd.read_csv('/content/drive/MyDrive/Colab Notebooks/socar_reservation_triplog.csv')\n",
        "data.tail()"
      ],
      "metadata": {
        "colab": {
          "base_uri": "https://localhost:8080/",
          "height": 999
        },
        "id": "xF8hmsHTuon0",
        "outputId": "c4d84e30-7e0e-46e7-f632-af1507bc8256"
      },
      "execution_count": 3,
      "outputs": [
        {
          "output_type": "execute_result",
          "data": {
            "text/html": [
              "\n",
              "  <div id=\"df-7dbb0e49-23ab-4f1e-b306-9bb4c7214b9c\">\n",
              "    <div class=\"colab-df-container\">\n",
              "      <div>\n",
              "<style scoped>\n",
              "    .dataframe tbody tr th:only-of-type {\n",
              "        vertical-align: middle;\n",
              "    }\n",
              "\n",
              "    .dataframe tbody tr th {\n",
              "        vertical-align: top;\n",
              "    }\n",
              "\n",
              "    .dataframe thead th {\n",
              "        text-align: right;\n",
              "    }\n",
              "</style>\n",
              "<table border=\"1\" class=\"dataframe\">\n",
              "  <thead>\n",
              "    <tr style=\"text-align: right;\">\n",
              "      <th></th>\n",
              "      <th>reservation_id</th>\n",
              "      <th>car_id</th>\n",
              "      <th>member_id_encrypted</th>\n",
              "      <th>region</th>\n",
              "      <th>reservation_return_at</th>\n",
              "      <th>reservation_start_at</th>\n",
              "      <th>member_age</th>\n",
              "      <th>member_gender</th>\n",
              "      <th>member_created_date</th>\n",
              "      <th>member_total_distance</th>\n",
              "      <th>is_vroom</th>\n",
              "      <th>car_name</th>\n",
              "      <th>zone_name</th>\n",
              "      <th>zone_address</th>\n",
              "      <th>zone_lat</th>\n",
              "      <th>zone_lng</th>\n",
              "      <th>zone_type1</th>\n",
              "      <th>zone_type2</th>\n",
              "      <th>zone_type3</th>\n",
              "      <th>reservation_created_lat</th>\n",
              "      <th>reservation_created_lng</th>\n",
              "      <th>trip</th>\n",
              "    </tr>\n",
              "  </thead>\n",
              "  <tbody>\n",
              "    <tr>\n",
              "      <th>751543</th>\n",
              "      <td>25230734</td>\n",
              "      <td>12133</td>\n",
              "      <td>EfUz3ev4ykYFkJ6t4Eg4ML5fkur2s8Rg/LqDEdZTxpo=</td>\n",
              "      <td>서울특별시 성북구</td>\n",
              "      <td>2019-08-16 17:58:45</td>\n",
              "      <td>2019-08-16 14:50:00</td>\n",
              "      <td>27</td>\n",
              "      <td>male</td>\n",
              "      <td>2019-06-09</td>\n",
              "      <td>4756.0</td>\n",
              "      <td>True</td>\n",
              "      <td>미니클럽맨</td>\n",
              "      <td>서울 돌곶이역[V]</td>\n",
              "      <td>서울 성북구 석관동 245-4</td>\n",
              "      <td>37.610798</td>\n",
              "      <td>127.058172</td>\n",
              "      <td>NaN</td>\n",
              "      <td>NaN</td>\n",
              "      <td>NaN</td>\n",
              "      <td>NaN</td>\n",
              "      <td>NaN</td>\n",
              "      <td>NaN</td>\n",
              "    </tr>\n",
              "    <tr>\n",
              "      <th>751544</th>\n",
              "      <td>25230739</td>\n",
              "      <td>16346</td>\n",
              "      <td>isNozhU/SlfjlXncrzi20TgQEev2hiSf+JH/13Vzt1Y=</td>\n",
              "      <td>경기도 의정부시</td>\n",
              "      <td>2019-08-16 20:29:58</td>\n",
              "      <td>2019-08-15 21:40:00</td>\n",
              "      <td>31</td>\n",
              "      <td>male</td>\n",
              "      <td>2018-03-09</td>\n",
              "      <td>10799.0</td>\n",
              "      <td>False</td>\n",
              "      <td>올뉴K3</td>\n",
              "      <td>AJ파크 의정부 센트럴타워</td>\n",
              "      <td>경기 의정부시 의정부동 494 센트럴타워</td>\n",
              "      <td>37.738066</td>\n",
              "      <td>127.044092</td>\n",
              "      <td>TRANSFER_SUBWAY</td>\n",
              "      <td>COMMERCIAL_HOTSPOT</td>\n",
              "      <td>NaN</td>\n",
              "      <td>NaN</td>\n",
              "      <td>NaN</td>\n",
              "      <td>경기도 양주시,경기도 고양시 일산서구,경기도 양주시,경기도 고양시 일산서구</td>\n",
              "    </tr>\n",
              "    <tr>\n",
              "      <th>751545</th>\n",
              "      <td>25230740</td>\n",
              "      <td>18217</td>\n",
              "      <td>DBVfEBiHB2Fq4PgtorxeD6SKjkvP+yeofER1mjQ6OD0=</td>\n",
              "      <td>서울특별시 강남구</td>\n",
              "      <td>2019-08-16 00:39:36</td>\n",
              "      <td>2019-08-15 22:00:00</td>\n",
              "      <td>28</td>\n",
              "      <td>male</td>\n",
              "      <td>2015-06-10</td>\n",
              "      <td>9080.0</td>\n",
              "      <td>False</td>\n",
              "      <td>더뉴레이</td>\n",
              "      <td>대승주차장</td>\n",
              "      <td>서울 강남구 대치동 984-12</td>\n",
              "      <td>37.500908</td>\n",
              "      <td>127.066643</td>\n",
              "      <td>LIVING_APT</td>\n",
              "      <td>LIVING_VILLA</td>\n",
              "      <td>COMMERCIAL_HOTSPOT</td>\n",
              "      <td>NaN</td>\n",
              "      <td>NaN</td>\n",
              "      <td>서울특별시 노원구</td>\n",
              "    </tr>\n",
              "    <tr>\n",
              "      <th>751546</th>\n",
              "      <td>25230763</td>\n",
              "      <td>8420</td>\n",
              "      <td>2akRtQ2yPc0zFkPX1EGe72+tJPXrOhFKHmlOiwiwYY0=</td>\n",
              "      <td>서울특별시 강서구</td>\n",
              "      <td>2019-08-16 04:39:18</td>\n",
              "      <td>2019-08-15 21:40:00</td>\n",
              "      <td>21</td>\n",
              "      <td>male</td>\n",
              "      <td>2016-08-04</td>\n",
              "      <td>932.0</td>\n",
              "      <td>False</td>\n",
              "      <td>넥스트스파크</td>\n",
              "      <td>삼영주차장</td>\n",
              "      <td>서울 강서구 화곡동 110-65</td>\n",
              "      <td>37.543930</td>\n",
              "      <td>126.843872</td>\n",
              "      <td>LIVING_VILLA</td>\n",
              "      <td>LIVING_ETC</td>\n",
              "      <td>ETC</td>\n",
              "      <td>NaN</td>\n",
              "      <td>NaN</td>\n",
              "      <td>인천광역시 중구,서울특별시 강서구,서울특별시 영등포구,서울특별시 강서구</td>\n",
              "    </tr>\n",
              "    <tr>\n",
              "      <th>751547</th>\n",
              "      <td>25230776</td>\n",
              "      <td>18322</td>\n",
              "      <td>pKyxVpBU8+VcqT/J4ZLxYLHGBR3T7rH636FQuFbhWwo=</td>\n",
              "      <td>서울특별시 성북구</td>\n",
              "      <td>2019-08-16 20:47:34</td>\n",
              "      <td>2019-08-16 16:30:00</td>\n",
              "      <td>38</td>\n",
              "      <td>male</td>\n",
              "      <td>2016-10-13</td>\n",
              "      <td>27556.0</td>\n",
              "      <td>False</td>\n",
              "      <td>더뉴레이</td>\n",
              "      <td>삼선교주차장</td>\n",
              "      <td>서울 성북구 삼선동4가 18-6</td>\n",
              "      <td>37.588623</td>\n",
              "      <td>127.010368</td>\n",
              "      <td>LIVING_ETC</td>\n",
              "      <td>COMMERCIAL_OFFICE</td>\n",
              "      <td>ETC</td>\n",
              "      <td>NaN</td>\n",
              "      <td>NaN</td>\n",
              "      <td>서울특별시 중구,서울특별시 광진구</td>\n",
              "    </tr>\n",
              "  </tbody>\n",
              "</table>\n",
              "</div>\n",
              "      <button class=\"colab-df-convert\" onclick=\"convertToInteractive('df-7dbb0e49-23ab-4f1e-b306-9bb4c7214b9c')\"\n",
              "              title=\"Convert this dataframe to an interactive table.\"\n",
              "              style=\"display:none;\">\n",
              "        \n",
              "  <svg xmlns=\"http://www.w3.org/2000/svg\" height=\"24px\"viewBox=\"0 0 24 24\"\n",
              "       width=\"24px\">\n",
              "    <path d=\"M0 0h24v24H0V0z\" fill=\"none\"/>\n",
              "    <path d=\"M18.56 5.44l.94 2.06.94-2.06 2.06-.94-2.06-.94-.94-2.06-.94 2.06-2.06.94zm-11 1L8.5 8.5l.94-2.06 2.06-.94-2.06-.94L8.5 2.5l-.94 2.06-2.06.94zm10 10l.94 2.06.94-2.06 2.06-.94-2.06-.94-.94-2.06-.94 2.06-2.06.94z\"/><path d=\"M17.41 7.96l-1.37-1.37c-.4-.4-.92-.59-1.43-.59-.52 0-1.04.2-1.43.59L10.3 9.45l-7.72 7.72c-.78.78-.78 2.05 0 2.83L4 21.41c.39.39.9.59 1.41.59.51 0 1.02-.2 1.41-.59l7.78-7.78 2.81-2.81c.8-.78.8-2.07 0-2.86zM5.41 20L4 18.59l7.72-7.72 1.47 1.35L5.41 20z\"/>\n",
              "  </svg>\n",
              "      </button>\n",
              "      \n",
              "  <style>\n",
              "    .colab-df-container {\n",
              "      display:flex;\n",
              "      flex-wrap:wrap;\n",
              "      gap: 12px;\n",
              "    }\n",
              "\n",
              "    .colab-df-convert {\n",
              "      background-color: #E8F0FE;\n",
              "      border: none;\n",
              "      border-radius: 50%;\n",
              "      cursor: pointer;\n",
              "      display: none;\n",
              "      fill: #1967D2;\n",
              "      height: 32px;\n",
              "      padding: 0 0 0 0;\n",
              "      width: 32px;\n",
              "    }\n",
              "\n",
              "    .colab-df-convert:hover {\n",
              "      background-color: #E2EBFA;\n",
              "      box-shadow: 0px 1px 2px rgba(60, 64, 67, 0.3), 0px 1px 3px 1px rgba(60, 64, 67, 0.15);\n",
              "      fill: #174EA6;\n",
              "    }\n",
              "\n",
              "    [theme=dark] .colab-df-convert {\n",
              "      background-color: #3B4455;\n",
              "      fill: #D2E3FC;\n",
              "    }\n",
              "\n",
              "    [theme=dark] .colab-df-convert:hover {\n",
              "      background-color: #434B5C;\n",
              "      box-shadow: 0px 1px 3px 1px rgba(0, 0, 0, 0.15);\n",
              "      filter: drop-shadow(0px 1px 2px rgba(0, 0, 0, 0.3));\n",
              "      fill: #FFFFFF;\n",
              "    }\n",
              "  </style>\n",
              "\n",
              "      <script>\n",
              "        const buttonEl =\n",
              "          document.querySelector('#df-7dbb0e49-23ab-4f1e-b306-9bb4c7214b9c button.colab-df-convert');\n",
              "        buttonEl.style.display =\n",
              "          google.colab.kernel.accessAllowed ? 'block' : 'none';\n",
              "\n",
              "        async function convertToInteractive(key) {\n",
              "          const element = document.querySelector('#df-7dbb0e49-23ab-4f1e-b306-9bb4c7214b9c');\n",
              "          const dataTable =\n",
              "            await google.colab.kernel.invokeFunction('convertToInteractive',\n",
              "                                                     [key], {});\n",
              "          if (!dataTable) return;\n",
              "\n",
              "          const docLinkHtml = 'Like what you see? Visit the ' +\n",
              "            '<a target=\"_blank\" href=https://colab.research.google.com/notebooks/data_table.ipynb>data table notebook</a>'\n",
              "            + ' to learn more about interactive tables.';\n",
              "          element.innerHTML = '';\n",
              "          dataTable['output_type'] = 'display_data';\n",
              "          await google.colab.output.renderOutput(dataTable, element);\n",
              "          const docLink = document.createElement('div');\n",
              "          docLink.innerHTML = docLinkHtml;\n",
              "          element.appendChild(docLink);\n",
              "        }\n",
              "      </script>\n",
              "    </div>\n",
              "  </div>\n",
              "  "
            ],
            "text/plain": [
              "        reservation_id  ...                                       trip\n",
              "751543        25230734  ...                                        NaN\n",
              "751544        25230739  ...  경기도 양주시,경기도 고양시 일산서구,경기도 양주시,경기도 고양시 일산서구\n",
              "751545        25230740  ...                                  서울특별시 노원구\n",
              "751546        25230763  ...    인천광역시 중구,서울특별시 강서구,서울특별시 영등포구,서울특별시 강서구\n",
              "751547        25230776  ...                         서울특별시 중구,서울특별시 광진구\n",
              "\n",
              "[5 rows x 22 columns]"
            ]
          },
          "metadata": {},
          "execution_count": 3
        }
      ]
    },
    {
      "cell_type": "code",
      "source": [
        "data.info()"
      ],
      "metadata": {
        "colab": {
          "base_uri": "https://localhost:8080/"
        },
        "id": "pzjq_hclBNt1",
        "outputId": "c0ddf623-19b8-4f81-93ec-076cc20fe670"
      },
      "execution_count": 4,
      "outputs": [
        {
          "output_type": "stream",
          "name": "stdout",
          "text": [
            "<class 'pandas.core.frame.DataFrame'>\n",
            "RangeIndex: 751548 entries, 0 to 751547\n",
            "Data columns (total 22 columns):\n",
            " #   Column                   Non-Null Count   Dtype  \n",
            "---  ------                   --------------   -----  \n",
            " 0   reservation_id           751548 non-null  int64  \n",
            " 1   car_id                   751548 non-null  int64  \n",
            " 2   member_id_encrypted      751548 non-null  object \n",
            " 3   region                   751548 non-null  object \n",
            " 4   reservation_return_at    751548 non-null  object \n",
            " 5   reservation_start_at     751548 non-null  object \n",
            " 6   member_age               751548 non-null  int64  \n",
            " 7   member_gender            699017 non-null  object \n",
            " 8   member_created_date      751548 non-null  object \n",
            " 9   member_total_distance    738010 non-null  float64\n",
            " 10  is_vroom                 751548 non-null  bool   \n",
            " 11  car_name                 751548 non-null  object \n",
            " 12  zone_name                750774 non-null  object \n",
            " 13  zone_address             751548 non-null  object \n",
            " 14  zone_lat                 751548 non-null  float64\n",
            " 15  zone_lng                 751548 non-null  float64\n",
            " 16  zone_type1               733508 non-null  object \n",
            " 17  zone_type2               691605 non-null  object \n",
            " 18  zone_type3               637422 non-null  object \n",
            " 19  reservation_created_lat  199701 non-null  float64\n",
            " 20  reservation_created_lng  199701 non-null  float64\n",
            " 21  trip                     555474 non-null  object \n",
            "dtypes: bool(1), float64(5), int64(3), object(13)\n",
            "memory usage: 121.1+ MB\n"
          ]
        }
      ]
    },
    {
      "cell_type": "code",
      "source": [
        "# 결측치 제거\n",
        "data = data.dropna()"
      ],
      "metadata": {
        "id": "5LDJF2sJK7t8"
      },
      "execution_count": 5,
      "outputs": []
    },
    {
      "cell_type": "code",
      "source": [
        "data = data.drop(['reservation_id', 'zone_address', 'car_id', 'zone_name', 'zone_lat', 'zone_lng', 'reservation_created_lat', 'reservation_created_lng'], 1)\n",
        "data = data.sample(frac=1, random_state=0).reset_index(drop=True)\n",
        "data.head()"
      ],
      "metadata": {
        "colab": {
          "base_uri": "https://localhost:8080/",
          "height": 1000
        },
        "id": "ISLJeTbW1SrO",
        "outputId": "214b3a25-eb34-4805-d4fa-a83cd1b0223b"
      },
      "execution_count": 6,
      "outputs": [
        {
          "output_type": "execute_result",
          "data": {
            "text/html": [
              "\n",
              "  <div id=\"df-93502f04-7fec-45db-9a2f-9a0991146428\">\n",
              "    <div class=\"colab-df-container\">\n",
              "      <div>\n",
              "<style scoped>\n",
              "    .dataframe tbody tr th:only-of-type {\n",
              "        vertical-align: middle;\n",
              "    }\n",
              "\n",
              "    .dataframe tbody tr th {\n",
              "        vertical-align: top;\n",
              "    }\n",
              "\n",
              "    .dataframe thead th {\n",
              "        text-align: right;\n",
              "    }\n",
              "</style>\n",
              "<table border=\"1\" class=\"dataframe\">\n",
              "  <thead>\n",
              "    <tr style=\"text-align: right;\">\n",
              "      <th></th>\n",
              "      <th>member_id_encrypted</th>\n",
              "      <th>region</th>\n",
              "      <th>reservation_return_at</th>\n",
              "      <th>reservation_start_at</th>\n",
              "      <th>member_age</th>\n",
              "      <th>member_gender</th>\n",
              "      <th>member_created_date</th>\n",
              "      <th>member_total_distance</th>\n",
              "      <th>is_vroom</th>\n",
              "      <th>car_name</th>\n",
              "      <th>zone_type1</th>\n",
              "      <th>zone_type2</th>\n",
              "      <th>zone_type3</th>\n",
              "      <th>trip</th>\n",
              "    </tr>\n",
              "  </thead>\n",
              "  <tbody>\n",
              "    <tr>\n",
              "      <th>0</th>\n",
              "      <td>Bs6zFqRPD1zImennBpeXaP8NE6d+DzBq5Z8mtuC0eR4=</td>\n",
              "      <td>서울특별시 강남구</td>\n",
              "      <td>2019-08-23 23:42:19</td>\n",
              "      <td>2019-08-23 22:00:00</td>\n",
              "      <td>30</td>\n",
              "      <td>male</td>\n",
              "      <td>2018-08-04</td>\n",
              "      <td>5284.0</td>\n",
              "      <td>False</td>\n",
              "      <td>더뉴아반떼</td>\n",
              "      <td>LIVING_APT</td>\n",
              "      <td>LIVING_ETC</td>\n",
              "      <td>TRANSFER_BUS</td>\n",
              "      <td>서울특별시 광진구</td>\n",
              "    </tr>\n",
              "    <tr>\n",
              "      <th>1</th>\n",
              "      <td>8wu5HZqMAjq6mrjeYaeEU03i5ENRFIkCNjMCk40sTp0=</td>\n",
              "      <td>경기도 남양주시</td>\n",
              "      <td>2019-09-10 15:59:47</td>\n",
              "      <td>2019-09-09 11:20:00</td>\n",
              "      <td>49</td>\n",
              "      <td>female</td>\n",
              "      <td>2015-05-08</td>\n",
              "      <td>25840.0</td>\n",
              "      <td>False</td>\n",
              "      <td>티볼리(경유)</td>\n",
              "      <td>LIVING_APT</td>\n",
              "      <td>TRANSFER_BUS</td>\n",
              "      <td>ETC</td>\n",
              "      <td>경기도 양평군,경기도 이천시,경기도 남양주시,경기도 성남시 분당구,경기도 성남시 분...</td>\n",
              "    </tr>\n",
              "    <tr>\n",
              "      <th>2</th>\n",
              "      <td>Yw8DGmJuWBDbCiM+ujwevwwkKAyjtxUfMCMhrR4huOY=</td>\n",
              "      <td>부산광역시 강서구</td>\n",
              "      <td>2019-11-13 20:28:32</td>\n",
              "      <td>2019-11-13 14:30:00</td>\n",
              "      <td>42</td>\n",
              "      <td>female</td>\n",
              "      <td>2019-11-12</td>\n",
              "      <td>881.0</td>\n",
              "      <td>False</td>\n",
              "      <td>쏘나타 뉴라이즈(LPG)</td>\n",
              "      <td>TRANSFER_STATION</td>\n",
              "      <td>TRANSFER_SUBWAY</td>\n",
              "      <td>ETC</td>\n",
              "      <td>부산광역시 서구,부산광역시 서구,부산광역시 해운대구</td>\n",
              "    </tr>\n",
              "    <tr>\n",
              "      <th>3</th>\n",
              "      <td>WdKljc1HSkWe7OwZMuC8evJ4S5nHIDl0d/k+RkzJW6A=</td>\n",
              "      <td>경기도 고양시 일산동구</td>\n",
              "      <td>2019-10-21 00:07:38</td>\n",
              "      <td>2019-10-20 12:10:00</td>\n",
              "      <td>37</td>\n",
              "      <td>male</td>\n",
              "      <td>2016-11-28</td>\n",
              "      <td>16509.0</td>\n",
              "      <td>True</td>\n",
              "      <td>레이</td>\n",
              "      <td>LIVING_APT</td>\n",
              "      <td>ETC</td>\n",
              "      <td>ETC</td>\n",
              "      <td>경기도 파주시,경기도 파주시,경기도 파주시,경기도 고양시 덕양구</td>\n",
              "    </tr>\n",
              "    <tr>\n",
              "      <th>4</th>\n",
              "      <td>cphO88t5MCrnOginrtHC2rytMk8HhgwEufcptPmCl6I=</td>\n",
              "      <td>경기도 안양시 동안구</td>\n",
              "      <td>2019-10-12 19:00:00</td>\n",
              "      <td>2019-10-09 07:00:00</td>\n",
              "      <td>34</td>\n",
              "      <td>female</td>\n",
              "      <td>2015-08-19</td>\n",
              "      <td>2569.0</td>\n",
              "      <td>False</td>\n",
              "      <td>올뉴모닝</td>\n",
              "      <td>LIVING_ETC</td>\n",
              "      <td>TRANSFER_SUBWAY</td>\n",
              "      <td>COMMERCIAL_HOTSPOT</td>\n",
              "      <td>경기도 안양시 동안구,경기도 안양시 동안구,경기도 안양시 동안구,경기도 고양시 일산...</td>\n",
              "    </tr>\n",
              "  </tbody>\n",
              "</table>\n",
              "</div>\n",
              "      <button class=\"colab-df-convert\" onclick=\"convertToInteractive('df-93502f04-7fec-45db-9a2f-9a0991146428')\"\n",
              "              title=\"Convert this dataframe to an interactive table.\"\n",
              "              style=\"display:none;\">\n",
              "        \n",
              "  <svg xmlns=\"http://www.w3.org/2000/svg\" height=\"24px\"viewBox=\"0 0 24 24\"\n",
              "       width=\"24px\">\n",
              "    <path d=\"M0 0h24v24H0V0z\" fill=\"none\"/>\n",
              "    <path d=\"M18.56 5.44l.94 2.06.94-2.06 2.06-.94-2.06-.94-.94-2.06-.94 2.06-2.06.94zm-11 1L8.5 8.5l.94-2.06 2.06-.94-2.06-.94L8.5 2.5l-.94 2.06-2.06.94zm10 10l.94 2.06.94-2.06 2.06-.94-2.06-.94-.94-2.06-.94 2.06-2.06.94z\"/><path d=\"M17.41 7.96l-1.37-1.37c-.4-.4-.92-.59-1.43-.59-.52 0-1.04.2-1.43.59L10.3 9.45l-7.72 7.72c-.78.78-.78 2.05 0 2.83L4 21.41c.39.39.9.59 1.41.59.51 0 1.02-.2 1.41-.59l7.78-7.78 2.81-2.81c.8-.78.8-2.07 0-2.86zM5.41 20L4 18.59l7.72-7.72 1.47 1.35L5.41 20z\"/>\n",
              "  </svg>\n",
              "      </button>\n",
              "      \n",
              "  <style>\n",
              "    .colab-df-container {\n",
              "      display:flex;\n",
              "      flex-wrap:wrap;\n",
              "      gap: 12px;\n",
              "    }\n",
              "\n",
              "    .colab-df-convert {\n",
              "      background-color: #E8F0FE;\n",
              "      border: none;\n",
              "      border-radius: 50%;\n",
              "      cursor: pointer;\n",
              "      display: none;\n",
              "      fill: #1967D2;\n",
              "      height: 32px;\n",
              "      padding: 0 0 0 0;\n",
              "      width: 32px;\n",
              "    }\n",
              "\n",
              "    .colab-df-convert:hover {\n",
              "      background-color: #E2EBFA;\n",
              "      box-shadow: 0px 1px 2px rgba(60, 64, 67, 0.3), 0px 1px 3px 1px rgba(60, 64, 67, 0.15);\n",
              "      fill: #174EA6;\n",
              "    }\n",
              "\n",
              "    [theme=dark] .colab-df-convert {\n",
              "      background-color: #3B4455;\n",
              "      fill: #D2E3FC;\n",
              "    }\n",
              "\n",
              "    [theme=dark] .colab-df-convert:hover {\n",
              "      background-color: #434B5C;\n",
              "      box-shadow: 0px 1px 3px 1px rgba(0, 0, 0, 0.15);\n",
              "      filter: drop-shadow(0px 1px 2px rgba(0, 0, 0, 0.3));\n",
              "      fill: #FFFFFF;\n",
              "    }\n",
              "  </style>\n",
              "\n",
              "      <script>\n",
              "        const buttonEl =\n",
              "          document.querySelector('#df-93502f04-7fec-45db-9a2f-9a0991146428 button.colab-df-convert');\n",
              "        buttonEl.style.display =\n",
              "          google.colab.kernel.accessAllowed ? 'block' : 'none';\n",
              "\n",
              "        async function convertToInteractive(key) {\n",
              "          const element = document.querySelector('#df-93502f04-7fec-45db-9a2f-9a0991146428');\n",
              "          const dataTable =\n",
              "            await google.colab.kernel.invokeFunction('convertToInteractive',\n",
              "                                                     [key], {});\n",
              "          if (!dataTable) return;\n",
              "\n",
              "          const docLinkHtml = 'Like what you see? Visit the ' +\n",
              "            '<a target=\"_blank\" href=https://colab.research.google.com/notebooks/data_table.ipynb>data table notebook</a>'\n",
              "            + ' to learn more about interactive tables.';\n",
              "          element.innerHTML = '';\n",
              "          dataTable['output_type'] = 'display_data';\n",
              "          await google.colab.output.renderOutput(dataTable, element);\n",
              "          const docLink = document.createElement('div');\n",
              "          docLink.innerHTML = docLinkHtml;\n",
              "          element.appendChild(docLink);\n",
              "        }\n",
              "      </script>\n",
              "    </div>\n",
              "  </div>\n",
              "  "
            ],
            "text/plain": [
              "                            member_id_encrypted  ...                                               trip\n",
              "0  Bs6zFqRPD1zImennBpeXaP8NE6d+DzBq5Z8mtuC0eR4=  ...                                          서울특별시 광진구\n",
              "1  8wu5HZqMAjq6mrjeYaeEU03i5ENRFIkCNjMCk40sTp0=  ...  경기도 양평군,경기도 이천시,경기도 남양주시,경기도 성남시 분당구,경기도 성남시 분...\n",
              "2  Yw8DGmJuWBDbCiM+ujwevwwkKAyjtxUfMCMhrR4huOY=  ...                       부산광역시 서구,부산광역시 서구,부산광역시 해운대구\n",
              "3  WdKljc1HSkWe7OwZMuC8evJ4S5nHIDl0d/k+RkzJW6A=  ...                경기도 파주시,경기도 파주시,경기도 파주시,경기도 고양시 덕양구\n",
              "4  cphO88t5MCrnOginrtHC2rytMk8HhgwEufcptPmCl6I=  ...  경기도 안양시 동안구,경기도 안양시 동안구,경기도 안양시 동안구,경기도 고양시 일산...\n",
              "\n",
              "[5 rows x 14 columns]"
            ]
          },
          "metadata": {},
          "execution_count": 6
        }
      ]
    },
    {
      "cell_type": "markdown",
      "source": [
        "# 1. 유저 정보\n",
        "- 쏘카 이용자의 75%가 40세 이하, 평균 나이 31세 남성 운전자가 여자 운전자에 비해 4배 정도 많음\n",
        "- 첫 가입 후 평균 2~3년정도 쏘카 서비스를 이용, 전체 이용자의 75% 정도가 10시간 이내 가량 이용함\n",
        "- 전체 이용자의 75%가 6500km 정도 주행\n"
      ],
      "metadata": {
        "id": "oaG0LflDsD6W"
      }
    },
    {
      "cell_type": "code",
      "source": [
        "# 임의의 컬럼 분석(나이 분포)\n",
        "# 전체 연령의 50% 정도가 29세 정도\n",
        "data['member_age'].describe()"
      ],
      "metadata": {
        "colab": {
          "base_uri": "https://localhost:8080/"
        },
        "id": "UCH4nfXxLnxT",
        "outputId": "272ce211-5889-4416-fb39-a875b2a930bd"
      },
      "execution_count": 11,
      "outputs": [
        {
          "output_type": "execute_result",
          "data": {
            "text/plain": [
              "count    124755.000000\n",
              "mean         31.686089\n",
              "std           8.815163\n",
              "min          21.000000\n",
              "25%          25.000000\n",
              "50%          29.000000\n",
              "75%          37.000000\n",
              "max          78.000000\n",
              "Name: member_age, dtype: float64"
            ]
          },
          "metadata": {},
          "execution_count": 11
        }
      ]
    },
    {
      "cell_type": "code",
      "source": [
        "plt.hist(data['member_age'], bins=7)"
      ],
      "metadata": {
        "colab": {
          "base_uri": "https://localhost:8080/",
          "height": 352
        },
        "id": "VoBgNi8-VOaG",
        "outputId": "02ebe048-80d5-4d94-9026-36adc285c2c7"
      },
      "execution_count": 12,
      "outputs": [
        {
          "output_type": "execute_result",
          "data": {
            "text/plain": [
              "(array([6.4889e+04, 3.1672e+04, 1.5980e+04, 9.3850e+03, 2.3750e+03,\n",
              "        4.3300e+02, 2.1000e+01]),\n",
              " array([21.        , 29.14285714, 37.28571429, 45.42857143, 53.57142857,\n",
              "        61.71428571, 69.85714286, 78.        ]),\n",
              " <a list of 7 Patch objects>)"
            ]
          },
          "metadata": {},
          "execution_count": 12
        },
        {
          "output_type": "display_data",
          "data": {
            "image/png": "[encoded data removed]",
            "text/plain": [
              "<Figure size 432x288 with 1 Axes>"
            ]
          },
          "metadata": {
            "needs_background": "light"
          }
        }
      ]
    },
    {
      "cell_type": "code",
      "source": [
        "# 남자 이용자가 여자 이용자의 4배 가량 많음\n",
        "data['member_gender'].value_counts(normalize=True).plot(kind=\"pie\")"
      ],
      "metadata": {
        "colab": {
          "base_uri": "https://localhost:8080/",
          "height": 265
        },
        "id": "1wWeAfm1S2Wn",
        "outputId": "c3f6ec66-e6d9-4649-ff3f-3284ad9b4d95"
      },
      "execution_count": 13,
      "outputs": [
        {
          "output_type": "execute_result",
          "data": {
            "text/plain": [
              "<matplotlib.axes._subplots.AxesSubplot at 0x7fe434de5050>"
            ]
          },
          "metadata": {},
          "execution_count": 13
        },
        {
          "output_type": "display_data",
          "data": {
            "image/png": "[encoded data removed]",
            "text/plain": [
              "<Figure size 432x288 with 1 Axes>"
            ]
          },
          "metadata": {}
        }
      ]
    },
    {
      "cell_type": "code",
      "source": [
        "!sudo apt-get install -y fonts-nanum\n",
        "!sudo fc-cache -fv\n",
        "!rm ~/.cache/matplotlib -rf\n",
        "%matplotlib inline  "
      ],
      "metadata": {
        "id": "tAwtR2GftVsX",
        "outputId": "ff4002c1-2d56-4cc6-86e1-23aa0af8495c",
        "colab": {
          "base_uri": "https://localhost:8080/"
        }
      },
      "execution_count": 14,
      "outputs": [
        {
          "output_type": "stream",
          "name": "stdout",
          "text": [
            "Reading package lists... Done\n",
            "Building dependency tree       \n",
            "Reading state information... Done\n",
            "fonts-nanum is already the newest version (20170925-1).\n",
            "0 upgraded, 0 newly installed, 0 to remove and 37 not upgraded.\n",
            "/usr/share/fonts: caching, new cache contents: 0 fonts, 1 dirs\n",
            "/usr/share/fonts/truetype: caching, new cache contents: 0 fonts, 3 dirs\n",
            "/usr/share/fonts/truetype/humor-sans: caching, new cache contents: 1 fonts, 0 dirs\n",
            "/usr/share/fonts/truetype/liberation: caching, new cache contents: 16 fonts, 0 dirs\n",
            "/usr/share/fonts/truetype/nanum: caching, new cache contents: 10 fonts, 0 dirs\n",
            "/usr/local/share/fonts: caching, new cache contents: 0 fonts, 0 dirs\n",
            "/root/.local/share/fonts: skipping, no such directory\n",
            "/root/.fonts: skipping, no such directory\n",
            "/var/cache/fontconfig: cleaning cache directory\n",
            "/root/.cache/fontconfig: not cleaning non-existent cache directory\n",
            "/root/.fontconfig: not cleaning non-existent cache directory\n",
            "fc-cache: succeeded\n"
          ]
        }
      ]
    },
    {
      "cell_type": "code",
      "source": [
        "import matplotlib.font_manager as fm\n",
        "from matplotlib import rc\n",
        "\n",
        "font_list = [font.name for font in fm.fontManager.ttflist]\n",
        "font_list"
      ],
      "metadata": {
        "id": "zlbKDSJXuEhe",
        "outputId": "03e35ac9-98c6-42c1-e2bb-35078a4fb36a",
        "colab": {
          "base_uri": "https://localhost:8080/"
        }
      },
      "execution_count": 15,
      "outputs": [
        {
          "output_type": "execute_result",
          "data": {
            "text/plain": [
              "['DejaVu Sans Display',\n",
              " 'STIXSizeThreeSym',\n",
              " 'STIXSizeTwoSym',\n",
              " 'cmsy10',\n",
              " 'DejaVu Serif',\n",
              " 'STIXSizeTwoSym',\n",
              " 'DejaVu Sans Mono',\n",
              " 'STIXGeneral',\n",
              " 'STIXGeneral',\n",
              " 'DejaVu Serif',\n",
              " 'STIXSizeThreeSym',\n",
              " 'DejaVu Serif Display',\n",
              " 'STIXGeneral',\n",
              " 'cmb10',\n",
              " 'cmr10',\n",
              " 'cmex10',\n",
              " 'DejaVu Sans Mono',\n",
              " 'DejaVu Sans Mono',\n",
              " 'DejaVu Serif',\n",
              " 'STIXSizeOneSym',\n",
              " 'DejaVu Serif',\n",
              " 'cmtt10',\n",
              " 'DejaVu Sans',\n",
              " 'STIXNonUnicode',\n",
              " 'DejaVu Sans',\n",
              " 'cmss10',\n",
              " 'STIXGeneral',\n",
              " 'STIXNonUnicode',\n",
              " 'STIXSizeFourSym',\n",
              " 'STIXNonUnicode',\n",
              " 'DejaVu Sans',\n",
              " 'STIXNonUnicode',\n",
              " 'cmmi10',\n",
              " 'STIXSizeFiveSym',\n",
              " 'DejaVu Sans',\n",
              " 'DejaVu Sans Mono',\n",
              " 'STIXSizeFourSym',\n",
              " 'STIXSizeOneSym',\n",
              " 'Liberation Sans',\n",
              " 'NanumBarunGothic',\n",
              " 'Liberation Sans Narrow',\n",
              " 'Liberation Mono',\n",
              " 'Liberation Sans',\n",
              " 'Liberation Sans Narrow',\n",
              " 'NanumSquare',\n",
              " 'NanumGothic',\n",
              " 'NanumSquare',\n",
              " 'Humor Sans',\n",
              " 'Liberation Serif',\n",
              " 'Liberation Sans Narrow',\n",
              " 'NanumBarunGothic',\n",
              " 'NanumSquareRound',\n",
              " 'NanumMyeongjo',\n",
              " 'Liberation Sans',\n",
              " 'Liberation Mono',\n",
              " 'Liberation Mono',\n",
              " 'NanumSquareRound',\n",
              " 'Liberation Sans',\n",
              " 'NanumMyeongjo',\n",
              " 'Liberation Serif',\n",
              " 'NanumGothic',\n",
              " 'Liberation Serif',\n",
              " 'Liberation Sans Narrow',\n",
              " 'Liberation Serif',\n",
              " 'Liberation Mono']"
            ]
          },
          "metadata": {},
          "execution_count": 15
        }
      ]
    },
    {
      "cell_type": "code",
      "source": [
        "\n",
        "plt.rcParams['font.family'] = 'NanumMyeongjo'\n",
        "plt.rc('font', size=8)\n",
        "\n",
        "region_rate = data['region'].value_counts(normalize=True)\n",
        "\n",
        "# 상위 20개 지역만 사용\n",
        "top20_region=region_rate.nlargest(20)\n",
        "#print(top20_region)\n",
        "top20_region.plot.bar(rot=0, figsize=(30,10))"
      ],
      "metadata": {
        "id": "wxnBjZkDVnM8",
        "outputId": "23146012-9044-47af-98fd-5e56bcc874c8",
        "colab": {
          "base_uri": "https://localhost:8080/",
          "height": 476
        }
      },
      "execution_count": 16,
      "outputs": [
        {
          "output_type": "execute_result",
          "data": {
            "text/plain": [
              "<matplotlib.axes._subplots.AxesSubplot at 0x7fe434da9790>"
            ]
          },
          "metadata": {},
          "execution_count": 16
        },
        {
          "output_type": "display_data",
          "data": {
            "image/png": "[encoded data removed]",
            "text/plain": [
              "<Figure size 2160x720 with 1 Axes>"
            ]
          },
          "metadata": {
            "needs_background": "light"
          }
        }
      ]
    },
    {
      "cell_type": "code",
      "source": [
        "# 반납 시간 - 예약 시작 시간\n",
        "data['reservation_start_at'] = pd.to_datetime(data['reservation_start_at'])\n",
        "data['reservation_return_at'] = pd.to_datetime(data['reservation_return_at'])\n",
        "data['이용시간']=((data['reservation_return_at'] - data['reservation_start_at']))"
      ],
      "metadata": {
        "id": "Ei-TM1wX_hha"
      },
      "execution_count": 17,
      "outputs": []
    },
    {
      "cell_type": "code",
      "source": [
        "# 전체 이용자 중의 75%가 10시간 이내\n",
        "data['이용시간'].describe()"
      ],
      "metadata": {
        "colab": {
          "base_uri": "https://localhost:8080/"
        },
        "id": "cr8wvCEzqtA5",
        "outputId": "c03e9b89-4b23-4b69-c5d1-d925d690f93d"
      },
      "execution_count": 18,
      "outputs": [
        {
          "output_type": "execute_result",
          "data": {
            "text/plain": [
              "count                       124755\n",
              "mean     0 days 09:49:59.687603703\n",
              "std      0 days 14:35:42.425974396\n",
              "min                0 days 00:13:10\n",
              "25%                0 days 03:20:46\n",
              "50%                0 days 05:20:49\n",
              "75%                0 days 10:28:12\n",
              "max               15 days 00:08:22\n",
              "Name: 이용시간, dtype: object"
            ]
          },
          "metadata": {},
          "execution_count": 18
        }
      ]
    },
    {
      "cell_type": "code",
      "source": [
        "# 예약  시작  시간 - 회원가입  날짜\n",
        "data['member_created_date'] = pd.to_datetime(data['member_created_date'])\n",
        "data['가입후_이용기간']=((data['reservation_start_at'] - data['member_created_date']))"
      ],
      "metadata": {
        "id": "YOf6VNx8TbkD"
      },
      "execution_count": 19,
      "outputs": []
    },
    {
      "cell_type": "code",
      "source": [
        "# 이용자의 절반이 가입후 2년 정도 사용\n",
        "data['가입후_이용기간'].describe()"
      ],
      "metadata": {
        "colab": {
          "base_uri": "https://localhost:8080/"
        },
        "id": "y4FCijeZo1ik",
        "outputId": "7c65543e-bb1e-4f19-b5a5-fadb52292a32"
      },
      "execution_count": 20,
      "outputs": [
        {
          "output_type": "execute_result",
          "data": {
            "text/plain": [
              "count                         124755\n",
              "mean     838 days 12:58:13.591920080\n",
              "std      594 days 01:17:52.240760704\n",
              "min                  0 days 00:30:00\n",
              "25%                312 days 20:15:00\n",
              "50%                787 days 10:20:00\n",
              "75%               1308 days 13:30:00\n",
              "max               2814 days 13:10:00\n",
              "Name: 가입후_이용기간, dtype: object"
            ]
          },
          "metadata": {},
          "execution_count": 20
        }
      ]
    },
    {
      "cell_type": "code",
      "source": [
        "# 이용자별 주행거리\n",
        "# 평균 5000km 사용, 이용자의 75%가 6545km 이용\n",
        "# id당 누적 그래프 시각화 가능하나, 큰 의미는 없어 보임\n",
        "data['member_total_distance'].describe()"
      ],
      "metadata": {
        "colab": {
          "base_uri": "https://localhost:8080/"
        },
        "id": "P86evMzCtLcu",
        "outputId": "daaaa148-9f7f-4609-c4dd-cad9913b8166"
      },
      "execution_count": 21,
      "outputs": [
        {
          "output_type": "execute_result",
          "data": {
            "text/plain": [
              "count    124755.000000\n",
              "mean       5004.255348\n",
              "std        7084.237631\n",
              "min           0.000000\n",
              "25%         827.000000\n",
              "50%        2534.000000\n",
              "75%        6545.000000\n",
              "max      121163.000000\n",
              "Name: member_total_distance, dtype: float64"
            ]
          },
          "metadata": {},
          "execution_count": 21
        }
      ]
    },
    {
      "cell_type": "code",
      "source": [
        "# 멤버당 이용 횟수\n",
        "usage_frequency_per_member = data['member_id_encrypted'].value_counts()\n",
        "print(usage_frequency_per_member)\n",
        "#data['usage_frequency_per_member'] = usage_frequency_per_member"
      ],
      "metadata": {
        "colab": {
          "base_uri": "https://localhost:8080/"
        },
        "id": "69sTaPQ2zoY2",
        "outputId": "4e6c7d23-fe92-46cb-fd8f-93a1095706b7"
      },
      "execution_count": 22,
      "outputs": [
        {
          "output_type": "stream",
          "name": "stdout",
          "text": [
            "MRo1KLaA/jViPznvtnLB/tHLuvX3XjHsk2dlDkiPfZM=    95\n",
            "+ofceBEd7+aPZE6tmux2xNxppZMqRx4rf8Uf88sVLgI=    79\n",
            "OuIBb1HQX5uBh/9gCv5q/ToOjLMh/7E1/UBXEu5rvrE=    79\n",
            "MGKifPpgs6UKyZhi9LEqHKO9MckfSlKq1PPQF+QVHko=    63\n",
            "xk4mrfLC8oDn8WKckTAngD4ZvbWgatwpUuk5D7bxAHo=    60\n",
            "                                                ..\n",
            "eclKvoiLjb1Y7vqKhP0aHLOSl+1u1Jpw62+x1c8wEJE=     1\n",
            "xxVEskGYmomAqv4Bvvp5aMyz3tO+YIUnCAVI20UA4cM=     1\n",
            "E8KeqEE0ywhp31EutLj3i7laM4nubsi061Vzs412MuE=     1\n",
            "Jw9sJckncLY1likq4tzYY81gQcFQuCkk9ORkYhAHYio=     1\n",
            "AnywB9Ya6m30myZv1GcZJvqs+iecV2ONDvsoW13anT4=     1\n",
            "Name: member_id_encrypted, Length: 59907, dtype: int64\n"
          ]
        }
      ]
    },
    {
      "cell_type": "code",
      "source": [
        "#딕셔너리화 해서 파이 차트로 구현\n",
        "usage_frequency_dict = dict(usage_frequency_per_member)\n",
        "\n",
        "# 새로운 딕셔너리 생성 key : 횟수, value : 중복된 수\n",
        "count = {}\n",
        "new_key = list(usage_frequency_dict.values())\n",
        "\n",
        "for i in new_key:\n",
        "    try : count[i] += 1\n",
        "    except : count[i] = 1\n",
        "\n",
        "#print(count)\n",
        "#plt.figure(figsize=(10,10))\n",
        "#plt.pie(count.values(), labels=count.keys())\n",
        "\n",
        "#평균, 최대, 최소값으로 의미 추출 가능해보임"
      ],
      "metadata": {
        "id": "qWAlvsmnAxcB"
      },
      "execution_count": 25,
      "outputs": []
    },
    {
      "cell_type": "markdown",
      "source": [
        "- 예약 주기\n",
        "- 차종 구분\n",
        "- 사용 시간의 낮밤비율\n",
        "- trip log 추출"
      ],
      "metadata": {
        "id": "GmAiIBt3Mhhj"
      }
    },
    {
      "cell_type": "markdown",
      "source": [
        "# 2. Trip 정보"
      ],
      "metadata": {
        "id": "nDCgBl3AsIoI"
      }
    },
    {
      "cell_type": "code",
      "source": [
        "df = data[['region', 'car_name', 'zone_type1', 'zone_type2','zone_type3','trip','이용시간']]\n",
        "df.tail()"
      ],
      "metadata": {
        "colab": {
          "base_uri": "https://localhost:8080/",
          "height": 337
        },
        "id": "eLY5SvocsTz9",
        "outputId": "11f93f2d-29d2-4b98-c2aa-4140d67b1b37"
      },
      "execution_count": 26,
      "outputs": [
        {
          "output_type": "execute_result",
          "data": {
            "text/html": [
              "\n",
              "  <div id=\"df-43da4b53-81fd-4c24-a029-3042f18e792e\">\n",
              "    <div class=\"colab-df-container\">\n",
              "      <div>\n",
              "<style scoped>\n",
              "    .dataframe tbody tr th:only-of-type {\n",
              "        vertical-align: middle;\n",
              "    }\n",
              "\n",
              "    .dataframe tbody tr th {\n",
              "        vertical-align: top;\n",
              "    }\n",
              "\n",
              "    .dataframe thead th {\n",
              "        text-align: right;\n",
              "    }\n",
              "</style>\n",
              "<table border=\"1\" class=\"dataframe\">\n",
              "  <thead>\n",
              "    <tr style=\"text-align: right;\">\n",
              "      <th></th>\n",
              "      <th>region</th>\n",
              "      <th>car_name</th>\n",
              "      <th>zone_type1</th>\n",
              "      <th>zone_type2</th>\n",
              "      <th>zone_type3</th>\n",
              "      <th>trip</th>\n",
              "      <th>이용시간</th>\n",
              "    </tr>\n",
              "  </thead>\n",
              "  <tbody>\n",
              "    <tr>\n",
              "      <th>124750</th>\n",
              "      <td>서울특별시 강서구</td>\n",
              "      <td>[쏘카세이브] 넥스트스파크</td>\n",
              "      <td>LIVING_VILLA</td>\n",
              "      <td>LIVING_ETC</td>\n",
              "      <td>ETC</td>\n",
              "      <td>서울특별시 강서구,서울특별시 구로구,서울특별시 금천구,경기도 하남시</td>\n",
              "      <td>0 days 05:52:10</td>\n",
              "    </tr>\n",
              "    <tr>\n",
              "      <th>124751</th>\n",
              "      <td>서울특별시 동대문구</td>\n",
              "      <td>더뉴레이</td>\n",
              "      <td>LIVING_ETC</td>\n",
              "      <td>TRANSFER_SUBWAY</td>\n",
              "      <td>COMMERCIAL_HOTSPOT</td>\n",
              "      <td>서울특별시 중구</td>\n",
              "      <td>0 days 09:59:04</td>\n",
              "    </tr>\n",
              "    <tr>\n",
              "      <th>124752</th>\n",
              "      <td>서울특별시 강남구</td>\n",
              "      <td>스토닉</td>\n",
              "      <td>LIVING_VILLA</td>\n",
              "      <td>TRANSFER_SUBWAY</td>\n",
              "      <td>COMMERCIAL_HOTSPOT</td>\n",
              "      <td>서울특별시 강남구,서울특별시 강남구,서울특별시 강남구,경기도 양주시,경기도 파주시,...</td>\n",
              "      <td>0 days 10:49:23</td>\n",
              "    </tr>\n",
              "    <tr>\n",
              "      <th>124753</th>\n",
              "      <td>경기도 고양시 일산서구</td>\n",
              "      <td>올뉴모닝</td>\n",
              "      <td>LIVING_APT</td>\n",
              "      <td>TRANSFER_SUBWAY</td>\n",
              "      <td>COMMERCIAL_HOTSPOT</td>\n",
              "      <td>경기도 고양시 일산서구,경기도 파주시,경기도 파주시,경기도 안양시 동안구,경기도 안...</td>\n",
              "      <td>0 days 22:14:40</td>\n",
              "    </tr>\n",
              "    <tr>\n",
              "      <th>124754</th>\n",
              "      <td>서울특별시 강남구</td>\n",
              "      <td>코나</td>\n",
              "      <td>LIVING_APT</td>\n",
              "      <td>TRANSFER_BUS</td>\n",
              "      <td>ETC</td>\n",
              "      <td>서울특별시 강남구,강원도 강릉시,강원도 속초시,강원도 양양군,강원도 홍천군,강원도 ...</td>\n",
              "      <td>1 days 15:01:09</td>\n",
              "    </tr>\n",
              "  </tbody>\n",
              "</table>\n",
              "</div>\n",
              "      <button class=\"colab-df-convert\" onclick=\"convertToInteractive('df-43da4b53-81fd-4c24-a029-3042f18e792e')\"\n",
              "              title=\"Convert this dataframe to an interactive table.\"\n",
              "              style=\"display:none;\">\n",
              "        \n",
              "  <svg xmlns=\"http://www.w3.org/2000/svg\" height=\"24px\"viewBox=\"0 0 24 24\"\n",
              "       width=\"24px\">\n",
              "    <path d=\"M0 0h24v24H0V0z\" fill=\"none\"/>\n",
              "    <path d=\"M18.56 5.44l.94 2.06.94-2.06 2.06-.94-2.06-.94-.94-2.06-.94 2.06-2.06.94zm-11 1L8.5 8.5l.94-2.06 2.06-.94-2.06-.94L8.5 2.5l-.94 2.06-2.06.94zm10 10l.94 2.06.94-2.06 2.06-.94-2.06-.94-.94-2.06-.94 2.06-2.06.94z\"/><path d=\"M17.41 7.96l-1.37-1.37c-.4-.4-.92-.59-1.43-.59-.52 0-1.04.2-1.43.59L10.3 9.45l-7.72 7.72c-.78.78-.78 2.05 0 2.83L4 21.41c.39.39.9.59 1.41.59.51 0 1.02-.2 1.41-.59l7.78-7.78 2.81-2.81c.8-.78.8-2.07 0-2.86zM5.41 20L4 18.59l7.72-7.72 1.47 1.35L5.41 20z\"/>\n",
              "  </svg>\n",
              "      </button>\n",
              "      \n",
              "  <style>\n",
              "    .colab-df-container {\n",
              "      display:flex;\n",
              "      flex-wrap:wrap;\n",
              "      gap: 12px;\n",
              "    }\n",
              "\n",
              "    .colab-df-convert {\n",
              "      background-color: #E8F0FE;\n",
              "      border: none;\n",
              "      border-radius: 50%;\n",
              "      cursor: pointer;\n",
              "      display: none;\n",
              "      fill: #1967D2;\n",
              "      height: 32px;\n",
              "      padding: 0 0 0 0;\n",
              "      width: 32px;\n",
              "    }\n",
              "\n",
              "    .colab-df-convert:hover {\n",
              "      background-color: #E2EBFA;\n",
              "      box-shadow: 0px 1px 2px rgba(60, 64, 67, 0.3), 0px 1px 3px 1px rgba(60, 64, 67, 0.15);\n",
              "      fill: #174EA6;\n",
              "    }\n",
              "\n",
              "    [theme=dark] .colab-df-convert {\n",
              "      background-color: #3B4455;\n",
              "      fill: #D2E3FC;\n",
              "    }\n",
              "\n",
              "    [theme=dark] .colab-df-convert:hover {\n",
              "      background-color: #434B5C;\n",
              "      box-shadow: 0px 1px 3px 1px rgba(0, 0, 0, 0.15);\n",
              "      filter: drop-shadow(0px 1px 2px rgba(0, 0, 0, 0.3));\n",
              "      fill: #FFFFFF;\n",
              "    }\n",
              "  </style>\n",
              "\n",
              "      <script>\n",
              "        const buttonEl =\n",
              "          document.querySelector('#df-43da4b53-81fd-4c24-a029-3042f18e792e button.colab-df-convert');\n",
              "        buttonEl.style.display =\n",
              "          google.colab.kernel.accessAllowed ? 'block' : 'none';\n",
              "\n",
              "        async function convertToInteractive(key) {\n",
              "          const element = document.querySelector('#df-43da4b53-81fd-4c24-a029-3042f18e792e');\n",
              "          const dataTable =\n",
              "            await google.colab.kernel.invokeFunction('convertToInteractive',\n",
              "                                                     [key], {});\n",
              "          if (!dataTable) return;\n",
              "\n",
              "          const docLinkHtml = 'Like what you see? Visit the ' +\n",
              "            '<a target=\"_blank\" href=https://colab.research.google.com/notebooks/data_table.ipynb>data table notebook</a>'\n",
              "            + ' to learn more about interactive tables.';\n",
              "          element.innerHTML = '';\n",
              "          dataTable['output_type'] = 'display_data';\n",
              "          await google.colab.output.renderOutput(dataTable, element);\n",
              "          const docLink = document.createElement('div');\n",
              "          docLink.innerHTML = docLinkHtml;\n",
              "          element.appendChild(docLink);\n",
              "        }\n",
              "      </script>\n",
              "    </div>\n",
              "  </div>\n",
              "  "
            ],
            "text/plain": [
              "              region  ...            이용시간\n",
              "124750     서울특별시 강서구  ... 0 days 05:52:10\n",
              "124751    서울특별시 동대문구  ... 0 days 09:59:04\n",
              "124752     서울특별시 강남구  ... 0 days 10:49:23\n",
              "124753  경기도 고양시 일산서구  ... 0 days 22:14:40\n",
              "124754     서울특별시 강남구  ... 1 days 15:01:09\n",
              "\n",
              "[5 rows x 7 columns]"
            ]
          },
          "metadata": {},
          "execution_count": 26
        }
      ]
    },
    {
      "cell_type": "code",
      "source": [
        "# 차종 총 50개\n",
        "car_rate = data['car_name'].value_counts(normalize=True)\n",
        "#print(len(car_rate))\n",
        "top25_car=car_rate.nlargest(25)\n",
        "top25_car.plot.bar(rot=0, figsize=(30,10))\n",
        "\n",
        "\n",
        "# 소/중/대 분류 필요"
      ],
      "metadata": {
        "id": "NLYHJl7AYEox",
        "outputId": "922838fc-aff0-4ab8-a4f0-66fd085baf05",
        "colab": {
          "base_uri": "https://localhost:8080/",
          "height": 473
        }
      },
      "execution_count": 31,
      "outputs": [
        {
          "output_type": "execute_result",
          "data": {
            "text/plain": [
              "<matplotlib.axes._subplots.AxesSubplot at 0x7fe4349af850>"
            ]
          },
          "metadata": {},
          "execution_count": 31
        },
        {
          "output_type": "display_data",
          "data": {
            "image/png": "[encoded data removed]",
            "text/plain": [
              "<Figure size 2160x720 with 1 Axes>"
            ]
          },
          "metadata": {
            "needs_background": "light"
          }
        }
      ]
    },
    {
      "cell_type": "code",
      "source": [
        "# 사용자가 이용하는 존 타입 유형 3\n",
        "plt.figure(figsize=(26, 6))\n",
        "plt.hist(data['zone_type1'], bins=13)"
      ],
      "metadata": {
        "id": "o8-1R5zuxq6r",
        "outputId": "804cc4ad-b31d-4e56-f85b-a819ae29d26e",
        "colab": {
          "base_uri": "https://localhost:8080/",
          "height": 452
        }
      },
      "execution_count": null,
      "outputs": [
        {
          "output_type": "execute_result",
          "data": {
            "text/plain": [
              "(array([4.6836e+04, 6.7440e+03, 1.7468e+04, 1.5909e+04, 2.9224e+04,\n",
              "        1.7370e+03, 3.0430e+03, 9.2900e+02, 1.6780e+03, 1.5900e+02,\n",
              "        9.7400e+02, 4.9000e+01, 5.0000e+00]),\n",
              " array([ 0.        ,  0.92307692,  1.84615385,  2.76923077,  3.69230769,\n",
              "         4.61538462,  5.53846154,  6.46153846,  7.38461538,  8.30769231,\n",
              "         9.23076923, 10.15384615, 11.07692308, 12.        ]),\n",
              " <a list of 13 Patch objects>)"
            ]
          },
          "metadata": {},
          "execution_count": 170
        },
        {
          "output_type": "display_data",
          "data": {
            "image/png": "[encoded data removed]",
            "text/plain": [
              "<Figure size 1872x432 with 1 Axes>"
            ]
          },
          "metadata": {
            "needs_background": "light"
          }
        }
      ]
    },
    {
      "cell_type": "code",
      "source": [
        "plt.figure(figsize=(26, 6))\n",
        "plt.hist(data['zone_type2'], bins=14)"
      ],
      "metadata": {
        "id": "ZRLlgFr1y5ZM",
        "outputId": "f6030391-5f80-47bc-f32f-90be8e0c8b8d",
        "colab": {
          "base_uri": "https://localhost:8080/",
          "height": 435
        }
      },
      "execution_count": null,
      "outputs": [
        {
          "output_type": "execute_result",
          "data": {
            "text/plain": [
              "(array([15783.,  7273., 22847.,  8194., 20700., 25055.,     0.,  5714.,\n",
              "        12023.,  2912.,  1853.,  1512.,   738.,   151.]),\n",
              " array([ 0.        ,  0.85714286,  1.71428571,  2.57142857,  3.42857143,\n",
              "         4.28571429,  5.14285714,  6.        ,  6.85714286,  7.71428571,\n",
              "         8.57142857,  9.42857143, 10.28571429, 11.14285714, 12.        ]),\n",
              " <a list of 14 Patch objects>)"
            ]
          },
          "metadata": {},
          "execution_count": 19
        },
        {
          "output_type": "display_data",
          "data": {
            "image/png": "[encoded data removed]",
            "text/plain": [
              "<Figure size 1872x432 with 1 Axes>"
            ]
          },
          "metadata": {
            "needs_background": "light"
          }
        }
      ]
    },
    {
      "cell_type": "code",
      "source": [
        "plt.figure(figsize=(26, 6))\n",
        "plt.hist(data['zone_type3'], bins=14)"
      ],
      "metadata": {
        "id": "Baf4GhLQy83Z",
        "outputId": "945982ba-f933-43c2-cf71-3404f473f9a3",
        "colab": {
          "base_uri": "https://localhost:8080/",
          "height": 435
        }
      },
      "execution_count": null,
      "outputs": [
        {
          "output_type": "execute_result",
          "data": {
            "text/plain": [
              "(array([ 2824., 41566., 50910.,  6327.,  9074.,  4539.,  3278.,   592.,\n",
              "         2039.,  1393.,   572.,   250.,   539.,   852.]),\n",
              " array([ 0.        ,  0.92857143,  1.85714286,  2.78571429,  3.71428571,\n",
              "         4.64285714,  5.57142857,  6.5       ,  7.42857143,  8.35714286,\n",
              "         9.28571429, 10.21428571, 11.14285714, 12.07142857, 13.        ]),\n",
              " <a list of 14 Patch objects>)"
            ]
          },
          "metadata": {},
          "execution_count": 20
        },
        {
          "output_type": "display_data",
          "data": {
            "image/png": "[encoded data removed]",
            "text/plain": [
              "<Figure size 1872x432 with 1 Axes>"
            ]
          },
          "metadata": {
            "needs_background": "light"
          }
        }
      ]
    },
    {
      "cell_type": "code",
      "source": [
        "data.shape"
      ],
      "metadata": {
        "colab": {
          "base_uri": "https://localhost:8080/"
        },
        "id": "dqWpddFtEr4O",
        "outputId": "7cb50f81-5944-4f1c-ac19-0cdad0e62afb"
      },
      "execution_count": null,
      "outputs": [
        {
          "output_type": "execute_result",
          "data": {
            "text/plain": [
              "(124755, 21)"
            ]
          },
          "metadata": {},
          "execution_count": 21
        }
      ]
    },
    {
      "cell_type": "code",
      "source": [
        "# train 부분은 80%, test 부분은 20%\n",
        "train = data[:670000]\n",
        "test = data[67000:]"
      ],
      "metadata": {
        "id": "kQLp4YohG7jh"
      },
      "execution_count": null,
      "outputs": []
    },
    {
      "cell_type": "code",
      "source": [
        "x_train = np.asarray()\n",
        "y_train = np.asarray()\n",
        "x_test = np.asarray()\n",
        "y_test = np.asarray()"
      ],
      "metadata": {
        "id": "j6BJuKRYHg6J"
      },
      "execution_count": null,
      "outputs": []
    },
    {
      "cell_type": "code",
      "source": [
        ""
      ],
      "metadata": {
        "id": "TzoDtn4YymIR"
      },
      "execution_count": null,
      "outputs": []
    }
  ]
}