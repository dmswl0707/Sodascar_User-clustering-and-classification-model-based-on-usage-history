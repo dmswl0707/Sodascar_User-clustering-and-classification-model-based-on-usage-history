{
  "nbformat": 4,
  "nbformat_minor": 0,
  "metadata": {
    "colab": {
      "name": "EDA.ipynb",
      "provenance": [],
      "collapsed_sections": [],
      "authorship_tag": "ABX9TyOEZkOlIUlOA8CCXRY7DH1Y",
      "include_colab_link": true
    },
    "kernelspec": {
      "name": "python3",
      "display_name": "Python 3"
    },
    "language_info": {
      "name": "python"
    }
  },
  "cells": [
    {
      "cell_type": "markdown",
      "metadata": {
        "id": "view-in-github",
        "colab_type": "text"
      },
      "source": [
        "<a href=\"https://colab.research.google.com/github/dmswl0707/Sodescar/blob/eunji/EDA.ipynb\" target=\"_parent\"><img src=\"https://colab.research.google.com/assets/colab-badge.svg\" alt=\"Open In Colab\"/></a>"
      ]
    },
    {
      "cell_type": "code",
      "execution_count": 1,
      "metadata": {
        "colab": {
          "base_uri": "https://localhost:8080/"
        },
        "id": "_bXfVEhwqXQT",
        "outputId": "8f31d442-e635-4c66-bd69-9513351a6b5e"
      },
      "outputs": [
        {
          "output_type": "stream",
          "name": "stdout",
          "text": [
            "Drive already mounted at /content/drive; to attempt to forcibly remount, call drive.mount(\"/content/drive\", force_remount=True).\n"
          ]
        }
      ],
      "source": [
        "from google.colab import drive\n",
        "drive.mount('/content/drive')"
      ]
    },
    {
      "cell_type": "code",
      "source": [
        "import pandas as pd\n",
        "import numpy as np\n",
        "import matplotlib.pyplot as plt"
      ],
      "metadata": {
        "id": "JcneX5BduXrl"
      },
      "execution_count": 2,
      "outputs": []
    },
    {
      "cell_type": "code",
      "source": [
        "data = pd.read_csv('/content/drive/MyDrive/Colab Notebooks/socar_reservation_triplog.csv')\n",
        "data = data.sample(frac=1, random_state=0).reset_index(drop=True)\n",
        "data.tail()"
      ],
      "metadata": {
        "colab": {
          "base_uri": "https://localhost:8080/",
          "height": 635
        },
        "id": "xF8hmsHTuon0",
        "outputId": "fabd20de-9694-45ba-8875-bcc6a93bffe9"
      },
      "execution_count": 43,
      "outputs": [
        {
          "output_type": "execute_result",
          "data": {
            "text/html": [
              "\n",
              "  <div id=\"df-e7636efd-e1f3-441c-bfca-90de2edfd989\">\n",
              "    <div class=\"colab-df-container\">\n",
              "      <div>\n",
              "<style scoped>\n",
              "    .dataframe tbody tr th:only-of-type {\n",
              "        vertical-align: middle;\n",
              "    }\n",
              "\n",
              "    .dataframe tbody tr th {\n",
              "        vertical-align: top;\n",
              "    }\n",
              "\n",
              "    .dataframe thead th {\n",
              "        text-align: right;\n",
              "    }\n",
              "</style>\n",
              "<table border=\"1\" class=\"dataframe\">\n",
              "  <thead>\n",
              "    <tr style=\"text-align: right;\">\n",
              "      <th></th>\n",
              "      <th>reservation_id</th>\n",
              "      <th>car_id</th>\n",
              "      <th>member_id_encrypted</th>\n",
              "      <th>region</th>\n",
              "      <th>reservation_return_at</th>\n",
              "      <th>reservation_start_at</th>\n",
              "      <th>member_age</th>\n",
              "      <th>member_gender</th>\n",
              "      <th>member_created_date</th>\n",
              "      <th>member_total_distance</th>\n",
              "      <th>is_vroom</th>\n",
              "      <th>car_name</th>\n",
              "      <th>zone_name</th>\n",
              "      <th>zone_address</th>\n",
              "      <th>zone_lat</th>\n",
              "      <th>zone_lng</th>\n",
              "      <th>zone_type1</th>\n",
              "      <th>zone_type2</th>\n",
              "      <th>zone_type3</th>\n",
              "      <th>reservation_created_lat</th>\n",
              "      <th>reservation_created_lng</th>\n",
              "      <th>trip</th>\n",
              "    </tr>\n",
              "  </thead>\n",
              "  <tbody>\n",
              "    <tr>\n",
              "      <th>751543</th>\n",
              "      <td>21898188</td>\n",
              "      <td>14857</td>\n",
              "      <td>eKhC4BDw20tThuDz7ddstf3fHfWcmWMfRqofBOGz3Ps=</td>\n",
              "      <td>경기도 고양시 일산동구</td>\n",
              "      <td>2019-03-28 00:36:38</td>\n",
              "      <td>2019-03-27 18:40:00</td>\n",
              "      <td>21</td>\n",
              "      <td>male</td>\n",
              "      <td>2017-02-27</td>\n",
              "      <td>342.0</td>\n",
              "      <td>False</td>\n",
              "      <td>코나</td>\n",
              "      <td>일산2동 주민센터 앞</td>\n",
              "      <td>경기 고양시 일산동구 중산동 1651</td>\n",
              "      <td>37.683109</td>\n",
              "      <td>126.779547</td>\n",
              "      <td>NaN</td>\n",
              "      <td>NaN</td>\n",
              "      <td>NaN</td>\n",
              "      <td>NaN</td>\n",
              "      <td>NaN</td>\n",
              "      <td>경기도 고양시 덕양구,경기도 고양시 덕양구</td>\n",
              "    </tr>\n",
              "    <tr>\n",
              "      <th>751544</th>\n",
              "      <td>23019737</td>\n",
              "      <td>14349</td>\n",
              "      <td>rQyQqdZ8j3ibds8yMWmDG6wvJsjf9sMW0tno5dOayZM=</td>\n",
              "      <td>울산광역시 남구</td>\n",
              "      <td>2019-05-17 12:21:20</td>\n",
              "      <td>2019-05-17 11:00:00</td>\n",
              "      <td>24</td>\n",
              "      <td>male</td>\n",
              "      <td>2015-01-12</td>\n",
              "      <td>1786.0</td>\n",
              "      <td>False</td>\n",
              "      <td>티볼리</td>\n",
              "      <td>우정유료주차장</td>\n",
              "      <td>울산 남구 삼산동 1481-10</td>\n",
              "      <td>35.536034</td>\n",
              "      <td>129.339783</td>\n",
              "      <td>TRANSFER_TERMINAL</td>\n",
              "      <td>TRANSFER_TERMINAL</td>\n",
              "      <td>COMMERCIAL_HOTSPOT</td>\n",
              "      <td>NaN</td>\n",
              "      <td>NaN</td>\n",
              "      <td>NaN</td>\n",
              "    </tr>\n",
              "    <tr>\n",
              "      <th>751545</th>\n",
              "      <td>22674225</td>\n",
              "      <td>5196</td>\n",
              "      <td>LfNftWCh2n1wAySNkx/LHKAmq9XT+KZckofO5sZSIyw=</td>\n",
              "      <td>서울특별시 강남구</td>\n",
              "      <td>2019-05-02 18:24:38</td>\n",
              "      <td>2019-05-02 12:00:00</td>\n",
              "      <td>33</td>\n",
              "      <td>male</td>\n",
              "      <td>2018-01-25</td>\n",
              "      <td>NaN</td>\n",
              "      <td>False</td>\n",
              "      <td>아반떼AD</td>\n",
              "      <td>블루밍하우스</td>\n",
              "      <td>서울 강남구 역삼동 718-11</td>\n",
              "      <td>37.500793</td>\n",
              "      <td>127.038963</td>\n",
              "      <td>TRANSFER_SUBWAY</td>\n",
              "      <td>COMMERCIAL_OFFICE</td>\n",
              "      <td>COMMERCIAL_HOTSPOT</td>\n",
              "      <td>NaN</td>\n",
              "      <td>NaN</td>\n",
              "      <td>경기도 시흥시</td>\n",
              "    </tr>\n",
              "    <tr>\n",
              "      <th>751546</th>\n",
              "      <td>23627837</td>\n",
              "      <td>6022</td>\n",
              "      <td>lQdD+3KuPo5dPaheZafrBcnDgNH/40yfqJyBJ15TkLY=</td>\n",
              "      <td>경기도 안양시 만안구</td>\n",
              "      <td>2019-06-14 00:22:37</td>\n",
              "      <td>2019-06-13 18:30:00</td>\n",
              "      <td>28</td>\n",
              "      <td>male</td>\n",
              "      <td>2015-06-22</td>\n",
              "      <td>6889.0</td>\n",
              "      <td>False</td>\n",
              "      <td>레이</td>\n",
              "      <td>성결대학교 공과대학 앞 주차장</td>\n",
              "      <td>경기 안양시 만안구 안양동 400-10 성결대학교</td>\n",
              "      <td>37.380102</td>\n",
              "      <td>126.929144</td>\n",
              "      <td>LIVING_VILLA</td>\n",
              "      <td>NaN</td>\n",
              "      <td>NaN</td>\n",
              "      <td>NaN</td>\n",
              "      <td>NaN</td>\n",
              "      <td>서울특별시 구로구</td>\n",
              "    </tr>\n",
              "    <tr>\n",
              "      <th>751547</th>\n",
              "      <td>21370466</td>\n",
              "      <td>11776</td>\n",
              "      <td>plvsZ2kKqfdyRIXMsDzG/Thn5YiYBrp+1AyrpL1GdFA=</td>\n",
              "      <td>서울특별시 강남구</td>\n",
              "      <td>2019-02-28 13:18:15</td>\n",
              "      <td>2019-02-28 09:50:00</td>\n",
              "      <td>22</td>\n",
              "      <td>male</td>\n",
              "      <td>2014-05-26</td>\n",
              "      <td>6512.0</td>\n",
              "      <td>False</td>\n",
              "      <td>더뉴레이</td>\n",
              "      <td>역삼역 8번출구(포스트빌)(운영종료)</td>\n",
              "      <td>서울 강남구 역삼동 673-16</td>\n",
              "      <td>37.504271</td>\n",
              "      <td>127.039843</td>\n",
              "      <td>LIVING_VILLA</td>\n",
              "      <td>COMMERCIAL_HOTSPOT</td>\n",
              "      <td>TRANSFER_SUBWAY</td>\n",
              "      <td>NaN</td>\n",
              "      <td>NaN</td>\n",
              "      <td>서울특별시 중구,서울특별시 성동구</td>\n",
              "    </tr>\n",
              "  </tbody>\n",
              "</table>\n",
              "</div>\n",
              "      <button class=\"colab-df-convert\" onclick=\"convertToInteractive('df-e7636efd-e1f3-441c-bfca-90de2edfd989')\"\n",
              "              title=\"Convert this dataframe to an interactive table.\"\n",
              "              style=\"display:none;\">\n",
              "        \n",
              "  <svg xmlns=\"http://www.w3.org/2000/svg\" height=\"24px\"viewBox=\"0 0 24 24\"\n",
              "       width=\"24px\">\n",
              "    <path d=\"M0 0h24v24H0V0z\" fill=\"none\"/>\n",
              "    <path d=\"M18.56 5.44l.94 2.06.94-2.06 2.06-.94-2.06-.94-.94-2.06-.94 2.06-2.06.94zm-11 1L8.5 8.5l.94-2.06 2.06-.94-2.06-.94L8.5 2.5l-.94 2.06-2.06.94zm10 10l.94 2.06.94-2.06 2.06-.94-2.06-.94-.94-2.06-.94 2.06-2.06.94z\"/><path d=\"M17.41 7.96l-1.37-1.37c-.4-.4-.92-.59-1.43-.59-.52 0-1.04.2-1.43.59L10.3 9.45l-7.72 7.72c-.78.78-.78 2.05 0 2.83L4 21.41c.39.39.9.59 1.41.59.51 0 1.02-.2 1.41-.59l7.78-7.78 2.81-2.81c.8-.78.8-2.07 0-2.86zM5.41 20L4 18.59l7.72-7.72 1.47 1.35L5.41 20z\"/>\n",
              "  </svg>\n",
              "      </button>\n",
              "      \n",
              "  <style>\n",
              "    .colab-df-container {\n",
              "      display:flex;\n",
              "      flex-wrap:wrap;\n",
              "      gap: 12px;\n",
              "    }\n",
              "\n",
              "    .colab-df-convert {\n",
              "      background-color: #E8F0FE;\n",
              "      border: none;\n",
              "      border-radius: 50%;\n",
              "      cursor: pointer;\n",
              "      display: none;\n",
              "      fill: #1967D2;\n",
              "      height: 32px;\n",
              "      padding: 0 0 0 0;\n",
              "      width: 32px;\n",
              "    }\n",
              "\n",
              "    .colab-df-convert:hover {\n",
              "      background-color: #E2EBFA;\n",
              "      box-shadow: 0px 1px 2px rgba(60, 64, 67, 0.3), 0px 1px 3px 1px rgba(60, 64, 67, 0.15);\n",
              "      fill: #174EA6;\n",
              "    }\n",
              "\n",
              "    [theme=dark] .colab-df-convert {\n",
              "      background-color: #3B4455;\n",
              "      fill: #D2E3FC;\n",
              "    }\n",
              "\n",
              "    [theme=dark] .colab-df-convert:hover {\n",
              "      background-color: #434B5C;\n",
              "      box-shadow: 0px 1px 3px 1px rgba(0, 0, 0, 0.15);\n",
              "      filter: drop-shadow(0px 1px 2px rgba(0, 0, 0, 0.3));\n",
              "      fill: #FFFFFF;\n",
              "    }\n",
              "  </style>\n",
              "\n",
              "      <script>\n",
              "        const buttonEl =\n",
              "          document.querySelector('#df-e7636efd-e1f3-441c-bfca-90de2edfd989 button.colab-df-convert');\n",
              "        buttonEl.style.display =\n",
              "          google.colab.kernel.accessAllowed ? 'block' : 'none';\n",
              "\n",
              "        async function convertToInteractive(key) {\n",
              "          const element = document.querySelector('#df-e7636efd-e1f3-441c-bfca-90de2edfd989');\n",
              "          const dataTable =\n",
              "            await google.colab.kernel.invokeFunction('convertToInteractive',\n",
              "                                                     [key], {});\n",
              "          if (!dataTable) return;\n",
              "\n",
              "          const docLinkHtml = 'Like what you see? Visit the ' +\n",
              "            '<a target=\"_blank\" href=https://colab.research.google.com/notebooks/data_table.ipynb>data table notebook</a>'\n",
              "            + ' to learn more about interactive tables.';\n",
              "          element.innerHTML = '';\n",
              "          dataTable['output_type'] = 'display_data';\n",
              "          await google.colab.output.renderOutput(dataTable, element);\n",
              "          const docLink = document.createElement('div');\n",
              "          docLink.innerHTML = docLinkHtml;\n",
              "          element.appendChild(docLink);\n",
              "        }\n",
              "      </script>\n",
              "    </div>\n",
              "  </div>\n",
              "  "
            ],
            "text/plain": [
              "        reservation_id  ...                     trip\n",
              "751543        21898188  ...  경기도 고양시 덕양구,경기도 고양시 덕양구\n",
              "751544        23019737  ...                      NaN\n",
              "751545        22674225  ...                  경기도 시흥시\n",
              "751546        23627837  ...                서울특별시 구로구\n",
              "751547        21370466  ...       서울특별시 중구,서울특별시 성동구\n",
              "\n",
              "[5 rows x 22 columns]"
            ]
          },
          "metadata": {},
          "execution_count": 43
        }
      ]
    },
    {
      "cell_type": "code",
      "source": [
        "data.info()"
      ],
      "metadata": {
        "colab": {
          "base_uri": "https://localhost:8080/"
        },
        "id": "pzjq_hclBNt1",
        "outputId": "a76c13bf-a651-4f8e-f199-75eca0795c9f"
      },
      "execution_count": 44,
      "outputs": [
        {
          "output_type": "stream",
          "name": "stdout",
          "text": [
            "<class 'pandas.core.frame.DataFrame'>\n",
            "RangeIndex: 751548 entries, 0 to 751547\n",
            "Data columns (total 22 columns):\n",
            " #   Column                   Non-Null Count   Dtype  \n",
            "---  ------                   --------------   -----  \n",
            " 0   reservation_id           751548 non-null  int64  \n",
            " 1   car_id                   751548 non-null  int64  \n",
            " 2   member_id_encrypted      751548 non-null  object \n",
            " 3   region                   751548 non-null  object \n",
            " 4   reservation_return_at    751548 non-null  object \n",
            " 5   reservation_start_at     751548 non-null  object \n",
            " 6   member_age               751548 non-null  int64  \n",
            " 7   member_gender            699017 non-null  object \n",
            " 8   member_created_date      751548 non-null  object \n",
            " 9   member_total_distance    738010 non-null  float64\n",
            " 10  is_vroom                 751548 non-null  bool   \n",
            " 11  car_name                 751548 non-null  object \n",
            " 12  zone_name                750774 non-null  object \n",
            " 13  zone_address             751548 non-null  object \n",
            " 14  zone_lat                 751548 non-null  float64\n",
            " 15  zone_lng                 751548 non-null  float64\n",
            " 16  zone_type1               733508 non-null  object \n",
            " 17  zone_type2               691605 non-null  object \n",
            " 18  zone_type3               637422 non-null  object \n",
            " 19  reservation_created_lat  199701 non-null  float64\n",
            " 20  reservation_created_lng  199701 non-null  float64\n",
            " 21  trip                     555474 non-null  object \n",
            "dtypes: bool(1), float64(5), int64(3), object(13)\n",
            "memory usage: 121.1+ MB\n"
          ]
        }
      ]
    },
    {
      "cell_type": "code",
      "source": [
        "# 결측치 제거\n",
        "data = data.dropna()"
      ],
      "metadata": {
        "id": "5LDJF2sJK7t8"
      },
      "execution_count": 45,
      "outputs": []
    },
    {
      "cell_type": "code",
      "source": [
        "user_data = data.drop(['reservation_id', 'zone_address', 'car_id', 'zone_name', 'zone_lat', 'zone_lng', 'reservation_created_lat', 'reservation_created_lng', 'zone_type1','zone_type2','zone_type3', 'trip', 'car_name'], 1)\n",
        "user_data.head()"
      ],
      "metadata": {
        "colab": {
          "base_uri": "https://localhost:8080/",
          "height": 392
        },
        "id": "ISLJeTbW1SrO",
        "outputId": "30601d07-af96-44e3-d4c6-7ce77da6c60d"
      },
      "execution_count": 46,
      "outputs": [
        {
          "output_type": "execute_result",
          "data": {
            "text/html": [
              "\n",
              "  <div id=\"df-cfa9f651-bbdc-4aa3-a24c-537c1084bbec\">\n",
              "    <div class=\"colab-df-container\">\n",
              "      <div>\n",
              "<style scoped>\n",
              "    .dataframe tbody tr th:only-of-type {\n",
              "        vertical-align: middle;\n",
              "    }\n",
              "\n",
              "    .dataframe tbody tr th {\n",
              "        vertical-align: top;\n",
              "    }\n",
              "\n",
              "    .dataframe thead th {\n",
              "        text-align: right;\n",
              "    }\n",
              "</style>\n",
              "<table border=\"1\" class=\"dataframe\">\n",
              "  <thead>\n",
              "    <tr style=\"text-align: right;\">\n",
              "      <th></th>\n",
              "      <th>member_id_encrypted</th>\n",
              "      <th>region</th>\n",
              "      <th>reservation_return_at</th>\n",
              "      <th>reservation_start_at</th>\n",
              "      <th>member_age</th>\n",
              "      <th>member_gender</th>\n",
              "      <th>member_created_date</th>\n",
              "      <th>member_total_distance</th>\n",
              "      <th>is_vroom</th>\n",
              "    </tr>\n",
              "  </thead>\n",
              "  <tbody>\n",
              "    <tr>\n",
              "      <th>6</th>\n",
              "      <td>4ajKUi7NO5DK48QcNc0NL9h0pXzgz3KehGXod1D4dsk=</td>\n",
              "      <td>경기도 화성시</td>\n",
              "      <td>2019-11-08 13:15:58</td>\n",
              "      <td>2019-11-07 17:50:00</td>\n",
              "      <td>24</td>\n",
              "      <td>male</td>\n",
              "      <td>2019-05-03</td>\n",
              "      <td>1888.0</td>\n",
              "      <td>False</td>\n",
              "    </tr>\n",
              "    <tr>\n",
              "      <th>14</th>\n",
              "      <td>DW47WQIr0JDuo0nA9xmV8/fuZtXygkKAjc4h1V3pqac=</td>\n",
              "      <td>경기도 광명시</td>\n",
              "      <td>2019-09-26 12:40:04</td>\n",
              "      <td>2019-09-26 07:30:00</td>\n",
              "      <td>38</td>\n",
              "      <td>female</td>\n",
              "      <td>2017-02-14</td>\n",
              "      <td>5869.0</td>\n",
              "      <td>False</td>\n",
              "    </tr>\n",
              "    <tr>\n",
              "      <th>17</th>\n",
              "      <td>HDHnuvFaMd7RPvqqL2My8B9tberJkDVjU1LOqqMmN/I=</td>\n",
              "      <td>경기도 의정부시</td>\n",
              "      <td>2019-09-03 18:16:14</td>\n",
              "      <td>2019-09-03 16:30:00</td>\n",
              "      <td>32</td>\n",
              "      <td>male</td>\n",
              "      <td>2019-08-18</td>\n",
              "      <td>221.0</td>\n",
              "      <td>False</td>\n",
              "    </tr>\n",
              "    <tr>\n",
              "      <th>27</th>\n",
              "      <td>cSSOV3mE7n39mi/dZ6o2txOZkh9hsbiXANicifDElRM=</td>\n",
              "      <td>서울특별시 강남구</td>\n",
              "      <td>2019-08-25 13:28:30</td>\n",
              "      <td>2019-08-24 13:30:00</td>\n",
              "      <td>31</td>\n",
              "      <td>male</td>\n",
              "      <td>2014-08-03</td>\n",
              "      <td>3106.0</td>\n",
              "      <td>False</td>\n",
              "    </tr>\n",
              "    <tr>\n",
              "      <th>32</th>\n",
              "      <td>dwqOC0gWt9k632109ylHlypf8b0m4GhGy1HGIhxrgNg=</td>\n",
              "      <td>서울특별시 강서구</td>\n",
              "      <td>2019-11-16 16:00:06</td>\n",
              "      <td>2019-11-16 10:30:00</td>\n",
              "      <td>28</td>\n",
              "      <td>female</td>\n",
              "      <td>2016-09-18</td>\n",
              "      <td>188.0</td>\n",
              "      <td>False</td>\n",
              "    </tr>\n",
              "  </tbody>\n",
              "</table>\n",
              "</div>\n",
              "      <button class=\"colab-df-convert\" onclick=\"convertToInteractive('df-cfa9f651-bbdc-4aa3-a24c-537c1084bbec')\"\n",
              "              title=\"Convert this dataframe to an interactive table.\"\n",
              "              style=\"display:none;\">\n",
              "        \n",
              "  <svg xmlns=\"http://www.w3.org/2000/svg\" height=\"24px\"viewBox=\"0 0 24 24\"\n",
              "       width=\"24px\">\n",
              "    <path d=\"M0 0h24v24H0V0z\" fill=\"none\"/>\n",
              "    <path d=\"M18.56 5.44l.94 2.06.94-2.06 2.06-.94-2.06-.94-.94-2.06-.94 2.06-2.06.94zm-11 1L8.5 8.5l.94-2.06 2.06-.94-2.06-.94L8.5 2.5l-.94 2.06-2.06.94zm10 10l.94 2.06.94-2.06 2.06-.94-2.06-.94-.94-2.06-.94 2.06-2.06.94z\"/><path d=\"M17.41 7.96l-1.37-1.37c-.4-.4-.92-.59-1.43-.59-.52 0-1.04.2-1.43.59L10.3 9.45l-7.72 7.72c-.78.78-.78 2.05 0 2.83L4 21.41c.39.39.9.59 1.41.59.51 0 1.02-.2 1.41-.59l7.78-7.78 2.81-2.81c.8-.78.8-2.07 0-2.86zM5.41 20L4 18.59l7.72-7.72 1.47 1.35L5.41 20z\"/>\n",
              "  </svg>\n",
              "      </button>\n",
              "      \n",
              "  <style>\n",
              "    .colab-df-container {\n",
              "      display:flex;\n",
              "      flex-wrap:wrap;\n",
              "      gap: 12px;\n",
              "    }\n",
              "\n",
              "    .colab-df-convert {\n",
              "      background-color: #E8F0FE;\n",
              "      border: none;\n",
              "      border-radius: 50%;\n",
              "      cursor: pointer;\n",
              "      display: none;\n",
              "      fill: #1967D2;\n",
              "      height: 32px;\n",
              "      padding: 0 0 0 0;\n",
              "      width: 32px;\n",
              "    }\n",
              "\n",
              "    .colab-df-convert:hover {\n",
              "      background-color: #E2EBFA;\n",
              "      box-shadow: 0px 1px 2px rgba(60, 64, 67, 0.3), 0px 1px 3px 1px rgba(60, 64, 67, 0.15);\n",
              "      fill: #174EA6;\n",
              "    }\n",
              "\n",
              "    [theme=dark] .colab-df-convert {\n",
              "      background-color: #3B4455;\n",
              "      fill: #D2E3FC;\n",
              "    }\n",
              "\n",
              "    [theme=dark] .colab-df-convert:hover {\n",
              "      background-color: #434B5C;\n",
              "      box-shadow: 0px 1px 3px 1px rgba(0, 0, 0, 0.15);\n",
              "      filter: drop-shadow(0px 1px 2px rgba(0, 0, 0, 0.3));\n",
              "      fill: #FFFFFF;\n",
              "    }\n",
              "  </style>\n",
              "\n",
              "      <script>\n",
              "        const buttonEl =\n",
              "          document.querySelector('#df-cfa9f651-bbdc-4aa3-a24c-537c1084bbec button.colab-df-convert');\n",
              "        buttonEl.style.display =\n",
              "          google.colab.kernel.accessAllowed ? 'block' : 'none';\n",
              "\n",
              "        async function convertToInteractive(key) {\n",
              "          const element = document.querySelector('#df-cfa9f651-bbdc-4aa3-a24c-537c1084bbec');\n",
              "          const dataTable =\n",
              "            await google.colab.kernel.invokeFunction('convertToInteractive',\n",
              "                                                     [key], {});\n",
              "          if (!dataTable) return;\n",
              "\n",
              "          const docLinkHtml = 'Like what you see? Visit the ' +\n",
              "            '<a target=\"_blank\" href=https://colab.research.google.com/notebooks/data_table.ipynb>data table notebook</a>'\n",
              "            + ' to learn more about interactive tables.';\n",
              "          element.innerHTML = '';\n",
              "          dataTable['output_type'] = 'display_data';\n",
              "          await google.colab.output.renderOutput(dataTable, element);\n",
              "          const docLink = document.createElement('div');\n",
              "          docLink.innerHTML = docLinkHtml;\n",
              "          element.appendChild(docLink);\n",
              "        }\n",
              "      </script>\n",
              "    </div>\n",
              "  </div>\n",
              "  "
            ],
            "text/plain": [
              "                             member_id_encrypted  ... is_vroom\n",
              "6   4ajKUi7NO5DK48QcNc0NL9h0pXzgz3KehGXod1D4dsk=  ...    False\n",
              "14  DW47WQIr0JDuo0nA9xmV8/fuZtXygkKAjc4h1V3pqac=  ...    False\n",
              "17  HDHnuvFaMd7RPvqqL2My8B9tberJkDVjU1LOqqMmN/I=  ...    False\n",
              "27  cSSOV3mE7n39mi/dZ6o2txOZkh9hsbiXANicifDElRM=  ...    False\n",
              "32  dwqOC0gWt9k632109ylHlypf8b0m4GhGy1HGIhxrgNg=  ...    False\n",
              "\n",
              "[5 rows x 9 columns]"
            ]
          },
          "metadata": {},
          "execution_count": 46
        }
      ]
    },
    {
      "cell_type": "markdown",
      "source": [
        "# 1. 유저 정보\n",
        "- 쏘카 이용자의 75%가 40세 이하, 평균 나이 31세 남성 운전자가 여자 운전자에 비해 4배 정도 많음\n",
        "- 첫 가입 후 평균 2~3년정도 쏘카 서비스를 이용, 전체 이용자의 75% 정도가 10시간 이내 가량 이용함\n",
        "- 전체 이용자의 75%가 6500km 정도 주행\n"
      ],
      "metadata": {
        "id": "oaG0LflDsD6W"
      }
    },
    {
      "cell_type": "code",
      "source": [
        "# 임의의 컬럼 분석(나이 분포)\n",
        "# 전체 연령의 50% 정도가 29세 정도\n",
        "user_data['member_age'].describe()"
      ],
      "metadata": {
        "colab": {
          "base_uri": "https://localhost:8080/"
        },
        "id": "UCH4nfXxLnxT",
        "outputId": "eade21f4-dc82-4a91-f805-296bc37044ea"
      },
      "execution_count": 47,
      "outputs": [
        {
          "output_type": "execute_result",
          "data": {
            "text/plain": [
              "count    124755.000000\n",
              "mean         31.686089\n",
              "std           8.815163\n",
              "min          21.000000\n",
              "25%          25.000000\n",
              "50%          29.000000\n",
              "75%          37.000000\n",
              "max          78.000000\n",
              "Name: member_age, dtype: float64"
            ]
          },
          "metadata": {},
          "execution_count": 47
        }
      ]
    },
    {
      "cell_type": "code",
      "source": [
        "plt.hist(user_data['member_age'], bins=7)"
      ],
      "metadata": {
        "colab": {
          "base_uri": "https://localhost:8080/",
          "height": 351
        },
        "id": "VoBgNi8-VOaG",
        "outputId": "4dacf992-31c3-4683-9943-47246b916472"
      },
      "execution_count": 48,
      "outputs": [
        {
          "output_type": "execute_result",
          "data": {
            "text/plain": [
              "(array([6.4889e+04, 3.1672e+04, 1.5980e+04, 9.3850e+03, 2.3750e+03,\n",
              "        4.3300e+02, 2.1000e+01]),\n",
              " array([21.        , 29.14285714, 37.28571429, 45.42857143, 53.57142857,\n",
              "        61.71428571, 69.85714286, 78.        ]),\n",
              " <a list of 7 Patch objects>)"
            ]
          },
          "metadata": {},
          "execution_count": 48
        },
        {
          "output_type": "display_data",
          "data": {
            "image/png": "[encoded data removed]",
            "text/plain": [
              "<Figure size 432x288 with 1 Axes>"
            ]
          },
          "metadata": {
            "needs_background": "light"
          }
        }
      ]
    },
    {
      "cell_type": "code",
      "source": [
        "# 남자 이용자가 여자 이용자의 4배 가량 많음\n",
        "user_data['member_gender'].value_counts(normalize=True).plot(kind=\"pie\")"
      ],
      "metadata": {
        "colab": {
          "base_uri": "https://localhost:8080/",
          "height": 265
        },
        "id": "1wWeAfm1S2Wn",
        "outputId": "c758f889-dcfc-4ea3-e3c4-edd569f63f9f"
      },
      "execution_count": 49,
      "outputs": [
        {
          "output_type": "execute_result",
          "data": {
            "text/plain": [
              "<matplotlib.axes._subplots.AxesSubplot at 0x7fe41d3868d0>"
            ]
          },
          "metadata": {},
          "execution_count": 49
        },
        {
          "output_type": "display_data",
          "data": {
            "image/png": "[encoded data removed]",
            "text/plain": [
              "<Figure size 432x288 with 1 Axes>"
            ]
          },
          "metadata": {}
        }
      ]
    },
    {
      "cell_type": "code",
      "source": [
        "!sudo apt-get install -y fonts-nanum\n",
        "!sudo fc-cache -fv\n",
        "!rm ~/.cache/matplotlib -rf\n",
        "%matplotlib inline  "
      ],
      "metadata": {
        "colab": {
          "base_uri": "https://localhost:8080/"
        },
        "id": "tAwtR2GftVsX",
        "outputId": "57d5f112-59f7-42fd-c786-d95f5e6783dd"
      },
      "execution_count": 50,
      "outputs": [
        {
          "output_type": "stream",
          "name": "stdout",
          "text": [
            "Reading package lists... Done\n",
            "Building dependency tree       \n",
            "Reading state information... Done\n",
            "fonts-nanum is already the newest version (20170925-1).\n",
            "0 upgraded, 0 newly installed, 0 to remove and 37 not upgraded.\n",
            "/usr/share/fonts: caching, new cache contents: 0 fonts, 1 dirs\n",
            "/usr/share/fonts/truetype: caching, new cache contents: 0 fonts, 3 dirs\n",
            "/usr/share/fonts/truetype/humor-sans: caching, new cache contents: 1 fonts, 0 dirs\n",
            "/usr/share/fonts/truetype/liberation: caching, new cache contents: 16 fonts, 0 dirs\n",
            "/usr/share/fonts/truetype/nanum: caching, new cache contents: 10 fonts, 0 dirs\n",
            "/usr/local/share/fonts: caching, new cache contents: 0 fonts, 0 dirs\n",
            "/root/.local/share/fonts: skipping, no such directory\n",
            "/root/.fonts: skipping, no such directory\n",
            "/var/cache/fontconfig: cleaning cache directory\n",
            "/root/.cache/fontconfig: not cleaning non-existent cache directory\n",
            "/root/.fontconfig: not cleaning non-existent cache directory\n",
            "fc-cache: succeeded\n"
          ]
        }
      ]
    },
    {
      "cell_type": "code",
      "source": [
        "import matplotlib.font_manager as fm\n",
        "from matplotlib import rc\n",
        "\n",
        "font_list = [font.name for font in fm.fontManager.ttflist]\n",
        "#font_list"
      ],
      "metadata": {
        "id": "zlbKDSJXuEhe"
      },
      "execution_count": 51,
      "outputs": []
    },
    {
      "cell_type": "code",
      "source": [
        "plt.rcParams['font.family'] = 'NanumMyeongjo'\n",
        "plt.rc('font', size=8)\n",
        "\n",
        "region_rate = user_data['region'].value_counts(normalize=True)\n",
        "\n",
        "# 상위 20개 지역만 사용\n",
        "top20_region=region_rate.nlargest(20)\n",
        "#print(top20_region)\n",
        "top20_region.plot.bar(rot=0, figsize=(30,10))"
      ],
      "metadata": {
        "id": "wxnBjZkDVnM8",
        "outputId": "9e175fe2-b749-4d22-fb81-2f728e621d1b",
        "colab": {
          "base_uri": "https://localhost:8080/",
          "height": 476
        }
      },
      "execution_count": 52,
      "outputs": [
        {
          "output_type": "execute_result",
          "data": {
            "text/plain": [
              "<matplotlib.axes._subplots.AxesSubplot at 0x7fe41d36e650>"
            ]
          },
          "metadata": {},
          "execution_count": 52
        },
        {
          "output_type": "display_data",
          "data": {
            "image/png": "[encoded data removed]",
            "text/plain": [
              "<Figure size 2160x720 with 1 Axes>"
            ]
          },
          "metadata": {
            "needs_background": "light"
          }
        }
      ]
    },
    {
      "cell_type": "code",
      "source": [
        "user_data['reservation_start_at'] = pd.to_datetime(user_data['reservation_start_at'])\n",
        "user_data['reservation_return_at'] = pd.to_datetime(user_data['reservation_return_at'])\n",
        "user_data['member_created_date'] = pd.to_datetime(user_data['member_created_date'])\n",
        "\n",
        "user_data['연도']=user_data['reservation_start_at'].dt.year\n",
        "user_data['월']=user_data['reservation_start_at'].dt.month"
      ],
      "metadata": {
        "id": "Ei-TM1wX_hha"
      },
      "execution_count": 53,
      "outputs": []
    },
    {
      "cell_type": "code",
      "source": [
        "# 반납 시간 - 예약 시작 시간\n",
        "# 전체 이용자 중의 75%가 10시간 이내\n",
        "user_data['이용시간']=((user_data['reservation_return_at'] - user_data['reservation_start_at']))\n",
        "user_data['이용시간'].describe()"
      ],
      "metadata": {
        "colab": {
          "base_uri": "https://localhost:8080/"
        },
        "id": "cr8wvCEzqtA5",
        "outputId": "e02068cc-4697-4d62-83da-2ac4bd0bce31"
      },
      "execution_count": 54,
      "outputs": [
        {
          "output_type": "execute_result",
          "data": {
            "text/plain": [
              "count                       124755\n",
              "mean     0 days 09:49:59.687603703\n",
              "std      0 days 14:35:42.425974396\n",
              "min                0 days 00:13:10\n",
              "25%                0 days 03:20:46\n",
              "50%                0 days 05:20:49\n",
              "75%                0 days 10:28:12\n",
              "max               15 days 00:08:22\n",
              "Name: 이용시간, dtype: object"
            ]
          },
          "metadata": {},
          "execution_count": 54
        }
      ]
    },
    {
      "cell_type": "code",
      "source": [
        "# 예약  시작  시간 - 회원가입  날짜\n",
        "# 이용자의 절반이 가입후 2년 정도 사용\n",
        "user_data['가입후_이용기간']=((user_data['reservation_start_at'] - user_data['member_created_date']))\n",
        "user_data['가입후_이용기간'].describe()"
      ],
      "metadata": {
        "id": "YOf6VNx8TbkD",
        "colab": {
          "base_uri": "https://localhost:8080/"
        },
        "outputId": "661c2f20-ae75-476b-d202-8236997c7424"
      },
      "execution_count": 118,
      "outputs": [
        {
          "output_type": "execute_result",
          "data": {
            "text/plain": [
              "count                         124755\n",
              "mean     838 days 12:58:13.591919792\n",
              "std      594 days 01:17:52.240760704\n",
              "min                  0 days 00:30:00\n",
              "25%                312 days 20:15:00\n",
              "50%                787 days 10:20:00\n",
              "75%               1308 days 13:30:00\n",
              "max               2814 days 13:10:00\n",
              "Name: 가입후_이용기간, dtype: object"
            ]
          },
          "metadata": {},
          "execution_count": 118
        }
      ]
    },
    {
      "cell_type": "code",
      "source": [
        "# 이용자별 주행거리\n",
        "# 평균 5000km 사용, 이용자의 75%가 6545km 이용\n",
        "# id당 누적 그래프 시각화 가능하나, 큰 의미는 없어 보임\n",
        "# 예약만 하고 이용하지 않은 사람도 다수(제거 필요해보임)\n",
        "user_data['member_total_distance'].describe()"
      ],
      "metadata": {
        "colab": {
          "base_uri": "https://localhost:8080/"
        },
        "id": "P86evMzCtLcu",
        "outputId": "b59e0e51-d711-4930-c83a-f6bf3768e812"
      },
      "execution_count": 119,
      "outputs": [
        {
          "output_type": "execute_result",
          "data": {
            "text/plain": [
              "count    124755.000000\n",
              "mean       5004.255348\n",
              "std        7084.237631\n",
              "min           0.000000\n",
              "25%         827.000000\n",
              "50%        2534.000000\n",
              "75%        6545.000000\n",
              "max      121163.000000\n",
              "Name: member_total_distance, dtype: float64"
            ]
          },
          "metadata": {},
          "execution_count": 119
        }
      ]
    },
    {
      "cell_type": "code",
      "source": [
        "# 멤버당 이용 횟수\n",
        "usage_frequency_per_member = user_data['member_id_encrypted'].value_counts()\n",
        "print(usage_frequency_per_member)\n",
        "\n",
        "user_data['usage_frequency_per_member'] = usage_frequency_per_member\n"
      ],
      "metadata": {
        "colab": {
          "base_uri": "https://localhost:8080/"
        },
        "id": "69sTaPQ2zoY2",
        "outputId": "21c95b0f-6f34-443f-8bc2-bcbd7b9f1e07"
      },
      "execution_count": 121,
      "outputs": [
        {
          "output_type": "stream",
          "name": "stdout",
          "text": [
            "MRo1KLaA/jViPznvtnLB/tHLuvX3XjHsk2dlDkiPfZM=    95\n",
            "+ofceBEd7+aPZE6tmux2xNxppZMqRx4rf8Uf88sVLgI=    79\n",
            "OuIBb1HQX5uBh/9gCv5q/ToOjLMh/7E1/UBXEu5rvrE=    79\n",
            "MGKifPpgs6UKyZhi9LEqHKO9MckfSlKq1PPQF+QVHko=    63\n",
            "xk4mrfLC8oDn8WKckTAngD4ZvbWgatwpUuk5D7bxAHo=    60\n",
            "                                                ..\n",
            "ea/C1zIZcNOeUuqghrWpzN8SKxA8BvWIgIlgDu3dHWg=     1\n",
            "fAsW2Hjc+j8eULBC6nMUKqyxX/JwIQAkRmjfevS9dno=     1\n",
            "w2PWEde9m7bxbC0gisIr4WSrb3fRw0We7Jdz5ApN9+I=     1\n",
            "5S6HK9IQtQPkD9/DYbkDD+P/HOYwmRAf8mEjOa8L4bw=     1\n",
            "Pgcp25fmH3d4WG70gMAbWFNrk1aAg24UsmAMnZQVJW4=     1\n",
            "Name: member_id_encrypted, Length: 59907, dtype: int64\n"
          ]
        }
      ]
    },
    {
      "cell_type": "code",
      "source": [
        "#딕셔너리화 해서 파이 차트로 구현\n",
        "usage_frequency_dict = dict(usage_frequency_per_member)\n",
        "\n",
        "# 새로운 딕셔너리 생성 key : 횟수, value : 중복된 수\n",
        "count = {}\n",
        "new_key = list(usage_frequency_dict.values())\n",
        "\n",
        "for i in new_key:\n",
        "    try : count[i] += 1\n",
        "    except : count[i] = 1\n",
        "\n",
        "#print(count)\n",
        "plt.figure(figsize=(10,10))\n",
        "plt.pie(count.values(), labels=count.keys())\n",
        "\n",
        "#평균, 최대, 최소값으로 의미 추출 가능해보임"
      ],
      "metadata": {
        "id": "qWAlvsmnAxcB",
        "colab": {
          "base_uri": "https://localhost:8080/",
          "height": 1000
        },
        "outputId": "28f5c475-70bd-4c92-f13a-53260232b6ce"
      },
      "execution_count": 128,
      "outputs": [
        {
          "output_type": "execute_result",
          "data": {
            "text/plain": [
              "([<matplotlib.patches.Wedge at 0x7fe41a8b43d0>,\n",
              "  <matplotlib.patches.Wedge at 0x7fe41a8b4850>,\n",
              "  <matplotlib.patches.Wedge at 0x7fe41a8b4f90>,\n",
              "  <matplotlib.patches.Wedge at 0x7fe41a8bf590>,\n",
              "  <matplotlib.patches.Wedge at 0x7fe41a8bf1d0>,\n",
              "  <matplotlib.patches.Wedge at 0x7fe41a8c84d0>,\n",
              "  <matplotlib.patches.Wedge at 0x7fe41a8c8850>,\n",
              "  <matplotlib.patches.Wedge at 0x7fe41a8c8e10>,\n",
              "  <matplotlib.patches.Wedge at 0x7fe41a8bfb50>,\n",
              "  <matplotlib.patches.Wedge at 0x7fe41a8c8210>,\n",
              "  <matplotlib.patches.Wedge at 0x7fe41a8b4390>,\n",
              "  <matplotlib.patches.Wedge at 0x7fe41a8e0410>,\n",
              "  <matplotlib.patches.Wedge at 0x7fe41a8e09d0>,\n",
              "  <matplotlib.patches.Wedge at 0x7fe41a8e0f90>,\n",
              "  <matplotlib.patches.Wedge at 0x7fe41a8eb590>,\n",
              "  <matplotlib.patches.Wedge at 0x7fe41a8ebb50>,\n",
              "  <matplotlib.patches.Wedge at 0x7fe41a875150>,\n",
              "  <matplotlib.patches.Wedge at 0x7fe41a875710>,\n",
              "  <matplotlib.patches.Wedge at 0x7fe41a875cd0>,\n",
              "  <matplotlib.patches.Wedge at 0x7fe41a881250>,\n",
              "  <matplotlib.patches.Wedge at 0x7fe41a881810>,\n",
              "  <matplotlib.patches.Wedge at 0x7fe41a881dd0>,\n",
              "  <matplotlib.patches.Wedge at 0x7fe41a88d3d0>,\n",
              "  <matplotlib.patches.Wedge at 0x7fe41a88d990>,\n",
              "  <matplotlib.patches.Wedge at 0x7fe41a88df50>,\n",
              "  <matplotlib.patches.Wedge at 0x7fe41a898550>,\n",
              "  <matplotlib.patches.Wedge at 0x7fe41a898b10>,\n",
              "  <matplotlib.patches.Wedge at 0x7fe41a8a4110>,\n",
              "  <matplotlib.patches.Wedge at 0x7fe41a8a46d0>,\n",
              "  <matplotlib.patches.Wedge at 0x7fe41a8a4c90>,\n",
              "  <matplotlib.patches.Wedge at 0x7fe41a8ae290>,\n",
              "  <matplotlib.patches.Wedge at 0x7fe41a8ae850>,\n",
              "  <matplotlib.patches.Wedge at 0x7fe41a8aee10>,\n",
              "  <matplotlib.patches.Wedge at 0x7fe41a83a410>,\n",
              "  <matplotlib.patches.Wedge at 0x7fe41a83a9d0>,\n",
              "  <matplotlib.patches.Wedge at 0x7fe41a83af90>,\n",
              "  <matplotlib.patches.Wedge at 0x7fe41a846590>,\n",
              "  <matplotlib.patches.Wedge at 0x7fe41a846b50>,\n",
              "  <matplotlib.patches.Wedge at 0x7fe41a851150>,\n",
              "  <matplotlib.patches.Wedge at 0x7fe41a851710>,\n",
              "  <matplotlib.patches.Wedge at 0x7fe41a851cd0>,\n",
              "  <matplotlib.patches.Wedge at 0x7fe41a85d2d0>,\n",
              "  <matplotlib.patches.Wedge at 0x7fe41a85d890>,\n",
              "  <matplotlib.patches.Wedge at 0x7fe41a85de50>,\n",
              "  <matplotlib.patches.Wedge at 0x7fe41a868450>,\n",
              "  <matplotlib.patches.Wedge at 0x7fe41a868a10>,\n",
              "  <matplotlib.patches.Wedge at 0x7fe41a868fd0>,\n",
              "  <matplotlib.patches.Wedge at 0x7fe41a7f45d0>,\n",
              "  <matplotlib.patches.Wedge at 0x7fe41a7f4b90>,\n",
              "  <matplotlib.patches.Wedge at 0x7fe41a800190>,\n",
              "  <matplotlib.patches.Wedge at 0x7fe41a800750>,\n",
              "  <matplotlib.patches.Wedge at 0x7fe41a800d10>,\n",
              "  <matplotlib.patches.Wedge at 0x7fe41a80b310>,\n",
              "  <matplotlib.patches.Wedge at 0x7fe41a80b8d0>,\n",
              "  <matplotlib.patches.Wedge at 0x7fe41a80be90>,\n",
              "  <matplotlib.patches.Wedge at 0x7fe41a817490>],\n",
              " [Text(1.0999999984874587, 5.768527765406171e-05, '95'),\n",
              "  Text(1.0999999757993364, 0.00023074110902985819, '79'),\n",
              "  Text(1.0999999258854682, 0.0004037969346946556, '63'),\n",
              "  Text(1.0999998774841422, 0.0005191674798498919, '60'),\n",
              "  Text(1.0999998169824858, 0.0006345380192941293, '59'),\n",
              "  Text(1.0999997443804994, 0.000749908551758257, '57'),\n",
              "  Text(1.099999659678184, 0.0008652790759731644, '52'),\n",
              "  Text(1.0999994539725764, 0.0010960200882929034, '50'),\n",
              "  Text(1.099999128776237, 0.0013844462862561797, '49'),\n",
              "  Text(1.0999988973574615, 0.001557501964386859, '48'),\n",
              "  Text(1.0999986387129665, 0.0017305576039683074, '47'),\n",
              "  Text(1.0999983528427586, 0.001903613200717281, '46'),\n",
              "  Text(1.0999981471372275, 0.0020189835726389283, '45'),\n",
              "  Text(1.0999979293313848, 0.002134353922351147, '43'),\n",
              "  Text(1.0999973318779317, 0.0024227796911369197, '42'),\n",
              "  Text(1.0999965151062967, 0.0027688903920615386, '41'),\n",
              "  Text(1.0999960658819832, 0.0029419456418675917, '40'),\n",
              "  Text(1.0999952566733575, 0.0032303708942843885, '39'),\n",
              "  Text(1.0999939967283796, 0.0036341658638220247, '38'),\n",
              "  Text(1.0999923752873133, 0.004095645220793406, '37'),\n",
              "  Text(1.0999905602422926, 0.0045571238569115085, '36'),\n",
              "  Text(1.0999885515936372, 0.0050186016909538715, '35'),\n",
              "  Text(1.0999866352108356, 0.005422394078651072, '34'),\n",
              "  Text(1.0999836403922214, 0.005999239074766307, '33'),\n",
              "  Text(1.0999778549547408, 0.006979871715696496, '32'),\n",
              "  Text(1.0999716112311644, 0.007902815037460084, '31'),\n",
              "  Text(1.0999650544267239, 0.008768069343620817, '30'),\n",
              "  Text(1.0999547314566418, 0.009979416122575498, '29'),\n",
              "  Text(1.0999430744800216, 0.011190750798662696, '28'),\n",
              "  Text(1.0999281187617616, 0.012575116588423873, '27'),\n",
              "  Text(1.0999054675117153, 0.014420906276491324, '26'),\n",
              "  Text(1.0998831068151789, 0.01603593909286916, '25'),\n",
              "  Text(1.0998537087185143, 0.017939326022173144, '24'),\n",
              "  Text(1.0998050678994347, 0.02070779135301527, '23'),\n",
              "  Text(1.0997445098722818, 0.023706813488422254, '22'),\n",
              "  Text(1.0996771728888113, 0.02664799105507874, '21'),\n",
              "  Text(1.0995735498514363, 0.030626923892404758, '20'),\n",
              "  Text(1.0994223746712508, 0.03564326124568463, '19'),\n",
              "  Text(1.0992397617238816, 0.04088943928722786, '18'),\n",
              "  Text(1.0989781581621085, 0.04740261472344925, '17'),\n",
              "  Text(1.0986380847520456, 0.05472073402612025, '16'),\n",
              "  Text(1.0982100237638581, 0.06272753545761746, '15'),\n",
              "  Text(1.0975111611906239, 0.07395438500865742, '14'),\n",
              "  Text(1.0964796602429612, 0.08793380847819919, '13'),\n",
              "  Text(1.0950375417281781, 0.10436849240028645, '12'),\n",
              "  Text(1.0928459206272996, 0.1252509232232242, '11'),\n",
              "  Text(1.0895147843500264, 0.15151744019325153, '10'),\n",
              "  Text(1.0841405925539058, 0.18611602718967013, '9'),\n",
              "  Text(1.0752349950988138, 0.23209848193138644, '8'),\n",
              "  Text(1.05998823121003, 0.29398120636570013, '7'),\n",
              "  Text(1.0323203460465729, 0.37988775070839564, '6'),\n",
              "  Text(0.9799251013756322, 0.49974673154904886, '5'),\n",
              "  Text(0.8719375137880211, 0.670615368187432, '4'),\n",
              "  Text(0.6165811790182435, 0.9109487634771085, '3'),\n",
              "  Text(-0.0965848230705571, 1.0957515101301158, '2'),\n",
              "  Text(-0.530655740599695, -0.9635374849836353, '1')])"
            ]
          },
          "metadata": {},
          "execution_count": 128
        },
        {
          "output_type": "display_data",
          "data": {
            "image/png": "[encoded data removed]",
            "text/plain": [
              "<Figure size 720x720 with 1 Axes>"
            ]
          },
          "metadata": {}
        }
      ]
    },
    {
      "cell_type": "code",
      "source": [
        "# 이용 횟수가 10회 미만인 행 제거\n",
        "# + 이용시간 10분 이내도 제거\n",
        "# + 주행거리 0도 제거\n",
        "frequency1 = user_data[user_data['usage_frequency_per_member']<10].index\n",
        "frequency1\n",
        "#user_data.drop(frequency1)"
      ],
      "metadata": {
        "colab": {
          "base_uri": "https://localhost:8080/"
        },
        "id": "oj0iUIOcC61T",
        "outputId": "f0e80b27-cec7-4eee-8301-fa77b3fbd2bd"
      },
      "execution_count": 129,
      "outputs": [
        {
          "output_type": "execute_result",
          "data": {
            "text/plain": [
              "Int64Index([], dtype='int64')"
            ]
          },
          "metadata": {},
          "execution_count": 129
        }
      ]
    },
    {
      "cell_type": "code",
      "source": [
        "# Nan 문제 ...\n",
        "user_data.head(3)"
      ],
      "metadata": {
        "colab": {
          "base_uri": "https://localhost:8080/",
          "height": 277
        },
        "id": "DTxOyF4a7sZ6",
        "outputId": "a1898bf8-0362-46b4-f999-672550586b90"
      },
      "execution_count": 122,
      "outputs": [
        {
          "output_type": "execute_result",
          "data": {
            "text/html": [
              "\n",
              "  <div id=\"df-f42593ca-980e-4d3e-bdc0-e57c92bf2054\">\n",
              "    <div class=\"colab-df-container\">\n",
              "      <div>\n",
              "<style scoped>\n",
              "    .dataframe tbody tr th:only-of-type {\n",
              "        vertical-align: middle;\n",
              "    }\n",
              "\n",
              "    .dataframe tbody tr th {\n",
              "        vertical-align: top;\n",
              "    }\n",
              "\n",
              "    .dataframe thead th {\n",
              "        text-align: right;\n",
              "    }\n",
              "</style>\n",
              "<table border=\"1\" class=\"dataframe\">\n",
              "  <thead>\n",
              "    <tr style=\"text-align: right;\">\n",
              "      <th></th>\n",
              "      <th>member_id_encrypted</th>\n",
              "      <th>region</th>\n",
              "      <th>reservation_return_at</th>\n",
              "      <th>reservation_start_at</th>\n",
              "      <th>member_age</th>\n",
              "      <th>member_gender</th>\n",
              "      <th>member_created_date</th>\n",
              "      <th>member_total_distance</th>\n",
              "      <th>is_vroom</th>\n",
              "      <th>연도</th>\n",
              "      <th>월</th>\n",
              "      <th>이용시간</th>\n",
              "      <th>가입후_이용기간</th>\n",
              "      <th>usage_frequency_per_member</th>\n",
              "    </tr>\n",
              "  </thead>\n",
              "  <tbody>\n",
              "    <tr>\n",
              "      <th>6</th>\n",
              "      <td>4ajKUi7NO5DK48QcNc0NL9h0pXzgz3KehGXod1D4dsk=</td>\n",
              "      <td>경기도 화성시</td>\n",
              "      <td>2019-11-08 13:15:58</td>\n",
              "      <td>2019-11-07 17:50:00</td>\n",
              "      <td>24</td>\n",
              "      <td>male</td>\n",
              "      <td>2019-05-03</td>\n",
              "      <td>1888.0</td>\n",
              "      <td>False</td>\n",
              "      <td>2019</td>\n",
              "      <td>11</td>\n",
              "      <td>0 days 19:25:58</td>\n",
              "      <td>188 days 17:50:00</td>\n",
              "      <td>NaN</td>\n",
              "    </tr>\n",
              "    <tr>\n",
              "      <th>14</th>\n",
              "      <td>DW47WQIr0JDuo0nA9xmV8/fuZtXygkKAjc4h1V3pqac=</td>\n",
              "      <td>경기도 광명시</td>\n",
              "      <td>2019-09-26 12:40:04</td>\n",
              "      <td>2019-09-26 07:30:00</td>\n",
              "      <td>38</td>\n",
              "      <td>female</td>\n",
              "      <td>2017-02-14</td>\n",
              "      <td>5869.0</td>\n",
              "      <td>False</td>\n",
              "      <td>2019</td>\n",
              "      <td>9</td>\n",
              "      <td>0 days 05:10:04</td>\n",
              "      <td>954 days 07:30:00</td>\n",
              "      <td>NaN</td>\n",
              "    </tr>\n",
              "    <tr>\n",
              "      <th>17</th>\n",
              "      <td>HDHnuvFaMd7RPvqqL2My8B9tberJkDVjU1LOqqMmN/I=</td>\n",
              "      <td>경기도 의정부시</td>\n",
              "      <td>2019-09-03 18:16:14</td>\n",
              "      <td>2019-09-03 16:30:00</td>\n",
              "      <td>32</td>\n",
              "      <td>male</td>\n",
              "      <td>2019-08-18</td>\n",
              "      <td>221.0</td>\n",
              "      <td>False</td>\n",
              "      <td>2019</td>\n",
              "      <td>9</td>\n",
              "      <td>0 days 01:46:14</td>\n",
              "      <td>16 days 16:30:00</td>\n",
              "      <td>NaN</td>\n",
              "    </tr>\n",
              "  </tbody>\n",
              "</table>\n",
              "</div>\n",
              "      <button class=\"colab-df-convert\" onclick=\"convertToInteractive('df-f42593ca-980e-4d3e-bdc0-e57c92bf2054')\"\n",
              "              title=\"Convert this dataframe to an interactive table.\"\n",
              "              style=\"display:none;\">\n",
              "        \n",
              "  <svg xmlns=\"http://www.w3.org/2000/svg\" height=\"24px\"viewBox=\"0 0 24 24\"\n",
              "       width=\"24px\">\n",
              "    <path d=\"M0 0h24v24H0V0z\" fill=\"none\"/>\n",
              "    <path d=\"M18.56 5.44l.94 2.06.94-2.06 2.06-.94-2.06-.94-.94-2.06-.94 2.06-2.06.94zm-11 1L8.5 8.5l.94-2.06 2.06-.94-2.06-.94L8.5 2.5l-.94 2.06-2.06.94zm10 10l.94 2.06.94-2.06 2.06-.94-2.06-.94-.94-2.06-.94 2.06-2.06.94z\"/><path d=\"M17.41 7.96l-1.37-1.37c-.4-.4-.92-.59-1.43-.59-.52 0-1.04.2-1.43.59L10.3 9.45l-7.72 7.72c-.78.78-.78 2.05 0 2.83L4 21.41c.39.39.9.59 1.41.59.51 0 1.02-.2 1.41-.59l7.78-7.78 2.81-2.81c.8-.78.8-2.07 0-2.86zM5.41 20L4 18.59l7.72-7.72 1.47 1.35L5.41 20z\"/>\n",
              "  </svg>\n",
              "      </button>\n",
              "      \n",
              "  <style>\n",
              "    .colab-df-container {\n",
              "      display:flex;\n",
              "      flex-wrap:wrap;\n",
              "      gap: 12px;\n",
              "    }\n",
              "\n",
              "    .colab-df-convert {\n",
              "      background-color: #E8F0FE;\n",
              "      border: none;\n",
              "      border-radius: 50%;\n",
              "      cursor: pointer;\n",
              "      display: none;\n",
              "      fill: #1967D2;\n",
              "      height: 32px;\n",
              "      padding: 0 0 0 0;\n",
              "      width: 32px;\n",
              "    }\n",
              "\n",
              "    .colab-df-convert:hover {\n",
              "      background-color: #E2EBFA;\n",
              "      box-shadow: 0px 1px 2px rgba(60, 64, 67, 0.3), 0px 1px 3px 1px rgba(60, 64, 67, 0.15);\n",
              "      fill: #174EA6;\n",
              "    }\n",
              "\n",
              "    [theme=dark] .colab-df-convert {\n",
              "      background-color: #3B4455;\n",
              "      fill: #D2E3FC;\n",
              "    }\n",
              "\n",
              "    [theme=dark] .colab-df-convert:hover {\n",
              "      background-color: #434B5C;\n",
              "      box-shadow: 0px 1px 3px 1px rgba(0, 0, 0, 0.15);\n",
              "      filter: drop-shadow(0px 1px 2px rgba(0, 0, 0, 0.3));\n",
              "      fill: #FFFFFF;\n",
              "    }\n",
              "  </style>\n",
              "\n",
              "      <script>\n",
              "        const buttonEl =\n",
              "          document.querySelector('#df-f42593ca-980e-4d3e-bdc0-e57c92bf2054 button.colab-df-convert');\n",
              "        buttonEl.style.display =\n",
              "          google.colab.kernel.accessAllowed ? 'block' : 'none';\n",
              "\n",
              "        async function convertToInteractive(key) {\n",
              "          const element = document.querySelector('#df-f42593ca-980e-4d3e-bdc0-e57c92bf2054');\n",
              "          const dataTable =\n",
              "            await google.colab.kernel.invokeFunction('convertToInteractive',\n",
              "                                                     [key], {});\n",
              "          if (!dataTable) return;\n",
              "\n",
              "          const docLinkHtml = 'Like what you see? Visit the ' +\n",
              "            '<a target=\"_blank\" href=https://colab.research.google.com/notebooks/data_table.ipynb>data table notebook</a>'\n",
              "            + ' to learn more about interactive tables.';\n",
              "          element.innerHTML = '';\n",
              "          dataTable['output_type'] = 'display_data';\n",
              "          await google.colab.output.renderOutput(dataTable, element);\n",
              "          const docLink = document.createElement('div');\n",
              "          docLink.innerHTML = docLinkHtml;\n",
              "          element.appendChild(docLink);\n",
              "        }\n",
              "      </script>\n",
              "    </div>\n",
              "  </div>\n",
              "  "
            ],
            "text/plain": [
              "                             member_id_encrypted  ... usage_frequency_per_member\n",
              "6   4ajKUi7NO5DK48QcNc0NL9h0pXzgz3KehGXod1D4dsk=  ...                        NaN\n",
              "14  DW47WQIr0JDuo0nA9xmV8/fuZtXygkKAjc4h1V3pqac=  ...                        NaN\n",
              "17  HDHnuvFaMd7RPvqqL2My8B9tberJkDVjU1LOqqMmN/I=  ...                        NaN\n",
              "\n",
              "[3 rows x 14 columns]"
            ]
          },
          "metadata": {},
          "execution_count": 122
        }
      ]
    },
    {
      "cell_type": "code",
      "source": [
        "plt.figure(figsize=(20,20))\n",
        "user_data.plot(x='member_total_distance', y='member_age', kind='scatter')"
      ],
      "metadata": {
        "colab": {
          "base_uri": "https://localhost:8080/",
          "height": 312
        },
        "id": "cq3hl6Uj0z7S",
        "outputId": "eff1c324-502f-4406-f64c-2be9db792365"
      },
      "execution_count": 127,
      "outputs": [
        {
          "output_type": "execute_result",
          "data": {
            "text/plain": [
              "<matplotlib.axes._subplots.AxesSubplot at 0x7fe41ad99dd0>"
            ]
          },
          "metadata": {},
          "execution_count": 127
        },
        {
          "output_type": "display_data",
          "data": {
            "text/plain": [
              "<Figure size 1440x1440 with 0 Axes>"
            ]
          },
          "metadata": {}
        },
        {
          "output_type": "display_data",
          "data": {
            "image/png": "[encoded data removed]",
            "text/plain": [
              "<Figure size 432x288 with 1 Axes>"
            ]
          },
          "metadata": {
            "needs_background": "light"
          }
        }
      ]
    },
    {
      "cell_type": "code",
      "source": [
        "# 50대 이상은 이상치로 분류\n",
        "# 3분위 약 35세, 2분위 27세, 1분위 21세\n",
        "user_data['member_age'].plot(kind='box')"
      ],
      "metadata": {
        "id": "kW62jl-lHw_-",
        "outputId": "11503b1f-bbd2-4af9-940b-7e70280f67b9",
        "colab": {
          "base_uri": "https://localhost:8080/",
          "height": 281
        }
      },
      "execution_count": 130,
      "outputs": [
        {
          "output_type": "execute_result",
          "data": {
            "text/plain": [
              "<matplotlib.axes._subplots.AxesSubplot at 0x7fe434b6b550>"
            ]
          },
          "metadata": {},
          "execution_count": 130
        },
        {
          "output_type": "display_data",
          "data": {
            "image/png": "[encoded data removed]",
            "text/plain": [
              "<Figure size 432x288 with 1 Axes>"
            ]
          },
          "metadata": {
            "needs_background": "light"
          }
        }
      ]
    },
    {
      "cell_type": "markdown",
      "source": [
        "- 예약 주기\n",
        "- 차종 구분\n",
        "- trip log 추출"
      ],
      "metadata": {
        "id": "GmAiIBt3Mhhj"
      }
    },
    {
      "cell_type": "markdown",
      "source": [
        "# 2. Trip 정보"
      ],
      "metadata": {
        "id": "nDCgBl3AsIoI"
      }
    },
    {
      "cell_type": "code",
      "source": [
        "df = data[['region', 'car_name', 'zone_type1', 'zone_type2','zone_type3','trip','이용시간']]\n",
        "df.tail()"
      ],
      "metadata": {
        "colab": {
          "base_uri": "https://localhost:8080/",
          "height": 337
        },
        "id": "eLY5SvocsTz9",
        "outputId": "11f93f2d-29d2-4b98-c2aa-4140d67b1b37"
      },
      "execution_count": 26,
      "outputs": [
        {
          "output_type": "execute_result",
          "data": {
            "text/html": [
              "\n",
              "  <div id=\"df-43da4b53-81fd-4c24-a029-3042f18e792e\">\n",
              "    <div class=\"colab-df-container\">\n",
              "      <div>\n",
              "<style scoped>\n",
              "    .dataframe tbody tr th:only-of-type {\n",
              "        vertical-align: middle;\n",
              "    }\n",
              "\n",
              "    .dataframe tbody tr th {\n",
              "        vertical-align: top;\n",
              "    }\n",
              "\n",
              "    .dataframe thead th {\n",
              "        text-align: right;\n",
              "    }\n",
              "</style>\n",
              "<table border=\"1\" class=\"dataframe\">\n",
              "  <thead>\n",
              "    <tr style=\"text-align: right;\">\n",
              "      <th></th>\n",
              "      <th>region</th>\n",
              "      <th>car_name</th>\n",
              "      <th>zone_type1</th>\n",
              "      <th>zone_type2</th>\n",
              "      <th>zone_type3</th>\n",
              "      <th>trip</th>\n",
              "      <th>이용시간</th>\n",
              "    </tr>\n",
              "  </thead>\n",
              "  <tbody>\n",
              "    <tr>\n",
              "      <th>124750</th>\n",
              "      <td>서울특별시 강서구</td>\n",
              "      <td>[쏘카세이브] 넥스트스파크</td>\n",
              "      <td>LIVING_VILLA</td>\n",
              "      <td>LIVING_ETC</td>\n",
              "      <td>ETC</td>\n",
              "      <td>서울특별시 강서구,서울특별시 구로구,서울특별시 금천구,경기도 하남시</td>\n",
              "      <td>0 days 05:52:10</td>\n",
              "    </tr>\n",
              "    <tr>\n",
              "      <th>124751</th>\n",
              "      <td>서울특별시 동대문구</td>\n",
              "      <td>더뉴레이</td>\n",
              "      <td>LIVING_ETC</td>\n",
              "      <td>TRANSFER_SUBWAY</td>\n",
              "      <td>COMMERCIAL_HOTSPOT</td>\n",
              "      <td>서울특별시 중구</td>\n",
              "      <td>0 days 09:59:04</td>\n",
              "    </tr>\n",
              "    <tr>\n",
              "      <th>124752</th>\n",
              "      <td>서울특별시 강남구</td>\n",
              "      <td>스토닉</td>\n",
              "      <td>LIVING_VILLA</td>\n",
              "      <td>TRANSFER_SUBWAY</td>\n",
              "      <td>COMMERCIAL_HOTSPOT</td>\n",
              "      <td>서울특별시 강남구,서울특별시 강남구,서울특별시 강남구,경기도 양주시,경기도 파주시,...</td>\n",
              "      <td>0 days 10:49:23</td>\n",
              "    </tr>\n",
              "    <tr>\n",
              "      <th>124753</th>\n",
              "      <td>경기도 고양시 일산서구</td>\n",
              "      <td>올뉴모닝</td>\n",
              "      <td>LIVING_APT</td>\n",
              "      <td>TRANSFER_SUBWAY</td>\n",
              "      <td>COMMERCIAL_HOTSPOT</td>\n",
              "      <td>경기도 고양시 일산서구,경기도 파주시,경기도 파주시,경기도 안양시 동안구,경기도 안...</td>\n",
              "      <td>0 days 22:14:40</td>\n",
              "    </tr>\n",
              "    <tr>\n",
              "      <th>124754</th>\n",
              "      <td>서울특별시 강남구</td>\n",
              "      <td>코나</td>\n",
              "      <td>LIVING_APT</td>\n",
              "      <td>TRANSFER_BUS</td>\n",
              "      <td>ETC</td>\n",
              "      <td>서울특별시 강남구,강원도 강릉시,강원도 속초시,강원도 양양군,강원도 홍천군,강원도 ...</td>\n",
              "      <td>1 days 15:01:09</td>\n",
              "    </tr>\n",
              "  </tbody>\n",
              "</table>\n",
              "</div>\n",
              "      <button class=\"colab-df-convert\" onclick=\"convertToInteractive('df-43da4b53-81fd-4c24-a029-3042f18e792e')\"\n",
              "              title=\"Convert this dataframe to an interactive table.\"\n",
              "              style=\"display:none;\">\n",
              "        \n",
              "  <svg xmlns=\"http://www.w3.org/2000/svg\" height=\"24px\"viewBox=\"0 0 24 24\"\n",
              "       width=\"24px\">\n",
              "    <path d=\"M0 0h24v24H0V0z\" fill=\"none\"/>\n",
              "    <path d=\"M18.56 5.44l.94 2.06.94-2.06 2.06-.94-2.06-.94-.94-2.06-.94 2.06-2.06.94zm-11 1L8.5 8.5l.94-2.06 2.06-.94-2.06-.94L8.5 2.5l-.94 2.06-2.06.94zm10 10l.94 2.06.94-2.06 2.06-.94-2.06-.94-.94-2.06-.94 2.06-2.06.94z\"/><path d=\"M17.41 7.96l-1.37-1.37c-.4-.4-.92-.59-1.43-.59-.52 0-1.04.2-1.43.59L10.3 9.45l-7.72 7.72c-.78.78-.78 2.05 0 2.83L4 21.41c.39.39.9.59 1.41.59.51 0 1.02-.2 1.41-.59l7.78-7.78 2.81-2.81c.8-.78.8-2.07 0-2.86zM5.41 20L4 18.59l7.72-7.72 1.47 1.35L5.41 20z\"/>\n",
              "  </svg>\n",
              "      </button>\n",
              "      \n",
              "  <style>\n",
              "    .colab-df-container {\n",
              "      display:flex;\n",
              "      flex-wrap:wrap;\n",
              "      gap: 12px;\n",
              "    }\n",
              "\n",
              "    .colab-df-convert {\n",
              "      background-color: #E8F0FE;\n",
              "      border: none;\n",
              "      border-radius: 50%;\n",
              "      cursor: pointer;\n",
              "      display: none;\n",
              "      fill: #1967D2;\n",
              "      height: 32px;\n",
              "      padding: 0 0 0 0;\n",
              "      width: 32px;\n",
              "    }\n",
              "\n",
              "    .colab-df-convert:hover {\n",
              "      background-color: #E2EBFA;\n",
              "      box-shadow: 0px 1px 2px rgba(60, 64, 67, 0.3), 0px 1px 3px 1px rgba(60, 64, 67, 0.15);\n",
              "      fill: #174EA6;\n",
              "    }\n",
              "\n",
              "    [theme=dark] .colab-df-convert {\n",
              "      background-color: #3B4455;\n",
              "      fill: #D2E3FC;\n",
              "    }\n",
              "\n",
              "    [theme=dark] .colab-df-convert:hover {\n",
              "      background-color: #434B5C;\n",
              "      box-shadow: 0px 1px 3px 1px rgba(0, 0, 0, 0.15);\n",
              "      filter: drop-shadow(0px 1px 2px rgba(0, 0, 0, 0.3));\n",
              "      fill: #FFFFFF;\n",
              "    }\n",
              "  </style>\n",
              "\n",
              "      <script>\n",
              "        const buttonEl =\n",
              "          document.querySelector('#df-43da4b53-81fd-4c24-a029-3042f18e792e button.colab-df-convert');\n",
              "        buttonEl.style.display =\n",
              "          google.colab.kernel.accessAllowed ? 'block' : 'none';\n",
              "\n",
              "        async function convertToInteractive(key) {\n",
              "          const element = document.querySelector('#df-43da4b53-81fd-4c24-a029-3042f18e792e');\n",
              "          const dataTable =\n",
              "            await google.colab.kernel.invokeFunction('convertToInteractive',\n",
              "                                                     [key], {});\n",
              "          if (!dataTable) return;\n",
              "\n",
              "          const docLinkHtml = 'Like what you see? Visit the ' +\n",
              "            '<a target=\"_blank\" href=https://colab.research.google.com/notebooks/data_table.ipynb>data table notebook</a>'\n",
              "            + ' to learn more about interactive tables.';\n",
              "          element.innerHTML = '';\n",
              "          dataTable['output_type'] = 'display_data';\n",
              "          await google.colab.output.renderOutput(dataTable, element);\n",
              "          const docLink = document.createElement('div');\n",
              "          docLink.innerHTML = docLinkHtml;\n",
              "          element.appendChild(docLink);\n",
              "        }\n",
              "      </script>\n",
              "    </div>\n",
              "  </div>\n",
              "  "
            ],
            "text/plain": [
              "              region  ...            이용시간\n",
              "124750     서울특별시 강서구  ... 0 days 05:52:10\n",
              "124751    서울특별시 동대문구  ... 0 days 09:59:04\n",
              "124752     서울특별시 강남구  ... 0 days 10:49:23\n",
              "124753  경기도 고양시 일산서구  ... 0 days 22:14:40\n",
              "124754     서울특별시 강남구  ... 1 days 15:01:09\n",
              "\n",
              "[5 rows x 7 columns]"
            ]
          },
          "metadata": {},
          "execution_count": 26
        }
      ]
    },
    {
      "cell_type": "code",
      "source": [
        "# 차종 총 50개\n",
        "car_rate = data['car_name'].value_counts(normalize=True)\n",
        "#print(len(car_rate))\n",
        "top25_car=car_rate.nlargest(25)\n",
        "top25_car.plot.bar(rot=0, figsize=(30,10))\n",
        "\n",
        "\n",
        "# 소/중/대 분류 필요"
      ],
      "metadata": {
        "id": "NLYHJl7AYEox",
        "outputId": "922838fc-aff0-4ab8-a4f0-66fd085baf05",
        "colab": {
          "base_uri": "https://localhost:8080/",
          "height": 473
        }
      },
      "execution_count": 31,
      "outputs": [
        {
          "output_type": "execute_result",
          "data": {
            "text/plain": [
              "<matplotlib.axes._subplots.AxesSubplot at 0x7fe4349af850>"
            ]
          },
          "metadata": {},
          "execution_count": 31
        },
        {
          "output_type": "display_data",
          "data": {
            "image/png": "[encoded data removed]",
            "text/plain": [
              "<Figure size 2160x720 with 1 Axes>"
            ]
          },
          "metadata": {
            "needs_background": "light"
          }
        }
      ]
    },
    {
      "cell_type": "code",
      "source": [
        "# 사용자가 이용하는 존 타입 유형 3\n",
        "plt.figure(figsize=(26, 6))\n",
        "plt.hist(data['zone_type1'], bins=13)"
      ],
      "metadata": {
        "id": "o8-1R5zuxq6r",
        "outputId": "804cc4ad-b31d-4e56-f85b-a819ae29d26e",
        "colab": {
          "base_uri": "https://localhost:8080/",
          "height": 452
        }
      },
      "execution_count": null,
      "outputs": [
        {
          "output_type": "execute_result",
          "data": {
            "text/plain": [
              "(array([4.6836e+04, 6.7440e+03, 1.7468e+04, 1.5909e+04, 2.9224e+04,\n",
              "        1.7370e+03, 3.0430e+03, 9.2900e+02, 1.6780e+03, 1.5900e+02,\n",
              "        9.7400e+02, 4.9000e+01, 5.0000e+00]),\n",
              " array([ 0.        ,  0.92307692,  1.84615385,  2.76923077,  3.69230769,\n",
              "         4.61538462,  5.53846154,  6.46153846,  7.38461538,  8.30769231,\n",
              "         9.23076923, 10.15384615, 11.07692308, 12.        ]),\n",
              " <a list of 13 Patch objects>)"
            ]
          },
          "metadata": {},
          "execution_count": 170
        },
        {
          "output_type": "display_data",
          "data": {
            "image/png": "[encoded data removed]",
            "text/plain": [
              "<Figure size 1872x432 with 1 Axes>"
            ]
          },
          "metadata": {
            "needs_background": "light"
          }
        }
      ]
    },
    {
      "cell_type": "code",
      "source": [
        "plt.figure(figsize=(26, 6))\n",
        "plt.hist(data['zone_type2'], bins=14)"
      ],
      "metadata": {
        "id": "ZRLlgFr1y5ZM",
        "outputId": "f6030391-5f80-47bc-f32f-90be8e0c8b8d",
        "colab": {
          "base_uri": "https://localhost:8080/",
          "height": 435
        }
      },
      "execution_count": null,
      "outputs": [
        {
          "output_type": "execute_result",
          "data": {
            "text/plain": [
              "(array([15783.,  7273., 22847.,  8194., 20700., 25055.,     0.,  5714.,\n",
              "        12023.,  2912.,  1853.,  1512.,   738.,   151.]),\n",
              " array([ 0.        ,  0.85714286,  1.71428571,  2.57142857,  3.42857143,\n",
              "         4.28571429,  5.14285714,  6.        ,  6.85714286,  7.71428571,\n",
              "         8.57142857,  9.42857143, 10.28571429, 11.14285714, 12.        ]),\n",
              " <a list of 14 Patch objects>)"
            ]
          },
          "metadata": {},
          "execution_count": 19
        },
        {
          "output_type": "display_data",
          "data": {
            "image/png": "[encoded data removed]",
            "text/plain": [
              "<Figure size 1872x432 with 1 Axes>"
            ]
          },
          "metadata": {
            "needs_background": "light"
          }
        }
      ]
    },
    {
      "cell_type": "code",
      "source": [
        "plt.figure(figsize=(26, 6))\n",
        "plt.hist(data['zone_type3'], bins=14)"
      ],
      "metadata": {
        "id": "Baf4GhLQy83Z",
        "outputId": "945982ba-f933-43c2-cf71-3404f473f9a3",
        "colab": {
          "base_uri": "https://localhost:8080/",
          "height": 435
        }
      },
      "execution_count": null,
      "outputs": [
        {
          "output_type": "execute_result",
          "data": {
            "text/plain": [
              "(array([ 2824., 41566., 50910.,  6327.,  9074.,  4539.,  3278.,   592.,\n",
              "         2039.,  1393.,   572.,   250.,   539.,   852.]),\n",
              " array([ 0.        ,  0.92857143,  1.85714286,  2.78571429,  3.71428571,\n",
              "         4.64285714,  5.57142857,  6.5       ,  7.42857143,  8.35714286,\n",
              "         9.28571429, 10.21428571, 11.14285714, 12.07142857, 13.        ]),\n",
              " <a list of 14 Patch objects>)"
            ]
          },
          "metadata": {},
          "execution_count": 20
        },
        {
          "output_type": "display_data",
          "data": {
            "image/png": "[encoded data removed]",
            "text/plain": [
              "<Figure size 1872x432 with 1 Axes>"
            ]
          },
          "metadata": {
            "needs_background": "light"
          }
        }
      ]
    },
    {
      "cell_type": "code",
      "source": [
        "data.shape"
      ],
      "metadata": {
        "colab": {
          "base_uri": "https://localhost:8080/"
        },
        "id": "dqWpddFtEr4O",
        "outputId": "7cb50f81-5944-4f1c-ac19-0cdad0e62afb"
      },
      "execution_count": null,
      "outputs": [
        {
          "output_type": "execute_result",
          "data": {
            "text/plain": [
              "(124755, 21)"
            ]
          },
          "metadata": {},
          "execution_count": 21
        }
      ]
    },
    {
      "cell_type": "code",
      "source": [
        "# train 부분은 80%, test 부분은 20%\n",
        "train = data[:670000]\n",
        "test = data[67000:]"
      ],
      "metadata": {
        "id": "kQLp4YohG7jh"
      },
      "execution_count": null,
      "outputs": []
    },
    {
      "cell_type": "code",
      "source": [
        "x_train = np.asarray()\n",
        "y_train = np.asarray()\n",
        "x_test = np.asarray()\n",
        "y_test = np.asarray()"
      ],
      "metadata": {
        "id": "j6BJuKRYHg6J"
      },
      "execution_count": null,
      "outputs": []
    },
    {
      "cell_type": "code",
      "source": [
        ""
      ],
      "metadata": {
        "id": "TzoDtn4YymIR"
      },
      "execution_count": null,
      "outputs": []
    }
  ]
}