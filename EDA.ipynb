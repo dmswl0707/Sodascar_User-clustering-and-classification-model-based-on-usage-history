{
  "nbformat": 4,
  "nbformat_minor": 0,
  "metadata": {
    "colab": {
      "name": "EDA.ipynb",
      "provenance": [],
      "collapsed_sections": [],
      "authorship_tag": "ABX9TyMiZHHwRAItSAoAFGdaDxxW",
      "include_colab_link": true
    },
    "kernelspec": {
      "name": "python3",
      "display_name": "Python 3"
    },
    "language_info": {
      "name": "python"
    }
  },
  "cells": [
    {
      "cell_type": "markdown",
      "metadata": {
        "id": "view-in-github",
        "colab_type": "text"
      },
      "source": [
        "<a href=\"https://colab.research.google.com/github/dmswl0707/Sodescar/blob/eunji/EDA.ipynb\" target=\"_parent\"><img src=\"https://colab.research.google.com/assets/colab-badge.svg\" alt=\"Open In Colab\"/></a>"
      ]
    },
    {
      "cell_type": "code",
      "execution_count": 1,
      "metadata": {
        "colab": {
          "base_uri": "https://localhost:8080/"
        },
        "id": "_bXfVEhwqXQT",
        "outputId": "9d01c03e-9141-41f7-dc0f-2f6f8181c118"
      },
      "outputs": [
        {
          "output_type": "stream",
          "name": "stdout",
          "text": [
            "Mounted at /content/drive\n"
          ]
        }
      ],
      "source": [
        "from google.colab import drive\n",
        "drive.mount('/content/drive')"
      ]
    },
    {
      "cell_type": "code",
      "source": [
        "import pandas as pd\n",
        "import numpy as np\n",
        "import matplotlib.pyplot as plt"
      ],
      "metadata": {
        "id": "JcneX5BduXrl"
      },
      "execution_count": 19,
      "outputs": []
    },
    {
      "cell_type": "code",
      "source": [
        "data = pd.read_csv('/content/drive/MyDrive/Colab Notebooks/socar_reservation_triplog.csv')\n",
        "data.tail()"
      ],
      "metadata": {
        "colab": {
          "base_uri": "https://localhost:8080/",
          "height": 999
        },
        "id": "xF8hmsHTuon0",
        "outputId": "428e2194-fff7-4063-f7f5-3b30713aba4b"
      },
      "execution_count": 20,
      "outputs": [
        {
          "output_type": "execute_result",
          "data": {
            "text/html": [
              "\n",
              "  <div id=\"df-5d933e48-1a43-41f8-af2d-2f9ed3948576\">\n",
              "    <div class=\"colab-df-container\">\n",
              "      <div>\n",
              "<style scoped>\n",
              "    .dataframe tbody tr th:only-of-type {\n",
              "        vertical-align: middle;\n",
              "    }\n",
              "\n",
              "    .dataframe tbody tr th {\n",
              "        vertical-align: top;\n",
              "    }\n",
              "\n",
              "    .dataframe thead th {\n",
              "        text-align: right;\n",
              "    }\n",
              "</style>\n",
              "<table border=\"1\" class=\"dataframe\">\n",
              "  <thead>\n",
              "    <tr style=\"text-align: right;\">\n",
              "      <th></th>\n",
              "      <th>reservation_id</th>\n",
              "      <th>car_id</th>\n",
              "      <th>member_id_encrypted</th>\n",
              "      <th>region</th>\n",
              "      <th>reservation_return_at</th>\n",
              "      <th>reservation_start_at</th>\n",
              "      <th>member_age</th>\n",
              "      <th>member_gender</th>\n",
              "      <th>member_created_date</th>\n",
              "      <th>member_total_distance</th>\n",
              "      <th>is_vroom</th>\n",
              "      <th>car_name</th>\n",
              "      <th>zone_name</th>\n",
              "      <th>zone_address</th>\n",
              "      <th>zone_lat</th>\n",
              "      <th>zone_lng</th>\n",
              "      <th>zone_type1</th>\n",
              "      <th>zone_type2</th>\n",
              "      <th>zone_type3</th>\n",
              "      <th>reservation_created_lat</th>\n",
              "      <th>reservation_created_lng</th>\n",
              "      <th>trip</th>\n",
              "    </tr>\n",
              "  </thead>\n",
              "  <tbody>\n",
              "    <tr>\n",
              "      <th>751543</th>\n",
              "      <td>25230734</td>\n",
              "      <td>12133</td>\n",
              "      <td>EfUz3ev4ykYFkJ6t4Eg4ML5fkur2s8Rg/LqDEdZTxpo=</td>\n",
              "      <td>서울특별시 성북구</td>\n",
              "      <td>2019-08-16 17:58:45</td>\n",
              "      <td>2019-08-16 14:50:00</td>\n",
              "      <td>27</td>\n",
              "      <td>male</td>\n",
              "      <td>2019-06-09</td>\n",
              "      <td>4756.0</td>\n",
              "      <td>True</td>\n",
              "      <td>미니클럽맨</td>\n",
              "      <td>서울 돌곶이역[V]</td>\n",
              "      <td>서울 성북구 석관동 245-4</td>\n",
              "      <td>37.610798</td>\n",
              "      <td>127.058172</td>\n",
              "      <td>NaN</td>\n",
              "      <td>NaN</td>\n",
              "      <td>NaN</td>\n",
              "      <td>NaN</td>\n",
              "      <td>NaN</td>\n",
              "      <td>NaN</td>\n",
              "    </tr>\n",
              "    <tr>\n",
              "      <th>751544</th>\n",
              "      <td>25230739</td>\n",
              "      <td>16346</td>\n",
              "      <td>isNozhU/SlfjlXncrzi20TgQEev2hiSf+JH/13Vzt1Y=</td>\n",
              "      <td>경기도 의정부시</td>\n",
              "      <td>2019-08-16 20:29:58</td>\n",
              "      <td>2019-08-15 21:40:00</td>\n",
              "      <td>31</td>\n",
              "      <td>male</td>\n",
              "      <td>2018-03-09</td>\n",
              "      <td>10799.0</td>\n",
              "      <td>False</td>\n",
              "      <td>올뉴K3</td>\n",
              "      <td>AJ파크 의정부 센트럴타워</td>\n",
              "      <td>경기 의정부시 의정부동 494 센트럴타워</td>\n",
              "      <td>37.738066</td>\n",
              "      <td>127.044092</td>\n",
              "      <td>TRANSFER_SUBWAY</td>\n",
              "      <td>COMMERCIAL_HOTSPOT</td>\n",
              "      <td>NaN</td>\n",
              "      <td>NaN</td>\n",
              "      <td>NaN</td>\n",
              "      <td>경기도 양주시,경기도 고양시 일산서구,경기도 양주시,경기도 고양시 일산서구</td>\n",
              "    </tr>\n",
              "    <tr>\n",
              "      <th>751545</th>\n",
              "      <td>25230740</td>\n",
              "      <td>18217</td>\n",
              "      <td>DBVfEBiHB2Fq4PgtorxeD6SKjkvP+yeofER1mjQ6OD0=</td>\n",
              "      <td>서울특별시 강남구</td>\n",
              "      <td>2019-08-16 00:39:36</td>\n",
              "      <td>2019-08-15 22:00:00</td>\n",
              "      <td>28</td>\n",
              "      <td>male</td>\n",
              "      <td>2015-06-10</td>\n",
              "      <td>9080.0</td>\n",
              "      <td>False</td>\n",
              "      <td>더뉴레이</td>\n",
              "      <td>대승주차장</td>\n",
              "      <td>서울 강남구 대치동 984-12</td>\n",
              "      <td>37.500908</td>\n",
              "      <td>127.066643</td>\n",
              "      <td>LIVING_APT</td>\n",
              "      <td>LIVING_VILLA</td>\n",
              "      <td>COMMERCIAL_HOTSPOT</td>\n",
              "      <td>NaN</td>\n",
              "      <td>NaN</td>\n",
              "      <td>서울특별시 노원구</td>\n",
              "    </tr>\n",
              "    <tr>\n",
              "      <th>751546</th>\n",
              "      <td>25230763</td>\n",
              "      <td>8420</td>\n",
              "      <td>2akRtQ2yPc0zFkPX1EGe72+tJPXrOhFKHmlOiwiwYY0=</td>\n",
              "      <td>서울특별시 강서구</td>\n",
              "      <td>2019-08-16 04:39:18</td>\n",
              "      <td>2019-08-15 21:40:00</td>\n",
              "      <td>21</td>\n",
              "      <td>male</td>\n",
              "      <td>2016-08-04</td>\n",
              "      <td>932.0</td>\n",
              "      <td>False</td>\n",
              "      <td>넥스트스파크</td>\n",
              "      <td>삼영주차장</td>\n",
              "      <td>서울 강서구 화곡동 110-65</td>\n",
              "      <td>37.543930</td>\n",
              "      <td>126.843872</td>\n",
              "      <td>LIVING_VILLA</td>\n",
              "      <td>LIVING_ETC</td>\n",
              "      <td>ETC</td>\n",
              "      <td>NaN</td>\n",
              "      <td>NaN</td>\n",
              "      <td>인천광역시 중구,서울특별시 강서구,서울특별시 영등포구,서울특별시 강서구</td>\n",
              "    </tr>\n",
              "    <tr>\n",
              "      <th>751547</th>\n",
              "      <td>25230776</td>\n",
              "      <td>18322</td>\n",
              "      <td>pKyxVpBU8+VcqT/J4ZLxYLHGBR3T7rH636FQuFbhWwo=</td>\n",
              "      <td>서울특별시 성북구</td>\n",
              "      <td>2019-08-16 20:47:34</td>\n",
              "      <td>2019-08-16 16:30:00</td>\n",
              "      <td>38</td>\n",
              "      <td>male</td>\n",
              "      <td>2016-10-13</td>\n",
              "      <td>27556.0</td>\n",
              "      <td>False</td>\n",
              "      <td>더뉴레이</td>\n",
              "      <td>삼선교주차장</td>\n",
              "      <td>서울 성북구 삼선동4가 18-6</td>\n",
              "      <td>37.588623</td>\n",
              "      <td>127.010368</td>\n",
              "      <td>LIVING_ETC</td>\n",
              "      <td>COMMERCIAL_OFFICE</td>\n",
              "      <td>ETC</td>\n",
              "      <td>NaN</td>\n",
              "      <td>NaN</td>\n",
              "      <td>서울특별시 중구,서울특별시 광진구</td>\n",
              "    </tr>\n",
              "  </tbody>\n",
              "</table>\n",
              "</div>\n",
              "      <button class=\"colab-df-convert\" onclick=\"convertToInteractive('df-5d933e48-1a43-41f8-af2d-2f9ed3948576')\"\n",
              "              title=\"Convert this dataframe to an interactive table.\"\n",
              "              style=\"display:none;\">\n",
              "        \n",
              "  <svg xmlns=\"http://www.w3.org/2000/svg\" height=\"24px\"viewBox=\"0 0 24 24\"\n",
              "       width=\"24px\">\n",
              "    <path d=\"M0 0h24v24H0V0z\" fill=\"none\"/>\n",
              "    <path d=\"M18.56 5.44l.94 2.06.94-2.06 2.06-.94-2.06-.94-.94-2.06-.94 2.06-2.06.94zm-11 1L8.5 8.5l.94-2.06 2.06-.94-2.06-.94L8.5 2.5l-.94 2.06-2.06.94zm10 10l.94 2.06.94-2.06 2.06-.94-2.06-.94-.94-2.06-.94 2.06-2.06.94z\"/><path d=\"M17.41 7.96l-1.37-1.37c-.4-.4-.92-.59-1.43-.59-.52 0-1.04.2-1.43.59L10.3 9.45l-7.72 7.72c-.78.78-.78 2.05 0 2.83L4 21.41c.39.39.9.59 1.41.59.51 0 1.02-.2 1.41-.59l7.78-7.78 2.81-2.81c.8-.78.8-2.07 0-2.86zM5.41 20L4 18.59l7.72-7.72 1.47 1.35L5.41 20z\"/>\n",
              "  </svg>\n",
              "      </button>\n",
              "      \n",
              "  <style>\n",
              "    .colab-df-container {\n",
              "      display:flex;\n",
              "      flex-wrap:wrap;\n",
              "      gap: 12px;\n",
              "    }\n",
              "\n",
              "    .colab-df-convert {\n",
              "      background-color: #E8F0FE;\n",
              "      border: none;\n",
              "      border-radius: 50%;\n",
              "      cursor: pointer;\n",
              "      display: none;\n",
              "      fill: #1967D2;\n",
              "      height: 32px;\n",
              "      padding: 0 0 0 0;\n",
              "      width: 32px;\n",
              "    }\n",
              "\n",
              "    .colab-df-convert:hover {\n",
              "      background-color: #E2EBFA;\n",
              "      box-shadow: 0px 1px 2px rgba(60, 64, 67, 0.3), 0px 1px 3px 1px rgba(60, 64, 67, 0.15);\n",
              "      fill: #174EA6;\n",
              "    }\n",
              "\n",
              "    [theme=dark] .colab-df-convert {\n",
              "      background-color: #3B4455;\n",
              "      fill: #D2E3FC;\n",
              "    }\n",
              "\n",
              "    [theme=dark] .colab-df-convert:hover {\n",
              "      background-color: #434B5C;\n",
              "      box-shadow: 0px 1px 3px 1px rgba(0, 0, 0, 0.15);\n",
              "      filter: drop-shadow(0px 1px 2px rgba(0, 0, 0, 0.3));\n",
              "      fill: #FFFFFF;\n",
              "    }\n",
              "  </style>\n",
              "\n",
              "      <script>\n",
              "        const buttonEl =\n",
              "          document.querySelector('#df-5d933e48-1a43-41f8-af2d-2f9ed3948576 button.colab-df-convert');\n",
              "        buttonEl.style.display =\n",
              "          google.colab.kernel.accessAllowed ? 'block' : 'none';\n",
              "\n",
              "        async function convertToInteractive(key) {\n",
              "          const element = document.querySelector('#df-5d933e48-1a43-41f8-af2d-2f9ed3948576');\n",
              "          const dataTable =\n",
              "            await google.colab.kernel.invokeFunction('convertToInteractive',\n",
              "                                                     [key], {});\n",
              "          if (!dataTable) return;\n",
              "\n",
              "          const docLinkHtml = 'Like what you see? Visit the ' +\n",
              "            '<a target=\"_blank\" href=https://colab.research.google.com/notebooks/data_table.ipynb>data table notebook</a>'\n",
              "            + ' to learn more about interactive tables.';\n",
              "          element.innerHTML = '';\n",
              "          dataTable['output_type'] = 'display_data';\n",
              "          await google.colab.output.renderOutput(dataTable, element);\n",
              "          const docLink = document.createElement('div');\n",
              "          docLink.innerHTML = docLinkHtml;\n",
              "          element.appendChild(docLink);\n",
              "        }\n",
              "      </script>\n",
              "    </div>\n",
              "  </div>\n",
              "  "
            ],
            "text/plain": [
              "        reservation_id  ...                                       trip\n",
              "751543        25230734  ...                                        NaN\n",
              "751544        25230739  ...  경기도 양주시,경기도 고양시 일산서구,경기도 양주시,경기도 고양시 일산서구\n",
              "751545        25230740  ...                                  서울특별시 노원구\n",
              "751546        25230763  ...    인천광역시 중구,서울특별시 강서구,서울특별시 영등포구,서울특별시 강서구\n",
              "751547        25230776  ...                         서울특별시 중구,서울특별시 광진구\n",
              "\n",
              "[5 rows x 22 columns]"
            ]
          },
          "metadata": {},
          "execution_count": 20
        }
      ]
    },
    {
      "cell_type": "code",
      "source": [
        "data.info()"
      ],
      "metadata": {
        "colab": {
          "base_uri": "https://localhost:8080/"
        },
        "id": "pzjq_hclBNt1",
        "outputId": "6675f8af-a4d7-412f-9d82-a7cb1c8469c4"
      },
      "execution_count": 21,
      "outputs": [
        {
          "output_type": "stream",
          "name": "stdout",
          "text": [
            "<class 'pandas.core.frame.DataFrame'>\n",
            "RangeIndex: 751548 entries, 0 to 751547\n",
            "Data columns (total 22 columns):\n",
            " #   Column                   Non-Null Count   Dtype  \n",
            "---  ------                   --------------   -----  \n",
            " 0   reservation_id           751548 non-null  int64  \n",
            " 1   car_id                   751548 non-null  int64  \n",
            " 2   member_id_encrypted      751548 non-null  object \n",
            " 3   region                   751548 non-null  object \n",
            " 4   reservation_return_at    751548 non-null  object \n",
            " 5   reservation_start_at     751548 non-null  object \n",
            " 6   member_age               751548 non-null  int64  \n",
            " 7   member_gender            699017 non-null  object \n",
            " 8   member_created_date      751548 non-null  object \n",
            " 9   member_total_distance    738010 non-null  float64\n",
            " 10  is_vroom                 751548 non-null  bool   \n",
            " 11  car_name                 751548 non-null  object \n",
            " 12  zone_name                750774 non-null  object \n",
            " 13  zone_address             751548 non-null  object \n",
            " 14  zone_lat                 751548 non-null  float64\n",
            " 15  zone_lng                 751548 non-null  float64\n",
            " 16  zone_type1               733508 non-null  object \n",
            " 17  zone_type2               691605 non-null  object \n",
            " 18  zone_type3               637422 non-null  object \n",
            " 19  reservation_created_lat  199701 non-null  float64\n",
            " 20  reservation_created_lng  199701 non-null  float64\n",
            " 21  trip                     555474 non-null  object \n",
            "dtypes: bool(1), float64(5), int64(3), object(13)\n",
            "memory usage: 121.1+ MB\n"
          ]
        }
      ]
    },
    {
      "cell_type": "code",
      "source": [
        "# 결측치 제거\n",
        "data = data.dropna()"
      ],
      "metadata": {
        "id": "5LDJF2sJK7t8"
      },
      "execution_count": 22,
      "outputs": []
    },
    {
      "cell_type": "code",
      "source": [
        "data = data.drop(['reservation_id', 'zone_address', 'car_id', 'zone_name', 'zone_lat', 'zone_lng', 'reservation_created_lat', 'reservation_created_lng'], 1)\n",
        "data = data.sample(frac=1, random_state=0).reset_index(drop=True)\n",
        "data.head()"
      ],
      "metadata": {
        "colab": {
          "base_uri": "https://localhost:8080/",
          "height": 1000
        },
        "id": "ISLJeTbW1SrO",
        "outputId": "59991260-b33e-42eb-8316-70569b9c7bdb"
      },
      "execution_count": 23,
      "outputs": [
        {
          "output_type": "execute_result",
          "data": {
            "text/html": [
              "\n",
              "  <div id=\"df-0cb4f4fc-1b33-4292-9b77-dca76e066453\">\n",
              "    <div class=\"colab-df-container\">\n",
              "      <div>\n",
              "<style scoped>\n",
              "    .dataframe tbody tr th:only-of-type {\n",
              "        vertical-align: middle;\n",
              "    }\n",
              "\n",
              "    .dataframe tbody tr th {\n",
              "        vertical-align: top;\n",
              "    }\n",
              "\n",
              "    .dataframe thead th {\n",
              "        text-align: right;\n",
              "    }\n",
              "</style>\n",
              "<table border=\"1\" class=\"dataframe\">\n",
              "  <thead>\n",
              "    <tr style=\"text-align: right;\">\n",
              "      <th></th>\n",
              "      <th>member_id_encrypted</th>\n",
              "      <th>region</th>\n",
              "      <th>reservation_return_at</th>\n",
              "      <th>reservation_start_at</th>\n",
              "      <th>member_age</th>\n",
              "      <th>member_gender</th>\n",
              "      <th>member_created_date</th>\n",
              "      <th>member_total_distance</th>\n",
              "      <th>is_vroom</th>\n",
              "      <th>car_name</th>\n",
              "      <th>zone_type1</th>\n",
              "      <th>zone_type2</th>\n",
              "      <th>zone_type3</th>\n",
              "      <th>trip</th>\n",
              "    </tr>\n",
              "  </thead>\n",
              "  <tbody>\n",
              "    <tr>\n",
              "      <th>0</th>\n",
              "      <td>Bs6zFqRPD1zImennBpeXaP8NE6d+DzBq5Z8mtuC0eR4=</td>\n",
              "      <td>서울특별시 강남구</td>\n",
              "      <td>2019-08-23 23:42:19</td>\n",
              "      <td>2019-08-23 22:00:00</td>\n",
              "      <td>30</td>\n",
              "      <td>male</td>\n",
              "      <td>2018-08-04</td>\n",
              "      <td>5284.0</td>\n",
              "      <td>False</td>\n",
              "      <td>더뉴아반떼</td>\n",
              "      <td>LIVING_APT</td>\n",
              "      <td>LIVING_ETC</td>\n",
              "      <td>TRANSFER_BUS</td>\n",
              "      <td>서울특별시 광진구</td>\n",
              "    </tr>\n",
              "    <tr>\n",
              "      <th>1</th>\n",
              "      <td>8wu5HZqMAjq6mrjeYaeEU03i5ENRFIkCNjMCk40sTp0=</td>\n",
              "      <td>경기도 남양주시</td>\n",
              "      <td>2019-09-10 15:59:47</td>\n",
              "      <td>2019-09-09 11:20:00</td>\n",
              "      <td>49</td>\n",
              "      <td>female</td>\n",
              "      <td>2015-05-08</td>\n",
              "      <td>25840.0</td>\n",
              "      <td>False</td>\n",
              "      <td>티볼리(경유)</td>\n",
              "      <td>LIVING_APT</td>\n",
              "      <td>TRANSFER_BUS</td>\n",
              "      <td>ETC</td>\n",
              "      <td>경기도 양평군,경기도 이천시,경기도 남양주시,경기도 성남시 분당구,경기도 성남시 분...</td>\n",
              "    </tr>\n",
              "    <tr>\n",
              "      <th>2</th>\n",
              "      <td>Yw8DGmJuWBDbCiM+ujwevwwkKAyjtxUfMCMhrR4huOY=</td>\n",
              "      <td>부산광역시 강서구</td>\n",
              "      <td>2019-11-13 20:28:32</td>\n",
              "      <td>2019-11-13 14:30:00</td>\n",
              "      <td>42</td>\n",
              "      <td>female</td>\n",
              "      <td>2019-11-12</td>\n",
              "      <td>881.0</td>\n",
              "      <td>False</td>\n",
              "      <td>쏘나타 뉴라이즈(LPG)</td>\n",
              "      <td>TRANSFER_STATION</td>\n",
              "      <td>TRANSFER_SUBWAY</td>\n",
              "      <td>ETC</td>\n",
              "      <td>부산광역시 서구,부산광역시 서구,부산광역시 해운대구</td>\n",
              "    </tr>\n",
              "    <tr>\n",
              "      <th>3</th>\n",
              "      <td>WdKljc1HSkWe7OwZMuC8evJ4S5nHIDl0d/k+RkzJW6A=</td>\n",
              "      <td>경기도 고양시 일산동구</td>\n",
              "      <td>2019-10-21 00:07:38</td>\n",
              "      <td>2019-10-20 12:10:00</td>\n",
              "      <td>37</td>\n",
              "      <td>male</td>\n",
              "      <td>2016-11-28</td>\n",
              "      <td>16509.0</td>\n",
              "      <td>True</td>\n",
              "      <td>레이</td>\n",
              "      <td>LIVING_APT</td>\n",
              "      <td>ETC</td>\n",
              "      <td>ETC</td>\n",
              "      <td>경기도 파주시,경기도 파주시,경기도 파주시,경기도 고양시 덕양구</td>\n",
              "    </tr>\n",
              "    <tr>\n",
              "      <th>4</th>\n",
              "      <td>cphO88t5MCrnOginrtHC2rytMk8HhgwEufcptPmCl6I=</td>\n",
              "      <td>경기도 안양시 동안구</td>\n",
              "      <td>2019-10-12 19:00:00</td>\n",
              "      <td>2019-10-09 07:00:00</td>\n",
              "      <td>34</td>\n",
              "      <td>female</td>\n",
              "      <td>2015-08-19</td>\n",
              "      <td>2569.0</td>\n",
              "      <td>False</td>\n",
              "      <td>올뉴모닝</td>\n",
              "      <td>LIVING_ETC</td>\n",
              "      <td>TRANSFER_SUBWAY</td>\n",
              "      <td>COMMERCIAL_HOTSPOT</td>\n",
              "      <td>경기도 안양시 동안구,경기도 안양시 동안구,경기도 안양시 동안구,경기도 고양시 일산...</td>\n",
              "    </tr>\n",
              "  </tbody>\n",
              "</table>\n",
              "</div>\n",
              "      <button class=\"colab-df-convert\" onclick=\"convertToInteractive('df-0cb4f4fc-1b33-4292-9b77-dca76e066453')\"\n",
              "              title=\"Convert this dataframe to an interactive table.\"\n",
              "              style=\"display:none;\">\n",
              "        \n",
              "  <svg xmlns=\"http://www.w3.org/2000/svg\" height=\"24px\"viewBox=\"0 0 24 24\"\n",
              "       width=\"24px\">\n",
              "    <path d=\"M0 0h24v24H0V0z\" fill=\"none\"/>\n",
              "    <path d=\"M18.56 5.44l.94 2.06.94-2.06 2.06-.94-2.06-.94-.94-2.06-.94 2.06-2.06.94zm-11 1L8.5 8.5l.94-2.06 2.06-.94-2.06-.94L8.5 2.5l-.94 2.06-2.06.94zm10 10l.94 2.06.94-2.06 2.06-.94-2.06-.94-.94-2.06-.94 2.06-2.06.94z\"/><path d=\"M17.41 7.96l-1.37-1.37c-.4-.4-.92-.59-1.43-.59-.52 0-1.04.2-1.43.59L10.3 9.45l-7.72 7.72c-.78.78-.78 2.05 0 2.83L4 21.41c.39.39.9.59 1.41.59.51 0 1.02-.2 1.41-.59l7.78-7.78 2.81-2.81c.8-.78.8-2.07 0-2.86zM5.41 20L4 18.59l7.72-7.72 1.47 1.35L5.41 20z\"/>\n",
              "  </svg>\n",
              "      </button>\n",
              "      \n",
              "  <style>\n",
              "    .colab-df-container {\n",
              "      display:flex;\n",
              "      flex-wrap:wrap;\n",
              "      gap: 12px;\n",
              "    }\n",
              "\n",
              "    .colab-df-convert {\n",
              "      background-color: #E8F0FE;\n",
              "      border: none;\n",
              "      border-radius: 50%;\n",
              "      cursor: pointer;\n",
              "      display: none;\n",
              "      fill: #1967D2;\n",
              "      height: 32px;\n",
              "      padding: 0 0 0 0;\n",
              "      width: 32px;\n",
              "    }\n",
              "\n",
              "    .colab-df-convert:hover {\n",
              "      background-color: #E2EBFA;\n",
              "      box-shadow: 0px 1px 2px rgba(60, 64, 67, 0.3), 0px 1px 3px 1px rgba(60, 64, 67, 0.15);\n",
              "      fill: #174EA6;\n",
              "    }\n",
              "\n",
              "    [theme=dark] .colab-df-convert {\n",
              "      background-color: #3B4455;\n",
              "      fill: #D2E3FC;\n",
              "    }\n",
              "\n",
              "    [theme=dark] .colab-df-convert:hover {\n",
              "      background-color: #434B5C;\n",
              "      box-shadow: 0px 1px 3px 1px rgba(0, 0, 0, 0.15);\n",
              "      filter: drop-shadow(0px 1px 2px rgba(0, 0, 0, 0.3));\n",
              "      fill: #FFFFFF;\n",
              "    }\n",
              "  </style>\n",
              "\n",
              "      <script>\n",
              "        const buttonEl =\n",
              "          document.querySelector('#df-0cb4f4fc-1b33-4292-9b77-dca76e066453 button.colab-df-convert');\n",
              "        buttonEl.style.display =\n",
              "          google.colab.kernel.accessAllowed ? 'block' : 'none';\n",
              "\n",
              "        async function convertToInteractive(key) {\n",
              "          const element = document.querySelector('#df-0cb4f4fc-1b33-4292-9b77-dca76e066453');\n",
              "          const dataTable =\n",
              "            await google.colab.kernel.invokeFunction('convertToInteractive',\n",
              "                                                     [key], {});\n",
              "          if (!dataTable) return;\n",
              "\n",
              "          const docLinkHtml = 'Like what you see? Visit the ' +\n",
              "            '<a target=\"_blank\" href=https://colab.research.google.com/notebooks/data_table.ipynb>data table notebook</a>'\n",
              "            + ' to learn more about interactive tables.';\n",
              "          element.innerHTML = '';\n",
              "          dataTable['output_type'] = 'display_data';\n",
              "          await google.colab.output.renderOutput(dataTable, element);\n",
              "          const docLink = document.createElement('div');\n",
              "          docLink.innerHTML = docLinkHtml;\n",
              "          element.appendChild(docLink);\n",
              "        }\n",
              "      </script>\n",
              "    </div>\n",
              "  </div>\n",
              "  "
            ],
            "text/plain": [
              "                            member_id_encrypted  ...                                               trip\n",
              "0  Bs6zFqRPD1zImennBpeXaP8NE6d+DzBq5Z8mtuC0eR4=  ...                                          서울특별시 광진구\n",
              "1  8wu5HZqMAjq6mrjeYaeEU03i5ENRFIkCNjMCk40sTp0=  ...  경기도 양평군,경기도 이천시,경기도 남양주시,경기도 성남시 분당구,경기도 성남시 분...\n",
              "2  Yw8DGmJuWBDbCiM+ujwevwwkKAyjtxUfMCMhrR4huOY=  ...                       부산광역시 서구,부산광역시 서구,부산광역시 해운대구\n",
              "3  WdKljc1HSkWe7OwZMuC8evJ4S5nHIDl0d/k+RkzJW6A=  ...                경기도 파주시,경기도 파주시,경기도 파주시,경기도 고양시 덕양구\n",
              "4  cphO88t5MCrnOginrtHC2rytMk8HhgwEufcptPmCl6I=  ...  경기도 안양시 동안구,경기도 안양시 동안구,경기도 안양시 동안구,경기도 고양시 일산...\n",
              "\n",
              "[5 rows x 14 columns]"
            ]
          },
          "metadata": {},
          "execution_count": 23
        }
      ]
    },
    {
      "cell_type": "markdown",
      "source": [
        "# 1. 유저 정보\n",
        "- 쏘카 이용자의 75%가 40세 이하, 평균 나이 31세 남성 운전자가 여자 운전자에 비해 4배 정도 많음\n",
        "- 첫 가입 후 평균 2~3년정도 쏘카 서비스를 이용, 전체 이용자의 75% 정도가 10시간 이내 가량 이용함\n",
        "- 전체 이용자의 75%가 6500km 정도 주행\n"
      ],
      "metadata": {
        "id": "oaG0LflDsD6W"
      }
    },
    {
      "cell_type": "code",
      "source": [
        "# 임의의 컬럼 분석(나이 분포)\n",
        "# 전체 연령의 50% 정도가 29세 정도\n",
        "data['member_age'].describe()"
      ],
      "metadata": {
        "colab": {
          "base_uri": "https://localhost:8080/"
        },
        "id": "UCH4nfXxLnxT",
        "outputId": "6aa2cb2b-4b3e-4171-9d1a-82cf5e470770"
      },
      "execution_count": 24,
      "outputs": [
        {
          "output_type": "execute_result",
          "data": {
            "text/plain": [
              "count    124755.000000\n",
              "mean         31.686089\n",
              "std           8.815163\n",
              "min          21.000000\n",
              "25%          25.000000\n",
              "50%          29.000000\n",
              "75%          37.000000\n",
              "max          78.000000\n",
              "Name: member_age, dtype: float64"
            ]
          },
          "metadata": {},
          "execution_count": 24
        }
      ]
    },
    {
      "cell_type": "code",
      "source": [
        "plt.hist(data['member_age'], bins=8)"
      ],
      "metadata": {
        "colab": {
          "base_uri": "https://localhost:8080/",
          "height": 352
        },
        "id": "VoBgNi8-VOaG",
        "outputId": "d582c33d-3141-4196-ac64-e035e81d905a"
      },
      "execution_count": 25,
      "outputs": [
        {
          "output_type": "execute_result",
          "data": {
            "text/plain": [
              "(array([5.8954e+04, 3.1463e+04, 1.7250e+04, 1.0798e+04, 4.7460e+03,\n",
              "        1.2750e+03, 2.5400e+02, 1.5000e+01]),\n",
              " array([21.   , 28.125, 35.25 , 42.375, 49.5  , 56.625, 63.75 , 70.875,\n",
              "        78.   ]),\n",
              " <a list of 8 Patch objects>)"
            ]
          },
          "metadata": {},
          "execution_count": 25
        },
        {
          "output_type": "display_data",
          "data": {
            "image/png": "[encoded data removed]",
            "text/plain": [
              "<Figure size 432x288 with 1 Axes>"
            ]
          },
          "metadata": {
            "needs_background": "light"
          }
        }
      ]
    },
    {
      "cell_type": "code",
      "source": [
        "# 남자 이용자가 여자 이용자의 4배 가량 많음\n",
        "data['member_gender'].value_counts(normalize=True).plot(kind=\"pie\")"
      ],
      "metadata": {
        "colab": {
          "base_uri": "https://localhost:8080/",
          "height": 265
        },
        "id": "1wWeAfm1S2Wn",
        "outputId": "6472daf6-bb72-4cba-c0d0-cc414016f9a6"
      },
      "execution_count": 26,
      "outputs": [
        {
          "output_type": "execute_result",
          "data": {
            "text/plain": [
              "<matplotlib.axes._subplots.AxesSubplot at 0x7ff57254f510>"
            ]
          },
          "metadata": {},
          "execution_count": 26
        },
        {
          "output_type": "display_data",
          "data": {
            "image/png": "[encoded data removed]",
            "text/plain": [
              "<Figure size 432x288 with 1 Axes>"
            ]
          },
          "metadata": {}
        }
      ]
    },
    {
      "cell_type": "code",
      "source": [
        "region_rate = data['region'].value_counts(normalize=True)\n",
        "region_rate.plot.bar(rot=0, figsize=(30,10))\n",
        "#print(region_rate)"
      ],
      "metadata": {
        "id": "wxnBjZkDVnM8",
        "outputId": "969cd780-77ee-4f3f-f22a-b4e2eac3c66d",
        "colab": {
          "base_uri": "https://localhost:8080/",
          "height": 1000
        }
      },
      "execution_count": 44,
      "outputs": [
        {
          "output_type": "execute_result",
          "data": {
            "text/plain": [
              "<matplotlib.axes._subplots.AxesSubplot at 0x7ff5703bb190>"
            ]
          },
          "metadata": {},
          "execution_count": 44
        },
        {
          "output_type": "stream",
          "name": "stderr",
          "text": [
            "/usr/local/lib/python3.7/dist-packages/matplotlib/backends/backend_agg.py:214: RuntimeWarning: Glyph 49436 missing from current font.\n",
            "  font.set_text(s, 0.0, flags=flags)\n",
            "/usr/local/lib/python3.7/dist-packages/matplotlib/backends/backend_agg.py:214: RuntimeWarning: Glyph 50872 missing from current font.\n",
            "  font.set_text(s, 0.0, flags=flags)\n",
            "/usr/local/lib/python3.7/dist-packages/matplotlib/backends/backend_agg.py:214: RuntimeWarning: Glyph 53945 missing from current font.\n",
            "  font.set_text(s, 0.0, flags=flags)\n",
            "/usr/local/lib/python3.7/dist-packages/matplotlib/backends/backend_agg.py:214: RuntimeWarning: Glyph 48324 missing from current font.\n",
            "  font.set_text(s, 0.0, flags=flags)\n",
            "/usr/local/lib/python3.7/dist-packages/matplotlib/backends/backend_agg.py:214: RuntimeWarning: Glyph 49884 missing from current font.\n",
            "  font.set_text(s, 0.0, flags=flags)\n",
            "/usr/local/lib/python3.7/dist-packages/matplotlib/backends/backend_agg.py:214: RuntimeWarning: Glyph 44053 missing from current font.\n",
            "  font.set_text(s, 0.0, flags=flags)\n",
            "/usr/local/lib/python3.7/dist-packages/matplotlib/backends/backend_agg.py:214: RuntimeWarning: Glyph 45224 missing from current font.\n",
            "  font.set_text(s, 0.0, flags=flags)\n",
            "/usr/local/lib/python3.7/dist-packages/matplotlib/backends/backend_agg.py:214: RuntimeWarning: Glyph 44396 missing from current font.\n",
            "  font.set_text(s, 0.0, flags=flags)\n",
            "/usr/local/lib/python3.7/dist-packages/matplotlib/backends/backend_agg.py:214: RuntimeWarning: Glyph 44221 missing from current font.\n",
            "  font.set_text(s, 0.0, flags=flags)\n",
            "/usr/local/lib/python3.7/dist-packages/matplotlib/backends/backend_agg.py:214: RuntimeWarning: Glyph 44592 missing from current font.\n",
            "  font.set_text(s, 0.0, flags=flags)\n",
            "/usr/local/lib/python3.7/dist-packages/matplotlib/backends/backend_agg.py:214: RuntimeWarning: Glyph 46020 missing from current font.\n",
            "  font.set_text(s, 0.0, flags=flags)\n",
            "/usr/local/lib/python3.7/dist-packages/matplotlib/backends/backend_agg.py:214: RuntimeWarning: Glyph 49457 missing from current font.\n",
            "  font.set_text(s, 0.0, flags=flags)\n",
            "/usr/local/lib/python3.7/dist-packages/matplotlib/backends/backend_agg.py:214: RuntimeWarning: Glyph 48516 missing from current font.\n",
            "  font.set_text(s, 0.0, flags=flags)\n",
            "/usr/local/lib/python3.7/dist-packages/matplotlib/backends/backend_agg.py:214: RuntimeWarning: Glyph 45817 missing from current font.\n",
            "  font.set_text(s, 0.0, flags=flags)\n",
            "/usr/local/lib/python3.7/dist-packages/matplotlib/backends/backend_agg.py:214: RuntimeWarning: Glyph 45824 missing from current font.\n",
            "  font.set_text(s, 0.0, flags=flags)\n",
            "/usr/local/lib/python3.7/dist-packages/matplotlib/backends/backend_agg.py:214: RuntimeWarning: Glyph 47928 missing from current font.\n",
            "  font.set_text(s, 0.0, flags=flags)\n",
            "/usr/local/lib/python3.7/dist-packages/matplotlib/backends/backend_agg.py:214: RuntimeWarning: Glyph 44256 missing from current font.\n",
            "  font.set_text(s, 0.0, flags=flags)\n",
            "/usr/local/lib/python3.7/dist-packages/matplotlib/backends/backend_agg.py:214: RuntimeWarning: Glyph 50577 missing from current font.\n",
            "  font.set_text(s, 0.0, flags=flags)\n",
            "/usr/local/lib/python3.7/dist-packages/matplotlib/backends/backend_agg.py:214: RuntimeWarning: Glyph 51068 missing from current font.\n",
            "  font.set_text(s, 0.0, flags=flags)\n",
            "/usr/local/lib/python3.7/dist-packages/matplotlib/backends/backend_agg.py:214: RuntimeWarning: Glyph 49328 missing from current font.\n",
            "  font.set_text(s, 0.0, flags=flags)\n",
            "/usr/local/lib/python3.7/dist-packages/matplotlib/backends/backend_agg.py:214: RuntimeWarning: Glyph 46041 missing from current font.\n",
            "  font.set_text(s, 0.0, flags=flags)\n",
            "/usr/local/lib/python3.7/dist-packages/matplotlib/backends/backend_agg.py:214: RuntimeWarning: Glyph 48513 missing from current font.\n",
            "  font.set_text(s, 0.0, flags=flags)\n",
            "/usr/local/lib/python3.7/dist-packages/matplotlib/backends/backend_agg.py:214: RuntimeWarning: Glyph 45909 missing from current font.\n",
            "  font.set_text(s, 0.0, flags=flags)\n",
            "/usr/local/lib/python3.7/dist-packages/matplotlib/backends/backend_agg.py:214: RuntimeWarning: Glyph 54868 missing from current font.\n",
            "  font.set_text(s, 0.0, flags=flags)\n",
            "/usr/local/lib/python3.7/dist-packages/matplotlib/backends/backend_agg.py:214: RuntimeWarning: Glyph 50504 missing from current font.\n",
            "  font.set_text(s, 0.0, flags=flags)\n",
            "/usr/local/lib/python3.7/dist-packages/matplotlib/backends/backend_agg.py:214: RuntimeWarning: Glyph 44305 missing from current font.\n",
            "  font.set_text(s, 0.0, flags=flags)\n",
            "/usr/local/lib/python3.7/dist-packages/matplotlib/backends/backend_agg.py:214: RuntimeWarning: Glyph 50669 missing from current font.\n",
            "  font.set_text(s, 0.0, flags=flags)\n",
            "/usr/local/lib/python3.7/dist-packages/matplotlib/backends/backend_agg.py:214: RuntimeWarning: Glyph 49688 missing from current font.\n",
            "  font.set_text(s, 0.0, flags=flags)\n",
            "/usr/local/lib/python3.7/dist-packages/matplotlib/backends/backend_agg.py:214: RuntimeWarning: Glyph 51221 missing from current font.\n",
            "  font.set_text(s, 0.0, flags=flags)\n",
            "/usr/local/lib/python3.7/dist-packages/matplotlib/backends/backend_agg.py:214: RuntimeWarning: Glyph 47749 missing from current font.\n",
            "  font.set_text(s, 0.0, flags=flags)\n",
            "/usr/local/lib/python3.7/dist-packages/matplotlib/backends/backend_agg.py:214: RuntimeWarning: Glyph 51032 missing from current font.\n",
            "  font.set_text(s, 0.0, flags=flags)\n",
            "/usr/local/lib/python3.7/dist-packages/matplotlib/backends/backend_agg.py:214: RuntimeWarning: Glyph 48512 missing from current font.\n",
            "  font.set_text(s, 0.0, flags=flags)\n",
            "/usr/local/lib/python3.7/dist-packages/matplotlib/backends/backend_agg.py:214: RuntimeWarning: Glyph 49464 missing from current font.\n",
            "  font.set_text(s, 0.0, flags=flags)\n",
            "/usr/local/lib/python3.7/dist-packages/matplotlib/backends/backend_agg.py:214: RuntimeWarning: Glyph 51333 missing from current font.\n",
            "  font.set_text(s, 0.0, flags=flags)\n",
            "/usr/local/lib/python3.7/dist-packages/matplotlib/backends/backend_agg.py:214: RuntimeWarning: Glyph 51088 missing from current font.\n",
            "  font.set_text(s, 0.0, flags=flags)\n",
            "/usr/local/lib/python3.7/dist-packages/matplotlib/backends/backend_agg.py:214: RuntimeWarning: Glyph 52824 missing from current font.\n",
            "  font.set_text(s, 0.0, flags=flags)\n",
            "/usr/local/lib/python3.7/dist-packages/matplotlib/backends/backend_agg.py:214: RuntimeWarning: Glyph 51452 missing from current font.\n",
            "  font.set_text(s, 0.0, flags=flags)\n",
            "/usr/local/lib/python3.7/dist-packages/matplotlib/backends/backend_agg.py:214: RuntimeWarning: Glyph 44400 missing from current font.\n",
            "  font.set_text(s, 0.0, flags=flags)\n",
            "/usr/local/lib/python3.7/dist-packages/matplotlib/backends/backend_agg.py:214: RuntimeWarning: Glyph 47564 missing from current font.\n",
            "  font.set_text(s, 0.0, flags=flags)\n",
            "/usr/local/lib/python3.7/dist-packages/matplotlib/backends/backend_agg.py:214: RuntimeWarning: Glyph 44608 missing from current font.\n",
            "  font.set_text(s, 0.0, flags=flags)\n",
            "/usr/local/lib/python3.7/dist-packages/matplotlib/backends/backend_agg.py:214: RuntimeWarning: Glyph 54252 missing from current font.\n",
            "  font.set_text(s, 0.0, flags=flags)\n",
            "/usr/local/lib/python3.7/dist-packages/matplotlib/backends/backend_agg.py:214: RuntimeWarning: Glyph 51473 missing from current font.\n",
            "  font.set_text(s, 0.0, flags=flags)\n",
            "/usr/local/lib/python3.7/dist-packages/matplotlib/backends/backend_agg.py:214: RuntimeWarning: Glyph 50896 missing from current font.\n",
            "  font.set_text(s, 0.0, flags=flags)\n",
            "/usr/local/lib/python3.7/dist-packages/matplotlib/backends/backend_agg.py:214: RuntimeWarning: Glyph 51204 missing from current font.\n",
            "  font.set_text(s, 0.0, flags=flags)\n",
            "/usr/local/lib/python3.7/dist-packages/matplotlib/backends/backend_agg.py:214: RuntimeWarning: Glyph 46972 missing from current font.\n",
            "  font.set_text(s, 0.0, flags=flags)\n",
            "/usr/local/lib/python3.7/dist-packages/matplotlib/backends/backend_agg.py:214: RuntimeWarning: Glyph 50756 missing from current font.\n",
            "  font.set_text(s, 0.0, flags=flags)\n",
            "/usr/local/lib/python3.7/dist-packages/matplotlib/backends/backend_agg.py:214: RuntimeWarning: Glyph 47532 missing from current font.\n",
            "  font.set_text(s, 0.0, flags=flags)\n",
            "/usr/local/lib/python3.7/dist-packages/matplotlib/backends/backend_agg.py:214: RuntimeWarning: Glyph 51652 missing from current font.\n",
            "  font.set_text(s, 0.0, flags=flags)\n",
            "/usr/local/lib/python3.7/dist-packages/matplotlib/backends/backend_agg.py:214: RuntimeWarning: Glyph 54616 missing from current font.\n",
            "  font.set_text(s, 0.0, flags=flags)\n",
            "/usr/local/lib/python3.7/dist-packages/matplotlib/backends/backend_agg.py:214: RuntimeWarning: Glyph 54217 missing from current font.\n",
            "  font.set_text(s, 0.0, flags=flags)\n",
            "/usr/local/lib/python3.7/dist-packages/matplotlib/backends/backend_agg.py:183: RuntimeWarning: Glyph 49436 missing from current font.\n",
            "  font.set_text(s, 0, flags=flags)\n",
            "/usr/local/lib/python3.7/dist-packages/matplotlib/backends/backend_agg.py:183: RuntimeWarning: Glyph 50872 missing from current font.\n",
            "  font.set_text(s, 0, flags=flags)\n",
            "/usr/local/lib/python3.7/dist-packages/matplotlib/backends/backend_agg.py:183: RuntimeWarning: Glyph 53945 missing from current font.\n",
            "  font.set_text(s, 0, flags=flags)\n",
            "/usr/local/lib/python3.7/dist-packages/matplotlib/backends/backend_agg.py:183: RuntimeWarning: Glyph 48324 missing from current font.\n",
            "  font.set_text(s, 0, flags=flags)\n",
            "/usr/local/lib/python3.7/dist-packages/matplotlib/backends/backend_agg.py:183: RuntimeWarning: Glyph 49884 missing from current font.\n",
            "  font.set_text(s, 0, flags=flags)\n",
            "/usr/local/lib/python3.7/dist-packages/matplotlib/backends/backend_agg.py:183: RuntimeWarning: Glyph 44053 missing from current font.\n",
            "  font.set_text(s, 0, flags=flags)\n",
            "/usr/local/lib/python3.7/dist-packages/matplotlib/backends/backend_agg.py:183: RuntimeWarning: Glyph 45224 missing from current font.\n",
            "  font.set_text(s, 0, flags=flags)\n",
            "/usr/local/lib/python3.7/dist-packages/matplotlib/backends/backend_agg.py:183: RuntimeWarning: Glyph 44396 missing from current font.\n",
            "  font.set_text(s, 0, flags=flags)\n",
            "/usr/local/lib/python3.7/dist-packages/matplotlib/backends/backend_agg.py:183: RuntimeWarning: Glyph 44221 missing from current font.\n",
            "  font.set_text(s, 0, flags=flags)\n",
            "/usr/local/lib/python3.7/dist-packages/matplotlib/backends/backend_agg.py:183: RuntimeWarning: Glyph 44592 missing from current font.\n",
            "  font.set_text(s, 0, flags=flags)\n",
            "/usr/local/lib/python3.7/dist-packages/matplotlib/backends/backend_agg.py:183: RuntimeWarning: Glyph 46020 missing from current font.\n",
            "  font.set_text(s, 0, flags=flags)\n",
            "/usr/local/lib/python3.7/dist-packages/matplotlib/backends/backend_agg.py:183: RuntimeWarning: Glyph 49457 missing from current font.\n",
            "  font.set_text(s, 0, flags=flags)\n",
            "/usr/local/lib/python3.7/dist-packages/matplotlib/backends/backend_agg.py:183: RuntimeWarning: Glyph 48516 missing from current font.\n",
            "  font.set_text(s, 0, flags=flags)\n",
            "/usr/local/lib/python3.7/dist-packages/matplotlib/backends/backend_agg.py:183: RuntimeWarning: Glyph 45817 missing from current font.\n",
            "  font.set_text(s, 0, flags=flags)\n",
            "/usr/local/lib/python3.7/dist-packages/matplotlib/backends/backend_agg.py:183: RuntimeWarning: Glyph 45824 missing from current font.\n",
            "  font.set_text(s, 0, flags=flags)\n",
            "/usr/local/lib/python3.7/dist-packages/matplotlib/backends/backend_agg.py:183: RuntimeWarning: Glyph 47928 missing from current font.\n",
            "  font.set_text(s, 0, flags=flags)\n",
            "/usr/local/lib/python3.7/dist-packages/matplotlib/backends/backend_agg.py:183: RuntimeWarning: Glyph 44256 missing from current font.\n",
            "  font.set_text(s, 0, flags=flags)\n",
            "/usr/local/lib/python3.7/dist-packages/matplotlib/backends/backend_agg.py:183: RuntimeWarning: Glyph 50577 missing from current font.\n",
            "  font.set_text(s, 0, flags=flags)\n",
            "/usr/local/lib/python3.7/dist-packages/matplotlib/backends/backend_agg.py:183: RuntimeWarning: Glyph 51068 missing from current font.\n",
            "  font.set_text(s, 0, flags=flags)\n",
            "/usr/local/lib/python3.7/dist-packages/matplotlib/backends/backend_agg.py:183: RuntimeWarning: Glyph 49328 missing from current font.\n",
            "  font.set_text(s, 0, flags=flags)\n",
            "/usr/local/lib/python3.7/dist-packages/matplotlib/backends/backend_agg.py:183: RuntimeWarning: Glyph 46041 missing from current font.\n",
            "  font.set_text(s, 0, flags=flags)\n",
            "/usr/local/lib/python3.7/dist-packages/matplotlib/backends/backend_agg.py:183: RuntimeWarning: Glyph 48513 missing from current font.\n",
            "  font.set_text(s, 0, flags=flags)\n",
            "/usr/local/lib/python3.7/dist-packages/matplotlib/backends/backend_agg.py:183: RuntimeWarning: Glyph 45909 missing from current font.\n",
            "  font.set_text(s, 0, flags=flags)\n",
            "/usr/local/lib/python3.7/dist-packages/matplotlib/backends/backend_agg.py:183: RuntimeWarning: Glyph 54868 missing from current font.\n",
            "  font.set_text(s, 0, flags=flags)\n",
            "/usr/local/lib/python3.7/dist-packages/matplotlib/backends/backend_agg.py:183: RuntimeWarning: Glyph 50504 missing from current font.\n",
            "  font.set_text(s, 0, flags=flags)\n",
            "/usr/local/lib/python3.7/dist-packages/matplotlib/backends/backend_agg.py:183: RuntimeWarning: Glyph 44305 missing from current font.\n",
            "  font.set_text(s, 0, flags=flags)\n",
            "/usr/local/lib/python3.7/dist-packages/matplotlib/backends/backend_agg.py:183: RuntimeWarning: Glyph 50669 missing from current font.\n",
            "  font.set_text(s, 0, flags=flags)\n",
            "/usr/local/lib/python3.7/dist-packages/matplotlib/backends/backend_agg.py:183: RuntimeWarning: Glyph 49688 missing from current font.\n",
            "  font.set_text(s, 0, flags=flags)\n",
            "/usr/local/lib/python3.7/dist-packages/matplotlib/backends/backend_agg.py:183: RuntimeWarning: Glyph 51221 missing from current font.\n",
            "  font.set_text(s, 0, flags=flags)\n",
            "/usr/local/lib/python3.7/dist-packages/matplotlib/backends/backend_agg.py:183: RuntimeWarning: Glyph 47749 missing from current font.\n",
            "  font.set_text(s, 0, flags=flags)\n",
            "/usr/local/lib/python3.7/dist-packages/matplotlib/backends/backend_agg.py:183: RuntimeWarning: Glyph 51032 missing from current font.\n",
            "  font.set_text(s, 0, flags=flags)\n",
            "/usr/local/lib/python3.7/dist-packages/matplotlib/backends/backend_agg.py:183: RuntimeWarning: Glyph 48512 missing from current font.\n",
            "  font.set_text(s, 0, flags=flags)\n",
            "/usr/local/lib/python3.7/dist-packages/matplotlib/backends/backend_agg.py:183: RuntimeWarning: Glyph 49464 missing from current font.\n",
            "  font.set_text(s, 0, flags=flags)\n",
            "/usr/local/lib/python3.7/dist-packages/matplotlib/backends/backend_agg.py:183: RuntimeWarning: Glyph 51333 missing from current font.\n",
            "  font.set_text(s, 0, flags=flags)\n",
            "/usr/local/lib/python3.7/dist-packages/matplotlib/backends/backend_agg.py:183: RuntimeWarning: Glyph 51088 missing from current font.\n",
            "  font.set_text(s, 0, flags=flags)\n",
            "/usr/local/lib/python3.7/dist-packages/matplotlib/backends/backend_agg.py:183: RuntimeWarning: Glyph 52824 missing from current font.\n",
            "  font.set_text(s, 0, flags=flags)\n",
            "/usr/local/lib/python3.7/dist-packages/matplotlib/backends/backend_agg.py:183: RuntimeWarning: Glyph 51452 missing from current font.\n",
            "  font.set_text(s, 0, flags=flags)\n",
            "/usr/local/lib/python3.7/dist-packages/matplotlib/backends/backend_agg.py:183: RuntimeWarning: Glyph 44400 missing from current font.\n",
            "  font.set_text(s, 0, flags=flags)\n",
            "/usr/local/lib/python3.7/dist-packages/matplotlib/backends/backend_agg.py:183: RuntimeWarning: Glyph 47564 missing from current font.\n",
            "  font.set_text(s, 0, flags=flags)\n",
            "/usr/local/lib/python3.7/dist-packages/matplotlib/backends/backend_agg.py:183: RuntimeWarning: Glyph 44608 missing from current font.\n",
            "  font.set_text(s, 0, flags=flags)\n",
            "/usr/local/lib/python3.7/dist-packages/matplotlib/backends/backend_agg.py:183: RuntimeWarning: Glyph 54252 missing from current font.\n",
            "  font.set_text(s, 0, flags=flags)\n",
            "/usr/local/lib/python3.7/dist-packages/matplotlib/backends/backend_agg.py:183: RuntimeWarning: Glyph 51473 missing from current font.\n",
            "  font.set_text(s, 0, flags=flags)\n",
            "/usr/local/lib/python3.7/dist-packages/matplotlib/backends/backend_agg.py:183: RuntimeWarning: Glyph 50896 missing from current font.\n",
            "  font.set_text(s, 0, flags=flags)\n",
            "/usr/local/lib/python3.7/dist-packages/matplotlib/backends/backend_agg.py:183: RuntimeWarning: Glyph 51204 missing from current font.\n",
            "  font.set_text(s, 0, flags=flags)\n",
            "/usr/local/lib/python3.7/dist-packages/matplotlib/backends/backend_agg.py:183: RuntimeWarning: Glyph 46972 missing from current font.\n",
            "  font.set_text(s, 0, flags=flags)\n",
            "/usr/local/lib/python3.7/dist-packages/matplotlib/backends/backend_agg.py:183: RuntimeWarning: Glyph 50756 missing from current font.\n",
            "  font.set_text(s, 0, flags=flags)\n",
            "/usr/local/lib/python3.7/dist-packages/matplotlib/backends/backend_agg.py:183: RuntimeWarning: Glyph 47532 missing from current font.\n",
            "  font.set_text(s, 0, flags=flags)\n",
            "/usr/local/lib/python3.7/dist-packages/matplotlib/backends/backend_agg.py:183: RuntimeWarning: Glyph 51652 missing from current font.\n",
            "  font.set_text(s, 0, flags=flags)\n",
            "/usr/local/lib/python3.7/dist-packages/matplotlib/backends/backend_agg.py:183: RuntimeWarning: Glyph 54616 missing from current font.\n",
            "  font.set_text(s, 0, flags=flags)\n",
            "/usr/local/lib/python3.7/dist-packages/matplotlib/backends/backend_agg.py:183: RuntimeWarning: Glyph 54217 missing from current font.\n",
            "  font.set_text(s, 0, flags=flags)\n"
          ]
        },
        {
          "output_type": "display_data",
          "data": {
            "image/png": "[encoded data removed]",
            "text/plain": [
              "<Figure size 2160x720 with 1 Axes>"
            ]
          },
          "metadata": {
            "needs_background": "light"
          }
        }
      ]
    },
    {
      "cell_type": "code",
      "source": [
        "# 반납 시간 - 예약 시작 시간\n",
        "data['reservation_start_at'] = pd.to_datetime(data['reservation_start_at'])\n",
        "data['reservation_return_at'] = pd.to_datetime(data['reservation_return_at'])\n",
        "data['이용시간']=((data['reservation_return_at'] - data['reservation_start_at']))"
      ],
      "metadata": {
        "id": "Ei-TM1wX_hha"
      },
      "execution_count": 28,
      "outputs": []
    },
    {
      "cell_type": "code",
      "source": [
        "# 전체 이용자 중의 75%가 10시간 이내\n",
        "data['이용시간'].describe()"
      ],
      "metadata": {
        "colab": {
          "base_uri": "https://localhost:8080/"
        },
        "id": "cr8wvCEzqtA5",
        "outputId": "67f30d40-593a-42f0-8937-4b2bbb0b4c1f"
      },
      "execution_count": 29,
      "outputs": [
        {
          "output_type": "execute_result",
          "data": {
            "text/plain": [
              "count                       124755\n",
              "mean     0 days 09:49:59.687603703\n",
              "std      0 days 14:35:42.425974396\n",
              "min                0 days 00:13:10\n",
              "25%                0 days 03:20:46\n",
              "50%                0 days 05:20:49\n",
              "75%                0 days 10:28:12\n",
              "max               15 days 00:08:22\n",
              "Name: 이용시간, dtype: object"
            ]
          },
          "metadata": {},
          "execution_count": 29
        }
      ]
    },
    {
      "cell_type": "code",
      "source": [
        "# 예약  시작  시간 - 회원가입  날짜\n",
        "data['member_created_date'] = pd.to_datetime(data['member_created_date'])\n",
        "data['가입후_이용기간']=((data['reservation_start_at'] - data['member_created_date']))"
      ],
      "metadata": {
        "id": "YOf6VNx8TbkD"
      },
      "execution_count": 30,
      "outputs": []
    },
    {
      "cell_type": "code",
      "source": [
        "# 이용자의 절반이 가입후 2년 정도 사용\n",
        "data['가입후_이용기간'].describe()"
      ],
      "metadata": {
        "colab": {
          "base_uri": "https://localhost:8080/"
        },
        "id": "y4FCijeZo1ik",
        "outputId": "e674476d-e201-49ff-a943-530136be3716"
      },
      "execution_count": 31,
      "outputs": [
        {
          "output_type": "execute_result",
          "data": {
            "text/plain": [
              "count                         124755\n",
              "mean     838 days 12:58:13.591920080\n",
              "std      594 days 01:17:52.240760704\n",
              "min                  0 days 00:30:00\n",
              "25%                312 days 20:15:00\n",
              "50%                787 days 10:20:00\n",
              "75%               1308 days 13:30:00\n",
              "max               2814 days 13:10:00\n",
              "Name: 가입후_이용기간, dtype: object"
            ]
          },
          "metadata": {},
          "execution_count": 31
        }
      ]
    },
    {
      "cell_type": "code",
      "source": [
        "# 이용자별 주행거리\n",
        "# 평균 5000km 사용, 이용자의 75%가 6545km 이용\n",
        "# id당 누적 그래프 시각화 가능하나, 큰 의미는 없어 보임\n",
        "data['member_total_distance'].describe()"
      ],
      "metadata": {
        "colab": {
          "base_uri": "https://localhost:8080/"
        },
        "id": "P86evMzCtLcu",
        "outputId": "ba0d4d7b-fbc1-41dd-b977-a2844527bc29"
      },
      "execution_count": 32,
      "outputs": [
        {
          "output_type": "execute_result",
          "data": {
            "text/plain": [
              "count    124755.000000\n",
              "mean       5004.255348\n",
              "std        7084.237631\n",
              "min           0.000000\n",
              "25%         827.000000\n",
              "50%        2534.000000\n",
              "75%        6545.000000\n",
              "max      121163.000000\n",
              "Name: member_total_distance, dtype: float64"
            ]
          },
          "metadata": {},
          "execution_count": 32
        }
      ]
    },
    {
      "cell_type": "code",
      "source": [
        "# 멤버당 이용 횟수\n",
        "usage_frequency_per_member = data['member_id_encrypted'].value_counts()\n",
        "print(usage_frequency_per_member)\n",
        "#data['usage_frequency_per_member'] = usage_frequency_per_member"
      ],
      "metadata": {
        "colab": {
          "base_uri": "https://localhost:8080/"
        },
        "id": "69sTaPQ2zoY2",
        "outputId": "59e19092-96db-48fa-b28f-c019b2c6f3c8"
      },
      "execution_count": 33,
      "outputs": [
        {
          "output_type": "stream",
          "name": "stdout",
          "text": [
            "MRo1KLaA/jViPznvtnLB/tHLuvX3XjHsk2dlDkiPfZM=    95\n",
            "+ofceBEd7+aPZE6tmux2xNxppZMqRx4rf8Uf88sVLgI=    79\n",
            "OuIBb1HQX5uBh/9gCv5q/ToOjLMh/7E1/UBXEu5rvrE=    79\n",
            "MGKifPpgs6UKyZhi9LEqHKO9MckfSlKq1PPQF+QVHko=    63\n",
            "xk4mrfLC8oDn8WKckTAngD4ZvbWgatwpUuk5D7bxAHo=    60\n",
            "                                                ..\n",
            "rW+PIQVmImIs0wWTyHQKKiz6/OTookcyH+mwLwqJX7k=     1\n",
            "QsUzVXXR8bY09w60mXSKzXQ4PnG2SybWz0n8ptvy0xI=     1\n",
            "6yRse1v1xFVQ9+Dt8s5fLEaMI0lz8ZlSapfyRfjZBlw=     1\n",
            "4QzhtEJz+NTHycIbt+aZC0cT0+g94n2tFOoyPeT0V+Y=     1\n",
            "QKEMihBrcs8ppux5NGSyvK6tvRGHhT2sf6nAk2iZcFY=     1\n",
            "Name: member_id_encrypted, Length: 59907, dtype: int64\n"
          ]
        }
      ]
    },
    {
      "cell_type": "code",
      "source": [
        "#딕셔너리화 해서 파이 차트로 구현\n",
        "usage_frequency_dict = dict(usage_frequency_per_member)\n",
        "\n",
        "# 새로운 딕셔너리 생성 key : 횟수, value : 중복된 수\n",
        "count = {}\n",
        "new_key = list(usage_frequency_dict.values())\n",
        "\n",
        "for i in new_key:\n",
        "    try : count[i] += 1\n",
        "    except : count[i] = 1\n",
        "\n",
        "#print(count)\n",
        "plt.figure(figsize=(15,15))\n",
        "plt.pie(count.values(), labels=count.keys())"
      ],
      "metadata": {
        "id": "qWAlvsmnAxcB",
        "outputId": "2c4e78c8-b933-4ea9-b250-17d455b7328c",
        "colab": {
          "base_uri": "https://localhost:8080/",
          "height": 1000
        }
      },
      "execution_count": 49,
      "outputs": [
        {
          "output_type": "execute_result",
          "data": {
            "text/plain": [
              "([<matplotlib.patches.Wedge at 0x7ff56f97c710>,\n",
              "  <matplotlib.patches.Wedge at 0x7ff56f97cc10>,\n",
              "  <matplotlib.patches.Wedge at 0x7ff56f9832d0>,\n",
              "  <matplotlib.patches.Wedge at 0x7ff56f983910>,\n",
              "  <matplotlib.patches.Wedge at 0x7ff56f98d2d0>,\n",
              "  <matplotlib.patches.Wedge at 0x7ff56f98d990>,\n",
              "  <matplotlib.patches.Wedge at 0x7ff56f98dd50>,\n",
              "  <matplotlib.patches.Wedge at 0x7ff56f9993d0>,\n",
              "  <matplotlib.patches.Wedge at 0x7ff56f983f50>,\n",
              "  <matplotlib.patches.Wedge at 0x7ff56f9999d0>,\n",
              "  <matplotlib.patches.Wedge at 0x7ff56f97c6d0>,\n",
              "  <matplotlib.patches.Wedge at 0x7ff56f9a4b90>,\n",
              "  <matplotlib.patches.Wedge at 0x7ff56f9ae210>,\n",
              "  <matplotlib.patches.Wedge at 0x7ff56f9ae850>,\n",
              "  <matplotlib.patches.Wedge at 0x7ff56f9aee90>,\n",
              "  <matplotlib.patches.Wedge at 0x7ff56f938510>,\n",
              "  <matplotlib.patches.Wedge at 0x7ff56f938b50>,\n",
              "  <matplotlib.patches.Wedge at 0x7ff56f9441d0>,\n",
              "  <matplotlib.patches.Wedge at 0x7ff56f944810>,\n",
              "  <matplotlib.patches.Wedge at 0x7ff56f944e50>,\n",
              "  <matplotlib.patches.Wedge at 0x7ff56f94e4d0>,\n",
              "  <matplotlib.patches.Wedge at 0x7ff56f94eb10>,\n",
              "  <matplotlib.patches.Wedge at 0x7ff56f957190>,\n",
              "  <matplotlib.patches.Wedge at 0x7ff56f9577d0>,\n",
              "  <matplotlib.patches.Wedge at 0x7ff56f957e10>,\n",
              "  <matplotlib.patches.Wedge at 0x7ff56f962490>,\n",
              "  <matplotlib.patches.Wedge at 0x7ff56f962ad0>,\n",
              "  <matplotlib.patches.Wedge at 0x7ff56f96e150>,\n",
              "  <matplotlib.patches.Wedge at 0x7ff56f96e790>,\n",
              "  <matplotlib.patches.Wedge at 0x7ff56f96edd0>,\n",
              "  <matplotlib.patches.Wedge at 0x7ff56f8f8450>,\n",
              "  <matplotlib.patches.Wedge at 0x7ff56f8f8a90>,\n",
              "  <matplotlib.patches.Wedge at 0x7ff56f903110>,\n",
              "  <matplotlib.patches.Wedge at 0x7ff56f903750>,\n",
              "  <matplotlib.patches.Wedge at 0x7ff56f903d90>,\n",
              "  <matplotlib.patches.Wedge at 0x7ff56f90c410>,\n",
              "  <matplotlib.patches.Wedge at 0x7ff56f90ca50>,\n",
              "  <matplotlib.patches.Wedge at 0x7ff56f9180d0>,\n",
              "  <matplotlib.patches.Wedge at 0x7ff56f918710>,\n",
              "  <matplotlib.patches.Wedge at 0x7ff56f918d50>,\n",
              "  <matplotlib.patches.Wedge at 0x7ff56f9213d0>,\n",
              "  <matplotlib.patches.Wedge at 0x7ff56f921a10>,\n",
              "  <matplotlib.patches.Wedge at 0x7ff56f92c090>,\n",
              "  <matplotlib.patches.Wedge at 0x7ff56f92c6d0>,\n",
              "  <matplotlib.patches.Wedge at 0x7ff56f92cd10>,\n",
              "  <matplotlib.patches.Wedge at 0x7ff56f8b7390>,\n",
              "  <matplotlib.patches.Wedge at 0x7ff56f8b79d0>,\n",
              "  <matplotlib.patches.Wedge at 0x7ff56f8c1050>,\n",
              "  <matplotlib.patches.Wedge at 0x7ff56f8c1690>,\n",
              "  <matplotlib.patches.Wedge at 0x7ff56f8c1cd0>,\n",
              "  <matplotlib.patches.Wedge at 0x7ff56f8ce350>,\n",
              "  <matplotlib.patches.Wedge at 0x7ff56f8ce990>,\n",
              "  <matplotlib.patches.Wedge at 0x7ff56f8cefd0>,\n",
              "  <matplotlib.patches.Wedge at 0x7ff56f8d8650>,\n",
              "  <matplotlib.patches.Wedge at 0x7ff56f8d8c90>,\n",
              "  <matplotlib.patches.Wedge at 0x7ff56f8e3310>],\n",
              " [Text(1.0999999984874587, 5.768527765406171e-05, '95'),\n",
              "  Text(1.0999999757993364, 0.00023074110902985819, '79'),\n",
              "  Text(1.0999999258854682, 0.0004037969346946556, '63'),\n",
              "  Text(1.0999998774841422, 0.0005191674798498919, '60'),\n",
              "  Text(1.0999998169824858, 0.0006345380192941293, '59'),\n",
              "  Text(1.0999997443804994, 0.000749908551758257, '57'),\n",
              "  Text(1.099999659678184, 0.0008652790759731644, '52'),\n",
              "  Text(1.0999994539725764, 0.0010960200882929034, '50'),\n",
              "  Text(1.099999128776237, 0.0013844462862561797, '49'),\n",
              "  Text(1.0999988973574615, 0.001557501964386859, '48'),\n",
              "  Text(1.0999986387129665, 0.0017305576039683074, '47'),\n",
              "  Text(1.0999983528427586, 0.001903613200717281, '46'),\n",
              "  Text(1.0999981471372275, 0.0020189835726389283, '45'),\n",
              "  Text(1.0999979293313848, 0.002134353922351147, '43'),\n",
              "  Text(1.0999973318779317, 0.0024227796911369197, '42'),\n",
              "  Text(1.0999965151062967, 0.0027688903920615386, '41'),\n",
              "  Text(1.0999960658819832, 0.0029419456418675917, '40'),\n",
              "  Text(1.0999952566733575, 0.0032303708942843885, '39'),\n",
              "  Text(1.0999939967283796, 0.0036341658638220247, '38'),\n",
              "  Text(1.0999923752873133, 0.004095645220793406, '37'),\n",
              "  Text(1.0999905602422926, 0.0045571238569115085, '36'),\n",
              "  Text(1.0999885515936372, 0.0050186016909538715, '35'),\n",
              "  Text(1.0999866352108356, 0.005422394078651072, '34'),\n",
              "  Text(1.0999836403922214, 0.005999239074766307, '33'),\n",
              "  Text(1.0999778549547408, 0.006979871715696496, '32'),\n",
              "  Text(1.0999716112311644, 0.007902815037460084, '31'),\n",
              "  Text(1.0999650544267239, 0.008768069343620817, '30'),\n",
              "  Text(1.0999547314566418, 0.009979416122575498, '29'),\n",
              "  Text(1.0999430744800216, 0.011190750798662696, '28'),\n",
              "  Text(1.0999281187617616, 0.012575116588423873, '27'),\n",
              "  Text(1.0999054675117153, 0.014420906276491324, '26'),\n",
              "  Text(1.0998831068151789, 0.01603593909286916, '25'),\n",
              "  Text(1.0998537087185143, 0.017939326022173144, '24'),\n",
              "  Text(1.0998050678994347, 0.02070779135301527, '23'),\n",
              "  Text(1.0997445098722818, 0.023706813488422254, '22'),\n",
              "  Text(1.0996771728888113, 0.02664799105507874, '21'),\n",
              "  Text(1.0995735498514363, 0.030626923892404758, '20'),\n",
              "  Text(1.0994223746712508, 0.03564326124568463, '19'),\n",
              "  Text(1.0992397617238816, 0.04088943928722786, '18'),\n",
              "  Text(1.0989781581621085, 0.04740261472344925, '17'),\n",
              "  Text(1.0986380847520456, 0.05472073402612025, '16'),\n",
              "  Text(1.0982100237638581, 0.06272753545761746, '15'),\n",
              "  Text(1.0975111611906239, 0.07395438500865742, '14'),\n",
              "  Text(1.0964796602429612, 0.08793380847819919, '13'),\n",
              "  Text(1.0950375417281781, 0.10436849240028645, '12'),\n",
              "  Text(1.0928459206272996, 0.1252509232232242, '11'),\n",
              "  Text(1.0895147843500264, 0.15151744019325153, '10'),\n",
              "  Text(1.0841405925539058, 0.18611602718967013, '9'),\n",
              "  Text(1.0752349950988138, 0.23209848193138644, '8'),\n",
              "  Text(1.05998823121003, 0.29398120636570013, '7'),\n",
              "  Text(1.0323203460465729, 0.37988775070839564, '6'),\n",
              "  Text(0.9799251013756322, 0.49974673154904886, '5'),\n",
              "  Text(0.8719375137880211, 0.670615368187432, '4'),\n",
              "  Text(0.6165811790182435, 0.9109487634771085, '3'),\n",
              "  Text(-0.0965848230705571, 1.0957515101301158, '2'),\n",
              "  Text(-0.530655740599695, -0.9635374849836353, '1')])"
            ]
          },
          "metadata": {},
          "execution_count": 49
        },
        {
          "output_type": "display_data",
          "data": {
            "image/png": "[encoded data removed]",
            "text/plain": [
              "<Figure size 1080x1080 with 1 Axes>"
            ]
          },
          "metadata": {}
        }
      ]
    },
    {
      "cell_type": "markdown",
      "source": [
        "- 예약 주기\n",
        "- 차종 구분\n",
        "- 사용 시간의 낮밤비율\n",
        "- trip log 추출"
      ],
      "metadata": {
        "id": "GmAiIBt3Mhhj"
      }
    },
    {
      "cell_type": "markdown",
      "source": [
        "# 2. Trip 정보"
      ],
      "metadata": {
        "id": "nDCgBl3AsIoI"
      }
    },
    {
      "cell_type": "code",
      "source": [
        "df = data[['region', 'car_name', 'zone_type1', 'zone_type2','zone_type3','trip','이용시간']]\n",
        "df.tail()"
      ],
      "metadata": {
        "colab": {
          "base_uri": "https://localhost:8080/",
          "height": 337
        },
        "id": "eLY5SvocsTz9",
        "outputId": "3fd0fa38-1d27-4175-d60e-38131edff8ad"
      },
      "execution_count": null,
      "outputs": [
        {
          "output_type": "execute_result",
          "data": {
            "text/html": [
              "\n",
              "  <div id=\"df-a289c7d3-a5be-4eec-985c-8beaaa95f641\">\n",
              "    <div class=\"colab-df-container\">\n",
              "      <div>\n",
              "<style scoped>\n",
              "    .dataframe tbody tr th:only-of-type {\n",
              "        vertical-align: middle;\n",
              "    }\n",
              "\n",
              "    .dataframe tbody tr th {\n",
              "        vertical-align: top;\n",
              "    }\n",
              "\n",
              "    .dataframe thead th {\n",
              "        text-align: right;\n",
              "    }\n",
              "</style>\n",
              "<table border=\"1\" class=\"dataframe\">\n",
              "  <thead>\n",
              "    <tr style=\"text-align: right;\">\n",
              "      <th></th>\n",
              "      <th>region</th>\n",
              "      <th>car_name</th>\n",
              "      <th>zone_type1</th>\n",
              "      <th>zone_type2</th>\n",
              "      <th>zone_type3</th>\n",
              "      <th>trip</th>\n",
              "      <th>이용시간</th>\n",
              "    </tr>\n",
              "  </thead>\n",
              "  <tbody>\n",
              "    <tr>\n",
              "      <th>124750</th>\n",
              "      <td>서울특별시 강서구</td>\n",
              "      <td>[쏘카세이브] 넥스트스파크</td>\n",
              "      <td>LIVING_VILLA</td>\n",
              "      <td>LIVING_ETC</td>\n",
              "      <td>ETC</td>\n",
              "      <td>서울특별시 강서구,서울특별시 구로구,서울특별시 금천구,경기도 하남시</td>\n",
              "      <td>0 days 05:52:10</td>\n",
              "    </tr>\n",
              "    <tr>\n",
              "      <th>124751</th>\n",
              "      <td>서울특별시 동대문구</td>\n",
              "      <td>더뉴레이</td>\n",
              "      <td>LIVING_ETC</td>\n",
              "      <td>TRANSFER_SUBWAY</td>\n",
              "      <td>COMMERCIAL_HOTSPOT</td>\n",
              "      <td>서울특별시 중구</td>\n",
              "      <td>0 days 09:59:04</td>\n",
              "    </tr>\n",
              "    <tr>\n",
              "      <th>124752</th>\n",
              "      <td>서울특별시 강남구</td>\n",
              "      <td>스토닉</td>\n",
              "      <td>LIVING_VILLA</td>\n",
              "      <td>TRANSFER_SUBWAY</td>\n",
              "      <td>COMMERCIAL_HOTSPOT</td>\n",
              "      <td>서울특별시 강남구,서울특별시 강남구,서울특별시 강남구,경기도 양주시,경기도 파주시,...</td>\n",
              "      <td>0 days 10:49:23</td>\n",
              "    </tr>\n",
              "    <tr>\n",
              "      <th>124753</th>\n",
              "      <td>경기도 고양시 일산서구</td>\n",
              "      <td>올뉴모닝</td>\n",
              "      <td>LIVING_APT</td>\n",
              "      <td>TRANSFER_SUBWAY</td>\n",
              "      <td>COMMERCIAL_HOTSPOT</td>\n",
              "      <td>경기도 고양시 일산서구,경기도 파주시,경기도 파주시,경기도 안양시 동안구,경기도 안...</td>\n",
              "      <td>0 days 22:14:40</td>\n",
              "    </tr>\n",
              "    <tr>\n",
              "      <th>124754</th>\n",
              "      <td>서울특별시 강남구</td>\n",
              "      <td>코나</td>\n",
              "      <td>LIVING_APT</td>\n",
              "      <td>TRANSFER_BUS</td>\n",
              "      <td>ETC</td>\n",
              "      <td>서울특별시 강남구,강원도 강릉시,강원도 속초시,강원도 양양군,강원도 홍천군,강원도 ...</td>\n",
              "      <td>1 days 15:01:09</td>\n",
              "    </tr>\n",
              "  </tbody>\n",
              "</table>\n",
              "</div>\n",
              "      <button class=\"colab-df-convert\" onclick=\"convertToInteractive('df-a289c7d3-a5be-4eec-985c-8beaaa95f641')\"\n",
              "              title=\"Convert this dataframe to an interactive table.\"\n",
              "              style=\"display:none;\">\n",
              "        \n",
              "  <svg xmlns=\"http://www.w3.org/2000/svg\" height=\"24px\"viewBox=\"0 0 24 24\"\n",
              "       width=\"24px\">\n",
              "    <path d=\"M0 0h24v24H0V0z\" fill=\"none\"/>\n",
              "    <path d=\"M18.56 5.44l.94 2.06.94-2.06 2.06-.94-2.06-.94-.94-2.06-.94 2.06-2.06.94zm-11 1L8.5 8.5l.94-2.06 2.06-.94-2.06-.94L8.5 2.5l-.94 2.06-2.06.94zm10 10l.94 2.06.94-2.06 2.06-.94-2.06-.94-.94-2.06-.94 2.06-2.06.94z\"/><path d=\"M17.41 7.96l-1.37-1.37c-.4-.4-.92-.59-1.43-.59-.52 0-1.04.2-1.43.59L10.3 9.45l-7.72 7.72c-.78.78-.78 2.05 0 2.83L4 21.41c.39.39.9.59 1.41.59.51 0 1.02-.2 1.41-.59l7.78-7.78 2.81-2.81c.8-.78.8-2.07 0-2.86zM5.41 20L4 18.59l7.72-7.72 1.47 1.35L5.41 20z\"/>\n",
              "  </svg>\n",
              "      </button>\n",
              "      \n",
              "  <style>\n",
              "    .colab-df-container {\n",
              "      display:flex;\n",
              "      flex-wrap:wrap;\n",
              "      gap: 12px;\n",
              "    }\n",
              "\n",
              "    .colab-df-convert {\n",
              "      background-color: #E8F0FE;\n",
              "      border: none;\n",
              "      border-radius: 50%;\n",
              "      cursor: pointer;\n",
              "      display: none;\n",
              "      fill: #1967D2;\n",
              "      height: 32px;\n",
              "      padding: 0 0 0 0;\n",
              "      width: 32px;\n",
              "    }\n",
              "\n",
              "    .colab-df-convert:hover {\n",
              "      background-color: #E2EBFA;\n",
              "      box-shadow: 0px 1px 2px rgba(60, 64, 67, 0.3), 0px 1px 3px 1px rgba(60, 64, 67, 0.15);\n",
              "      fill: #174EA6;\n",
              "    }\n",
              "\n",
              "    [theme=dark] .colab-df-convert {\n",
              "      background-color: #3B4455;\n",
              "      fill: #D2E3FC;\n",
              "    }\n",
              "\n",
              "    [theme=dark] .colab-df-convert:hover {\n",
              "      background-color: #434B5C;\n",
              "      box-shadow: 0px 1px 3px 1px rgba(0, 0, 0, 0.15);\n",
              "      filter: drop-shadow(0px 1px 2px rgba(0, 0, 0, 0.3));\n",
              "      fill: #FFFFFF;\n",
              "    }\n",
              "  </style>\n",
              "\n",
              "      <script>\n",
              "        const buttonEl =\n",
              "          document.querySelector('#df-a289c7d3-a5be-4eec-985c-8beaaa95f641 button.colab-df-convert');\n",
              "        buttonEl.style.display =\n",
              "          google.colab.kernel.accessAllowed ? 'block' : 'none';\n",
              "\n",
              "        async function convertToInteractive(key) {\n",
              "          const element = document.querySelector('#df-a289c7d3-a5be-4eec-985c-8beaaa95f641');\n",
              "          const dataTable =\n",
              "            await google.colab.kernel.invokeFunction('convertToInteractive',\n",
              "                                                     [key], {});\n",
              "          if (!dataTable) return;\n",
              "\n",
              "          const docLinkHtml = 'Like what you see? Visit the ' +\n",
              "            '<a target=\"_blank\" href=https://colab.research.google.com/notebooks/data_table.ipynb>data table notebook</a>'\n",
              "            + ' to learn more about interactive tables.';\n",
              "          element.innerHTML = '';\n",
              "          dataTable['output_type'] = 'display_data';\n",
              "          await google.colab.output.renderOutput(dataTable, element);\n",
              "          const docLink = document.createElement('div');\n",
              "          docLink.innerHTML = docLinkHtml;\n",
              "          element.appendChild(docLink);\n",
              "        }\n",
              "      </script>\n",
              "    </div>\n",
              "  </div>\n",
              "  "
            ],
            "text/plain": [
              "              region  ...            이용시간\n",
              "124750     서울특별시 강서구  ... 0 days 05:52:10\n",
              "124751    서울특별시 동대문구  ... 0 days 09:59:04\n",
              "124752     서울특별시 강남구  ... 0 days 10:49:23\n",
              "124753  경기도 고양시 일산서구  ... 0 days 22:14:40\n",
              "124754     서울특별시 강남구  ... 1 days 15:01:09\n",
              "\n",
              "[5 rows x 7 columns]"
            ]
          },
          "metadata": {},
          "execution_count": 166
        }
      ]
    },
    {
      "cell_type": "code",
      "source": [
        "car_rate = data['car_name'].value_counts(normalize=True)\n",
        "car_rate.plot.bar(rot=0, figsize=(30,10))\n",
        "#print(car_rate)"
      ],
      "metadata": {
        "id": "NLYHJl7AYEox",
        "outputId": "25ef7bbe-269e-4bb2-d986-5b8a27139564",
        "colab": {
          "base_uri": "https://localhost:8080/",
          "height": 1000
        }
      },
      "execution_count": 50,
      "outputs": [
        {
          "output_type": "execute_result",
          "data": {
            "text/plain": [
              "<matplotlib.axes._subplots.AxesSubplot at 0x7ff572295550>"
            ]
          },
          "metadata": {},
          "execution_count": 50
        },
        {
          "output_type": "stream",
          "name": "stderr",
          "text": [
            "/usr/local/lib/python3.7/dist-packages/matplotlib/backends/backend_agg.py:214: RuntimeWarning: Glyph 53076 missing from current font.\n",
            "  font.set_text(s, 0.0, flags=flags)\n",
            "/usr/local/lib/python3.7/dist-packages/matplotlib/backends/backend_agg.py:214: RuntimeWarning: Glyph 45208 missing from current font.\n",
            "  font.set_text(s, 0.0, flags=flags)\n",
            "/usr/local/lib/python3.7/dist-packages/matplotlib/backends/backend_agg.py:214: RuntimeWarning: Glyph 45908 missing from current font.\n",
            "  font.set_text(s, 0.0, flags=flags)\n",
            "/usr/local/lib/python3.7/dist-packages/matplotlib/backends/backend_agg.py:214: RuntimeWarning: Glyph 45684 missing from current font.\n",
            "  font.set_text(s, 0.0, flags=flags)\n",
            "/usr/local/lib/python3.7/dist-packages/matplotlib/backends/backend_agg.py:214: RuntimeWarning: Glyph 47112 missing from current font.\n",
            "  font.set_text(s, 0.0, flags=flags)\n",
            "/usr/local/lib/python3.7/dist-packages/matplotlib/backends/backend_agg.py:214: RuntimeWarning: Glyph 51060 missing from current font.\n",
            "  font.set_text(s, 0.0, flags=flags)\n",
            "/usr/local/lib/python3.7/dist-packages/matplotlib/backends/backend_agg.py:214: RuntimeWarning: Glyph 50500 missing from current font.\n",
            "  font.set_text(s, 0.0, flags=flags)\n",
            "/usr/local/lib/python3.7/dist-packages/matplotlib/backends/backend_agg.py:214: RuntimeWarning: Glyph 48152 missing from current font.\n",
            "  font.set_text(s, 0.0, flags=flags)\n",
            "/usr/local/lib/python3.7/dist-packages/matplotlib/backends/backend_agg.py:214: RuntimeWarning: Glyph 46524 missing from current font.\n",
            "  font.set_text(s, 0.0, flags=flags)\n",
            "/usr/local/lib/python3.7/dist-packages/matplotlib/backends/backend_agg.py:214: RuntimeWarning: Glyph 53804 missing from current font.\n",
            "  font.set_text(s, 0.0, flags=flags)\n",
            "/usr/local/lib/python3.7/dist-packages/matplotlib/backends/backend_agg.py:214: RuntimeWarning: Glyph 49916 missing from current font.\n",
            "  font.set_text(s, 0.0, flags=flags)\n",
            "/usr/local/lib/python3.7/dist-packages/matplotlib/backends/backend_agg.py:214: RuntimeWarning: Glyph 44221 missing from current font.\n",
            "  font.set_text(s, 0.0, flags=flags)\n",
            "/usr/local/lib/python3.7/dist-packages/matplotlib/backends/backend_agg.py:214: RuntimeWarning: Glyph 50976 missing from current font.\n",
            "  font.set_text(s, 0.0, flags=flags)\n",
            "/usr/local/lib/python3.7/dist-packages/matplotlib/backends/backend_agg.py:214: RuntimeWarning: Glyph 50732 missing from current font.\n",
            "  font.set_text(s, 0.0, flags=flags)\n",
            "/usr/local/lib/python3.7/dist-packages/matplotlib/backends/backend_agg.py:214: RuntimeWarning: Glyph 47784 missing from current font.\n",
            "  font.set_text(s, 0.0, flags=flags)\n",
            "/usr/local/lib/python3.7/dist-packages/matplotlib/backends/backend_agg.py:214: RuntimeWarning: Glyph 45789 missing from current font.\n",
            "  font.set_text(s, 0.0, flags=flags)\n",
            "/usr/local/lib/python3.7/dist-packages/matplotlib/backends/backend_agg.py:214: RuntimeWarning: Glyph 50136 missing from current font.\n",
            "  font.set_text(s, 0.0, flags=flags)\n",
            "/usr/local/lib/python3.7/dist-packages/matplotlib/backends/backend_agg.py:214: RuntimeWarning: Glyph 52852 missing from current font.\n",
            "  font.set_text(s, 0.0, flags=flags)\n",
            "/usr/local/lib/python3.7/dist-packages/matplotlib/backends/backend_agg.py:214: RuntimeWarning: Glyph 49464 missing from current font.\n",
            "  font.set_text(s, 0.0, flags=flags)\n",
            "/usr/local/lib/python3.7/dist-packages/matplotlib/backends/backend_agg.py:214: RuntimeWarning: Glyph 48652 missing from current font.\n",
            "  font.set_text(s, 0.0, flags=flags)\n",
            "/usr/local/lib/python3.7/dist-packages/matplotlib/backends/backend_agg.py:214: RuntimeWarning: Glyph 54000 missing from current font.\n",
            "  font.set_text(s, 0.0, flags=flags)\n",
            "/usr/local/lib/python3.7/dist-packages/matplotlib/backends/backend_agg.py:214: RuntimeWarning: Glyph 48380 missing from current font.\n",
            "  font.set_text(s, 0.0, flags=flags)\n",
            "/usr/local/lib/python3.7/dist-packages/matplotlib/backends/backend_agg.py:214: RuntimeWarning: Glyph 47532 missing from current font.\n",
            "  font.set_text(s, 0.0, flags=flags)\n",
            "/usr/local/lib/python3.7/dist-packages/matplotlib/backends/backend_agg.py:214: RuntimeWarning: Glyph 49828 missing from current font.\n",
            "  font.set_text(s, 0.0, flags=flags)\n",
            "/usr/local/lib/python3.7/dist-packages/matplotlib/backends/backend_agg.py:214: RuntimeWarning: Glyph 54252 missing from current font.\n",
            "  font.set_text(s, 0.0, flags=flags)\n",
            "/usr/local/lib/python3.7/dist-packages/matplotlib/backends/backend_agg.py:214: RuntimeWarning: Glyph 51648 missing from current font.\n",
            "  font.set_text(s, 0.0, flags=flags)\n",
            "/usr/local/lib/python3.7/dist-packages/matplotlib/backends/backend_agg.py:214: RuntimeWarning: Glyph 45349 missing from current font.\n",
            "  font.set_text(s, 0.0, flags=flags)\n",
            "/usr/local/lib/python3.7/dist-packages/matplotlib/backends/backend_agg.py:214: RuntimeWarning: Glyph 53944 missing from current font.\n",
            "  font.set_text(s, 0.0, flags=flags)\n",
            "/usr/local/lib/python3.7/dist-packages/matplotlib/backends/backend_agg.py:214: RuntimeWarning: Glyph 54028 missing from current font.\n",
            "  font.set_text(s, 0.0, flags=flags)\n",
            "/usr/local/lib/python3.7/dist-packages/matplotlib/backends/backend_agg.py:214: RuntimeWarning: Glyph 53356 missing from current font.\n",
            "  font.set_text(s, 0.0, flags=flags)\n",
            "/usr/local/lib/python3.7/dist-packages/matplotlib/backends/backend_agg.py:214: RuntimeWarning: Glyph 53664 missing from current font.\n",
            "  font.set_text(s, 0.0, flags=flags)\n",
            "/usr/local/lib/python3.7/dist-packages/matplotlib/backends/backend_agg.py:214: RuntimeWarning: Glyph 45769 missing from current font.\n",
            "  font.set_text(s, 0.0, flags=flags)\n",
            "/usr/local/lib/python3.7/dist-packages/matplotlib/backends/backend_agg.py:214: RuntimeWarning: Glyph 50724 missing from current font.\n",
            "  font.set_text(s, 0.0, flags=flags)\n",
            "/usr/local/lib/python3.7/dist-packages/matplotlib/backends/backend_agg.py:214: RuntimeWarning: Glyph 51228 missing from current font.\n",
            "  font.set_text(s, 0.0, flags=flags)\n",
            "/usr/local/lib/python3.7/dist-packages/matplotlib/backends/backend_agg.py:214: RuntimeWarning: Glyph 51452 missing from current font.\n",
            "  font.set_text(s, 0.0, flags=flags)\n",
            "/usr/local/lib/python3.7/dist-packages/matplotlib/backends/backend_agg.py:214: RuntimeWarning: Glyph 54532 missing from current font.\n",
            "  font.set_text(s, 0.0, flags=flags)\n",
            "/usr/local/lib/python3.7/dist-packages/matplotlib/backends/backend_agg.py:214: RuntimeWarning: Glyph 46972 missing from current font.\n",
            "  font.set_text(s, 0.0, flags=flags)\n",
            "/usr/local/lib/python3.7/dist-packages/matplotlib/backends/backend_agg.py:214: RuntimeWarning: Glyph 46300 missing from current font.\n",
            "  font.set_text(s, 0.0, flags=flags)\n",
            "/usr/local/lib/python3.7/dist-packages/matplotlib/backends/backend_agg.py:214: RuntimeWarning: Glyph 44536 missing from current font.\n",
            "  font.set_text(s, 0.0, flags=flags)\n",
            "/usr/local/lib/python3.7/dist-packages/matplotlib/backends/backend_agg.py:214: RuntimeWarning: Glyph 47004 missing from current font.\n",
            "  font.set_text(s, 0.0, flags=flags)\n",
            "/usr/local/lib/python3.7/dist-packages/matplotlib/backends/backend_agg.py:214: RuntimeWarning: Glyph 51200 missing from current font.\n",
            "  font.set_text(s, 0.0, flags=flags)\n",
            "/usr/local/lib/python3.7/dist-packages/matplotlib/backends/backend_agg.py:214: RuntimeWarning: Glyph 45768 missing from current font.\n",
            "  font.set_text(s, 0.0, flags=flags)\n",
            "/usr/local/lib/python3.7/dist-packages/matplotlib/backends/backend_agg.py:214: RuntimeWarning: Glyph 48156 missing from current font.\n",
            "  font.set_text(s, 0.0, flags=flags)\n",
            "/usr/local/lib/python3.7/dist-packages/matplotlib/backends/backend_agg.py:214: RuntimeWarning: Glyph 51064 missing from current font.\n",
            "  font.set_text(s, 0.0, flags=flags)\n",
            "/usr/local/lib/python3.7/dist-packages/matplotlib/backends/backend_agg.py:214: RuntimeWarning: Glyph 49849 missing from current font.\n",
            "  font.set_text(s, 0.0, flags=flags)\n",
            "/usr/local/lib/python3.7/dist-packages/matplotlib/backends/backend_agg.py:214: RuntimeWarning: Glyph 47568 missing from current font.\n",
            "  font.set_text(s, 0.0, flags=flags)\n",
            "/usr/local/lib/python3.7/dist-packages/matplotlib/backends/backend_agg.py:214: RuntimeWarning: Glyph 48512 missing from current font.\n",
            "  font.set_text(s, 0.0, flags=flags)\n",
            "/usr/local/lib/python3.7/dist-packages/matplotlib/backends/backend_agg.py:214: RuntimeWarning: Glyph 53440 missing from current font.\n",
            "  font.set_text(s, 0.0, flags=flags)\n",
            "/usr/local/lib/python3.7/dist-packages/matplotlib/backends/backend_agg.py:214: RuntimeWarning: Glyph 54168 missing from current font.\n",
            "  font.set_text(s, 0.0, flags=flags)\n",
            "/usr/local/lib/python3.7/dist-packages/matplotlib/backends/backend_agg.py:214: RuntimeWarning: Glyph 53364 missing from current font.\n",
            "  font.set_text(s, 0.0, flags=flags)\n",
            "/usr/local/lib/python3.7/dist-packages/matplotlib/backends/backend_agg.py:214: RuntimeWarning: Glyph 54021 missing from current font.\n",
            "  font.set_text(s, 0.0, flags=flags)\n",
            "/usr/local/lib/python3.7/dist-packages/matplotlib/backends/backend_agg.py:214: RuntimeWarning: Glyph 50612 missing from current font.\n",
            "  font.set_text(s, 0.0, flags=flags)\n",
            "/usr/local/lib/python3.7/dist-packages/matplotlib/backends/backend_agg.py:214: RuntimeWarning: Glyph 48120 missing from current font.\n",
            "  font.set_text(s, 0.0, flags=flags)\n",
            "/usr/local/lib/python3.7/dist-packages/matplotlib/backends/backend_agg.py:214: RuntimeWarning: Glyph 47101 missing from current font.\n",
            "  font.set_text(s, 0.0, flags=flags)\n",
            "/usr/local/lib/python3.7/dist-packages/matplotlib/backends/backend_agg.py:214: RuntimeWarning: Glyph 47592 missing from current font.\n",
            "  font.set_text(s, 0.0, flags=flags)\n",
            "/usr/local/lib/python3.7/dist-packages/matplotlib/backends/backend_agg.py:214: RuntimeWarning: Glyph 51592 missing from current font.\n",
            "  font.set_text(s, 0.0, flags=flags)\n",
            "/usr/local/lib/python3.7/dist-packages/matplotlib/backends/backend_agg.py:214: RuntimeWarning: Glyph 47116 missing from current font.\n",
            "  font.set_text(s, 0.0, flags=flags)\n",
            "/usr/local/lib/python3.7/dist-packages/matplotlib/backends/backend_agg.py:214: RuntimeWarning: Glyph 44172 missing from current font.\n",
            "  font.set_text(s, 0.0, flags=flags)\n",
            "/usr/local/lib/python3.7/dist-packages/matplotlib/backends/backend_agg.py:214: RuntimeWarning: Glyph 47113 missing from current font.\n",
            "  font.set_text(s, 0.0, flags=flags)\n",
            "/usr/local/lib/python3.7/dist-packages/matplotlib/backends/backend_agg.py:214: RuntimeWarning: Glyph 48292 missing from current font.\n",
            "  font.set_text(s, 0.0, flags=flags)\n",
            "/usr/local/lib/python3.7/dist-packages/matplotlib/backends/backend_agg.py:214: RuntimeWarning: Glyph 52768 missing from current font.\n",
            "  font.set_text(s, 0.0, flags=flags)\n",
            "/usr/local/lib/python3.7/dist-packages/matplotlib/backends/backend_agg.py:214: RuntimeWarning: Glyph 47001 missing from current font.\n",
            "  font.set_text(s, 0.0, flags=flags)\n",
            "/usr/local/lib/python3.7/dist-packages/matplotlib/backends/backend_agg.py:214: RuntimeWarning: Glyph 54187 missing from current font.\n",
            "  font.set_text(s, 0.0, flags=flags)\n",
            "/usr/local/lib/python3.7/dist-packages/matplotlib/backends/backend_agg.py:214: RuntimeWarning: Glyph 49884 missing from current font.\n",
            "  font.set_text(s, 0.0, flags=flags)\n",
            "/usr/local/lib/python3.7/dist-packages/matplotlib/backends/backend_agg.py:214: RuntimeWarning: Glyph 53945 missing from current font.\n",
            "  font.set_text(s, 0.0, flags=flags)\n",
            "/usr/local/lib/python3.7/dist-packages/matplotlib/backends/backend_agg.py:214: RuntimeWarning: Glyph 44032 missing from current font.\n",
            "  font.set_text(s, 0.0, flags=flags)\n",
            "/usr/local/lib/python3.7/dist-packages/matplotlib/backends/backend_agg.py:183: RuntimeWarning: Glyph 53076 missing from current font.\n",
            "  font.set_text(s, 0, flags=flags)\n",
            "/usr/local/lib/python3.7/dist-packages/matplotlib/backends/backend_agg.py:183: RuntimeWarning: Glyph 45208 missing from current font.\n",
            "  font.set_text(s, 0, flags=flags)\n",
            "/usr/local/lib/python3.7/dist-packages/matplotlib/backends/backend_agg.py:183: RuntimeWarning: Glyph 45908 missing from current font.\n",
            "  font.set_text(s, 0, flags=flags)\n",
            "/usr/local/lib/python3.7/dist-packages/matplotlib/backends/backend_agg.py:183: RuntimeWarning: Glyph 45684 missing from current font.\n",
            "  font.set_text(s, 0, flags=flags)\n",
            "/usr/local/lib/python3.7/dist-packages/matplotlib/backends/backend_agg.py:183: RuntimeWarning: Glyph 47112 missing from current font.\n",
            "  font.set_text(s, 0, flags=flags)\n",
            "/usr/local/lib/python3.7/dist-packages/matplotlib/backends/backend_agg.py:183: RuntimeWarning: Glyph 51060 missing from current font.\n",
            "  font.set_text(s, 0, flags=flags)\n",
            "/usr/local/lib/python3.7/dist-packages/matplotlib/backends/backend_agg.py:183: RuntimeWarning: Glyph 50500 missing from current font.\n",
            "  font.set_text(s, 0, flags=flags)\n",
            "/usr/local/lib/python3.7/dist-packages/matplotlib/backends/backend_agg.py:183: RuntimeWarning: Glyph 48152 missing from current font.\n",
            "  font.set_text(s, 0, flags=flags)\n",
            "/usr/local/lib/python3.7/dist-packages/matplotlib/backends/backend_agg.py:183: RuntimeWarning: Glyph 46524 missing from current font.\n",
            "  font.set_text(s, 0, flags=flags)\n",
            "/usr/local/lib/python3.7/dist-packages/matplotlib/backends/backend_agg.py:183: RuntimeWarning: Glyph 53804 missing from current font.\n",
            "  font.set_text(s, 0, flags=flags)\n",
            "/usr/local/lib/python3.7/dist-packages/matplotlib/backends/backend_agg.py:183: RuntimeWarning: Glyph 49916 missing from current font.\n",
            "  font.set_text(s, 0, flags=flags)\n",
            "/usr/local/lib/python3.7/dist-packages/matplotlib/backends/backend_agg.py:183: RuntimeWarning: Glyph 44221 missing from current font.\n",
            "  font.set_text(s, 0, flags=flags)\n",
            "/usr/local/lib/python3.7/dist-packages/matplotlib/backends/backend_agg.py:183: RuntimeWarning: Glyph 50976 missing from current font.\n",
            "  font.set_text(s, 0, flags=flags)\n",
            "/usr/local/lib/python3.7/dist-packages/matplotlib/backends/backend_agg.py:183: RuntimeWarning: Glyph 50732 missing from current font.\n",
            "  font.set_text(s, 0, flags=flags)\n",
            "/usr/local/lib/python3.7/dist-packages/matplotlib/backends/backend_agg.py:183: RuntimeWarning: Glyph 47784 missing from current font.\n",
            "  font.set_text(s, 0, flags=flags)\n",
            "/usr/local/lib/python3.7/dist-packages/matplotlib/backends/backend_agg.py:183: RuntimeWarning: Glyph 45789 missing from current font.\n",
            "  font.set_text(s, 0, flags=flags)\n",
            "/usr/local/lib/python3.7/dist-packages/matplotlib/backends/backend_agg.py:183: RuntimeWarning: Glyph 50136 missing from current font.\n",
            "  font.set_text(s, 0, flags=flags)\n",
            "/usr/local/lib/python3.7/dist-packages/matplotlib/backends/backend_agg.py:183: RuntimeWarning: Glyph 52852 missing from current font.\n",
            "  font.set_text(s, 0, flags=flags)\n",
            "/usr/local/lib/python3.7/dist-packages/matplotlib/backends/backend_agg.py:183: RuntimeWarning: Glyph 49464 missing from current font.\n",
            "  font.set_text(s, 0, flags=flags)\n",
            "/usr/local/lib/python3.7/dist-packages/matplotlib/backends/backend_agg.py:183: RuntimeWarning: Glyph 48652 missing from current font.\n",
            "  font.set_text(s, 0, flags=flags)\n",
            "/usr/local/lib/python3.7/dist-packages/matplotlib/backends/backend_agg.py:183: RuntimeWarning: Glyph 54000 missing from current font.\n",
            "  font.set_text(s, 0, flags=flags)\n",
            "/usr/local/lib/python3.7/dist-packages/matplotlib/backends/backend_agg.py:183: RuntimeWarning: Glyph 48380 missing from current font.\n",
            "  font.set_text(s, 0, flags=flags)\n",
            "/usr/local/lib/python3.7/dist-packages/matplotlib/backends/backend_agg.py:183: RuntimeWarning: Glyph 47532 missing from current font.\n",
            "  font.set_text(s, 0, flags=flags)\n",
            "/usr/local/lib/python3.7/dist-packages/matplotlib/backends/backend_agg.py:183: RuntimeWarning: Glyph 49828 missing from current font.\n",
            "  font.set_text(s, 0, flags=flags)\n",
            "/usr/local/lib/python3.7/dist-packages/matplotlib/backends/backend_agg.py:183: RuntimeWarning: Glyph 54252 missing from current font.\n",
            "  font.set_text(s, 0, flags=flags)\n",
            "/usr/local/lib/python3.7/dist-packages/matplotlib/backends/backend_agg.py:183: RuntimeWarning: Glyph 51648 missing from current font.\n",
            "  font.set_text(s, 0, flags=flags)\n",
            "/usr/local/lib/python3.7/dist-packages/matplotlib/backends/backend_agg.py:183: RuntimeWarning: Glyph 45349 missing from current font.\n",
            "  font.set_text(s, 0, flags=flags)\n",
            "/usr/local/lib/python3.7/dist-packages/matplotlib/backends/backend_agg.py:183: RuntimeWarning: Glyph 53944 missing from current font.\n",
            "  font.set_text(s, 0, flags=flags)\n",
            "/usr/local/lib/python3.7/dist-packages/matplotlib/backends/backend_agg.py:183: RuntimeWarning: Glyph 54028 missing from current font.\n",
            "  font.set_text(s, 0, flags=flags)\n",
            "/usr/local/lib/python3.7/dist-packages/matplotlib/backends/backend_agg.py:183: RuntimeWarning: Glyph 53356 missing from current font.\n",
            "  font.set_text(s, 0, flags=flags)\n",
            "/usr/local/lib/python3.7/dist-packages/matplotlib/backends/backend_agg.py:183: RuntimeWarning: Glyph 53664 missing from current font.\n",
            "  font.set_text(s, 0, flags=flags)\n",
            "/usr/local/lib/python3.7/dist-packages/matplotlib/backends/backend_agg.py:183: RuntimeWarning: Glyph 45769 missing from current font.\n",
            "  font.set_text(s, 0, flags=flags)\n",
            "/usr/local/lib/python3.7/dist-packages/matplotlib/backends/backend_agg.py:183: RuntimeWarning: Glyph 50724 missing from current font.\n",
            "  font.set_text(s, 0, flags=flags)\n",
            "/usr/local/lib/python3.7/dist-packages/matplotlib/backends/backend_agg.py:183: RuntimeWarning: Glyph 51228 missing from current font.\n",
            "  font.set_text(s, 0, flags=flags)\n",
            "/usr/local/lib/python3.7/dist-packages/matplotlib/backends/backend_agg.py:183: RuntimeWarning: Glyph 51452 missing from current font.\n",
            "  font.set_text(s, 0, flags=flags)\n",
            "/usr/local/lib/python3.7/dist-packages/matplotlib/backends/backend_agg.py:183: RuntimeWarning: Glyph 54532 missing from current font.\n",
            "  font.set_text(s, 0, flags=flags)\n",
            "/usr/local/lib/python3.7/dist-packages/matplotlib/backends/backend_agg.py:183: RuntimeWarning: Glyph 46972 missing from current font.\n",
            "  font.set_text(s, 0, flags=flags)\n",
            "/usr/local/lib/python3.7/dist-packages/matplotlib/backends/backend_agg.py:183: RuntimeWarning: Glyph 46300 missing from current font.\n",
            "  font.set_text(s, 0, flags=flags)\n",
            "/usr/local/lib/python3.7/dist-packages/matplotlib/backends/backend_agg.py:183: RuntimeWarning: Glyph 44536 missing from current font.\n",
            "  font.set_text(s, 0, flags=flags)\n",
            "/usr/local/lib/python3.7/dist-packages/matplotlib/backends/backend_agg.py:183: RuntimeWarning: Glyph 47004 missing from current font.\n",
            "  font.set_text(s, 0, flags=flags)\n",
            "/usr/local/lib/python3.7/dist-packages/matplotlib/backends/backend_agg.py:183: RuntimeWarning: Glyph 51200 missing from current font.\n",
            "  font.set_text(s, 0, flags=flags)\n",
            "/usr/local/lib/python3.7/dist-packages/matplotlib/backends/backend_agg.py:183: RuntimeWarning: Glyph 45768 missing from current font.\n",
            "  font.set_text(s, 0, flags=flags)\n",
            "/usr/local/lib/python3.7/dist-packages/matplotlib/backends/backend_agg.py:183: RuntimeWarning: Glyph 48156 missing from current font.\n",
            "  font.set_text(s, 0, flags=flags)\n",
            "/usr/local/lib/python3.7/dist-packages/matplotlib/backends/backend_agg.py:183: RuntimeWarning: Glyph 51064 missing from current font.\n",
            "  font.set_text(s, 0, flags=flags)\n",
            "/usr/local/lib/python3.7/dist-packages/matplotlib/backends/backend_agg.py:183: RuntimeWarning: Glyph 49849 missing from current font.\n",
            "  font.set_text(s, 0, flags=flags)\n",
            "/usr/local/lib/python3.7/dist-packages/matplotlib/backends/backend_agg.py:183: RuntimeWarning: Glyph 47568 missing from current font.\n",
            "  font.set_text(s, 0, flags=flags)\n",
            "/usr/local/lib/python3.7/dist-packages/matplotlib/backends/backend_agg.py:183: RuntimeWarning: Glyph 48512 missing from current font.\n",
            "  font.set_text(s, 0, flags=flags)\n",
            "/usr/local/lib/python3.7/dist-packages/matplotlib/backends/backend_agg.py:183: RuntimeWarning: Glyph 53440 missing from current font.\n",
            "  font.set_text(s, 0, flags=flags)\n",
            "/usr/local/lib/python3.7/dist-packages/matplotlib/backends/backend_agg.py:183: RuntimeWarning: Glyph 54168 missing from current font.\n",
            "  font.set_text(s, 0, flags=flags)\n",
            "/usr/local/lib/python3.7/dist-packages/matplotlib/backends/backend_agg.py:183: RuntimeWarning: Glyph 53364 missing from current font.\n",
            "  font.set_text(s, 0, flags=flags)\n",
            "/usr/local/lib/python3.7/dist-packages/matplotlib/backends/backend_agg.py:183: RuntimeWarning: Glyph 54021 missing from current font.\n",
            "  font.set_text(s, 0, flags=flags)\n",
            "/usr/local/lib/python3.7/dist-packages/matplotlib/backends/backend_agg.py:183: RuntimeWarning: Glyph 50612 missing from current font.\n",
            "  font.set_text(s, 0, flags=flags)\n",
            "/usr/local/lib/python3.7/dist-packages/matplotlib/backends/backend_agg.py:183: RuntimeWarning: Glyph 48120 missing from current font.\n",
            "  font.set_text(s, 0, flags=flags)\n",
            "/usr/local/lib/python3.7/dist-packages/matplotlib/backends/backend_agg.py:183: RuntimeWarning: Glyph 47101 missing from current font.\n",
            "  font.set_text(s, 0, flags=flags)\n",
            "/usr/local/lib/python3.7/dist-packages/matplotlib/backends/backend_agg.py:183: RuntimeWarning: Glyph 47592 missing from current font.\n",
            "  font.set_text(s, 0, flags=flags)\n",
            "/usr/local/lib/python3.7/dist-packages/matplotlib/backends/backend_agg.py:183: RuntimeWarning: Glyph 51592 missing from current font.\n",
            "  font.set_text(s, 0, flags=flags)\n",
            "/usr/local/lib/python3.7/dist-packages/matplotlib/backends/backend_agg.py:183: RuntimeWarning: Glyph 47116 missing from current font.\n",
            "  font.set_text(s, 0, flags=flags)\n",
            "/usr/local/lib/python3.7/dist-packages/matplotlib/backends/backend_agg.py:183: RuntimeWarning: Glyph 44172 missing from current font.\n",
            "  font.set_text(s, 0, flags=flags)\n",
            "/usr/local/lib/python3.7/dist-packages/matplotlib/backends/backend_agg.py:183: RuntimeWarning: Glyph 47113 missing from current font.\n",
            "  font.set_text(s, 0, flags=flags)\n",
            "/usr/local/lib/python3.7/dist-packages/matplotlib/backends/backend_agg.py:183: RuntimeWarning: Glyph 48292 missing from current font.\n",
            "  font.set_text(s, 0, flags=flags)\n",
            "/usr/local/lib/python3.7/dist-packages/matplotlib/backends/backend_agg.py:183: RuntimeWarning: Glyph 52768 missing from current font.\n",
            "  font.set_text(s, 0, flags=flags)\n",
            "/usr/local/lib/python3.7/dist-packages/matplotlib/backends/backend_agg.py:183: RuntimeWarning: Glyph 47001 missing from current font.\n",
            "  font.set_text(s, 0, flags=flags)\n",
            "/usr/local/lib/python3.7/dist-packages/matplotlib/backends/backend_agg.py:183: RuntimeWarning: Glyph 54187 missing from current font.\n",
            "  font.set_text(s, 0, flags=flags)\n",
            "/usr/local/lib/python3.7/dist-packages/matplotlib/backends/backend_agg.py:183: RuntimeWarning: Glyph 49884 missing from current font.\n",
            "  font.set_text(s, 0, flags=flags)\n",
            "/usr/local/lib/python3.7/dist-packages/matplotlib/backends/backend_agg.py:183: RuntimeWarning: Glyph 53945 missing from current font.\n",
            "  font.set_text(s, 0, flags=flags)\n",
            "/usr/local/lib/python3.7/dist-packages/matplotlib/backends/backend_agg.py:183: RuntimeWarning: Glyph 44032 missing from current font.\n",
            "  font.set_text(s, 0, flags=flags)\n"
          ]
        },
        {
          "output_type": "display_data",
          "data": {
            "image/png": "[encoded data removed]",
            "text/plain": [
              "<Figure size 2160x720 with 1 Axes>"
            ]
          },
          "metadata": {
            "needs_background": "light"
          }
        }
      ]
    },
    {
      "cell_type": "code",
      "source": [
        "# 사용자가 이용하는 존 타입 유형 3\n",
        "plt.figure(figsize=(26, 6))\n",
        "plt.hist(data['zone_type1'], bins=13)"
      ],
      "metadata": {
        "id": "o8-1R5zuxq6r",
        "outputId": "804cc4ad-b31d-4e56-f85b-a819ae29d26e",
        "colab": {
          "base_uri": "https://localhost:8080/",
          "height": 452
        }
      },
      "execution_count": null,
      "outputs": [
        {
          "output_type": "execute_result",
          "data": {
            "text/plain": [
              "(array([4.6836e+04, 6.7440e+03, 1.7468e+04, 1.5909e+04, 2.9224e+04,\n",
              "        1.7370e+03, 3.0430e+03, 9.2900e+02, 1.6780e+03, 1.5900e+02,\n",
              "        9.7400e+02, 4.9000e+01, 5.0000e+00]),\n",
              " array([ 0.        ,  0.92307692,  1.84615385,  2.76923077,  3.69230769,\n",
              "         4.61538462,  5.53846154,  6.46153846,  7.38461538,  8.30769231,\n",
              "         9.23076923, 10.15384615, 11.07692308, 12.        ]),\n",
              " <a list of 13 Patch objects>)"
            ]
          },
          "metadata": {},
          "execution_count": 170
        },
        {
          "output_type": "display_data",
          "data": {
            "image/png": "[encoded data removed]",
            "text/plain": [
              "<Figure size 1872x432 with 1 Axes>"
            ]
          },
          "metadata": {
            "needs_background": "light"
          }
        }
      ]
    },
    {
      "cell_type": "code",
      "source": [
        "plt.figure(figsize=(26, 6))\n",
        "plt.hist(data['zone_type2'], bins=14)"
      ],
      "metadata": {
        "id": "ZRLlgFr1y5ZM",
        "outputId": "f6030391-5f80-47bc-f32f-90be8e0c8b8d",
        "colab": {
          "base_uri": "https://localhost:8080/",
          "height": 435
        }
      },
      "execution_count": null,
      "outputs": [
        {
          "output_type": "execute_result",
          "data": {
            "text/plain": [
              "(array([15783.,  7273., 22847.,  8194., 20700., 25055.,     0.,  5714.,\n",
              "        12023.,  2912.,  1853.,  1512.,   738.,   151.]),\n",
              " array([ 0.        ,  0.85714286,  1.71428571,  2.57142857,  3.42857143,\n",
              "         4.28571429,  5.14285714,  6.        ,  6.85714286,  7.71428571,\n",
              "         8.57142857,  9.42857143, 10.28571429, 11.14285714, 12.        ]),\n",
              " <a list of 14 Patch objects>)"
            ]
          },
          "metadata": {},
          "execution_count": 19
        },
        {
          "output_type": "display_data",
          "data": {
            "image/png": "[encoded data removed]",
            "text/plain": [
              "<Figure size 1872x432 with 1 Axes>"
            ]
          },
          "metadata": {
            "needs_background": "light"
          }
        }
      ]
    },
    {
      "cell_type": "code",
      "source": [
        "plt.figure(figsize=(26, 6))\n",
        "plt.hist(data['zone_type3'], bins=14)"
      ],
      "metadata": {
        "id": "Baf4GhLQy83Z",
        "outputId": "945982ba-f933-43c2-cf71-3404f473f9a3",
        "colab": {
          "base_uri": "https://localhost:8080/",
          "height": 435
        }
      },
      "execution_count": null,
      "outputs": [
        {
          "output_type": "execute_result",
          "data": {
            "text/plain": [
              "(array([ 2824., 41566., 50910.,  6327.,  9074.,  4539.,  3278.,   592.,\n",
              "         2039.,  1393.,   572.,   250.,   539.,   852.]),\n",
              " array([ 0.        ,  0.92857143,  1.85714286,  2.78571429,  3.71428571,\n",
              "         4.64285714,  5.57142857,  6.5       ,  7.42857143,  8.35714286,\n",
              "         9.28571429, 10.21428571, 11.14285714, 12.07142857, 13.        ]),\n",
              " <a list of 14 Patch objects>)"
            ]
          },
          "metadata": {},
          "execution_count": 20
        },
        {
          "output_type": "display_data",
          "data": {
            "image/png": "[encoded data removed]",
            "text/plain": [
              "<Figure size 1872x432 with 1 Axes>"
            ]
          },
          "metadata": {
            "needs_background": "light"
          }
        }
      ]
    },
    {
      "cell_type": "code",
      "source": [
        "data.shape"
      ],
      "metadata": {
        "colab": {
          "base_uri": "https://localhost:8080/"
        },
        "id": "dqWpddFtEr4O",
        "outputId": "7cb50f81-5944-4f1c-ac19-0cdad0e62afb"
      },
      "execution_count": null,
      "outputs": [
        {
          "output_type": "execute_result",
          "data": {
            "text/plain": [
              "(124755, 21)"
            ]
          },
          "metadata": {},
          "execution_count": 21
        }
      ]
    },
    {
      "cell_type": "code",
      "source": [
        "# train 부분은 80%, test 부분은 20%\n",
        "train = data[:670000]\n",
        "test = data[67000:]"
      ],
      "metadata": {
        "id": "kQLp4YohG7jh"
      },
      "execution_count": null,
      "outputs": []
    },
    {
      "cell_type": "code",
      "source": [
        "x_train = np.asarray()\n",
        "y_train = np.asarray()\n",
        "x_test = np.asarray()\n",
        "y_test = np.asarray()"
      ],
      "metadata": {
        "id": "j6BJuKRYHg6J"
      },
      "execution_count": null,
      "outputs": []
    },
    {
      "cell_type": "code",
      "source": [
        ""
      ],
      "metadata": {
        "id": "TzoDtn4YymIR"
      },
      "execution_count": null,
      "outputs": []
    }
  ]
}