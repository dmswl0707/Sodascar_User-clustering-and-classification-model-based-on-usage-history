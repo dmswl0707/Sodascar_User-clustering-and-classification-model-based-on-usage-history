{
  "nbformat": 4,
  "nbformat_minor": 0,
  "metadata": {
    "colab": {
      "name": "EDA.ipynb",
      "provenance": [],
      "collapsed_sections": [],
      "authorship_tag": "ABX9TyMIH/gdycPuw1pkq2ZtvbEG",
      "include_colab_link": true
    },
    "kernelspec": {
      "name": "python3",
      "display_name": "Python 3"
    },
    "language_info": {
      "name": "python"
    }
  },
  "cells": [
    {
      "cell_type": "markdown",
      "metadata": {
        "id": "view-in-github",
        "colab_type": "text"
      },
      "source": [
        "<a href=\"https://colab.research.google.com/github/dmswl0707/Sodescar/blob/eunji/EDA.ipynb\" target=\"_parent\"><img src=\"https://colab.research.google.com/assets/colab-badge.svg\" alt=\"Open In Colab\"/></a>"
      ]
    },
    {
      "cell_type": "code",
      "execution_count": 1,
      "metadata": {
        "colab": {
          "base_uri": "https://localhost:8080/"
        },
        "id": "_bXfVEhwqXQT",
        "outputId": "0384af91-ee94-414d-e3f3-7d105581cafa"
      },
      "outputs": [
        {
          "output_type": "stream",
          "name": "stdout",
          "text": [
            "Mounted at /content/drive\n"
          ]
        }
      ],
      "source": [
        "from google.colab import drive\n",
        "drive.mount('/content/drive')"
      ]
    },
    {
      "cell_type": "code",
      "source": [
        "import pandas as pd\n",
        "import numpy as np\n",
        "import matplotlib.pyplot as plt"
      ],
      "metadata": {
        "id": "JcneX5BduXrl"
      },
      "execution_count": 47,
      "outputs": []
    },
    {
      "cell_type": "code",
      "source": [
        "data = pd.read_csv('/content/drive/MyDrive/Colab Notebooks/socar_reservation_triplog.csv')\n",
        "data.tail()"
      ],
      "metadata": {
        "colab": {
          "base_uri": "https://localhost:8080/",
          "height": 999
        },
        "id": "xF8hmsHTuon0",
        "outputId": "889a5d6e-97a9-44c2-e81c-36bf1451bd8d"
      },
      "execution_count": 48,
      "outputs": [
        {
          "output_type": "execute_result",
          "data": {
            "text/html": [
              "\n",
              "  <div id=\"df-58116b72-c332-49b5-965d-943b06f47c56\">\n",
              "    <div class=\"colab-df-container\">\n",
              "      <div>\n",
              "<style scoped>\n",
              "    .dataframe tbody tr th:only-of-type {\n",
              "        vertical-align: middle;\n",
              "    }\n",
              "\n",
              "    .dataframe tbody tr th {\n",
              "        vertical-align: top;\n",
              "    }\n",
              "\n",
              "    .dataframe thead th {\n",
              "        text-align: right;\n",
              "    }\n",
              "</style>\n",
              "<table border=\"1\" class=\"dataframe\">\n",
              "  <thead>\n",
              "    <tr style=\"text-align: right;\">\n",
              "      <th></th>\n",
              "      <th>reservation_id</th>\n",
              "      <th>car_id</th>\n",
              "      <th>member_id_encrypted</th>\n",
              "      <th>region</th>\n",
              "      <th>reservation_return_at</th>\n",
              "      <th>reservation_start_at</th>\n",
              "      <th>member_age</th>\n",
              "      <th>member_gender</th>\n",
              "      <th>member_created_date</th>\n",
              "      <th>member_total_distance</th>\n",
              "      <th>is_vroom</th>\n",
              "      <th>car_name</th>\n",
              "      <th>zone_name</th>\n",
              "      <th>zone_address</th>\n",
              "      <th>zone_lat</th>\n",
              "      <th>zone_lng</th>\n",
              "      <th>zone_type1</th>\n",
              "      <th>zone_type2</th>\n",
              "      <th>zone_type3</th>\n",
              "      <th>reservation_created_lat</th>\n",
              "      <th>reservation_created_lng</th>\n",
              "      <th>trip</th>\n",
              "    </tr>\n",
              "  </thead>\n",
              "  <tbody>\n",
              "    <tr>\n",
              "      <th>751543</th>\n",
              "      <td>25230734</td>\n",
              "      <td>12133</td>\n",
              "      <td>EfUz3ev4ykYFkJ6t4Eg4ML5fkur2s8Rg/LqDEdZTxpo=</td>\n",
              "      <td>서울특별시 성북구</td>\n",
              "      <td>2019-08-16 17:58:45</td>\n",
              "      <td>2019-08-16 14:50:00</td>\n",
              "      <td>27</td>\n",
              "      <td>male</td>\n",
              "      <td>2019-06-09</td>\n",
              "      <td>4756.0</td>\n",
              "      <td>True</td>\n",
              "      <td>미니클럽맨</td>\n",
              "      <td>서울 돌곶이역[V]</td>\n",
              "      <td>서울 성북구 석관동 245-4</td>\n",
              "      <td>37.610798</td>\n",
              "      <td>127.058172</td>\n",
              "      <td>NaN</td>\n",
              "      <td>NaN</td>\n",
              "      <td>NaN</td>\n",
              "      <td>NaN</td>\n",
              "      <td>NaN</td>\n",
              "      <td>NaN</td>\n",
              "    </tr>\n",
              "    <tr>\n",
              "      <th>751544</th>\n",
              "      <td>25230739</td>\n",
              "      <td>16346</td>\n",
              "      <td>isNozhU/SlfjlXncrzi20TgQEev2hiSf+JH/13Vzt1Y=</td>\n",
              "      <td>경기도 의정부시</td>\n",
              "      <td>2019-08-16 20:29:58</td>\n",
              "      <td>2019-08-15 21:40:00</td>\n",
              "      <td>31</td>\n",
              "      <td>male</td>\n",
              "      <td>2018-03-09</td>\n",
              "      <td>10799.0</td>\n",
              "      <td>False</td>\n",
              "      <td>올뉴K3</td>\n",
              "      <td>AJ파크 의정부 센트럴타워</td>\n",
              "      <td>경기 의정부시 의정부동 494 센트럴타워</td>\n",
              "      <td>37.738066</td>\n",
              "      <td>127.044092</td>\n",
              "      <td>TRANSFER_SUBWAY</td>\n",
              "      <td>COMMERCIAL_HOTSPOT</td>\n",
              "      <td>NaN</td>\n",
              "      <td>NaN</td>\n",
              "      <td>NaN</td>\n",
              "      <td>경기도 양주시,경기도 고양시 일산서구,경기도 양주시,경기도 고양시 일산서구</td>\n",
              "    </tr>\n",
              "    <tr>\n",
              "      <th>751545</th>\n",
              "      <td>25230740</td>\n",
              "      <td>18217</td>\n",
              "      <td>DBVfEBiHB2Fq4PgtorxeD6SKjkvP+yeofER1mjQ6OD0=</td>\n",
              "      <td>서울특별시 강남구</td>\n",
              "      <td>2019-08-16 00:39:36</td>\n",
              "      <td>2019-08-15 22:00:00</td>\n",
              "      <td>28</td>\n",
              "      <td>male</td>\n",
              "      <td>2015-06-10</td>\n",
              "      <td>9080.0</td>\n",
              "      <td>False</td>\n",
              "      <td>더뉴레이</td>\n",
              "      <td>대승주차장</td>\n",
              "      <td>서울 강남구 대치동 984-12</td>\n",
              "      <td>37.500908</td>\n",
              "      <td>127.066643</td>\n",
              "      <td>LIVING_APT</td>\n",
              "      <td>LIVING_VILLA</td>\n",
              "      <td>COMMERCIAL_HOTSPOT</td>\n",
              "      <td>NaN</td>\n",
              "      <td>NaN</td>\n",
              "      <td>서울특별시 노원구</td>\n",
              "    </tr>\n",
              "    <tr>\n",
              "      <th>751546</th>\n",
              "      <td>25230763</td>\n",
              "      <td>8420</td>\n",
              "      <td>2akRtQ2yPc0zFkPX1EGe72+tJPXrOhFKHmlOiwiwYY0=</td>\n",
              "      <td>서울특별시 강서구</td>\n",
              "      <td>2019-08-16 04:39:18</td>\n",
              "      <td>2019-08-15 21:40:00</td>\n",
              "      <td>21</td>\n",
              "      <td>male</td>\n",
              "      <td>2016-08-04</td>\n",
              "      <td>932.0</td>\n",
              "      <td>False</td>\n",
              "      <td>넥스트스파크</td>\n",
              "      <td>삼영주차장</td>\n",
              "      <td>서울 강서구 화곡동 110-65</td>\n",
              "      <td>37.543930</td>\n",
              "      <td>126.843872</td>\n",
              "      <td>LIVING_VILLA</td>\n",
              "      <td>LIVING_ETC</td>\n",
              "      <td>ETC</td>\n",
              "      <td>NaN</td>\n",
              "      <td>NaN</td>\n",
              "      <td>인천광역시 중구,서울특별시 강서구,서울특별시 영등포구,서울특별시 강서구</td>\n",
              "    </tr>\n",
              "    <tr>\n",
              "      <th>751547</th>\n",
              "      <td>25230776</td>\n",
              "      <td>18322</td>\n",
              "      <td>pKyxVpBU8+VcqT/J4ZLxYLHGBR3T7rH636FQuFbhWwo=</td>\n",
              "      <td>서울특별시 성북구</td>\n",
              "      <td>2019-08-16 20:47:34</td>\n",
              "      <td>2019-08-16 16:30:00</td>\n",
              "      <td>38</td>\n",
              "      <td>male</td>\n",
              "      <td>2016-10-13</td>\n",
              "      <td>27556.0</td>\n",
              "      <td>False</td>\n",
              "      <td>더뉴레이</td>\n",
              "      <td>삼선교주차장</td>\n",
              "      <td>서울 성북구 삼선동4가 18-6</td>\n",
              "      <td>37.588623</td>\n",
              "      <td>127.010368</td>\n",
              "      <td>LIVING_ETC</td>\n",
              "      <td>COMMERCIAL_OFFICE</td>\n",
              "      <td>ETC</td>\n",
              "      <td>NaN</td>\n",
              "      <td>NaN</td>\n",
              "      <td>서울특별시 중구,서울특별시 광진구</td>\n",
              "    </tr>\n",
              "  </tbody>\n",
              "</table>\n",
              "</div>\n",
              "      <button class=\"colab-df-convert\" onclick=\"convertToInteractive('df-58116b72-c332-49b5-965d-943b06f47c56')\"\n",
              "              title=\"Convert this dataframe to an interactive table.\"\n",
              "              style=\"display:none;\">\n",
              "        \n",
              "  <svg xmlns=\"http://www.w3.org/2000/svg\" height=\"24px\"viewBox=\"0 0 24 24\"\n",
              "       width=\"24px\">\n",
              "    <path d=\"M0 0h24v24H0V0z\" fill=\"none\"/>\n",
              "    <path d=\"M18.56 5.44l.94 2.06.94-2.06 2.06-.94-2.06-.94-.94-2.06-.94 2.06-2.06.94zm-11 1L8.5 8.5l.94-2.06 2.06-.94-2.06-.94L8.5 2.5l-.94 2.06-2.06.94zm10 10l.94 2.06.94-2.06 2.06-.94-2.06-.94-.94-2.06-.94 2.06-2.06.94z\"/><path d=\"M17.41 7.96l-1.37-1.37c-.4-.4-.92-.59-1.43-.59-.52 0-1.04.2-1.43.59L10.3 9.45l-7.72 7.72c-.78.78-.78 2.05 0 2.83L4 21.41c.39.39.9.59 1.41.59.51 0 1.02-.2 1.41-.59l7.78-7.78 2.81-2.81c.8-.78.8-2.07 0-2.86zM5.41 20L4 18.59l7.72-7.72 1.47 1.35L5.41 20z\"/>\n",
              "  </svg>\n",
              "      </button>\n",
              "      \n",
              "  <style>\n",
              "    .colab-df-container {\n",
              "      display:flex;\n",
              "      flex-wrap:wrap;\n",
              "      gap: 12px;\n",
              "    }\n",
              "\n",
              "    .colab-df-convert {\n",
              "      background-color: #E8F0FE;\n",
              "      border: none;\n",
              "      border-radius: 50%;\n",
              "      cursor: pointer;\n",
              "      display: none;\n",
              "      fill: #1967D2;\n",
              "      height: 32px;\n",
              "      padding: 0 0 0 0;\n",
              "      width: 32px;\n",
              "    }\n",
              "\n",
              "    .colab-df-convert:hover {\n",
              "      background-color: #E2EBFA;\n",
              "      box-shadow: 0px 1px 2px rgba(60, 64, 67, 0.3), 0px 1px 3px 1px rgba(60, 64, 67, 0.15);\n",
              "      fill: #174EA6;\n",
              "    }\n",
              "\n",
              "    [theme=dark] .colab-df-convert {\n",
              "      background-color: #3B4455;\n",
              "      fill: #D2E3FC;\n",
              "    }\n",
              "\n",
              "    [theme=dark] .colab-df-convert:hover {\n",
              "      background-color: #434B5C;\n",
              "      box-shadow: 0px 1px 3px 1px rgba(0, 0, 0, 0.15);\n",
              "      filter: drop-shadow(0px 1px 2px rgba(0, 0, 0, 0.3));\n",
              "      fill: #FFFFFF;\n",
              "    }\n",
              "  </style>\n",
              "\n",
              "      <script>\n",
              "        const buttonEl =\n",
              "          document.querySelector('#df-58116b72-c332-49b5-965d-943b06f47c56 button.colab-df-convert');\n",
              "        buttonEl.style.display =\n",
              "          google.colab.kernel.accessAllowed ? 'block' : 'none';\n",
              "\n",
              "        async function convertToInteractive(key) {\n",
              "          const element = document.querySelector('#df-58116b72-c332-49b5-965d-943b06f47c56');\n",
              "          const dataTable =\n",
              "            await google.colab.kernel.invokeFunction('convertToInteractive',\n",
              "                                                     [key], {});\n",
              "          if (!dataTable) return;\n",
              "\n",
              "          const docLinkHtml = 'Like what you see? Visit the ' +\n",
              "            '<a target=\"_blank\" href=https://colab.research.google.com/notebooks/data_table.ipynb>data table notebook</a>'\n",
              "            + ' to learn more about interactive tables.';\n",
              "          element.innerHTML = '';\n",
              "          dataTable['output_type'] = 'display_data';\n",
              "          await google.colab.output.renderOutput(dataTable, element);\n",
              "          const docLink = document.createElement('div');\n",
              "          docLink.innerHTML = docLinkHtml;\n",
              "          element.appendChild(docLink);\n",
              "        }\n",
              "      </script>\n",
              "    </div>\n",
              "  </div>\n",
              "  "
            ],
            "text/plain": [
              "        reservation_id  ...                                       trip\n",
              "751543        25230734  ...                                        NaN\n",
              "751544        25230739  ...  경기도 양주시,경기도 고양시 일산서구,경기도 양주시,경기도 고양시 일산서구\n",
              "751545        25230740  ...                                  서울특별시 노원구\n",
              "751546        25230763  ...    인천광역시 중구,서울특별시 강서구,서울특별시 영등포구,서울특별시 강서구\n",
              "751547        25230776  ...                         서울특별시 중구,서울특별시 광진구\n",
              "\n",
              "[5 rows x 22 columns]"
            ]
          },
          "metadata": {},
          "execution_count": 48
        }
      ]
    },
    {
      "cell_type": "code",
      "source": [
        "data.info()"
      ],
      "metadata": {
        "colab": {
          "base_uri": "https://localhost:8080/"
        },
        "id": "pzjq_hclBNt1",
        "outputId": "6a78c44b-45d6-4fa3-de96-dab72345d1bc"
      },
      "execution_count": 49,
      "outputs": [
        {
          "output_type": "stream",
          "name": "stdout",
          "text": [
            "<class 'pandas.core.frame.DataFrame'>\n",
            "RangeIndex: 751548 entries, 0 to 751547\n",
            "Data columns (total 22 columns):\n",
            " #   Column                   Non-Null Count   Dtype  \n",
            "---  ------                   --------------   -----  \n",
            " 0   reservation_id           751548 non-null  int64  \n",
            " 1   car_id                   751548 non-null  int64  \n",
            " 2   member_id_encrypted      751548 non-null  object \n",
            " 3   region                   751548 non-null  object \n",
            " 4   reservation_return_at    751548 non-null  object \n",
            " 5   reservation_start_at     751548 non-null  object \n",
            " 6   member_age               751548 non-null  int64  \n",
            " 7   member_gender            699017 non-null  object \n",
            " 8   member_created_date      751548 non-null  object \n",
            " 9   member_total_distance    738010 non-null  float64\n",
            " 10  is_vroom                 751548 non-null  bool   \n",
            " 11  car_name                 751548 non-null  object \n",
            " 12  zone_name                750774 non-null  object \n",
            " 13  zone_address             751548 non-null  object \n",
            " 14  zone_lat                 751548 non-null  float64\n",
            " 15  zone_lng                 751548 non-null  float64\n",
            " 16  zone_type1               733508 non-null  object \n",
            " 17  zone_type2               691605 non-null  object \n",
            " 18  zone_type3               637422 non-null  object \n",
            " 19  reservation_created_lat  199701 non-null  float64\n",
            " 20  reservation_created_lng  199701 non-null  float64\n",
            " 21  trip                     555474 non-null  object \n",
            "dtypes: bool(1), float64(5), int64(3), object(13)\n",
            "memory usage: 121.1+ MB\n"
          ]
        }
      ]
    },
    {
      "cell_type": "code",
      "source": [
        "# 결측치 제거\n",
        "data = data.dropna()"
      ],
      "metadata": {
        "id": "5LDJF2sJK7t8"
      },
      "execution_count": 50,
      "outputs": []
    },
    {
      "cell_type": "code",
      "source": [
        "## 어떤 컬럼을 이용하는 게 좋을까요?\n",
        "data = data.drop(['reservation_id', 'zone_address', 'member_id_encrypted'], 1)\n",
        "data = data.sample(frac=1, random_state=0).reset_index(drop=True)\n",
        "data.head()"
      ],
      "metadata": {
        "colab": {
          "base_uri": "https://localhost:8080/",
          "height": 1000
        },
        "id": "ISLJeTbW1SrO",
        "outputId": "4ab86286-ccc6-4c87-fbed-acb3ce87456a"
      },
      "execution_count": 51,
      "outputs": [
        {
          "output_type": "execute_result",
          "data": {
            "text/html": [
              "\n",
              "  <div id=\"df-01a9b130-6943-4f4f-805b-bf7bf91ccdac\">\n",
              "    <div class=\"colab-df-container\">\n",
              "      <div>\n",
              "<style scoped>\n",
              "    .dataframe tbody tr th:only-of-type {\n",
              "        vertical-align: middle;\n",
              "    }\n",
              "\n",
              "    .dataframe tbody tr th {\n",
              "        vertical-align: top;\n",
              "    }\n",
              "\n",
              "    .dataframe thead th {\n",
              "        text-align: right;\n",
              "    }\n",
              "</style>\n",
              "<table border=\"1\" class=\"dataframe\">\n",
              "  <thead>\n",
              "    <tr style=\"text-align: right;\">\n",
              "      <th></th>\n",
              "      <th>car_id</th>\n",
              "      <th>region</th>\n",
              "      <th>reservation_return_at</th>\n",
              "      <th>reservation_start_at</th>\n",
              "      <th>member_age</th>\n",
              "      <th>member_gender</th>\n",
              "      <th>member_created_date</th>\n",
              "      <th>member_total_distance</th>\n",
              "      <th>is_vroom</th>\n",
              "      <th>car_name</th>\n",
              "      <th>zone_name</th>\n",
              "      <th>zone_lat</th>\n",
              "      <th>zone_lng</th>\n",
              "      <th>zone_type1</th>\n",
              "      <th>zone_type2</th>\n",
              "      <th>zone_type3</th>\n",
              "      <th>reservation_created_lat</th>\n",
              "      <th>reservation_created_lng</th>\n",
              "      <th>trip</th>\n",
              "    </tr>\n",
              "  </thead>\n",
              "  <tbody>\n",
              "    <tr>\n",
              "      <th>0</th>\n",
              "      <td>15676</td>\n",
              "      <td>서울특별시 강남구</td>\n",
              "      <td>2019-08-23 23:42:19</td>\n",
              "      <td>2019-08-23 22:00:00</td>\n",
              "      <td>30</td>\n",
              "      <td>male</td>\n",
              "      <td>2018-08-04</td>\n",
              "      <td>5284.0</td>\n",
              "      <td>False</td>\n",
              "      <td>더뉴아반떼</td>\n",
              "      <td>강남센터뷰</td>\n",
              "      <td>37.474391</td>\n",
              "      <td>127.107085</td>\n",
              "      <td>LIVING_APT</td>\n",
              "      <td>LIVING_ETC</td>\n",
              "      <td>TRANSFER_BUS</td>\n",
              "      <td>37.474503</td>\n",
              "      <td>127.107548</td>\n",
              "      <td>서울특별시 광진구</td>\n",
              "    </tr>\n",
              "    <tr>\n",
              "      <th>1</th>\n",
              "      <td>9192</td>\n",
              "      <td>경기도 남양주시</td>\n",
              "      <td>2019-09-10 15:59:47</td>\n",
              "      <td>2019-09-09 11:20:00</td>\n",
              "      <td>49</td>\n",
              "      <td>female</td>\n",
              "      <td>2015-05-08</td>\n",
              "      <td>25840.0</td>\n",
              "      <td>False</td>\n",
              "      <td>티볼리(경유)</td>\n",
              "      <td>유진마젤란 21아파트 1307동 앞</td>\n",
              "      <td>37.643772</td>\n",
              "      <td>127.236336</td>\n",
              "      <td>LIVING_APT</td>\n",
              "      <td>TRANSFER_BUS</td>\n",
              "      <td>ETC</td>\n",
              "      <td>37.660944</td>\n",
              "      <td>127.249898</td>\n",
              "      <td>경기도 양평군,경기도 이천시,경기도 남양주시,경기도 성남시 분당구,경기도 성남시 분...</td>\n",
              "    </tr>\n",
              "    <tr>\n",
              "      <th>2</th>\n",
              "      <td>10877</td>\n",
              "      <td>부산광역시 강서구</td>\n",
              "      <td>2019-11-13 20:28:32</td>\n",
              "      <td>2019-11-13 14:30:00</td>\n",
              "      <td>42</td>\n",
              "      <td>female</td>\n",
              "      <td>2019-11-12</td>\n",
              "      <td>881.0</td>\n",
              "      <td>False</td>\n",
              "      <td>쏘나타 뉴라이즈(LPG)</td>\n",
              "      <td>강동주차장</td>\n",
              "      <td>35.179012</td>\n",
              "      <td>128.951907</td>\n",
              "      <td>TRANSFER_STATION</td>\n",
              "      <td>TRANSFER_SUBWAY</td>\n",
              "      <td>ETC</td>\n",
              "      <td>35.178398</td>\n",
              "      <td>128.947261</td>\n",
              "      <td>부산광역시 서구,부산광역시 서구,부산광역시 해운대구</td>\n",
              "    </tr>\n",
              "    <tr>\n",
              "      <th>3</th>\n",
              "      <td>7962</td>\n",
              "      <td>경기도 고양시 일산동구</td>\n",
              "      <td>2019-10-21 00:07:38</td>\n",
              "      <td>2019-10-20 12:10:00</td>\n",
              "      <td>37</td>\n",
              "      <td>male</td>\n",
              "      <td>2016-11-28</td>\n",
              "      <td>16509.0</td>\n",
              "      <td>True</td>\n",
              "      <td>레이</td>\n",
              "      <td>하늘마을 1단지</td>\n",
              "      <td>37.679960</td>\n",
              "      <td>126.779579</td>\n",
              "      <td>LIVING_APT</td>\n",
              "      <td>ETC</td>\n",
              "      <td>ETC</td>\n",
              "      <td>37.562260</td>\n",
              "      <td>126.889919</td>\n",
              "      <td>경기도 파주시,경기도 파주시,경기도 파주시,경기도 고양시 덕양구</td>\n",
              "    </tr>\n",
              "    <tr>\n",
              "      <th>4</th>\n",
              "      <td>16579</td>\n",
              "      <td>경기도 안양시 동안구</td>\n",
              "      <td>2019-10-12 19:00:00</td>\n",
              "      <td>2019-10-09 07:00:00</td>\n",
              "      <td>34</td>\n",
              "      <td>female</td>\n",
              "      <td>2015-08-19</td>\n",
              "      <td>2569.0</td>\n",
              "      <td>False</td>\n",
              "      <td>올뉴모닝</td>\n",
              "      <td>아이퍼스트타워</td>\n",
              "      <td>37.400352</td>\n",
              "      <td>126.976074</td>\n",
              "      <td>LIVING_ETC</td>\n",
              "      <td>TRANSFER_SUBWAY</td>\n",
              "      <td>COMMERCIAL_HOTSPOT</td>\n",
              "      <td>37.397518</td>\n",
              "      <td>126.979505</td>\n",
              "      <td>경기도 안양시 동안구,경기도 안양시 동안구,경기도 안양시 동안구,경기도 고양시 일산...</td>\n",
              "    </tr>\n",
              "  </tbody>\n",
              "</table>\n",
              "</div>\n",
              "      <button class=\"colab-df-convert\" onclick=\"convertToInteractive('df-01a9b130-6943-4f4f-805b-bf7bf91ccdac')\"\n",
              "              title=\"Convert this dataframe to an interactive table.\"\n",
              "              style=\"display:none;\">\n",
              "        \n",
              "  <svg xmlns=\"http://www.w3.org/2000/svg\" height=\"24px\"viewBox=\"0 0 24 24\"\n",
              "       width=\"24px\">\n",
              "    <path d=\"M0 0h24v24H0V0z\" fill=\"none\"/>\n",
              "    <path d=\"M18.56 5.44l.94 2.06.94-2.06 2.06-.94-2.06-.94-.94-2.06-.94 2.06-2.06.94zm-11 1L8.5 8.5l.94-2.06 2.06-.94-2.06-.94L8.5 2.5l-.94 2.06-2.06.94zm10 10l.94 2.06.94-2.06 2.06-.94-2.06-.94-.94-2.06-.94 2.06-2.06.94z\"/><path d=\"M17.41 7.96l-1.37-1.37c-.4-.4-.92-.59-1.43-.59-.52 0-1.04.2-1.43.59L10.3 9.45l-7.72 7.72c-.78.78-.78 2.05 0 2.83L4 21.41c.39.39.9.59 1.41.59.51 0 1.02-.2 1.41-.59l7.78-7.78 2.81-2.81c.8-.78.8-2.07 0-2.86zM5.41 20L4 18.59l7.72-7.72 1.47 1.35L5.41 20z\"/>\n",
              "  </svg>\n",
              "      </button>\n",
              "      \n",
              "  <style>\n",
              "    .colab-df-container {\n",
              "      display:flex;\n",
              "      flex-wrap:wrap;\n",
              "      gap: 12px;\n",
              "    }\n",
              "\n",
              "    .colab-df-convert {\n",
              "      background-color: #E8F0FE;\n",
              "      border: none;\n",
              "      border-radius: 50%;\n",
              "      cursor: pointer;\n",
              "      display: none;\n",
              "      fill: #1967D2;\n",
              "      height: 32px;\n",
              "      padding: 0 0 0 0;\n",
              "      width: 32px;\n",
              "    }\n",
              "\n",
              "    .colab-df-convert:hover {\n",
              "      background-color: #E2EBFA;\n",
              "      box-shadow: 0px 1px 2px rgba(60, 64, 67, 0.3), 0px 1px 3px 1px rgba(60, 64, 67, 0.15);\n",
              "      fill: #174EA6;\n",
              "    }\n",
              "\n",
              "    [theme=dark] .colab-df-convert {\n",
              "      background-color: #3B4455;\n",
              "      fill: #D2E3FC;\n",
              "    }\n",
              "\n",
              "    [theme=dark] .colab-df-convert:hover {\n",
              "      background-color: #434B5C;\n",
              "      box-shadow: 0px 1px 3px 1px rgba(0, 0, 0, 0.15);\n",
              "      filter: drop-shadow(0px 1px 2px rgba(0, 0, 0, 0.3));\n",
              "      fill: #FFFFFF;\n",
              "    }\n",
              "  </style>\n",
              "\n",
              "      <script>\n",
              "        const buttonEl =\n",
              "          document.querySelector('#df-01a9b130-6943-4f4f-805b-bf7bf91ccdac button.colab-df-convert');\n",
              "        buttonEl.style.display =\n",
              "          google.colab.kernel.accessAllowed ? 'block' : 'none';\n",
              "\n",
              "        async function convertToInteractive(key) {\n",
              "          const element = document.querySelector('#df-01a9b130-6943-4f4f-805b-bf7bf91ccdac');\n",
              "          const dataTable =\n",
              "            await google.colab.kernel.invokeFunction('convertToInteractive',\n",
              "                                                     [key], {});\n",
              "          if (!dataTable) return;\n",
              "\n",
              "          const docLinkHtml = 'Like what you see? Visit the ' +\n",
              "            '<a target=\"_blank\" href=https://colab.research.google.com/notebooks/data_table.ipynb>data table notebook</a>'\n",
              "            + ' to learn more about interactive tables.';\n",
              "          element.innerHTML = '';\n",
              "          dataTable['output_type'] = 'display_data';\n",
              "          await google.colab.output.renderOutput(dataTable, element);\n",
              "          const docLink = document.createElement('div');\n",
              "          docLink.innerHTML = docLinkHtml;\n",
              "          element.appendChild(docLink);\n",
              "        }\n",
              "      </script>\n",
              "    </div>\n",
              "  </div>\n",
              "  "
            ],
            "text/plain": [
              "   car_id  ...                                               trip\n",
              "0   15676  ...                                          서울특별시 광진구\n",
              "1    9192  ...  경기도 양평군,경기도 이천시,경기도 남양주시,경기도 성남시 분당구,경기도 성남시 분...\n",
              "2   10877  ...                       부산광역시 서구,부산광역시 서구,부산광역시 해운대구\n",
              "3    7962  ...                경기도 파주시,경기도 파주시,경기도 파주시,경기도 고양시 덕양구\n",
              "4   16579  ...  경기도 안양시 동안구,경기도 안양시 동안구,경기도 안양시 동안구,경기도 고양시 일산...\n",
              "\n",
              "[5 rows x 19 columns]"
            ]
          },
          "metadata": {},
          "execution_count": 51
        }
      ]
    },
    {
      "cell_type": "markdown",
      "source": [
        "# 1. 유저 정보\n",
        "- 쏘카 이용자의 75%가 40세 이하, 평균 나이 31세 남성 운전자가 여자 운전자에 비해 4배 정도 많음\n",
        "- 첫 가입 후 평균 2~3년정도 쏘카 서비스를 이용, 전체 이용자의 75% 정도가 10시간 이내 가량 이용함\n",
        "- 전체 이용자의 75%가 6500km 정도 주행\n"
      ],
      "metadata": {
        "id": "oaG0LflDsD6W"
      }
    },
    {
      "cell_type": "code",
      "source": [
        "# 임의의 컬럼 분석(나이 분포)\n",
        "# 전체 연령의 50% 정도가 29세 정도\n",
        "data['member_age'].describe()"
      ],
      "metadata": {
        "colab": {
          "base_uri": "https://localhost:8080/"
        },
        "id": "UCH4nfXxLnxT",
        "outputId": "87eb5262-9560-4df3-9e31-8d466fdd5879"
      },
      "execution_count": 52,
      "outputs": [
        {
          "output_type": "execute_result",
          "data": {
            "text/plain": [
              "count    124755.000000\n",
              "mean         31.686089\n",
              "std           8.815163\n",
              "min          21.000000\n",
              "25%          25.000000\n",
              "50%          29.000000\n",
              "75%          37.000000\n",
              "max          78.000000\n",
              "Name: member_age, dtype: float64"
            ]
          },
          "metadata": {},
          "execution_count": 52
        }
      ]
    },
    {
      "cell_type": "code",
      "source": [
        "plt.hist(data['member_age'], bins=8)"
      ],
      "metadata": {
        "colab": {
          "base_uri": "https://localhost:8080/",
          "height": 352
        },
        "id": "VoBgNi8-VOaG",
        "outputId": "b299b5d8-0126-43df-cd8e-ae9e874312b1"
      },
      "execution_count": 53,
      "outputs": [
        {
          "output_type": "execute_result",
          "data": {
            "text/plain": [
              "(array([5.8954e+04, 3.1463e+04, 1.7250e+04, 1.0798e+04, 4.7460e+03,\n",
              "        1.2750e+03, 2.5400e+02, 1.5000e+01]),\n",
              " array([21.   , 28.125, 35.25 , 42.375, 49.5  , 56.625, 63.75 , 70.875,\n",
              "        78.   ]),\n",
              " <a list of 8 Patch objects>)"
            ]
          },
          "metadata": {},
          "execution_count": 53
        },
        {
          "output_type": "display_data",
          "data": {
            "image/png": "[encoded data removed]",
            "text/plain": [
              "<Figure size 432x288 with 1 Axes>"
            ]
          },
          "metadata": {
            "needs_background": "light"
          }
        }
      ]
    },
    {
      "cell_type": "code",
      "source": [
        "# 남자 이용자가 여자 이용자의 4배 가량 많음\n",
        "data['member_gender'].describe()"
      ],
      "metadata": {
        "id": "1wWeAfm1S2Wn",
        "outputId": "7f301236-e4ee-4fb4-a4d8-3fa52e89f922",
        "colab": {
          "base_uri": "https://localhost:8080/"
        }
      },
      "execution_count": 54,
      "outputs": [
        {
          "output_type": "execute_result",
          "data": {
            "text/plain": [
              "count     124755\n",
              "unique         2\n",
              "top         male\n",
              "freq       97758\n",
              "Name: member_gender, dtype: object"
            ]
          },
          "metadata": {},
          "execution_count": 54
        }
      ]
    },
    {
      "cell_type": "code",
      "source": [
        "plt.hist(data['member_gender'], bins=3)"
      ],
      "metadata": {
        "id": "yJlY9FPuS-Pz",
        "outputId": "ec8d9b1e-9a09-44b3-b4d1-0e94f243c220",
        "colab": {
          "base_uri": "https://localhost:8080/",
          "height": 317
        }
      },
      "execution_count": 55,
      "outputs": [
        {
          "output_type": "execute_result",
          "data": {
            "text/plain": [
              "(array([97758.,     0., 26997.]),\n",
              " array([0.        , 0.33333333, 0.66666667, 1.        ]),\n",
              " <a list of 3 Patch objects>)"
            ]
          },
          "metadata": {},
          "execution_count": 55
        },
        {
          "output_type": "display_data",
          "data": {
            "image/png": "[encoded data removed]",
            "text/plain": [
              "<Figure size 432x288 with 1 Axes>"
            ]
          },
          "metadata": {
            "needs_background": "light"
          }
        }
      ]
    },
    {
      "cell_type": "code",
      "source": [
        "data['reservation_start_at'] = pd.to_datetime(data['reservation_start_at'])\n",
        "data['reservation_return_at'] = pd.to_datetime(data['reservation_return_at'])"
      ],
      "metadata": {
        "id": "Ei-TM1wX_hha"
      },
      "execution_count": 56,
      "outputs": []
    },
    {
      "cell_type": "code",
      "source": [
        "data['이용시간']=((data['reservation_return_at'] - data['reservation_start_at']))\n",
        "#data.head()"
      ],
      "metadata": {
        "id": "qBQ1cSkxCVs-"
      },
      "execution_count": 65,
      "outputs": []
    },
    {
      "cell_type": "code",
      "source": [
        "# 전체 이용자 중의 75%가 10시간 이내\n",
        "data['이용시간'].describe()"
      ],
      "metadata": {
        "id": "cr8wvCEzqtA5",
        "outputId": "ac7b078a-353a-4154-ed2f-834d93df4188",
        "colab": {
          "base_uri": "https://localhost:8080/"
        }
      },
      "execution_count": 66,
      "outputs": [
        {
          "output_type": "execute_result",
          "data": {
            "text/plain": [
              "count                       124755\n",
              "mean     0 days 09:49:59.687603703\n",
              "std      0 days 14:35:42.425974396\n",
              "min                0 days 00:13:10\n",
              "25%                0 days 03:20:46\n",
              "50%                0 days 05:20:49\n",
              "75%                0 days 10:28:12\n",
              "max               15 days 00:08:22\n",
              "Name: 이용시간, dtype: object"
            ]
          },
          "metadata": {},
          "execution_count": 66
        }
      ]
    },
    {
      "cell_type": "code",
      "source": [
        "data['member_created_date'] = pd.to_datetime(data['member_created_date'])\n",
        "data['가입후_이용기간']=((data['reservation_start_at'] - data['member_created_date']))\n",
        "#data.head()"
      ],
      "metadata": {
        "id": "YOf6VNx8TbkD"
      },
      "execution_count": 67,
      "outputs": []
    },
    {
      "cell_type": "code",
      "source": [
        "# 이용자의 절반이 가입후 2년 정도 사용\n",
        "data['가입후_이용기간'].describe()"
      ],
      "metadata": {
        "id": "y4FCijeZo1ik",
        "outputId": "40030279-c9e8-4581-d306-e79e04cfc293",
        "colab": {
          "base_uri": "https://localhost:8080/"
        }
      },
      "execution_count": 68,
      "outputs": [
        {
          "output_type": "execute_result",
          "data": {
            "text/plain": [
              "count                         124755\n",
              "mean     838 days 12:58:13.591920080\n",
              "std      594 days 01:17:52.240760704\n",
              "min                  0 days 00:30:00\n",
              "25%                312 days 20:15:00\n",
              "50%                787 days 10:20:00\n",
              "75%               1308 days 13:30:00\n",
              "max               2814 days 13:10:00\n",
              "Name: 가입후_이용기간, dtype: object"
            ]
          },
          "metadata": {},
          "execution_count": 68
        }
      ]
    },
    {
      "cell_type": "code",
      "source": [
        "# 이용자별 주행거리\n",
        "# 평균 5000km 사용, 이용자의 75%가 6545km 이용\n",
        "data['member_total_distance'].describe()"
      ],
      "metadata": {
        "id": "P86evMzCtLcu",
        "outputId": "4ce81294-45ad-4be6-8eb4-ca854f0b0be3",
        "colab": {
          "base_uri": "https://localhost:8080/"
        }
      },
      "execution_count": 73,
      "outputs": [
        {
          "output_type": "execute_result",
          "data": {
            "text/plain": [
              "count    124755.000000\n",
              "mean       5004.255348\n",
              "std        7084.237631\n",
              "min           0.000000\n",
              "25%         827.000000\n",
              "50%        2534.000000\n",
              "75%        6545.000000\n",
              "max      121163.000000\n",
              "Name: member_total_distance, dtype: float64"
            ]
          },
          "metadata": {},
          "execution_count": 73
        }
      ]
    },
    {
      "cell_type": "markdown",
      "source": [
        "# 2. Trip 정보"
      ],
      "metadata": {
        "id": "nDCgBl3AsIoI"
      }
    },
    {
      "cell_type": "code",
      "source": [
        "df = data[['region', 'car_name', 'zone_type1', 'zone_type2','zone_type3','trip','이용시간']]\n",
        "df.tail()"
      ],
      "metadata": {
        "id": "eLY5SvocsTz9",
        "outputId": "957fdd58-e53f-4d5f-8248-efddd97dff6d",
        "colab": {
          "base_uri": "https://localhost:8080/",
          "height": 337
        }
      },
      "execution_count": 76,
      "outputs": [
        {
          "output_type": "execute_result",
          "data": {
            "text/html": [
              "\n",
              "  <div id=\"df-e9692405-87b5-471f-8364-e5e3df2e0034\">\n",
              "    <div class=\"colab-df-container\">\n",
              "      <div>\n",
              "<style scoped>\n",
              "    .dataframe tbody tr th:only-of-type {\n",
              "        vertical-align: middle;\n",
              "    }\n",
              "\n",
              "    .dataframe tbody tr th {\n",
              "        vertical-align: top;\n",
              "    }\n",
              "\n",
              "    .dataframe thead th {\n",
              "        text-align: right;\n",
              "    }\n",
              "</style>\n",
              "<table border=\"1\" class=\"dataframe\">\n",
              "  <thead>\n",
              "    <tr style=\"text-align: right;\">\n",
              "      <th></th>\n",
              "      <th>region</th>\n",
              "      <th>car_name</th>\n",
              "      <th>zone_type1</th>\n",
              "      <th>zone_type2</th>\n",
              "      <th>zone_type3</th>\n",
              "      <th>trip</th>\n",
              "      <th>이용시간</th>\n",
              "    </tr>\n",
              "  </thead>\n",
              "  <tbody>\n",
              "    <tr>\n",
              "      <th>124750</th>\n",
              "      <td>서울특별시 강서구</td>\n",
              "      <td>[쏘카세이브] 넥스트스파크</td>\n",
              "      <td>LIVING_VILLA</td>\n",
              "      <td>LIVING_ETC</td>\n",
              "      <td>ETC</td>\n",
              "      <td>서울특별시 강서구,서울특별시 구로구,서울특별시 금천구,경기도 하남시</td>\n",
              "      <td>0 days 05:52:10</td>\n",
              "    </tr>\n",
              "    <tr>\n",
              "      <th>124751</th>\n",
              "      <td>서울특별시 동대문구</td>\n",
              "      <td>더뉴레이</td>\n",
              "      <td>LIVING_ETC</td>\n",
              "      <td>TRANSFER_SUBWAY</td>\n",
              "      <td>COMMERCIAL_HOTSPOT</td>\n",
              "      <td>서울특별시 중구</td>\n",
              "      <td>0 days 09:59:04</td>\n",
              "    </tr>\n",
              "    <tr>\n",
              "      <th>124752</th>\n",
              "      <td>서울특별시 강남구</td>\n",
              "      <td>스토닉</td>\n",
              "      <td>LIVING_VILLA</td>\n",
              "      <td>TRANSFER_SUBWAY</td>\n",
              "      <td>COMMERCIAL_HOTSPOT</td>\n",
              "      <td>서울특별시 강남구,서울특별시 강남구,서울특별시 강남구,경기도 양주시,경기도 파주시,...</td>\n",
              "      <td>0 days 10:49:23</td>\n",
              "    </tr>\n",
              "    <tr>\n",
              "      <th>124753</th>\n",
              "      <td>경기도 고양시 일산서구</td>\n",
              "      <td>올뉴모닝</td>\n",
              "      <td>LIVING_APT</td>\n",
              "      <td>TRANSFER_SUBWAY</td>\n",
              "      <td>COMMERCIAL_HOTSPOT</td>\n",
              "      <td>경기도 고양시 일산서구,경기도 파주시,경기도 파주시,경기도 안양시 동안구,경기도 안...</td>\n",
              "      <td>0 days 22:14:40</td>\n",
              "    </tr>\n",
              "    <tr>\n",
              "      <th>124754</th>\n",
              "      <td>서울특별시 강남구</td>\n",
              "      <td>코나</td>\n",
              "      <td>LIVING_APT</td>\n",
              "      <td>TRANSFER_BUS</td>\n",
              "      <td>ETC</td>\n",
              "      <td>서울특별시 강남구,강원도 강릉시,강원도 속초시,강원도 양양군,강원도 홍천군,강원도 ...</td>\n",
              "      <td>1 days 15:01:09</td>\n",
              "    </tr>\n",
              "  </tbody>\n",
              "</table>\n",
              "</div>\n",
              "      <button class=\"colab-df-convert\" onclick=\"convertToInteractive('df-e9692405-87b5-471f-8364-e5e3df2e0034')\"\n",
              "              title=\"Convert this dataframe to an interactive table.\"\n",
              "              style=\"display:none;\">\n",
              "        \n",
              "  <svg xmlns=\"http://www.w3.org/2000/svg\" height=\"24px\"viewBox=\"0 0 24 24\"\n",
              "       width=\"24px\">\n",
              "    <path d=\"M0 0h24v24H0V0z\" fill=\"none\"/>\n",
              "    <path d=\"M18.56 5.44l.94 2.06.94-2.06 2.06-.94-2.06-.94-.94-2.06-.94 2.06-2.06.94zm-11 1L8.5 8.5l.94-2.06 2.06-.94-2.06-.94L8.5 2.5l-.94 2.06-2.06.94zm10 10l.94 2.06.94-2.06 2.06-.94-2.06-.94-.94-2.06-.94 2.06-2.06.94z\"/><path d=\"M17.41 7.96l-1.37-1.37c-.4-.4-.92-.59-1.43-.59-.52 0-1.04.2-1.43.59L10.3 9.45l-7.72 7.72c-.78.78-.78 2.05 0 2.83L4 21.41c.39.39.9.59 1.41.59.51 0 1.02-.2 1.41-.59l7.78-7.78 2.81-2.81c.8-.78.8-2.07 0-2.86zM5.41 20L4 18.59l7.72-7.72 1.47 1.35L5.41 20z\"/>\n",
              "  </svg>\n",
              "      </button>\n",
              "      \n",
              "  <style>\n",
              "    .colab-df-container {\n",
              "      display:flex;\n",
              "      flex-wrap:wrap;\n",
              "      gap: 12px;\n",
              "    }\n",
              "\n",
              "    .colab-df-convert {\n",
              "      background-color: #E8F0FE;\n",
              "      border: none;\n",
              "      border-radius: 50%;\n",
              "      cursor: pointer;\n",
              "      display: none;\n",
              "      fill: #1967D2;\n",
              "      height: 32px;\n",
              "      padding: 0 0 0 0;\n",
              "      width: 32px;\n",
              "    }\n",
              "\n",
              "    .colab-df-convert:hover {\n",
              "      background-color: #E2EBFA;\n",
              "      box-shadow: 0px 1px 2px rgba(60, 64, 67, 0.3), 0px 1px 3px 1px rgba(60, 64, 67, 0.15);\n",
              "      fill: #174EA6;\n",
              "    }\n",
              "\n",
              "    [theme=dark] .colab-df-convert {\n",
              "      background-color: #3B4455;\n",
              "      fill: #D2E3FC;\n",
              "    }\n",
              "\n",
              "    [theme=dark] .colab-df-convert:hover {\n",
              "      background-color: #434B5C;\n",
              "      box-shadow: 0px 1px 3px 1px rgba(0, 0, 0, 0.15);\n",
              "      filter: drop-shadow(0px 1px 2px rgba(0, 0, 0, 0.3));\n",
              "      fill: #FFFFFF;\n",
              "    }\n",
              "  </style>\n",
              "\n",
              "      <script>\n",
              "        const buttonEl =\n",
              "          document.querySelector('#df-e9692405-87b5-471f-8364-e5e3df2e0034 button.colab-df-convert');\n",
              "        buttonEl.style.display =\n",
              "          google.colab.kernel.accessAllowed ? 'block' : 'none';\n",
              "\n",
              "        async function convertToInteractive(key) {\n",
              "          const element = document.querySelector('#df-e9692405-87b5-471f-8364-e5e3df2e0034');\n",
              "          const dataTable =\n",
              "            await google.colab.kernel.invokeFunction('convertToInteractive',\n",
              "                                                     [key], {});\n",
              "          if (!dataTable) return;\n",
              "\n",
              "          const docLinkHtml = 'Like what you see? Visit the ' +\n",
              "            '<a target=\"_blank\" href=https://colab.research.google.com/notebooks/data_table.ipynb>data table notebook</a>'\n",
              "            + ' to learn more about interactive tables.';\n",
              "          element.innerHTML = '';\n",
              "          dataTable['output_type'] = 'display_data';\n",
              "          await google.colab.output.renderOutput(dataTable, element);\n",
              "          const docLink = document.createElement('div');\n",
              "          docLink.innerHTML = docLinkHtml;\n",
              "          element.appendChild(docLink);\n",
              "        }\n",
              "      </script>\n",
              "    </div>\n",
              "  </div>\n",
              "  "
            ],
            "text/plain": [
              "              region  ...            이용시간\n",
              "124750     서울특별시 강서구  ... 0 days 05:52:10\n",
              "124751    서울특별시 동대문구  ... 0 days 09:59:04\n",
              "124752     서울특별시 강남구  ... 0 days 10:49:23\n",
              "124753  경기도 고양시 일산서구  ... 0 days 22:14:40\n",
              "124754     서울특별시 강남구  ... 1 days 15:01:09\n",
              "\n",
              "[5 rows x 7 columns]"
            ]
          },
          "metadata": {},
          "execution_count": 76
        }
      ]
    },
    {
      "cell_type": "code",
      "source": [
        "data.shape"
      ],
      "metadata": {
        "colab": {
          "base_uri": "https://localhost:8080/"
        },
        "id": "dqWpddFtEr4O",
        "outputId": "be1ad8ae-9adc-4a9c-b05c-c046171b8949"
      },
      "execution_count": null,
      "outputs": [
        {
          "output_type": "execute_result",
          "data": {
            "text/plain": [
              "(837732, 13)"
            ]
          },
          "metadata": {},
          "execution_count": 46
        }
      ]
    },
    {
      "cell_type": "code",
      "source": [
        "# train 부분은 80%, test 부분은 20%\n",
        "train = data[:670000]\n",
        "test = data[67000:]"
      ],
      "metadata": {
        "id": "kQLp4YohG7jh"
      },
      "execution_count": null,
      "outputs": []
    },
    {
      "cell_type": "code",
      "source": [
        "x_train = np.asarray()\n",
        "y_train = np.asarray()\n",
        "x_test = np.asarray()\n",
        "y_test = np.asarray()"
      ],
      "metadata": {
        "id": "j6BJuKRYHg6J"
      },
      "execution_count": null,
      "outputs": []
    }
  ]
}