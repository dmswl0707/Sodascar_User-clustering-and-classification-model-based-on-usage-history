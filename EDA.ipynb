{
  "nbformat": 4,
  "nbformat_minor": 0,
  "metadata": {
    "colab": {
      "name": "EDA.ipynb",
      "provenance": [],
      "collapsed_sections": [],
      "authorship_tag": "ABX9TyNNS5cdXmyMBwGuQwHVYmvA",
      "include_colab_link": true
    },
    "kernelspec": {
      "name": "python3",
      "display_name": "Python 3"
    },
    "language_info": {
      "name": "python"
    }
  },
  "cells": [
    {
      "cell_type": "markdown",
      "metadata": {
        "id": "view-in-github",
        "colab_type": "text"
      },
      "source": [
        "<a href=\"https://colab.research.google.com/github/dmswl0707/Sodescar/blob/eunji/EDA.ipynb\" target=\"_parent\"><img src=\"https://colab.research.google.com/assets/colab-badge.svg\" alt=\"Open In Colab\"/></a>"
      ]
    },
    {
      "cell_type": "code",
      "execution_count": 1,
      "metadata": {
        "colab": {
          "base_uri": "https://localhost:8080/"
        },
        "id": "_bXfVEhwqXQT",
        "outputId": "8f31d442-e635-4c66-bd69-9513351a6b5e"
      },
      "outputs": [
        {
          "output_type": "stream",
          "name": "stdout",
          "text": [
            "Drive already mounted at /content/drive; to attempt to forcibly remount, call drive.mount(\"/content/drive\", force_remount=True).\n"
          ]
        }
      ],
      "source": [
        "from google.colab import drive\n",
        "drive.mount('/content/drive')"
      ]
    },
    {
      "cell_type": "code",
      "source": [
        "import pandas as pd\n",
        "import numpy as np\n",
        "import matplotlib.pyplot as plt"
      ],
      "metadata": {
        "id": "JcneX5BduXrl"
      },
      "execution_count": 230,
      "outputs": []
    },
    {
      "cell_type": "code",
      "source": [
        "data = pd.read_csv('/content/drive/MyDrive/Colab Notebooks/socar_reservation_triplog.csv')\n",
        "data = data.sample(frac=1, random_state=0).reset_index(drop=True)\n",
        "data.tail()"
      ],
      "metadata": {
        "colab": {
          "base_uri": "https://localhost:8080/",
          "height": 635
        },
        "id": "xF8hmsHTuon0",
        "outputId": "6647659a-8698-454b-87c5-8f3fe75994a6"
      },
      "execution_count": 327,
      "outputs": [
        {
          "output_type": "execute_result",
          "data": {
            "text/html": [
              "\n",
              "  <div id=\"df-e403ba44-a306-4de8-9eb3-4c89bc40b147\">\n",
              "    <div class=\"colab-df-container\">\n",
              "      <div>\n",
              "<style scoped>\n",
              "    .dataframe tbody tr th:only-of-type {\n",
              "        vertical-align: middle;\n",
              "    }\n",
              "\n",
              "    .dataframe tbody tr th {\n",
              "        vertical-align: top;\n",
              "    }\n",
              "\n",
              "    .dataframe thead th {\n",
              "        text-align: right;\n",
              "    }\n",
              "</style>\n",
              "<table border=\"1\" class=\"dataframe\">\n",
              "  <thead>\n",
              "    <tr style=\"text-align: right;\">\n",
              "      <th></th>\n",
              "      <th>reservation_id</th>\n",
              "      <th>car_id</th>\n",
              "      <th>member_id_encrypted</th>\n",
              "      <th>region</th>\n",
              "      <th>reservation_return_at</th>\n",
              "      <th>reservation_start_at</th>\n",
              "      <th>member_age</th>\n",
              "      <th>member_gender</th>\n",
              "      <th>member_created_date</th>\n",
              "      <th>member_total_distance</th>\n",
              "      <th>is_vroom</th>\n",
              "      <th>car_name</th>\n",
              "      <th>zone_name</th>\n",
              "      <th>zone_address</th>\n",
              "      <th>zone_lat</th>\n",
              "      <th>zone_lng</th>\n",
              "      <th>zone_type1</th>\n",
              "      <th>zone_type2</th>\n",
              "      <th>zone_type3</th>\n",
              "      <th>reservation_created_lat</th>\n",
              "      <th>reservation_created_lng</th>\n",
              "      <th>trip</th>\n",
              "    </tr>\n",
              "  </thead>\n",
              "  <tbody>\n",
              "    <tr>\n",
              "      <th>751543</th>\n",
              "      <td>21898188</td>\n",
              "      <td>14857</td>\n",
              "      <td>eKhC4BDw20tThuDz7ddstf3fHfWcmWMfRqofBOGz3Ps=</td>\n",
              "      <td>경기도 고양시 일산동구</td>\n",
              "      <td>2019-03-28 00:36:38</td>\n",
              "      <td>2019-03-27 18:40:00</td>\n",
              "      <td>21</td>\n",
              "      <td>male</td>\n",
              "      <td>2017-02-27</td>\n",
              "      <td>342.0</td>\n",
              "      <td>False</td>\n",
              "      <td>코나</td>\n",
              "      <td>일산2동 주민센터 앞</td>\n",
              "      <td>경기 고양시 일산동구 중산동 1651</td>\n",
              "      <td>37.683109</td>\n",
              "      <td>126.779547</td>\n",
              "      <td>NaN</td>\n",
              "      <td>NaN</td>\n",
              "      <td>NaN</td>\n",
              "      <td>NaN</td>\n",
              "      <td>NaN</td>\n",
              "      <td>경기도 고양시 덕양구,경기도 고양시 덕양구</td>\n",
              "    </tr>\n",
              "    <tr>\n",
              "      <th>751544</th>\n",
              "      <td>23019737</td>\n",
              "      <td>14349</td>\n",
              "      <td>rQyQqdZ8j3ibds8yMWmDG6wvJsjf9sMW0tno5dOayZM=</td>\n",
              "      <td>울산광역시 남구</td>\n",
              "      <td>2019-05-17 12:21:20</td>\n",
              "      <td>2019-05-17 11:00:00</td>\n",
              "      <td>24</td>\n",
              "      <td>male</td>\n",
              "      <td>2015-01-12</td>\n",
              "      <td>1786.0</td>\n",
              "      <td>False</td>\n",
              "      <td>티볼리</td>\n",
              "      <td>우정유료주차장</td>\n",
              "      <td>울산 남구 삼산동 1481-10</td>\n",
              "      <td>35.536034</td>\n",
              "      <td>129.339783</td>\n",
              "      <td>TRANSFER_TERMINAL</td>\n",
              "      <td>TRANSFER_TERMINAL</td>\n",
              "      <td>COMMERCIAL_HOTSPOT</td>\n",
              "      <td>NaN</td>\n",
              "      <td>NaN</td>\n",
              "      <td>NaN</td>\n",
              "    </tr>\n",
              "    <tr>\n",
              "      <th>751545</th>\n",
              "      <td>22674225</td>\n",
              "      <td>5196</td>\n",
              "      <td>LfNftWCh2n1wAySNkx/LHKAmq9XT+KZckofO5sZSIyw=</td>\n",
              "      <td>서울특별시 강남구</td>\n",
              "      <td>2019-05-02 18:24:38</td>\n",
              "      <td>2019-05-02 12:00:00</td>\n",
              "      <td>33</td>\n",
              "      <td>male</td>\n",
              "      <td>2018-01-25</td>\n",
              "      <td>NaN</td>\n",
              "      <td>False</td>\n",
              "      <td>아반떼AD</td>\n",
              "      <td>블루밍하우스</td>\n",
              "      <td>서울 강남구 역삼동 718-11</td>\n",
              "      <td>37.500793</td>\n",
              "      <td>127.038963</td>\n",
              "      <td>TRANSFER_SUBWAY</td>\n",
              "      <td>COMMERCIAL_OFFICE</td>\n",
              "      <td>COMMERCIAL_HOTSPOT</td>\n",
              "      <td>NaN</td>\n",
              "      <td>NaN</td>\n",
              "      <td>경기도 시흥시</td>\n",
              "    </tr>\n",
              "    <tr>\n",
              "      <th>751546</th>\n",
              "      <td>23627837</td>\n",
              "      <td>6022</td>\n",
              "      <td>lQdD+3KuPo5dPaheZafrBcnDgNH/40yfqJyBJ15TkLY=</td>\n",
              "      <td>경기도 안양시 만안구</td>\n",
              "      <td>2019-06-14 00:22:37</td>\n",
              "      <td>2019-06-13 18:30:00</td>\n",
              "      <td>28</td>\n",
              "      <td>male</td>\n",
              "      <td>2015-06-22</td>\n",
              "      <td>6889.0</td>\n",
              "      <td>False</td>\n",
              "      <td>레이</td>\n",
              "      <td>성결대학교 공과대학 앞 주차장</td>\n",
              "      <td>경기 안양시 만안구 안양동 400-10 성결대학교</td>\n",
              "      <td>37.380102</td>\n",
              "      <td>126.929144</td>\n",
              "      <td>LIVING_VILLA</td>\n",
              "      <td>NaN</td>\n",
              "      <td>NaN</td>\n",
              "      <td>NaN</td>\n",
              "      <td>NaN</td>\n",
              "      <td>서울특별시 구로구</td>\n",
              "    </tr>\n",
              "    <tr>\n",
              "      <th>751547</th>\n",
              "      <td>21370466</td>\n",
              "      <td>11776</td>\n",
              "      <td>plvsZ2kKqfdyRIXMsDzG/Thn5YiYBrp+1AyrpL1GdFA=</td>\n",
              "      <td>서울특별시 강남구</td>\n",
              "      <td>2019-02-28 13:18:15</td>\n",
              "      <td>2019-02-28 09:50:00</td>\n",
              "      <td>22</td>\n",
              "      <td>male</td>\n",
              "      <td>2014-05-26</td>\n",
              "      <td>6512.0</td>\n",
              "      <td>False</td>\n",
              "      <td>더뉴레이</td>\n",
              "      <td>역삼역 8번출구(포스트빌)(운영종료)</td>\n",
              "      <td>서울 강남구 역삼동 673-16</td>\n",
              "      <td>37.504271</td>\n",
              "      <td>127.039843</td>\n",
              "      <td>LIVING_VILLA</td>\n",
              "      <td>COMMERCIAL_HOTSPOT</td>\n",
              "      <td>TRANSFER_SUBWAY</td>\n",
              "      <td>NaN</td>\n",
              "      <td>NaN</td>\n",
              "      <td>서울특별시 중구,서울특별시 성동구</td>\n",
              "    </tr>\n",
              "  </tbody>\n",
              "</table>\n",
              "</div>\n",
              "      <button class=\"colab-df-convert\" onclick=\"convertToInteractive('df-e403ba44-a306-4de8-9eb3-4c89bc40b147')\"\n",
              "              title=\"Convert this dataframe to an interactive table.\"\n",
              "              style=\"display:none;\">\n",
              "        \n",
              "  <svg xmlns=\"http://www.w3.org/2000/svg\" height=\"24px\"viewBox=\"0 0 24 24\"\n",
              "       width=\"24px\">\n",
              "    <path d=\"M0 0h24v24H0V0z\" fill=\"none\"/>\n",
              "    <path d=\"M18.56 5.44l.94 2.06.94-2.06 2.06-.94-2.06-.94-.94-2.06-.94 2.06-2.06.94zm-11 1L8.5 8.5l.94-2.06 2.06-.94-2.06-.94L8.5 2.5l-.94 2.06-2.06.94zm10 10l.94 2.06.94-2.06 2.06-.94-2.06-.94-.94-2.06-.94 2.06-2.06.94z\"/><path d=\"M17.41 7.96l-1.37-1.37c-.4-.4-.92-.59-1.43-.59-.52 0-1.04.2-1.43.59L10.3 9.45l-7.72 7.72c-.78.78-.78 2.05 0 2.83L4 21.41c.39.39.9.59 1.41.59.51 0 1.02-.2 1.41-.59l7.78-7.78 2.81-2.81c.8-.78.8-2.07 0-2.86zM5.41 20L4 18.59l7.72-7.72 1.47 1.35L5.41 20z\"/>\n",
              "  </svg>\n",
              "      </button>\n",
              "      \n",
              "  <style>\n",
              "    .colab-df-container {\n",
              "      display:flex;\n",
              "      flex-wrap:wrap;\n",
              "      gap: 12px;\n",
              "    }\n",
              "\n",
              "    .colab-df-convert {\n",
              "      background-color: #E8F0FE;\n",
              "      border: none;\n",
              "      border-radius: 50%;\n",
              "      cursor: pointer;\n",
              "      display: none;\n",
              "      fill: #1967D2;\n",
              "      height: 32px;\n",
              "      padding: 0 0 0 0;\n",
              "      width: 32px;\n",
              "    }\n",
              "\n",
              "    .colab-df-convert:hover {\n",
              "      background-color: #E2EBFA;\n",
              "      box-shadow: 0px 1px 2px rgba(60, 64, 67, 0.3), 0px 1px 3px 1px rgba(60, 64, 67, 0.15);\n",
              "      fill: #174EA6;\n",
              "    }\n",
              "\n",
              "    [theme=dark] .colab-df-convert {\n",
              "      background-color: #3B4455;\n",
              "      fill: #D2E3FC;\n",
              "    }\n",
              "\n",
              "    [theme=dark] .colab-df-convert:hover {\n",
              "      background-color: #434B5C;\n",
              "      box-shadow: 0px 1px 3px 1px rgba(0, 0, 0, 0.15);\n",
              "      filter: drop-shadow(0px 1px 2px rgba(0, 0, 0, 0.3));\n",
              "      fill: #FFFFFF;\n",
              "    }\n",
              "  </style>\n",
              "\n",
              "      <script>\n",
              "        const buttonEl =\n",
              "          document.querySelector('#df-e403ba44-a306-4de8-9eb3-4c89bc40b147 button.colab-df-convert');\n",
              "        buttonEl.style.display =\n",
              "          google.colab.kernel.accessAllowed ? 'block' : 'none';\n",
              "\n",
              "        async function convertToInteractive(key) {\n",
              "          const element = document.querySelector('#df-e403ba44-a306-4de8-9eb3-4c89bc40b147');\n",
              "          const dataTable =\n",
              "            await google.colab.kernel.invokeFunction('convertToInteractive',\n",
              "                                                     [key], {});\n",
              "          if (!dataTable) return;\n",
              "\n",
              "          const docLinkHtml = 'Like what you see? Visit the ' +\n",
              "            '<a target=\"_blank\" href=https://colab.research.google.com/notebooks/data_table.ipynb>data table notebook</a>'\n",
              "            + ' to learn more about interactive tables.';\n",
              "          element.innerHTML = '';\n",
              "          dataTable['output_type'] = 'display_data';\n",
              "          await google.colab.output.renderOutput(dataTable, element);\n",
              "          const docLink = document.createElement('div');\n",
              "          docLink.innerHTML = docLinkHtml;\n",
              "          element.appendChild(docLink);\n",
              "        }\n",
              "      </script>\n",
              "    </div>\n",
              "  </div>\n",
              "  "
            ],
            "text/plain": [
              "        reservation_id  ...                     trip\n",
              "751543        21898188  ...  경기도 고양시 덕양구,경기도 고양시 덕양구\n",
              "751544        23019737  ...                      NaN\n",
              "751545        22674225  ...                  경기도 시흥시\n",
              "751546        23627837  ...                서울특별시 구로구\n",
              "751547        21370466  ...       서울특별시 중구,서울특별시 성동구\n",
              "\n",
              "[5 rows x 22 columns]"
            ]
          },
          "metadata": {},
          "execution_count": 327
        }
      ]
    },
    {
      "cell_type": "code",
      "source": [
        "data.info()"
      ],
      "metadata": {
        "colab": {
          "base_uri": "https://localhost:8080/"
        },
        "id": "pzjq_hclBNt1",
        "outputId": "a9fbc150-49be-4362-a1aa-7f3c27105ccd"
      },
      "execution_count": 328,
      "outputs": [
        {
          "output_type": "stream",
          "name": "stdout",
          "text": [
            "<class 'pandas.core.frame.DataFrame'>\n",
            "RangeIndex: 751548 entries, 0 to 751547\n",
            "Data columns (total 22 columns):\n",
            " #   Column                   Non-Null Count   Dtype  \n",
            "---  ------                   --------------   -----  \n",
            " 0   reservation_id           751548 non-null  int64  \n",
            " 1   car_id                   751548 non-null  int64  \n",
            " 2   member_id_encrypted      751548 non-null  object \n",
            " 3   region                   751548 non-null  object \n",
            " 4   reservation_return_at    751548 non-null  object \n",
            " 5   reservation_start_at     751548 non-null  object \n",
            " 6   member_age               751548 non-null  int64  \n",
            " 7   member_gender            699017 non-null  object \n",
            " 8   member_created_date      751548 non-null  object \n",
            " 9   member_total_distance    738010 non-null  float64\n",
            " 10  is_vroom                 751548 non-null  bool   \n",
            " 11  car_name                 751548 non-null  object \n",
            " 12  zone_name                750774 non-null  object \n",
            " 13  zone_address             751548 non-null  object \n",
            " 14  zone_lat                 751548 non-null  float64\n",
            " 15  zone_lng                 751548 non-null  float64\n",
            " 16  zone_type1               733508 non-null  object \n",
            " 17  zone_type2               691605 non-null  object \n",
            " 18  zone_type3               637422 non-null  object \n",
            " 19  reservation_created_lat  199701 non-null  float64\n",
            " 20  reservation_created_lng  199701 non-null  float64\n",
            " 21  trip                     555474 non-null  object \n",
            "dtypes: bool(1), float64(5), int64(3), object(13)\n",
            "memory usage: 121.1+ MB\n"
          ]
        }
      ]
    },
    {
      "cell_type": "code",
      "source": [
        "# 결측치 제거\n",
        "data = data.dropna()"
      ],
      "metadata": {
        "id": "5LDJF2sJK7t8"
      },
      "execution_count": 329,
      "outputs": []
    },
    {
      "cell_type": "code",
      "source": [
        "user_data = data.drop(['reservation_id', 'zone_address', 'car_id', 'zone_name', 'zone_lat', 'zone_lng', 'reservation_created_lat', 'reservation_created_lng', 'zone_type1','zone_type2','zone_type3', 'trip', 'car_name'], 1)\n",
        "user_data.head()"
      ],
      "metadata": {
        "colab": {
          "base_uri": "https://localhost:8080/",
          "height": 392
        },
        "id": "ISLJeTbW1SrO",
        "outputId": "fff4ece3-7189-48f0-c76b-68448992d9ed"
      },
      "execution_count": 496,
      "outputs": [
        {
          "output_type": "execute_result",
          "data": {
            "text/html": [
              "\n",
              "  <div id=\"df-fbe8c7d2-1c41-4995-a930-55d2cfa4f718\">\n",
              "    <div class=\"colab-df-container\">\n",
              "      <div>\n",
              "<style scoped>\n",
              "    .dataframe tbody tr th:only-of-type {\n",
              "        vertical-align: middle;\n",
              "    }\n",
              "\n",
              "    .dataframe tbody tr th {\n",
              "        vertical-align: top;\n",
              "    }\n",
              "\n",
              "    .dataframe thead th {\n",
              "        text-align: right;\n",
              "    }\n",
              "</style>\n",
              "<table border=\"1\" class=\"dataframe\">\n",
              "  <thead>\n",
              "    <tr style=\"text-align: right;\">\n",
              "      <th></th>\n",
              "      <th>member_id_encrypted</th>\n",
              "      <th>region</th>\n",
              "      <th>reservation_return_at</th>\n",
              "      <th>reservation_start_at</th>\n",
              "      <th>member_age</th>\n",
              "      <th>member_gender</th>\n",
              "      <th>member_created_date</th>\n",
              "      <th>member_total_distance</th>\n",
              "      <th>is_vroom</th>\n",
              "    </tr>\n",
              "  </thead>\n",
              "  <tbody>\n",
              "    <tr>\n",
              "      <th>6</th>\n",
              "      <td>4ajKUi7NO5DK48QcNc0NL9h0pXzgz3KehGXod1D4dsk=</td>\n",
              "      <td>경기도 화성시</td>\n",
              "      <td>2019-11-08 13:15:58</td>\n",
              "      <td>2019-11-07 17:50:00</td>\n",
              "      <td>24</td>\n",
              "      <td>male</td>\n",
              "      <td>2019-05-03</td>\n",
              "      <td>1888.0</td>\n",
              "      <td>False</td>\n",
              "    </tr>\n",
              "    <tr>\n",
              "      <th>14</th>\n",
              "      <td>DW47WQIr0JDuo0nA9xmV8/fuZtXygkKAjc4h1V3pqac=</td>\n",
              "      <td>경기도 광명시</td>\n",
              "      <td>2019-09-26 12:40:04</td>\n",
              "      <td>2019-09-26 07:30:00</td>\n",
              "      <td>38</td>\n",
              "      <td>female</td>\n",
              "      <td>2017-02-14</td>\n",
              "      <td>5869.0</td>\n",
              "      <td>False</td>\n",
              "    </tr>\n",
              "    <tr>\n",
              "      <th>17</th>\n",
              "      <td>HDHnuvFaMd7RPvqqL2My8B9tberJkDVjU1LOqqMmN/I=</td>\n",
              "      <td>경기도 의정부시</td>\n",
              "      <td>2019-09-03 18:16:14</td>\n",
              "      <td>2019-09-03 16:30:00</td>\n",
              "      <td>32</td>\n",
              "      <td>male</td>\n",
              "      <td>2019-08-18</td>\n",
              "      <td>221.0</td>\n",
              "      <td>False</td>\n",
              "    </tr>\n",
              "    <tr>\n",
              "      <th>27</th>\n",
              "      <td>cSSOV3mE7n39mi/dZ6o2txOZkh9hsbiXANicifDElRM=</td>\n",
              "      <td>서울특별시 강남구</td>\n",
              "      <td>2019-08-25 13:28:30</td>\n",
              "      <td>2019-08-24 13:30:00</td>\n",
              "      <td>31</td>\n",
              "      <td>male</td>\n",
              "      <td>2014-08-03</td>\n",
              "      <td>3106.0</td>\n",
              "      <td>False</td>\n",
              "    </tr>\n",
              "    <tr>\n",
              "      <th>32</th>\n",
              "      <td>dwqOC0gWt9k632109ylHlypf8b0m4GhGy1HGIhxrgNg=</td>\n",
              "      <td>서울특별시 강서구</td>\n",
              "      <td>2019-11-16 16:00:06</td>\n",
              "      <td>2019-11-16 10:30:00</td>\n",
              "      <td>28</td>\n",
              "      <td>female</td>\n",
              "      <td>2016-09-18</td>\n",
              "      <td>188.0</td>\n",
              "      <td>False</td>\n",
              "    </tr>\n",
              "  </tbody>\n",
              "</table>\n",
              "</div>\n",
              "      <button class=\"colab-df-convert\" onclick=\"convertToInteractive('df-fbe8c7d2-1c41-4995-a930-55d2cfa4f718')\"\n",
              "              title=\"Convert this dataframe to an interactive table.\"\n",
              "              style=\"display:none;\">\n",
              "        \n",
              "  <svg xmlns=\"http://www.w3.org/2000/svg\" height=\"24px\"viewBox=\"0 0 24 24\"\n",
              "       width=\"24px\">\n",
              "    <path d=\"M0 0h24v24H0V0z\" fill=\"none\"/>\n",
              "    <path d=\"M18.56 5.44l.94 2.06.94-2.06 2.06-.94-2.06-.94-.94-2.06-.94 2.06-2.06.94zm-11 1L8.5 8.5l.94-2.06 2.06-.94-2.06-.94L8.5 2.5l-.94 2.06-2.06.94zm10 10l.94 2.06.94-2.06 2.06-.94-2.06-.94-.94-2.06-.94 2.06-2.06.94z\"/><path d=\"M17.41 7.96l-1.37-1.37c-.4-.4-.92-.59-1.43-.59-.52 0-1.04.2-1.43.59L10.3 9.45l-7.72 7.72c-.78.78-.78 2.05 0 2.83L4 21.41c.39.39.9.59 1.41.59.51 0 1.02-.2 1.41-.59l7.78-7.78 2.81-2.81c.8-.78.8-2.07 0-2.86zM5.41 20L4 18.59l7.72-7.72 1.47 1.35L5.41 20z\"/>\n",
              "  </svg>\n",
              "      </button>\n",
              "      \n",
              "  <style>\n",
              "    .colab-df-container {\n",
              "      display:flex;\n",
              "      flex-wrap:wrap;\n",
              "      gap: 12px;\n",
              "    }\n",
              "\n",
              "    .colab-df-convert {\n",
              "      background-color: #E8F0FE;\n",
              "      border: none;\n",
              "      border-radius: 50%;\n",
              "      cursor: pointer;\n",
              "      display: none;\n",
              "      fill: #1967D2;\n",
              "      height: 32px;\n",
              "      padding: 0 0 0 0;\n",
              "      width: 32px;\n",
              "    }\n",
              "\n",
              "    .colab-df-convert:hover {\n",
              "      background-color: #E2EBFA;\n",
              "      box-shadow: 0px 1px 2px rgba(60, 64, 67, 0.3), 0px 1px 3px 1px rgba(60, 64, 67, 0.15);\n",
              "      fill: #174EA6;\n",
              "    }\n",
              "\n",
              "    [theme=dark] .colab-df-convert {\n",
              "      background-color: #3B4455;\n",
              "      fill: #D2E3FC;\n",
              "    }\n",
              "\n",
              "    [theme=dark] .colab-df-convert:hover {\n",
              "      background-color: #434B5C;\n",
              "      box-shadow: 0px 1px 3px 1px rgba(0, 0, 0, 0.15);\n",
              "      filter: drop-shadow(0px 1px 2px rgba(0, 0, 0, 0.3));\n",
              "      fill: #FFFFFF;\n",
              "    }\n",
              "  </style>\n",
              "\n",
              "      <script>\n",
              "        const buttonEl =\n",
              "          document.querySelector('#df-fbe8c7d2-1c41-4995-a930-55d2cfa4f718 button.colab-df-convert');\n",
              "        buttonEl.style.display =\n",
              "          google.colab.kernel.accessAllowed ? 'block' : 'none';\n",
              "\n",
              "        async function convertToInteractive(key) {\n",
              "          const element = document.querySelector('#df-fbe8c7d2-1c41-4995-a930-55d2cfa4f718');\n",
              "          const dataTable =\n",
              "            await google.colab.kernel.invokeFunction('convertToInteractive',\n",
              "                                                     [key], {});\n",
              "          if (!dataTable) return;\n",
              "\n",
              "          const docLinkHtml = 'Like what you see? Visit the ' +\n",
              "            '<a target=\"_blank\" href=https://colab.research.google.com/notebooks/data_table.ipynb>data table notebook</a>'\n",
              "            + ' to learn more about interactive tables.';\n",
              "          element.innerHTML = '';\n",
              "          dataTable['output_type'] = 'display_data';\n",
              "          await google.colab.output.renderOutput(dataTable, element);\n",
              "          const docLink = document.createElement('div');\n",
              "          docLink.innerHTML = docLinkHtml;\n",
              "          element.appendChild(docLink);\n",
              "        }\n",
              "      </script>\n",
              "    </div>\n",
              "  </div>\n",
              "  "
            ],
            "text/plain": [
              "                             member_id_encrypted  ... is_vroom\n",
              "6   4ajKUi7NO5DK48QcNc0NL9h0pXzgz3KehGXod1D4dsk=  ...    False\n",
              "14  DW47WQIr0JDuo0nA9xmV8/fuZtXygkKAjc4h1V3pqac=  ...    False\n",
              "17  HDHnuvFaMd7RPvqqL2My8B9tberJkDVjU1LOqqMmN/I=  ...    False\n",
              "27  cSSOV3mE7n39mi/dZ6o2txOZkh9hsbiXANicifDElRM=  ...    False\n",
              "32  dwqOC0gWt9k632109ylHlypf8b0m4GhGy1HGIhxrgNg=  ...    False\n",
              "\n",
              "[5 rows x 9 columns]"
            ]
          },
          "metadata": {},
          "execution_count": 496
        }
      ]
    },
    {
      "cell_type": "markdown",
      "source": [
        "# 1. 유저 정보\n",
        "- 쏘카 이용자의 75%가 40세 이하, 평균 나이 31세 남성 운전자가 여자 운전자에 비해 4배 정도 많음\n",
        "- 첫 가입 후 평균 2~3년정도 쏘카 서비스를 이용, 전체 이용자의 75% 정도가 10시간 이내 가량 이용함\n",
        "- 전체 이용자의 75%가 6500km 정도 주행\n",
        "- 요일 상관없이, 균일하게 이용하나 토요일에 가장 사용량이 많고\n",
        "- 인구수가 많은 지역의 젊은 층에서 많이 이용함\n",
        "- 이용기간과 이용시간에 비해, 주행거리는 길지 않음\n",
        "- 이용 빈도로 보아 단기성 이용자가 가장 많음(서비스를 제안한다면,주 타겟층으로 보임)\n",
        "- 예약주기 이외에 시간데이터 변수화 활용할 것은 없어보임"
      ],
      "metadata": {
        "id": "oaG0LflDsD6W"
      }
    },
    {
      "cell_type": "code",
      "source": [
        "# 임의의 컬럼 분석(나이 분포)\n",
        "# 전체 연령의 50% 정도가 29세 정도\n",
        "user_data['member_age'].describe()"
      ],
      "metadata": {
        "colab": {
          "base_uri": "https://localhost:8080/"
        },
        "id": "UCH4nfXxLnxT",
        "outputId": "2e5fecf1-1bda-45d5-e58c-de966ecccb5b"
      },
      "execution_count": 374,
      "outputs": [
        {
          "output_type": "execute_result",
          "data": {
            "text/plain": [
              "count    124755.000000\n",
              "mean         31.686089\n",
              "std           8.815163\n",
              "min          21.000000\n",
              "25%          25.000000\n",
              "50%          29.000000\n",
              "75%          37.000000\n",
              "max          78.000000\n",
              "Name: member_age, dtype: float64"
            ]
          },
          "metadata": {},
          "execution_count": 374
        }
      ]
    },
    {
      "cell_type": "code",
      "source": [
        "plt.hist(user_data['member_age'], bins=7)"
      ],
      "metadata": {
        "colab": {
          "base_uri": "https://localhost:8080/",
          "height": 351
        },
        "id": "VoBgNi8-VOaG",
        "outputId": "bf4bd82b-6691-4050-8bb0-8d2a6ddc34a0"
      },
      "execution_count": 375,
      "outputs": [
        {
          "output_type": "execute_result",
          "data": {
            "text/plain": [
              "(array([6.4889e+04, 3.1672e+04, 1.5980e+04, 9.3850e+03, 2.3750e+03,\n",
              "        4.3300e+02, 2.1000e+01]),\n",
              " array([21.        , 29.14285714, 37.28571429, 45.42857143, 53.57142857,\n",
              "        61.71428571, 69.85714286, 78.        ]),\n",
              " <a list of 7 Patch objects>)"
            ]
          },
          "metadata": {},
          "execution_count": 375
        },
        {
          "output_type": "display_data",
          "data": {
            "image/png": "[encoded data removed]",
            "text/plain": [
              "<Figure size 432x288 with 1 Axes>"
            ]
          },
          "metadata": {
            "needs_background": "light"
          }
        }
      ]
    },
    {
      "cell_type": "code",
      "source": [
        "# 남자 이용자가 여자 이용자의 4배 가량 많음\n",
        "user_data['member_gender'].value_counts(normalize=True).plot(kind=\"pie\")"
      ],
      "metadata": {
        "colab": {
          "base_uri": "https://localhost:8080/",
          "height": 265
        },
        "id": "1wWeAfm1S2Wn",
        "outputId": "f8a70d03-be5a-4028-a6b9-2a23cf76720a"
      },
      "execution_count": 376,
      "outputs": [
        {
          "output_type": "execute_result",
          "data": {
            "text/plain": [
              "<matplotlib.axes._subplots.AxesSubplot at 0x7fe3da5e54d0>"
            ]
          },
          "metadata": {},
          "execution_count": 376
        },
        {
          "output_type": "display_data",
          "data": {
            "image/png": "[encoded data removed]",
            "text/plain": [
              "<Figure size 432x288 with 1 Axes>"
            ]
          },
          "metadata": {}
        }
      ]
    },
    {
      "cell_type": "code",
      "source": [
        "!sudo apt-get install -y fonts-nanum\n",
        "!sudo fc-cache -fv\n",
        "!rm ~/.cache/matplotlib -rf\n",
        "%matplotlib inline  "
      ],
      "metadata": {
        "colab": {
          "base_uri": "https://localhost:8080/"
        },
        "id": "tAwtR2GftVsX",
        "outputId": "cad49521-6a91-4581-cf82-044400a21e34"
      },
      "execution_count": 377,
      "outputs": [
        {
          "output_type": "stream",
          "name": "stdout",
          "text": [
            "Reading package lists... Done\n",
            "Building dependency tree       \n",
            "Reading state information... Done\n",
            "fonts-nanum is already the newest version (20170925-1).\n",
            "0 upgraded, 0 newly installed, 0 to remove and 37 not upgraded.\n",
            "/usr/share/fonts: caching, new cache contents: 0 fonts, 1 dirs\n",
            "/usr/share/fonts/truetype: caching, new cache contents: 0 fonts, 3 dirs\n",
            "/usr/share/fonts/truetype/humor-sans: caching, new cache contents: 1 fonts, 0 dirs\n",
            "/usr/share/fonts/truetype/liberation: caching, new cache contents: 16 fonts, 0 dirs\n",
            "/usr/share/fonts/truetype/nanum: caching, new cache contents: 10 fonts, 0 dirs\n",
            "/usr/local/share/fonts: caching, new cache contents: 0 fonts, 0 dirs\n",
            "/root/.local/share/fonts: skipping, no such directory\n",
            "/root/.fonts: skipping, no such directory\n",
            "/var/cache/fontconfig: cleaning cache directory\n",
            "/root/.cache/fontconfig: not cleaning non-existent cache directory\n",
            "/root/.fontconfig: not cleaning non-existent cache directory\n",
            "fc-cache: succeeded\n"
          ]
        }
      ]
    },
    {
      "cell_type": "code",
      "source": [
        "import matplotlib.font_manager as fm\n",
        "from matplotlib import rc\n",
        "\n",
        "font_list = [font.name for font in fm.fontManager.ttflist]\n",
        "#font_list"
      ],
      "metadata": {
        "id": "zlbKDSJXuEhe"
      },
      "execution_count": 378,
      "outputs": []
    },
    {
      "cell_type": "code",
      "source": [
        "plt.rcParams['font.family'] = 'NanumMyeongjo'\n",
        "plt.rc('font', size=8)\n",
        "\n",
        "region_rate = user_data['region'].value_counts(normalize=True)\n",
        "\n",
        "# 상위 20개 지역만 사용\n",
        "top20_region=region_rate.nlargest(20)\n",
        "#print(top20_region)\n",
        "top20_region.plot.bar(rot=0, figsize=(30,10))"
      ],
      "metadata": {
        "id": "wxnBjZkDVnM8",
        "outputId": "fbdd1871-68c3-42f0-9b25-7245ad42c457",
        "colab": {
          "base_uri": "https://localhost:8080/",
          "height": 476
        }
      },
      "execution_count": 379,
      "outputs": [
        {
          "output_type": "execute_result",
          "data": {
            "text/plain": [
              "<matplotlib.axes._subplots.AxesSubplot at 0x7fe3da4cfd10>"
            ]
          },
          "metadata": {},
          "execution_count": 379
        },
        {
          "output_type": "display_data",
          "data": {
            "image/png": "[encoded data removed]",
            "text/plain": [
              "<Figure size 2160x720 with 1 Axes>"
            ]
          },
          "metadata": {
            "needs_background": "light"
          }
        }
      ]
    },
    {
      "cell_type": "code",
      "source": [
        "user_data['reservation_start_at'] = pd.to_datetime(user_data['reservation_start_at'])\n",
        "user_data['reservation_return_at'] = pd.to_datetime(user_data['reservation_return_at'])\n",
        "user_data['member_created_date'] = pd.to_datetime(user_data['member_created_date'])\n",
        "\n",
        "user_data['월']=user_data['reservation_start_at'].dt.month\n",
        "user_data['요일']=user_data['reservation_start_at'].dt.day_name()"
      ],
      "metadata": {
        "id": "Ei-TM1wX_hha"
      },
      "execution_count": 446,
      "outputs": []
    },
    {
      "cell_type": "code",
      "source": [
        "# 휴가철보다 가을이 단기성 이용 횟수가 많아보임\n",
        "user_data['월'].value_counts(normalize=True).plot(kind=\"pie\")"
      ],
      "metadata": {
        "id": "wbolXtSEg5kP",
        "outputId": "398c0a09-2811-4ce1-aca4-cc1be0d17c90",
        "colab": {
          "base_uri": "https://localhost:8080/",
          "height": 265
        }
      },
      "execution_count": 447,
      "outputs": [
        {
          "output_type": "execute_result",
          "data": {
            "text/plain": [
              "<matplotlib.axes._subplots.AxesSubplot at 0x7fe3d813b1d0>"
            ]
          },
          "metadata": {},
          "execution_count": 447
        },
        {
          "output_type": "display_data",
          "data": {
            "image/png": "[encoded data removed]",
            "text/plain": [
              "<Figure size 432x288 with 1 Axes>"
            ]
          },
          "metadata": {}
        }
      ]
    },
    {
      "cell_type": "code",
      "source": [
        "# 요일에 상관없이 이용 횟수가 고른 편\n",
        "# 가장 많이 이용하는 요일은 토요일\n",
        "\n",
        "user_data['요일'].value_counts(normalize=True).plot(kind=\"pie\")"
      ],
      "metadata": {
        "id": "BwWPPxN4jvAN",
        "outputId": "25d91f9a-7e86-496e-cf22-3a1d7be4752a",
        "colab": {
          "base_uri": "https://localhost:8080/",
          "height": 265
        }
      },
      "execution_count": 448,
      "outputs": [
        {
          "output_type": "execute_result",
          "data": {
            "text/plain": [
              "<matplotlib.axes._subplots.AxesSubplot at 0x7fe3d80f8350>"
            ]
          },
          "metadata": {},
          "execution_count": 448
        },
        {
          "output_type": "display_data",
          "data": {
            "image/png": "[encoded data removed]",
            "text/plain": [
              "<Figure size 432x288 with 1 Axes>"
            ]
          },
          "metadata": {}
        }
      ]
    },
    {
      "cell_type": "code",
      "source": [
        "# 반납 시간 - 예약 시작 시간\n",
        "# 전체 이용자 중의 75%가 10시간 이내\n",
        "user_data['이용시간']=((user_data['reservation_return_at'] - user_data['reservation_start_at']))\n",
        "user_data['이용시간'].describe()"
      ],
      "metadata": {
        "colab": {
          "base_uri": "https://localhost:8080/"
        },
        "id": "cr8wvCEzqtA5",
        "outputId": "818e9dad-cc59-4f4b-9df8-7da972703505"
      },
      "execution_count": 470,
      "outputs": [
        {
          "output_type": "execute_result",
          "data": {
            "text/plain": [
              "count                       124755\n",
              "mean     0 days 09:49:59.687603703\n",
              "std      0 days 14:35:42.425974396\n",
              "min                0 days 00:13:10\n",
              "25%                0 days 03:20:46\n",
              "50%                0 days 05:20:49\n",
              "75%                0 days 10:28:12\n",
              "max               15 days 00:08:22\n",
              "Name: 이용시간, dtype: object"
            ]
          },
          "metadata": {},
          "execution_count": 470
        }
      ]
    },
    {
      "cell_type": "code",
      "source": [
        "user_data['이용시간']=user_data['이용시간'].dt.seconds\n",
        "user_data['이용시간']"
      ],
      "metadata": {
        "id": "fri3vxpG1nyr",
        "outputId": "4ff22e1b-9dbe-472f-fb82-1c654966f275",
        "colab": {
          "base_uri": "https://localhost:8080/"
        }
      },
      "execution_count": 471,
      "outputs": [
        {
          "output_type": "execute_result",
          "data": {
            "text/plain": [
              "6         69958\n",
              "14        18604\n",
              "17         6374\n",
              "27        86310\n",
              "32        19806\n",
              "          ...  \n",
              "751504     1443\n",
              "751519    26468\n",
              "751531    12996\n",
              "751532    20513\n",
              "751540    29530\n",
              "Name: 이용시간, Length: 124755, dtype: int64"
            ]
          },
          "metadata": {},
          "execution_count": 471
        }
      ]
    },
    {
      "cell_type": "code",
      "source": [
        "# 예약  시작  시간 - 회원가입  날짜\n",
        "# 이용자의 절반이 가입후 2년 정도 사용\n",
        "user_data['가입후_이용기간']=((user_data['reservation_start_at'] - user_data['member_created_date']))\n",
        "user_data['가입후_이용기간'].describe()"
      ],
      "metadata": {
        "id": "YOf6VNx8TbkD",
        "colab": {
          "base_uri": "https://localhost:8080/"
        },
        "outputId": "a31a06d3-fa1c-410f-c99c-ee057e4059a8"
      },
      "execution_count": 457,
      "outputs": [
        {
          "output_type": "execute_result",
          "data": {
            "text/plain": [
              "count                         124755\n",
              "mean     838 days 12:58:13.591919792\n",
              "std      594 days 01:17:52.240760704\n",
              "min                  0 days 00:30:00\n",
              "25%                312 days 20:15:00\n",
              "50%                787 days 10:20:00\n",
              "75%               1308 days 13:30:00\n",
              "max               2814 days 13:10:00\n",
              "Name: 가입후_이용기간, dtype: object"
            ]
          },
          "metadata": {},
          "execution_count": 457
        }
      ]
    },
    {
      "cell_type": "code",
      "source": [
        "user_data['가입후_이용기간']=user_data['가입후_이용기간'].dt.days\n",
        "user_data['가입후_이용기간']"
      ],
      "metadata": {
        "id": "Sp9ryz68wyH4",
        "outputId": "91ce835c-bfbd-4860-a1ff-53bb1a082ae7",
        "colab": {
          "base_uri": "https://localhost:8080/"
        }
      },
      "execution_count": 458,
      "outputs": [
        {
          "output_type": "execute_result",
          "data": {
            "text/plain": [
              "6          188\n",
              "14         954\n",
              "17          16\n",
              "27        1847\n",
              "32        1154\n",
              "          ... \n",
              "751504     324\n",
              "751519    1336\n",
              "751531     919\n",
              "751532     330\n",
              "751540     465\n",
              "Name: 가입후_이용기간, Length: 124755, dtype: int64"
            ]
          },
          "metadata": {},
          "execution_count": 458
        }
      ]
    },
    {
      "cell_type": "code",
      "source": [
        "# 이용자별 주행거리\n",
        "# 평균 5000km 사용, 이용자의 75%가 6545km 이용\n",
        "# id당 누적 그래프 시각화 가능하나, 큰 의미는 없어 보임\n",
        "# 예약만 하고 이용하지 않은 사람도 다수(제거 필요해보임)\n",
        "user_data['member_total_distance'].describe()"
      ],
      "metadata": {
        "colab": {
          "base_uri": "https://localhost:8080/"
        },
        "id": "P86evMzCtLcu",
        "outputId": "7c23d558-9f9c-48da-afcf-a18ac3d33d53"
      },
      "execution_count": 459,
      "outputs": [
        {
          "output_type": "execute_result",
          "data": {
            "text/plain": [
              "count    124755.000000\n",
              "mean       5004.255348\n",
              "std        7084.237631\n",
              "min           0.000000\n",
              "25%         827.000000\n",
              "50%        2534.000000\n",
              "75%        6545.000000\n",
              "max      121163.000000\n",
              "Name: member_total_distance, dtype: float64"
            ]
          },
          "metadata": {},
          "execution_count": 459
        }
      ]
    },
    {
      "cell_type": "code",
      "source": [
        "# 멤버당 이용 횟수\n",
        "usage_frequency_per_member = user_data['member_id_encrypted'].value_counts()\n",
        "print(usage_frequency_per_member)\n",
        "\n",
        "#user_data['usage_frequency_per_member'] = usage_frequency_per_member"
      ],
      "metadata": {
        "colab": {
          "base_uri": "https://localhost:8080/"
        },
        "id": "69sTaPQ2zoY2",
        "outputId": "50c02f0b-cbaf-4370-99f9-481dd9ccbb11"
      },
      "execution_count": 498,
      "outputs": [
        {
          "output_type": "stream",
          "name": "stdout",
          "text": [
            "MRo1KLaA/jViPznvtnLB/tHLuvX3XjHsk2dlDkiPfZM=    95\n",
            "+ofceBEd7+aPZE6tmux2xNxppZMqRx4rf8Uf88sVLgI=    79\n",
            "OuIBb1HQX5uBh/9gCv5q/ToOjLMh/7E1/UBXEu5rvrE=    79\n",
            "MGKifPpgs6UKyZhi9LEqHKO9MckfSlKq1PPQF+QVHko=    63\n",
            "xk4mrfLC8oDn8WKckTAngD4ZvbWgatwpUuk5D7bxAHo=    60\n",
            "                                                ..\n",
            "ea/C1zIZcNOeUuqghrWpzN8SKxA8BvWIgIlgDu3dHWg=     1\n",
            "fAsW2Hjc+j8eULBC6nMUKqyxX/JwIQAkRmjfevS9dno=     1\n",
            "w2PWEde9m7bxbC0gisIr4WSrb3fRw0We7Jdz5ApN9+I=     1\n",
            "5S6HK9IQtQPkD9/DYbkDD+P/HOYwmRAf8mEjOa8L4bw=     1\n",
            "Pgcp25fmH3d4WG70gMAbWFNrk1aAg24UsmAMnZQVJW4=     1\n",
            "Name: member_id_encrypted, Length: 59907, dtype: int64\n"
          ]
        }
      ]
    },
    {
      "cell_type": "code",
      "source": [
        "#딕셔너리화 해서 파이 차트로 구현\n",
        "usage_frequency_dict = dict(usage_frequency_per_member)\n",
        "\n",
        "# 새로운 딕셔너리 생성 key : 횟수, value : 중복된 수\n",
        "count = {}\n",
        "new_key = list(usage_frequency_dict.values())\n",
        "\n",
        "for i in new_key:\n",
        "    try : count[i] += 1\n",
        "    except : count[i] = 1\n",
        "\n",
        "#print(count)\n",
        "plt.figure(figsize=(10,10))\n",
        "plt.pie(count.values(), labels=count.keys())\n",
        "\n",
        "#평균, 최대, 최소값으로 의미 추출 가능해보임"
      ],
      "metadata": {
        "id": "qWAlvsmnAxcB",
        "colab": {
          "base_uri": "https://localhost:8080/",
          "height": 1000
        },
        "outputId": "48d003e6-7a08-45b8-c83c-cba1cee783d4"
      },
      "execution_count": 499,
      "outputs": [
        {
          "output_type": "execute_result",
          "data": {
            "text/plain": [
              "([<matplotlib.patches.Wedge at 0x7fe3d7fb9050>,\n",
              "  <matplotlib.patches.Wedge at 0x7fe3d7f9d7d0>,\n",
              "  <matplotlib.patches.Wedge at 0x7fe3d7f9d8d0>,\n",
              "  <matplotlib.patches.Wedge at 0x7fe3d7216210>,\n",
              "  <matplotlib.patches.Wedge at 0x7fe3d7216a90>,\n",
              "  <matplotlib.patches.Wedge at 0x7fe3d721f0d0>,\n",
              "  <matplotlib.patches.Wedge at 0x7fe3d721f5d0>,\n",
              "  <matplotlib.patches.Wedge at 0x7fe3d721fc10>,\n",
              "  <matplotlib.patches.Wedge at 0x7fe3d72167d0>,\n",
              "  <matplotlib.patches.Wedge at 0x7fe3d7216ed0>,\n",
              "  <matplotlib.patches.Wedge at 0x7fe3d7fb9f50>,\n",
              "  <matplotlib.patches.Wedge at 0x7fe3d7234350>,\n",
              "  <matplotlib.patches.Wedge at 0x7fe3d7234910>,\n",
              "  <matplotlib.patches.Wedge at 0x7fe3d7234ed0>,\n",
              "  <matplotlib.patches.Wedge at 0x7fe3d71bf4d0>,\n",
              "  <matplotlib.patches.Wedge at 0x7fe3d71bfa90>,\n",
              "  <matplotlib.patches.Wedge at 0x7fe3d71cc090>,\n",
              "  <matplotlib.patches.Wedge at 0x7fe3d71cc650>,\n",
              "  <matplotlib.patches.Wedge at 0x7fe3d71ccc10>,\n",
              "  <matplotlib.patches.Wedge at 0x7fe3d71d6210>,\n",
              "  <matplotlib.patches.Wedge at 0x7fe3d71d67d0>,\n",
              "  <matplotlib.patches.Wedge at 0x7fe3d71d6d90>,\n",
              "  <matplotlib.patches.Wedge at 0x7fe3d71e0390>,\n",
              "  <matplotlib.patches.Wedge at 0x7fe3d71e0950>,\n",
              "  <matplotlib.patches.Wedge at 0x7fe3d71e0f10>,\n",
              "  <matplotlib.patches.Wedge at 0x7fe3d71ed510>,\n",
              "  <matplotlib.patches.Wedge at 0x7fe3d71edad0>,\n",
              "  <matplotlib.patches.Wedge at 0x7fe3d71f80d0>,\n",
              "  <matplotlib.patches.Wedge at 0x7fe3d71f8690>,\n",
              "  <matplotlib.patches.Wedge at 0x7fe3d71f8c50>,\n",
              "  <matplotlib.patches.Wedge at 0x7fe3d7182250>,\n",
              "  <matplotlib.patches.Wedge at 0x7fe3d7182810>,\n",
              "  <matplotlib.patches.Wedge at 0x7fe3d7182dd0>,\n",
              "  <matplotlib.patches.Wedge at 0x7fe3d718d3d0>,\n",
              "  <matplotlib.patches.Wedge at 0x7fe3d718d990>,\n",
              "  <matplotlib.patches.Wedge at 0x7fe3d718df50>,\n",
              "  <matplotlib.patches.Wedge at 0x7fe3d7197550>,\n",
              "  <matplotlib.patches.Wedge at 0x7fe3d7197b10>,\n",
              "  <matplotlib.patches.Wedge at 0x7fe3d71a6110>,\n",
              "  <matplotlib.patches.Wedge at 0x7fe3d71a66d0>,\n",
              "  <matplotlib.patches.Wedge at 0x7fe3d71a6c90>,\n",
              "  <matplotlib.patches.Wedge at 0x7fe3d71b0290>,\n",
              "  <matplotlib.patches.Wedge at 0x7fe3d71b0850>,\n",
              "  <matplotlib.patches.Wedge at 0x7fe3d71b0e10>,\n",
              "  <matplotlib.patches.Wedge at 0x7fe3d71bb410>,\n",
              "  <matplotlib.patches.Wedge at 0x7fe3d71bb9d0>,\n",
              "  <matplotlib.patches.Wedge at 0x7fe3d71bbf90>,\n",
              "  <matplotlib.patches.Wedge at 0x7fe3d7147590>,\n",
              "  <matplotlib.patches.Wedge at 0x7fe3d7147b50>,\n",
              "  <matplotlib.patches.Wedge at 0x7fe3d7154150>,\n",
              "  <matplotlib.patches.Wedge at 0x7fe3d7154710>,\n",
              "  <matplotlib.patches.Wedge at 0x7fe3d7154cd0>,\n",
              "  <matplotlib.patches.Wedge at 0x7fe3d715f2d0>,\n",
              "  <matplotlib.patches.Wedge at 0x7fe3d715f890>,\n",
              "  <matplotlib.patches.Wedge at 0x7fe3d715fe50>,\n",
              "  <matplotlib.patches.Wedge at 0x7fe3d716a450>],\n",
              " [Text(1.0999999984874587, 5.768527765406171e-05, '95'),\n",
              "  Text(1.0999999757993364, 0.00023074110902985819, '79'),\n",
              "  Text(1.0999999258854682, 0.0004037969346946556, '63'),\n",
              "  Text(1.0999998774841422, 0.0005191674798498919, '60'),\n",
              "  Text(1.0999998169824858, 0.0006345380192941293, '59'),\n",
              "  Text(1.0999997443804994, 0.000749908551758257, '57'),\n",
              "  Text(1.099999659678184, 0.0008652790759731644, '52'),\n",
              "  Text(1.0999994539725764, 0.0010960200882929034, '50'),\n",
              "  Text(1.099999128776237, 0.0013844462862561797, '49'),\n",
              "  Text(1.0999988973574615, 0.001557501964386859, '48'),\n",
              "  Text(1.0999986387129665, 0.0017305576039683074, '47'),\n",
              "  Text(1.0999983528427586, 0.001903613200717281, '46'),\n",
              "  Text(1.0999981471372275, 0.0020189835726389283, '45'),\n",
              "  Text(1.0999979293313848, 0.002134353922351147, '43'),\n",
              "  Text(1.0999973318779317, 0.0024227796911369197, '42'),\n",
              "  Text(1.0999965151062967, 0.0027688903920615386, '41'),\n",
              "  Text(1.0999960658819832, 0.0029419456418675917, '40'),\n",
              "  Text(1.0999952566733575, 0.0032303708942843885, '39'),\n",
              "  Text(1.0999939967283796, 0.0036341658638220247, '38'),\n",
              "  Text(1.0999923752873133, 0.004095645220793406, '37'),\n",
              "  Text(1.0999905602422926, 0.0045571238569115085, '36'),\n",
              "  Text(1.0999885515936372, 0.0050186016909538715, '35'),\n",
              "  Text(1.0999866352108356, 0.005422394078651072, '34'),\n",
              "  Text(1.0999836403922214, 0.005999239074766307, '33'),\n",
              "  Text(1.0999778549547408, 0.006979871715696496, '32'),\n",
              "  Text(1.0999716112311644, 0.007902815037460084, '31'),\n",
              "  Text(1.0999650544267239, 0.008768069343620817, '30'),\n",
              "  Text(1.0999547314566418, 0.009979416122575498, '29'),\n",
              "  Text(1.0999430744800216, 0.011190750798662696, '28'),\n",
              "  Text(1.0999281187617616, 0.012575116588423873, '27'),\n",
              "  Text(1.0999054675117153, 0.014420906276491324, '26'),\n",
              "  Text(1.0998831068151789, 0.01603593909286916, '25'),\n",
              "  Text(1.0998537087185143, 0.017939326022173144, '24'),\n",
              "  Text(1.0998050678994347, 0.02070779135301527, '23'),\n",
              "  Text(1.0997445098722818, 0.023706813488422254, '22'),\n",
              "  Text(1.0996771728888113, 0.02664799105507874, '21'),\n",
              "  Text(1.0995735498514363, 0.030626923892404758, '20'),\n",
              "  Text(1.0994223746712508, 0.03564326124568463, '19'),\n",
              "  Text(1.0992397617238816, 0.04088943928722786, '18'),\n",
              "  Text(1.0989781581621085, 0.04740261472344925, '17'),\n",
              "  Text(1.0986380847520456, 0.05472073402612025, '16'),\n",
              "  Text(1.0982100237638581, 0.06272753545761746, '15'),\n",
              "  Text(1.0975111611906239, 0.07395438500865742, '14'),\n",
              "  Text(1.0964796602429612, 0.08793380847819919, '13'),\n",
              "  Text(1.0950375417281781, 0.10436849240028645, '12'),\n",
              "  Text(1.0928459206272996, 0.1252509232232242, '11'),\n",
              "  Text(1.0895147843500264, 0.15151744019325153, '10'),\n",
              "  Text(1.0841405925539058, 0.18611602718967013, '9'),\n",
              "  Text(1.0752349950988138, 0.23209848193138644, '8'),\n",
              "  Text(1.05998823121003, 0.29398120636570013, '7'),\n",
              "  Text(1.0323203460465729, 0.37988775070839564, '6'),\n",
              "  Text(0.9799251013756322, 0.49974673154904886, '5'),\n",
              "  Text(0.8719375137880211, 0.670615368187432, '4'),\n",
              "  Text(0.6165811790182435, 0.9109487634771085, '3'),\n",
              "  Text(-0.0965848230705571, 1.0957515101301158, '2'),\n",
              "  Text(-0.530655740599695, -0.9635374849836353, '1')])"
            ]
          },
          "metadata": {},
          "execution_count": 499
        },
        {
          "output_type": "display_data",
          "data": {
            "image/png": "[encoded data removed]",
            "text/plain": [
              "<Figure size 720x720 with 1 Axes>"
            ]
          },
          "metadata": {}
        }
      ]
    },
    {
      "cell_type": "code",
      "source": [
        "# 수치형 데이터에 해당하는 컬럼 통계\n",
        "\n",
        "df1 = user_data[['member_age', 'member_total_distance', '가입후_이용기간','이용시간']]\n",
        "df1.plot.box()\n",
        "plt.title(\"각 Feature의 요약 통계에 대한 Box Plot\")\n",
        "plt.xlabel(\"Feature\")\n",
        "plt.ylabel(\"데이터 값\")\n",
        "plt.show()"
      ],
      "metadata": {
        "colab": {
          "base_uri": "https://localhost:8080/",
          "height": 291
        },
        "id": "kW62jl-lHw_-",
        "outputId": "864ebcbf-0e12-4ac9-993e-1fcbc14f1b55"
      },
      "execution_count": 488,
      "outputs": [
        {
          "output_type": "display_data",
          "data": {
            "image/png": "[encoded data removed]",
            "text/plain": [
              "<Figure size 432x288 with 1 Axes>"
            ]
          },
          "metadata": {
            "needs_background": "light"
          }
        }
      ]
    },
    {
      "cell_type": "code",
      "source": [
        "# 이상치 제거\n",
        "\n",
        "# + 이용시간이 30분 이내인 단기성 이용자는 제외\n",
        "# + 이용기간이 하루 밖에 안되는 단기성 이용자는 제외\n",
        "# + 주행거리 100 이내도 제거\n",
        "\n",
        "usagetime1 = user_data[user_data['이용시간']<=1800].index\n",
        "usageperiod1 = user_data[user_data['가입후_이용기간']==0].index\n",
        "distance1 = user_data[user_data['member_total_distance']<=100].index\n",
        "\n",
        "user_data.drop(distance1)\n",
        "user_data.drop(usagetime1)\n",
        "user_data.drop(usageperiod1)"
      ],
      "metadata": {
        "colab": {
          "base_uri": "https://localhost:8080/",
          "height": 835
        },
        "id": "oj0iUIOcC61T",
        "outputId": "0c296ea6-efa9-4d64-9d87-a076a23066ba"
      },
      "execution_count": 490,
      "outputs": [
        {
          "output_type": "execute_result",
          "data": {
            "text/html": [
              "\n",
              "  <div id=\"df-fc78ad31-ad34-4744-9460-1a091c0eb734\">\n",
              "    <div class=\"colab-df-container\">\n",
              "      <div>\n",
              "<style scoped>\n",
              "    .dataframe tbody tr th:only-of-type {\n",
              "        vertical-align: middle;\n",
              "    }\n",
              "\n",
              "    .dataframe tbody tr th {\n",
              "        vertical-align: top;\n",
              "    }\n",
              "\n",
              "    .dataframe thead th {\n",
              "        text-align: right;\n",
              "    }\n",
              "</style>\n",
              "<table border=\"1\" class=\"dataframe\">\n",
              "  <thead>\n",
              "    <tr style=\"text-align: right;\">\n",
              "      <th></th>\n",
              "      <th>member_id_encrypted</th>\n",
              "      <th>region</th>\n",
              "      <th>reservation_return_at</th>\n",
              "      <th>reservation_start_at</th>\n",
              "      <th>member_age</th>\n",
              "      <th>member_gender</th>\n",
              "      <th>member_created_date</th>\n",
              "      <th>member_total_distance</th>\n",
              "      <th>is_vroom</th>\n",
              "      <th>월</th>\n",
              "      <th>요일</th>\n",
              "      <th>이용시간</th>\n",
              "      <th>가입후_이용기간</th>\n",
              "    </tr>\n",
              "  </thead>\n",
              "  <tbody>\n",
              "    <tr>\n",
              "      <th>6</th>\n",
              "      <td>4ajKUi7NO5DK48QcNc0NL9h0pXzgz3KehGXod1D4dsk=</td>\n",
              "      <td>경기도 화성시</td>\n",
              "      <td>2019-11-08 13:15:58</td>\n",
              "      <td>2019-11-07 17:50:00</td>\n",
              "      <td>24</td>\n",
              "      <td>male</td>\n",
              "      <td>2019-05-03</td>\n",
              "      <td>1888.0</td>\n",
              "      <td>False</td>\n",
              "      <td>11</td>\n",
              "      <td>Thursday</td>\n",
              "      <td>69958</td>\n",
              "      <td>188</td>\n",
              "    </tr>\n",
              "    <tr>\n",
              "      <th>14</th>\n",
              "      <td>DW47WQIr0JDuo0nA9xmV8/fuZtXygkKAjc4h1V3pqac=</td>\n",
              "      <td>경기도 광명시</td>\n",
              "      <td>2019-09-26 12:40:04</td>\n",
              "      <td>2019-09-26 07:30:00</td>\n",
              "      <td>38</td>\n",
              "      <td>female</td>\n",
              "      <td>2017-02-14</td>\n",
              "      <td>5869.0</td>\n",
              "      <td>False</td>\n",
              "      <td>9</td>\n",
              "      <td>Thursday</td>\n",
              "      <td>18604</td>\n",
              "      <td>954</td>\n",
              "    </tr>\n",
              "    <tr>\n",
              "      <th>17</th>\n",
              "      <td>HDHnuvFaMd7RPvqqL2My8B9tberJkDVjU1LOqqMmN/I=</td>\n",
              "      <td>경기도 의정부시</td>\n",
              "      <td>2019-09-03 18:16:14</td>\n",
              "      <td>2019-09-03 16:30:00</td>\n",
              "      <td>32</td>\n",
              "      <td>male</td>\n",
              "      <td>2019-08-18</td>\n",
              "      <td>221.0</td>\n",
              "      <td>False</td>\n",
              "      <td>9</td>\n",
              "      <td>Tuesday</td>\n",
              "      <td>6374</td>\n",
              "      <td>16</td>\n",
              "    </tr>\n",
              "    <tr>\n",
              "      <th>27</th>\n",
              "      <td>cSSOV3mE7n39mi/dZ6o2txOZkh9hsbiXANicifDElRM=</td>\n",
              "      <td>서울특별시 강남구</td>\n",
              "      <td>2019-08-25 13:28:30</td>\n",
              "      <td>2019-08-24 13:30:00</td>\n",
              "      <td>31</td>\n",
              "      <td>male</td>\n",
              "      <td>2014-08-03</td>\n",
              "      <td>3106.0</td>\n",
              "      <td>False</td>\n",
              "      <td>8</td>\n",
              "      <td>Saturday</td>\n",
              "      <td>86310</td>\n",
              "      <td>1847</td>\n",
              "    </tr>\n",
              "    <tr>\n",
              "      <th>32</th>\n",
              "      <td>dwqOC0gWt9k632109ylHlypf8b0m4GhGy1HGIhxrgNg=</td>\n",
              "      <td>서울특별시 강서구</td>\n",
              "      <td>2019-11-16 16:00:06</td>\n",
              "      <td>2019-11-16 10:30:00</td>\n",
              "      <td>28</td>\n",
              "      <td>female</td>\n",
              "      <td>2016-09-18</td>\n",
              "      <td>188.0</td>\n",
              "      <td>False</td>\n",
              "      <td>11</td>\n",
              "      <td>Saturday</td>\n",
              "      <td>19806</td>\n",
              "      <td>1154</td>\n",
              "    </tr>\n",
              "    <tr>\n",
              "      <th>...</th>\n",
              "      <td>...</td>\n",
              "      <td>...</td>\n",
              "      <td>...</td>\n",
              "      <td>...</td>\n",
              "      <td>...</td>\n",
              "      <td>...</td>\n",
              "      <td>...</td>\n",
              "      <td>...</td>\n",
              "      <td>...</td>\n",
              "      <td>...</td>\n",
              "      <td>...</td>\n",
              "      <td>...</td>\n",
              "      <td>...</td>\n",
              "    </tr>\n",
              "    <tr>\n",
              "      <th>751504</th>\n",
              "      <td>0zCedDtT1hmfOHx0/+3oeakw8Zqeeb9xB0pb9yIJuoE=</td>\n",
              "      <td>서울특별시 강서구</td>\n",
              "      <td>2019-09-15 15:44:03</td>\n",
              "      <td>2019-09-14 15:20:00</td>\n",
              "      <td>31</td>\n",
              "      <td>female</td>\n",
              "      <td>2018-10-25</td>\n",
              "      <td>4424.0</td>\n",
              "      <td>True</td>\n",
              "      <td>9</td>\n",
              "      <td>Saturday</td>\n",
              "      <td>1443</td>\n",
              "      <td>324</td>\n",
              "    </tr>\n",
              "    <tr>\n",
              "      <th>751519</th>\n",
              "      <td>BxciGcT8a0DdtSe1Zq+nYFy4xE127Uvv+TBxj3qcHU4=</td>\n",
              "      <td>서울특별시 성북구</td>\n",
              "      <td>2019-10-09 16:11:08</td>\n",
              "      <td>2019-10-09 08:50:00</td>\n",
              "      <td>24</td>\n",
              "      <td>male</td>\n",
              "      <td>2016-02-11</td>\n",
              "      <td>1629.0</td>\n",
              "      <td>False</td>\n",
              "      <td>10</td>\n",
              "      <td>Wednesday</td>\n",
              "      <td>26468</td>\n",
              "      <td>1336</td>\n",
              "    </tr>\n",
              "    <tr>\n",
              "      <th>751531</th>\n",
              "      <td>wN95wBOanveK4Co8oT0ArhBKb4jFDzGCM0vOObSzJBI=</td>\n",
              "      <td>경기도 안양시 동안구</td>\n",
              "      <td>2019-11-27 23:16:36</td>\n",
              "      <td>2019-11-27 19:40:00</td>\n",
              "      <td>24</td>\n",
              "      <td>male</td>\n",
              "      <td>2017-05-22</td>\n",
              "      <td>2050.0</td>\n",
              "      <td>False</td>\n",
              "      <td>11</td>\n",
              "      <td>Wednesday</td>\n",
              "      <td>12996</td>\n",
              "      <td>919</td>\n",
              "    </tr>\n",
              "    <tr>\n",
              "      <th>751532</th>\n",
              "      <td>zs4ZhuD7NL8tTHEfyMnXSvYHTmKGlJnnyOYE1sB3ZfU=</td>\n",
              "      <td>서울특별시 강남구</td>\n",
              "      <td>2019-10-02 15:31:53</td>\n",
              "      <td>2019-10-02 09:50:00</td>\n",
              "      <td>40</td>\n",
              "      <td>male</td>\n",
              "      <td>2018-11-06</td>\n",
              "      <td>371.0</td>\n",
              "      <td>False</td>\n",
              "      <td>10</td>\n",
              "      <td>Wednesday</td>\n",
              "      <td>20513</td>\n",
              "      <td>330</td>\n",
              "    </tr>\n",
              "    <tr>\n",
              "      <th>751540</th>\n",
              "      <td>62HqclTTCwykWD9aUK/q0XKCBkIqsDC3s6Mg7n0biwg=</td>\n",
              "      <td>부산광역시 강서구</td>\n",
              "      <td>2019-11-03 17:42:10</td>\n",
              "      <td>2019-11-02 09:30:00</td>\n",
              "      <td>43</td>\n",
              "      <td>male</td>\n",
              "      <td>2018-07-25</td>\n",
              "      <td>314.0</td>\n",
              "      <td>False</td>\n",
              "      <td>11</td>\n",
              "      <td>Saturday</td>\n",
              "      <td>29530</td>\n",
              "      <td>465</td>\n",
              "    </tr>\n",
              "  </tbody>\n",
              "</table>\n",
              "<p>123142 rows × 13 columns</p>\n",
              "</div>\n",
              "      <button class=\"colab-df-convert\" onclick=\"convertToInteractive('df-fc78ad31-ad34-4744-9460-1a091c0eb734')\"\n",
              "              title=\"Convert this dataframe to an interactive table.\"\n",
              "              style=\"display:none;\">\n",
              "        \n",
              "  <svg xmlns=\"http://www.w3.org/2000/svg\" height=\"24px\"viewBox=\"0 0 24 24\"\n",
              "       width=\"24px\">\n",
              "    <path d=\"M0 0h24v24H0V0z\" fill=\"none\"/>\n",
              "    <path d=\"M18.56 5.44l.94 2.06.94-2.06 2.06-.94-2.06-.94-.94-2.06-.94 2.06-2.06.94zm-11 1L8.5 8.5l.94-2.06 2.06-.94-2.06-.94L8.5 2.5l-.94 2.06-2.06.94zm10 10l.94 2.06.94-2.06 2.06-.94-2.06-.94-.94-2.06-.94 2.06-2.06.94z\"/><path d=\"M17.41 7.96l-1.37-1.37c-.4-.4-.92-.59-1.43-.59-.52 0-1.04.2-1.43.59L10.3 9.45l-7.72 7.72c-.78.78-.78 2.05 0 2.83L4 21.41c.39.39.9.59 1.41.59.51 0 1.02-.2 1.41-.59l7.78-7.78 2.81-2.81c.8-.78.8-2.07 0-2.86zM5.41 20L4 18.59l7.72-7.72 1.47 1.35L5.41 20z\"/>\n",
              "  </svg>\n",
              "      </button>\n",
              "      \n",
              "  <style>\n",
              "    .colab-df-container {\n",
              "      display:flex;\n",
              "      flex-wrap:wrap;\n",
              "      gap: 12px;\n",
              "    }\n",
              "\n",
              "    .colab-df-convert {\n",
              "      background-color: #E8F0FE;\n",
              "      border: none;\n",
              "      border-radius: 50%;\n",
              "      cursor: pointer;\n",
              "      display: none;\n",
              "      fill: #1967D2;\n",
              "      height: 32px;\n",
              "      padding: 0 0 0 0;\n",
              "      width: 32px;\n",
              "    }\n",
              "\n",
              "    .colab-df-convert:hover {\n",
              "      background-color: #E2EBFA;\n",
              "      box-shadow: 0px 1px 2px rgba(60, 64, 67, 0.3), 0px 1px 3px 1px rgba(60, 64, 67, 0.15);\n",
              "      fill: #174EA6;\n",
              "    }\n",
              "\n",
              "    [theme=dark] .colab-df-convert {\n",
              "      background-color: #3B4455;\n",
              "      fill: #D2E3FC;\n",
              "    }\n",
              "\n",
              "    [theme=dark] .colab-df-convert:hover {\n",
              "      background-color: #434B5C;\n",
              "      box-shadow: 0px 1px 3px 1px rgba(0, 0, 0, 0.15);\n",
              "      filter: drop-shadow(0px 1px 2px rgba(0, 0, 0, 0.3));\n",
              "      fill: #FFFFFF;\n",
              "    }\n",
              "  </style>\n",
              "\n",
              "      <script>\n",
              "        const buttonEl =\n",
              "          document.querySelector('#df-fc78ad31-ad34-4744-9460-1a091c0eb734 button.colab-df-convert');\n",
              "        buttonEl.style.display =\n",
              "          google.colab.kernel.accessAllowed ? 'block' : 'none';\n",
              "\n",
              "        async function convertToInteractive(key) {\n",
              "          const element = document.querySelector('#df-fc78ad31-ad34-4744-9460-1a091c0eb734');\n",
              "          const dataTable =\n",
              "            await google.colab.kernel.invokeFunction('convertToInteractive',\n",
              "                                                     [key], {});\n",
              "          if (!dataTable) return;\n",
              "\n",
              "          const docLinkHtml = 'Like what you see? Visit the ' +\n",
              "            '<a target=\"_blank\" href=https://colab.research.google.com/notebooks/data_table.ipynb>data table notebook</a>'\n",
              "            + ' to learn more about interactive tables.';\n",
              "          element.innerHTML = '';\n",
              "          dataTable['output_type'] = 'display_data';\n",
              "          await google.colab.output.renderOutput(dataTable, element);\n",
              "          const docLink = document.createElement('div');\n",
              "          docLink.innerHTML = docLinkHtml;\n",
              "          element.appendChild(docLink);\n",
              "        }\n",
              "      </script>\n",
              "    </div>\n",
              "  </div>\n",
              "  "
            ],
            "text/plain": [
              "                                 member_id_encrypted  ... 가입후_이용기간\n",
              "6       4ajKUi7NO5DK48QcNc0NL9h0pXzgz3KehGXod1D4dsk=  ...      188\n",
              "14      DW47WQIr0JDuo0nA9xmV8/fuZtXygkKAjc4h1V3pqac=  ...      954\n",
              "17      HDHnuvFaMd7RPvqqL2My8B9tberJkDVjU1LOqqMmN/I=  ...       16\n",
              "27      cSSOV3mE7n39mi/dZ6o2txOZkh9hsbiXANicifDElRM=  ...     1847\n",
              "32      dwqOC0gWt9k632109ylHlypf8b0m4GhGy1HGIhxrgNg=  ...     1154\n",
              "...                                              ...  ...      ...\n",
              "751504  0zCedDtT1hmfOHx0/+3oeakw8Zqeeb9xB0pb9yIJuoE=  ...      324\n",
              "751519  BxciGcT8a0DdtSe1Zq+nYFy4xE127Uvv+TBxj3qcHU4=  ...     1336\n",
              "751531  wN95wBOanveK4Co8oT0ArhBKb4jFDzGCM0vOObSzJBI=  ...      919\n",
              "751532  zs4ZhuD7NL8tTHEfyMnXSvYHTmKGlJnnyOYE1sB3ZfU=  ...      330\n",
              "751540  62HqclTTCwykWD9aUK/q0XKCBkIqsDC3s6Mg7n0biwg=  ...      465\n",
              "\n",
              "[123142 rows x 13 columns]"
            ]
          },
          "metadata": {},
          "execution_count": 490
        }
      ]
    },
    {
      "cell_type": "code",
      "source": [
        "# 가입 후 이용기간이 길다고해선 총 주행기간이 긴것은 아님\n",
        "\n",
        "plt.figure(figsize=(80,20))\n",
        "user_data.plot(y='member_total_distance', x='가입후_이용기간', kind='scatter', color='g')"
      ],
      "metadata": {
        "colab": {
          "base_uri": "https://localhost:8080/",
          "height": 311
        },
        "id": "cq3hl6Uj0z7S",
        "outputId": "161702f5-1474-4b95-eee9-22ebdc47894d"
      },
      "execution_count": 479,
      "outputs": [
        {
          "output_type": "execute_result",
          "data": {
            "text/plain": [
              "<matplotlib.axes._subplots.AxesSubplot at 0x7fe3d793df50>"
            ]
          },
          "metadata": {},
          "execution_count": 479
        },
        {
          "output_type": "display_data",
          "data": {
            "text/plain": [
              "<Figure size 5760x1440 with 0 Axes>"
            ]
          },
          "metadata": {}
        },
        {
          "output_type": "display_data",
          "data": {
            "image/png": "[encoded data removed]",
            "text/plain": [
              "<Figure size 432x288 with 1 Axes>"
            ]
          },
          "metadata": {
            "needs_background": "light"
          }
        }
      ]
    },
    {
      "cell_type": "code",
      "source": [
        "plt.figure(figsize=(80,20))\n",
        "user_data.plot(y='member_total_distance', x='이용시간', kind='scatter', color='r')"
      ],
      "metadata": {
        "id": "i7xjYdtY3chT",
        "outputId": "da8703e4-9636-42b8-ccf2-c44a1b34e0a5",
        "colab": {
          "base_uri": "https://localhost:8080/",
          "height": 311
        }
      },
      "execution_count": 480,
      "outputs": [
        {
          "output_type": "execute_result",
          "data": {
            "text/plain": [
              "<matplotlib.axes._subplots.AxesSubplot at 0x7fe3d78c4610>"
            ]
          },
          "metadata": {},
          "execution_count": 480
        },
        {
          "output_type": "display_data",
          "data": {
            "text/plain": [
              "<Figure size 5760x1440 with 0 Axes>"
            ]
          },
          "metadata": {}
        },
        {
          "output_type": "display_data",
          "data": {
            "image/png": "[encoded data removed]",
            "text/plain": [
              "<Figure size 432x288 with 1 Axes>"
            ]
          },
          "metadata": {
            "needs_background": "light"
          }
        }
      ]
    },
    {
      "cell_type": "code",
      "source": [
        "# 상관관계 분석\n",
        "\n",
        "import seaborn as sns\n",
        "\n",
        "df1 = user_data[['member_age', 'member_total_distance', '가입후_이용기간','이용시간']]\n",
        "plt.figure(figsize=(8,8))\n",
        "sns.heatmap(data = df1.corr(), annot=True, \n",
        "fmt = '.2f', linewidths=.5, cmap='Blues')"
      ],
      "metadata": {
        "id": "klFAo7utmOjm",
        "outputId": "d7b85e9f-f10d-4580-a5da-a66175716d5b",
        "colab": {
          "base_uri": "https://localhost:8080/",
          "height": 502
        }
      },
      "execution_count": 477,
      "outputs": [
        {
          "output_type": "execute_result",
          "data": {
            "text/plain": [
              "<matplotlib.axes._subplots.AxesSubplot at 0x7fe3d7aa5590>"
            ]
          },
          "metadata": {},
          "execution_count": 477
        },
        {
          "output_type": "display_data",
          "data": {
            "image/png": "[encoded data removed]",
            "text/plain": [
              "<Figure size 576x576 with 2 Axes>"
            ]
          },
          "metadata": {
            "needs_background": "light"
          }
        }
      ]
    },
    {
      "cell_type": "markdown",
      "source": [
        "# 2. Trip 정보"
      ],
      "metadata": {
        "id": "nDCgBl3AsIoI"
      }
    },
    {
      "cell_type": "code",
      "source": [
        "trip_data = data[['region', 'car_name', 'zone_type1', 'zone_type2','zone_type3','trip']]\n",
        "trip_data.tail()"
      ],
      "metadata": {
        "colab": {
          "base_uri": "https://localhost:8080/",
          "height": 206
        },
        "id": "eLY5SvocsTz9",
        "outputId": "fa1aa4b4-4f75-42e2-d6e6-57f897402837"
      },
      "execution_count": 525,
      "outputs": [
        {
          "output_type": "execute_result",
          "data": {
            "text/html": [
              "\n",
              "  <div id=\"df-8e9ffaa5-c1b1-4601-8655-bdc28b2e19cf\">\n",
              "    <div class=\"colab-df-container\">\n",
              "      <div>\n",
              "<style scoped>\n",
              "    .dataframe tbody tr th:only-of-type {\n",
              "        vertical-align: middle;\n",
              "    }\n",
              "\n",
              "    .dataframe tbody tr th {\n",
              "        vertical-align: top;\n",
              "    }\n",
              "\n",
              "    .dataframe thead th {\n",
              "        text-align: right;\n",
              "    }\n",
              "</style>\n",
              "<table border=\"1\" class=\"dataframe\">\n",
              "  <thead>\n",
              "    <tr style=\"text-align: right;\">\n",
              "      <th></th>\n",
              "      <th>region</th>\n",
              "      <th>car_name</th>\n",
              "      <th>zone_type1</th>\n",
              "      <th>zone_type2</th>\n",
              "      <th>zone_type3</th>\n",
              "      <th>trip</th>\n",
              "    </tr>\n",
              "  </thead>\n",
              "  <tbody>\n",
              "    <tr>\n",
              "      <th>751504</th>\n",
              "      <td>서울특별시 강서구</td>\n",
              "      <td>볼트EV (제주)</td>\n",
              "      <td>LIVING_ETC</td>\n",
              "      <td>TRANSFER_SUBWAY</td>\n",
              "      <td>COMMERCIAL_OFFICE</td>\n",
              "      <td>경기도 부천시</td>\n",
              "    </tr>\n",
              "    <tr>\n",
              "      <th>751519</th>\n",
              "      <td>서울특별시 성북구</td>\n",
              "      <td>코나</td>\n",
              "      <td>LIVING_ETC</td>\n",
              "      <td>COMMERCIAL_HOTSPOT</td>\n",
              "      <td>ETC</td>\n",
              "      <td>경기도 양평군,경기도 양평군,경기도 양평군,경기도 양평군</td>\n",
              "    </tr>\n",
              "    <tr>\n",
              "      <th>751531</th>\n",
              "      <td>경기도 안양시 동안구</td>\n",
              "      <td>SM6</td>\n",
              "      <td>TRANSFER_SUBWAY</td>\n",
              "      <td>COMMERCIAL_OFFICE</td>\n",
              "      <td>COMMERCIAL_HOTSPOT</td>\n",
              "      <td>서울특별시 동작구,서울특별시 성북구</td>\n",
              "    </tr>\n",
              "    <tr>\n",
              "      <th>751532</th>\n",
              "      <td>서울특별시 강남구</td>\n",
              "      <td>아반떼AD</td>\n",
              "      <td>TRANSFER_SUBWAY</td>\n",
              "      <td>COMMERCIAL_OFFICE</td>\n",
              "      <td>COMMERCIAL_HOTSPOT</td>\n",
              "      <td>경기도 의정부시</td>\n",
              "    </tr>\n",
              "    <tr>\n",
              "      <th>751540</th>\n",
              "      <td>부산광역시 강서구</td>\n",
              "      <td>올뉴모닝</td>\n",
              "      <td>TRANSFER_STATION</td>\n",
              "      <td>TRANSFER_SUBWAY</td>\n",
              "      <td>ETC</td>\n",
              "      <td>경상북도 경주시,경상북도 경주시,경상북도 경주시,경상북도 경주시,경상남도 양산시,경...</td>\n",
              "    </tr>\n",
              "  </tbody>\n",
              "</table>\n",
              "</div>\n",
              "      <button class=\"colab-df-convert\" onclick=\"convertToInteractive('df-8e9ffaa5-c1b1-4601-8655-bdc28b2e19cf')\"\n",
              "              title=\"Convert this dataframe to an interactive table.\"\n",
              "              style=\"display:none;\">\n",
              "        \n",
              "  <svg xmlns=\"http://www.w3.org/2000/svg\" height=\"24px\"viewBox=\"0 0 24 24\"\n",
              "       width=\"24px\">\n",
              "    <path d=\"M0 0h24v24H0V0z\" fill=\"none\"/>\n",
              "    <path d=\"M18.56 5.44l.94 2.06.94-2.06 2.06-.94-2.06-.94-.94-2.06-.94 2.06-2.06.94zm-11 1L8.5 8.5l.94-2.06 2.06-.94-2.06-.94L8.5 2.5l-.94 2.06-2.06.94zm10 10l.94 2.06.94-2.06 2.06-.94-2.06-.94-.94-2.06-.94 2.06-2.06.94z\"/><path d=\"M17.41 7.96l-1.37-1.37c-.4-.4-.92-.59-1.43-.59-.52 0-1.04.2-1.43.59L10.3 9.45l-7.72 7.72c-.78.78-.78 2.05 0 2.83L4 21.41c.39.39.9.59 1.41.59.51 0 1.02-.2 1.41-.59l7.78-7.78 2.81-2.81c.8-.78.8-2.07 0-2.86zM5.41 20L4 18.59l7.72-7.72 1.47 1.35L5.41 20z\"/>\n",
              "  </svg>\n",
              "      </button>\n",
              "      \n",
              "  <style>\n",
              "    .colab-df-container {\n",
              "      display:flex;\n",
              "      flex-wrap:wrap;\n",
              "      gap: 12px;\n",
              "    }\n",
              "\n",
              "    .colab-df-convert {\n",
              "      background-color: #E8F0FE;\n",
              "      border: none;\n",
              "      border-radius: 50%;\n",
              "      cursor: pointer;\n",
              "      display: none;\n",
              "      fill: #1967D2;\n",
              "      height: 32px;\n",
              "      padding: 0 0 0 0;\n",
              "      width: 32px;\n",
              "    }\n",
              "\n",
              "    .colab-df-convert:hover {\n",
              "      background-color: #E2EBFA;\n",
              "      box-shadow: 0px 1px 2px rgba(60, 64, 67, 0.3), 0px 1px 3px 1px rgba(60, 64, 67, 0.15);\n",
              "      fill: #174EA6;\n",
              "    }\n",
              "\n",
              "    [theme=dark] .colab-df-convert {\n",
              "      background-color: #3B4455;\n",
              "      fill: #D2E3FC;\n",
              "    }\n",
              "\n",
              "    [theme=dark] .colab-df-convert:hover {\n",
              "      background-color: #434B5C;\n",
              "      box-shadow: 0px 1px 3px 1px rgba(0, 0, 0, 0.15);\n",
              "      filter: drop-shadow(0px 1px 2px rgba(0, 0, 0, 0.3));\n",
              "      fill: #FFFFFF;\n",
              "    }\n",
              "  </style>\n",
              "\n",
              "      <script>\n",
              "        const buttonEl =\n",
              "          document.querySelector('#df-8e9ffaa5-c1b1-4601-8655-bdc28b2e19cf button.colab-df-convert');\n",
              "        buttonEl.style.display =\n",
              "          google.colab.kernel.accessAllowed ? 'block' : 'none';\n",
              "\n",
              "        async function convertToInteractive(key) {\n",
              "          const element = document.querySelector('#df-8e9ffaa5-c1b1-4601-8655-bdc28b2e19cf');\n",
              "          const dataTable =\n",
              "            await google.colab.kernel.invokeFunction('convertToInteractive',\n",
              "                                                     [key], {});\n",
              "          if (!dataTable) return;\n",
              "\n",
              "          const docLinkHtml = 'Like what you see? Visit the ' +\n",
              "            '<a target=\"_blank\" href=https://colab.research.google.com/notebooks/data_table.ipynb>data table notebook</a>'\n",
              "            + ' to learn more about interactive tables.';\n",
              "          element.innerHTML = '';\n",
              "          dataTable['output_type'] = 'display_data';\n",
              "          await google.colab.output.renderOutput(dataTable, element);\n",
              "          const docLink = document.createElement('div');\n",
              "          docLink.innerHTML = docLinkHtml;\n",
              "          element.appendChild(docLink);\n",
              "        }\n",
              "      </script>\n",
              "    </div>\n",
              "  </div>\n",
              "  "
            ],
            "text/plain": [
              "             region  ...                                               trip\n",
              "751504    서울특별시 강서구  ...                                            경기도 부천시\n",
              "751519    서울특별시 성북구  ...                    경기도 양평군,경기도 양평군,경기도 양평군,경기도 양평군\n",
              "751531  경기도 안양시 동안구  ...                                서울특별시 동작구,서울특별시 성북구\n",
              "751532    서울특별시 강남구  ...                                           경기도 의정부시\n",
              "751540    부산광역시 강서구  ...  경상북도 경주시,경상북도 경주시,경상북도 경주시,경상북도 경주시,경상남도 양산시,경...\n",
              "\n",
              "[5 rows x 6 columns]"
            ]
          },
          "metadata": {},
          "execution_count": 525
        }
      ]
    },
    {
      "cell_type": "code",
      "source": [
        "# 차종 총 50개\n",
        "car_rate = data['car_name'].value_counts(normalize=True)\n",
        "#print(len(car_rate))\n",
        "top25_car=car_rate.nlargest(25)\n",
        "top25_car.plot.bar(rot=0, figsize=(30,10))\n",
        "\n",
        "\n",
        "# 소/중/대 분류 필요 -> 거의 소형차, 소형 suv"
      ],
      "metadata": {
        "id": "NLYHJl7AYEox",
        "outputId": "fdcf0022-19d8-4531-856d-d5c3e5f52588",
        "colab": {
          "base_uri": "https://localhost:8080/",
          "height": 473
        }
      },
      "execution_count": 526,
      "outputs": [
        {
          "output_type": "execute_result",
          "data": {
            "text/plain": [
              "<matplotlib.axes._subplots.AxesSubplot at 0x7fe3d6ff8d50>"
            ]
          },
          "metadata": {},
          "execution_count": 526
        },
        {
          "output_type": "display_data",
          "data": {
            "image/png": "[encoded data removed]",
            "text/plain": [
              "<Figure size 2160x720 with 1 Axes>"
            ]
          },
          "metadata": {
            "needs_background": "light"
          }
        }
      ]
    },
    {
      "cell_type": "code",
      "source": [
        "# 사용자가 이용하는 존 타입 유형 3\n",
        "plt.figure(figsize=(26, 6))\n",
        "plt.hist(df['zone_type1'], bins=13)\n"
      ],
      "metadata": {
        "id": "o8-1R5zuxq6r",
        "outputId": "468e73fd-7147-4e91-92ca-5a8b8faff5dc",
        "colab": {
          "base_uri": "https://localhost:8080/",
          "height": 453
        }
      },
      "execution_count": 529,
      "outputs": [
        {
          "output_type": "execute_result",
          "data": {
            "text/plain": [
              "(array([4.6836e+04, 2.9224e+04, 1.5909e+04, 1.7468e+04, 1.7370e+03,\n",
              "        6.7440e+03, 1.6780e+03, 9.7400e+02, 3.0430e+03, 9.2900e+02,\n",
              "        1.5900e+02, 4.9000e+01, 5.0000e+00]),\n",
              " array([ 0.        ,  0.92307692,  1.84615385,  2.76923077,  3.69230769,\n",
              "         4.61538462,  5.53846154,  6.46153846,  7.38461538,  8.30769231,\n",
              "         9.23076923, 10.15384615, 11.07692308, 12.        ]),\n",
              " <a list of 13 Patch objects>)"
            ]
          },
          "metadata": {},
          "execution_count": 529
        },
        {
          "output_type": "display_data",
          "data": {
            "image/png": "[encoded data removed]",
            "text/plain": [
              "<Figure size 1872x432 with 1 Axes>"
            ]
          },
          "metadata": {
            "needs_background": "light"
          }
        }
      ]
    },
    {
      "cell_type": "code",
      "source": [
        "plt.figure(figsize=(26, 6))\n",
        "plt.hist(df['zone_type2'], bins=14)"
      ],
      "metadata": {
        "id": "ZRLlgFr1y5ZM",
        "outputId": "3e9307a8-dab0-4ded-d468-dad7c35c6782",
        "colab": {
          "base_uri": "https://localhost:8080/",
          "height": 435
        }
      },
      "execution_count": 530,
      "outputs": [
        {
          "output_type": "execute_result",
          "data": {
            "text/plain": [
              "(array([20700.,  5714., 25055., 15783., 12023., 22847.,     0.,  1853.,\n",
              "         7273.,  1512.,   738.,  2912.,  8194.,   151.]),\n",
              " array([ 0.        ,  0.85714286,  1.71428571,  2.57142857,  3.42857143,\n",
              "         4.28571429,  5.14285714,  6.        ,  6.85714286,  7.71428571,\n",
              "         8.57142857,  9.42857143, 10.28571429, 11.14285714, 12.        ]),\n",
              " <a list of 14 Patch objects>)"
            ]
          },
          "metadata": {},
          "execution_count": 530
        },
        {
          "output_type": "display_data",
          "data": {
            "image/png": "[encoded data removed]",
            "text/plain": [
              "<Figure size 1872x432 with 1 Axes>"
            ]
          },
          "metadata": {
            "needs_background": "light"
          }
        }
      ]
    },
    {
      "cell_type": "code",
      "source": [
        "plt.figure(figsize=(26, 6))\n",
        "plt.hist(df['zone_type3'], bins=14)"
      ],
      "metadata": {
        "id": "Baf4GhLQy83Z",
        "outputId": "f9f6f1b5-0c9b-468c-97c6-a35fa57c421e",
        "colab": {
          "base_uri": "https://localhost:8080/",
          "height": 435
        }
      },
      "execution_count": 531,
      "outputs": [
        {
          "output_type": "execute_result",
          "data": {
            "text/plain": [
              "(array([41566., 50910.,  9074.,  6327.,  4539.,  2824.,   539.,  2039.,\n",
              "         3278.,   852.,   572.,  1393.,   592.,   250.]),\n",
              " array([ 0.        ,  0.92857143,  1.85714286,  2.78571429,  3.71428571,\n",
              "         4.64285714,  5.57142857,  6.5       ,  7.42857143,  8.35714286,\n",
              "         9.28571429, 10.21428571, 11.14285714, 12.07142857, 13.        ]),\n",
              " <a list of 14 Patch objects>)"
            ]
          },
          "metadata": {},
          "execution_count": 531
        },
        {
          "output_type": "display_data",
          "data": {
            "image/png": "[encoded data removed]",
            "text/plain": [
              "<Figure size 1872x432 with 1 Axes>"
            ]
          },
          "metadata": {
            "needs_background": "light"
          }
        }
      ]
    },
    {
      "cell_type": "code",
      "source": [
        "data.shape"
      ],
      "metadata": {
        "colab": {
          "base_uri": "https://localhost:8080/"
        },
        "id": "dqWpddFtEr4O",
        "outputId": "7cb50f81-5944-4f1c-ac19-0cdad0e62afb"
      },
      "execution_count": null,
      "outputs": [
        {
          "output_type": "execute_result",
          "data": {
            "text/plain": [
              "(124755, 21)"
            ]
          },
          "metadata": {},
          "execution_count": 21
        }
      ]
    },
    {
      "cell_type": "code",
      "source": [
        "# train 부분은 80%, test 부분은 20%\n",
        "train = data[:670000]\n",
        "test = data[67000:]"
      ],
      "metadata": {
        "id": "kQLp4YohG7jh"
      },
      "execution_count": null,
      "outputs": []
    },
    {
      "cell_type": "code",
      "source": [
        "x_train = np.asarray()\n",
        "y_train = np.asarray()\n",
        "x_test = np.asarray()\n",
        "y_test = np.asarray()"
      ],
      "metadata": {
        "id": "j6BJuKRYHg6J"
      },
      "execution_count": null,
      "outputs": []
    },
    {
      "cell_type": "code",
      "source": [
        ""
      ],
      "metadata": {
        "id": "TzoDtn4YymIR"
      },
      "execution_count": null,
      "outputs": []
    }
  ]
}