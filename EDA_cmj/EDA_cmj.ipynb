{
 "cells": [
  {
   "cell_type": "markdown",
   "metadata": {},
   "source": [
    "## __Load Data__"
   ]
  },
  {
   "cell_type": "code",
   "execution_count": 32,
   "metadata": {},
   "outputs": [],
   "source": [
    "# def filter_errors(df):\n",
    "#     # 예약시작시간과 반납 동일\n",
    "#     f1 = df.reservation_start_at.eq(df.reservation_return_at)\n",
    "\n",
    "#     return df[~f1]"
   ]
  },
  {
   "cell_type": "code",
   "execution_count": 33,
   "metadata": {},
   "outputs": [],
   "source": [
    "import numpy as np\n",
    "import pandas as pd\n",
    "import seaborn as sns\n",
    "import matplotlib.pyplot as plt\n",
    "\n",
    "plt.style.use('ggplot')\n",
    "pd.options.display.float_format = '{:.2f}'.format\n",
    "\n",
    "\n",
    "# 예약id, 차량id 컬럼 및 예약생성시 위치좌표(결측치 3/4가량)컬럼 drop\n",
    "df = pd.read_csv('../data/socar_reservation_triplog.csv', parse_dates=['reservation_start_at', 'reservation_return_at', 'member_created_date'])\n",
    "df = df.drop(columns=['reservation_id', 'car_id', 'reservation_created_lat', 'reservation_created_lng'])"
   ]
  },
  {
   "cell_type": "code",
   "execution_count": 34,
   "metadata": {},
   "outputs": [
    {
     "data": {
      "text/html": [
       "<div>\n",
       "<style scoped>\n",
       "    .dataframe tbody tr th:only-of-type {\n",
       "        vertical-align: middle;\n",
       "    }\n",
       "\n",
       "    .dataframe tbody tr th {\n",
       "        vertical-align: top;\n",
       "    }\n",
       "\n",
       "    .dataframe thead th {\n",
       "        text-align: right;\n",
       "    }\n",
       "</style>\n",
       "<table border=\"1\" class=\"dataframe\">\n",
       "  <thead>\n",
       "    <tr style=\"text-align: right;\">\n",
       "      <th></th>\n",
       "      <th>member_id_encrypted</th>\n",
       "      <th>region</th>\n",
       "      <th>reservation_return_at</th>\n",
       "      <th>reservation_start_at</th>\n",
       "      <th>member_age</th>\n",
       "      <th>member_gender</th>\n",
       "      <th>member_created_date</th>\n",
       "      <th>member_total_distance</th>\n",
       "      <th>is_vroom</th>\n",
       "      <th>car_name</th>\n",
       "      <th>zone_name</th>\n",
       "      <th>zone_address</th>\n",
       "      <th>zone_lat</th>\n",
       "      <th>zone_lng</th>\n",
       "      <th>zone_type1</th>\n",
       "      <th>zone_type2</th>\n",
       "      <th>zone_type3</th>\n",
       "      <th>trip</th>\n",
       "    </tr>\n",
       "  </thead>\n",
       "  <tbody>\n",
       "    <tr>\n",
       "      <th>0</th>\n",
       "      <td>6qA1i9+DXTJYgfWPqSGhszRpgNkUzFATBTG4XG7OciA=</td>\n",
       "      <td>서울특별시 강서구</td>\n",
       "      <td>2019-01-01 17:33:42</td>\n",
       "      <td>2018-12-31 17:30:00</td>\n",
       "      <td>48</td>\n",
       "      <td>male</td>\n",
       "      <td>2016-12-10</td>\n",
       "      <td>2277.00</td>\n",
       "      <td>False</td>\n",
       "      <td>아반떼AD</td>\n",
       "      <td>SK주차장</td>\n",
       "      <td>서울 강서구 방화동 500-8</td>\n",
       "      <td>37.57</td>\n",
       "      <td>126.80</td>\n",
       "      <td>LIVING_APT</td>\n",
       "      <td>TRANSFER_STATION</td>\n",
       "      <td>TRANSFER_SUBWAY</td>\n",
       "      <td>NaN</td>\n",
       "    </tr>\n",
       "    <tr>\n",
       "      <th>1</th>\n",
       "      <td>9uzg+C7Ng5hsI0So4WgJaUME+1dgR1LXyy4c8TEM1zY=</td>\n",
       "      <td>울산광역시 남구</td>\n",
       "      <td>2019-01-01 12:08:55</td>\n",
       "      <td>2018-12-31 16:00:00</td>\n",
       "      <td>25</td>\n",
       "      <td>male</td>\n",
       "      <td>2015-07-06</td>\n",
       "      <td>13156.00</td>\n",
       "      <td>False</td>\n",
       "      <td>스포티지</td>\n",
       "      <td>우정유료주차장</td>\n",
       "      <td>울산 남구 삼산동 1481-10</td>\n",
       "      <td>35.54</td>\n",
       "      <td>129.34</td>\n",
       "      <td>TRANSFER_TERMINAL</td>\n",
       "      <td>TRANSFER_TERMINAL</td>\n",
       "      <td>COMMERCIAL_HOTSPOT</td>\n",
       "      <td>NaN</td>\n",
       "    </tr>\n",
       "    <tr>\n",
       "      <th>2</th>\n",
       "      <td>SwEY5le8plfdi3EKoLBAF87zCTzFgIUo4nGWkZ6tOcM=</td>\n",
       "      <td>경기도 김포시</td>\n",
       "      <td>2019-01-02 17:30:00</td>\n",
       "      <td>2019-01-02 14:50:00</td>\n",
       "      <td>34</td>\n",
       "      <td>male</td>\n",
       "      <td>2015-10-07</td>\n",
       "      <td>318.00</td>\n",
       "      <td>True</td>\n",
       "      <td>카니발 11인승</td>\n",
       "      <td>월드애비뉴</td>\n",
       "      <td>경기 김포시 구래동 6880-7</td>\n",
       "      <td>37.65</td>\n",
       "      <td>126.63</td>\n",
       "      <td>LIVING_APT</td>\n",
       "      <td>COMMERCIAL_HOTSPOT</td>\n",
       "      <td>ETC</td>\n",
       "      <td>NaN</td>\n",
       "    </tr>\n",
       "    <tr>\n",
       "      <th>3</th>\n",
       "      <td>vmk4kp/a2AYP8VnGWJUYlbSOff+SxEG18D6fqKRkAOk=</td>\n",
       "      <td>경기도 남양주시</td>\n",
       "      <td>2019-01-01 20:53:09</td>\n",
       "      <td>2018-12-31 11:00:00</td>\n",
       "      <td>23</td>\n",
       "      <td>male</td>\n",
       "      <td>2017-10-13</td>\n",
       "      <td>1288.00</td>\n",
       "      <td>False</td>\n",
       "      <td>아반떼AD</td>\n",
       "      <td>제뉴빌딩주차장</td>\n",
       "      <td>경기 남양주시 호평동 642-2</td>\n",
       "      <td>37.65</td>\n",
       "      <td>127.24</td>\n",
       "      <td>LIVING_APT</td>\n",
       "      <td>TRANSFER_SUBWAY</td>\n",
       "      <td>COMMERCIAL_HOTSPOT</td>\n",
       "      <td>NaN</td>\n",
       "    </tr>\n",
       "    <tr>\n",
       "      <th>4</th>\n",
       "      <td>gdP+78Hhm+MZ4ZxIm8kNVvMNzKJBxbiDfBsflsMcwLA=</td>\n",
       "      <td>서울특별시 강서구</td>\n",
       "      <td>2019-01-04 14:06:03</td>\n",
       "      <td>2019-01-03 08:00:00</td>\n",
       "      <td>35</td>\n",
       "      <td>male</td>\n",
       "      <td>2017-08-13</td>\n",
       "      <td>2658.00</td>\n",
       "      <td>False</td>\n",
       "      <td>투싼(경유)</td>\n",
       "      <td>용정주차장</td>\n",
       "      <td>서울 강서구 방화동 608-9</td>\n",
       "      <td>37.57</td>\n",
       "      <td>126.82</td>\n",
       "      <td>LIVING_ETC</td>\n",
       "      <td>TRANSFER_SUBWAY</td>\n",
       "      <td>ETC</td>\n",
       "      <td>NaN</td>\n",
       "    </tr>\n",
       "  </tbody>\n",
       "</table>\n",
       "</div>"
      ],
      "text/plain": [
       "                            member_id_encrypted     region  \\\n",
       "0  6qA1i9+DXTJYgfWPqSGhszRpgNkUzFATBTG4XG7OciA=  서울특별시 강서구   \n",
       "1  9uzg+C7Ng5hsI0So4WgJaUME+1dgR1LXyy4c8TEM1zY=   울산광역시 남구   \n",
       "2  SwEY5le8plfdi3EKoLBAF87zCTzFgIUo4nGWkZ6tOcM=    경기도 김포시   \n",
       "3  vmk4kp/a2AYP8VnGWJUYlbSOff+SxEG18D6fqKRkAOk=   경기도 남양주시   \n",
       "4  gdP+78Hhm+MZ4ZxIm8kNVvMNzKJBxbiDfBsflsMcwLA=  서울특별시 강서구   \n",
       "\n",
       "  reservation_return_at reservation_start_at  member_age member_gender  \\\n",
       "0   2019-01-01 17:33:42  2018-12-31 17:30:00          48          male   \n",
       "1   2019-01-01 12:08:55  2018-12-31 16:00:00          25          male   \n",
       "2   2019-01-02 17:30:00  2019-01-02 14:50:00          34          male   \n",
       "3   2019-01-01 20:53:09  2018-12-31 11:00:00          23          male   \n",
       "4   2019-01-04 14:06:03  2019-01-03 08:00:00          35          male   \n",
       "\n",
       "  member_created_date  member_total_distance  is_vroom  car_name zone_name  \\\n",
       "0          2016-12-10                2277.00     False     아반떼AD     SK주차장   \n",
       "1          2015-07-06               13156.00     False      스포티지   우정유료주차장   \n",
       "2          2015-10-07                 318.00      True  카니발 11인승     월드애비뉴   \n",
       "3          2017-10-13                1288.00     False     아반떼AD   제뉴빌딩주차장   \n",
       "4          2017-08-13                2658.00     False    투싼(경유)     용정주차장   \n",
       "\n",
       "        zone_address  zone_lat  zone_lng         zone_type1  \\\n",
       "0   서울 강서구 방화동 500-8     37.57    126.80         LIVING_APT   \n",
       "1  울산 남구 삼산동 1481-10     35.54    129.34  TRANSFER_TERMINAL   \n",
       "2  경기 김포시 구래동 6880-7     37.65    126.63         LIVING_APT   \n",
       "3  경기 남양주시 호평동 642-2     37.65    127.24         LIVING_APT   \n",
       "4   서울 강서구 방화동 608-9     37.57    126.82         LIVING_ETC   \n",
       "\n",
       "           zone_type2          zone_type3 trip  \n",
       "0    TRANSFER_STATION     TRANSFER_SUBWAY  NaN  \n",
       "1   TRANSFER_TERMINAL  COMMERCIAL_HOTSPOT  NaN  \n",
       "2  COMMERCIAL_HOTSPOT                 ETC  NaN  \n",
       "3     TRANSFER_SUBWAY  COMMERCIAL_HOTSPOT  NaN  \n",
       "4     TRANSFER_SUBWAY                 ETC  NaN  "
      ]
     },
     "execution_count": 34,
     "metadata": {},
     "output_type": "execute_result"
    }
   ],
   "source": [
    "df.head()"
   ]
  },
  {
   "cell_type": "code",
   "execution_count": 37,
   "metadata": {},
   "outputs": [
    {
     "name": "stdout",
     "output_type": "stream",
     "text": [
      "<class 'pandas.core.frame.DataFrame'>\n",
      "RangeIndex: 751548 entries, 0 to 751547\n",
      "Data columns (total 18 columns):\n",
      " #   Column                 Non-Null Count   Dtype         \n",
      "---  ------                 --------------   -----         \n",
      " 0   member_id_encrypted    751548 non-null  object        \n",
      " 1   region                 751548 non-null  object        \n",
      " 2   reservation_return_at  751548 non-null  datetime64[ns]\n",
      " 3   reservation_start_at   751548 non-null  datetime64[ns]\n",
      " 4   member_age             751548 non-null  int64         \n",
      " 5   member_gender          699017 non-null  object        \n",
      " 6   member_created_date    751548 non-null  datetime64[ns]\n",
      " 7   member_total_distance  738010 non-null  float64       \n",
      " 8   is_vroom               751548 non-null  bool          \n",
      " 9   car_name               751548 non-null  object        \n",
      " 10  zone_name              750774 non-null  object        \n",
      " 11  zone_address           751548 non-null  object        \n",
      " 12  zone_lat               751548 non-null  float64       \n",
      " 13  zone_lng               751548 non-null  float64       \n",
      " 14  zone_type1             733508 non-null  object        \n",
      " 15  zone_type2             691605 non-null  object        \n",
      " 16  zone_type3             637422 non-null  object        \n",
      " 17  trip                   555474 non-null  object        \n",
      "dtypes: bool(1), datetime64[ns](3), float64(3), int64(1), object(10)\n",
      "memory usage: 98.2+ MB\n"
     ]
    }
   ],
   "source": [
    "df.info()"
   ]
  },
  {
   "cell_type": "code",
   "execution_count": 38,
   "metadata": {},
   "outputs": [
    {
     "data": {
      "text/plain": [
       "0.0759419225385471"
      ]
     },
     "execution_count": 38,
     "metadata": {},
     "output_type": "execute_result"
    }
   ],
   "source": [
    "# 부름 서비스는 7% 가량\n",
    "df.is_vroom.mean()"
   ]
  },
  {
   "cell_type": "code",
   "execution_count": 39,
   "metadata": {},
   "outputs": [
    {
     "data": {
      "text/plain": [
       "(numpy.datetime64('2018-12-25T14:10:00.000000000'),\n",
       " numpy.datetime64('2019-11-30T23:30:00.000000000'))"
      ]
     },
     "execution_count": 39,
     "metadata": {},
     "output_type": "execute_result"
    }
   ],
   "source": [
    "# 2018년 말~ 2019년 말 약 1년간의 데이터\n",
    "df.sort_values('reservation_start_at')['reservation_start_at'].values[0], \\\n",
    "df.sort_values('reservation_start_at')['reservation_start_at'].values[-1]"
   ]
  },
  {
   "cell_type": "markdown",
   "metadata": {},
   "source": [
    "- 총 75만여 행\n",
    "\n",
    "- 시간 변수: ride 시작 및 반납  timestamp\n",
    "- 유저 변수: 나이, 성별, 가입일자, 누적주행거리\n",
    "- 차량 변수: 차종\n",
    "- 서비스 변수: 부름 여부\n",
    "- 예약존 변수: 존이름, 주소, 존좌표, 존타입\n",
    "- Trip 특성: 방문지 (시동 on/off시 지역)"
   ]
  },
  {
   "cell_type": "markdown",
   "metadata": {},
   "source": [
    "## __1. 유저 단위 분석__"
   ]
  },
  {
   "cell_type": "code",
   "execution_count": 40,
   "metadata": {},
   "outputs": [],
   "source": [
    "# 멤버id 컬럼명 변경\n",
    "df = df.rename(columns={'member_id_encrypted':'member_id'})"
   ]
  },
  {
   "cell_type": "code",
   "execution_count": 41,
   "metadata": {},
   "outputs": [
    {
     "data": {
      "text/plain": [
       "227120"
      ]
     },
     "execution_count": 41,
     "metadata": {},
     "output_type": "execute_result"
    }
   ],
   "source": [
    "# 총 22만 7천여명의 멤버 존재\n",
    "df.member_id.nunique()"
   ]
  },
  {
   "cell_type": "code",
   "execution_count": 42,
   "metadata": {},
   "outputs": [
    {
     "data": {
      "text/plain": [
       "count   227120.00\n",
       "mean         3.31\n",
       "std          7.07\n",
       "min          1.00\n",
       "25%          1.00\n",
       "50%          1.00\n",
       "75%          3.00\n",
       "max        394.00\n",
       "Name: member_id, dtype: float64"
      ]
     },
     "execution_count": 42,
     "metadata": {},
     "output_type": "execute_result"
    },
    {
     "data": {
      "image/png": "[encoded data removed]",
      "text/plain": [
       "<Figure size 432x288 with 1 Axes>"
      ]
     },
     "metadata": {},
     "output_type": "display_data"
    }
   ],
   "source": [
    "# 멤버별 이용횟수 -> 1회 이용자가 많음\n",
    "usage_counts = df.member_id.value_counts()\n",
    "usage_counts.plot(kind='hist')\n",
    "usage_counts.describe()"
   ]
  },
  {
   "cell_type": "code",
   "execution_count": 43,
   "metadata": {},
   "outputs": [
    {
     "data": {
      "text/plain": [
       "<AxesSubplot:ylabel='Frequency'>"
      ]
     },
     "execution_count": 43,
     "metadata": {},
     "output_type": "execute_result"
    },
    {
     "data": {
      "image/png": "[encoded data removed]",
      "text/plain": [
       "<Figure size 432x288 with 1 Axes>"
      ]
     },
     "metadata": {},
     "output_type": "display_data"
    }
   ],
   "source": [
    "# 50~200회로 범위 제한\n",
    "usage_counts.plot(kind='hist', range=(50,200))"
   ]
  },
  {
   "cell_type": "code",
   "execution_count": 44,
   "metadata": {},
   "outputs": [
    {
     "data": {
      "text/plain": [
       "0.5675810144417048"
      ]
     },
     "execution_count": 44,
     "metadata": {},
     "output_type": "execute_result"
    }
   ],
   "source": [
    "# 전체 멤버의 57% 가량이 1회 이용자\n",
    "# 멤버 세분화 필요할 것으로 보임 -> 저/중/고 빈도 멤버에 대해 다른 접근 필요\n",
    "usage_counts.eq(1).mean()"
   ]
  },
  {
   "cell_type": "code",
   "execution_count": 45,
   "metadata": {},
   "outputs": [
    {
     "name": "stdout",
     "output_type": "stream",
     "text": [
      "10회이상 이용자 수: 13,191 (5.8%)\n",
      "이용 건수: 313,192 (41.7%)\n"
     ]
    }
   ],
   "source": [
    "# 10회(임의설정) 이상 멤버들이 전체 이용의 40% 이상을 수행함\n",
    "\n",
    "loyal_members = usage_counts[usage_counts.gt(10)].index\n",
    "print(f'10회이상 이용자 수: {len(loyal_members):,} ({len(loyal_members) *100 / len(usage_counts):.1f}%)')\n",
    "cnt = df[df.member_id.isin(loyal_members)].shape[0]\n",
    "print(f'이용 건수: {cnt:,} ({cnt *100 / df.shape[0]:.1f}%)')"
   ]
  },
  {
   "cell_type": "code",
   "execution_count": 46,
   "metadata": {},
   "outputs": [
    {
     "data": {
      "text/plain": [
       "['member_id',\n",
       " 'member_age',\n",
       " 'member_gender',\n",
       " 'member_created_date',\n",
       " 'member_total_distance']"
      ]
     },
     "execution_count": 46,
     "metadata": {},
     "output_type": "execute_result"
    }
   ],
   "source": [
    "member_features = [name for name in df.columns if name.startswith('member')]\n",
    "member_features"
   ]
  },
  {
   "cell_type": "code",
   "execution_count": 47,
   "metadata": {},
   "outputs": [
    {
     "data": {
      "text/html": [
       "<div>\n",
       "<style scoped>\n",
       "    .dataframe tbody tr th:only-of-type {\n",
       "        vertical-align: middle;\n",
       "    }\n",
       "\n",
       "    .dataframe tbody tr th {\n",
       "        vertical-align: top;\n",
       "    }\n",
       "\n",
       "    .dataframe thead th {\n",
       "        text-align: right;\n",
       "    }\n",
       "</style>\n",
       "<table border=\"1\" class=\"dataframe\">\n",
       "  <thead>\n",
       "    <tr style=\"text-align: right;\">\n",
       "      <th></th>\n",
       "      <th>member_age</th>\n",
       "      <th>member_created_date</th>\n",
       "      <th>member_total_distance</th>\n",
       "    </tr>\n",
       "  </thead>\n",
       "  <tbody>\n",
       "    <tr>\n",
       "      <th>count</th>\n",
       "      <td>227120.00</td>\n",
       "      <td>227120</td>\n",
       "      <td>223748.00</td>\n",
       "    </tr>\n",
       "    <tr>\n",
       "      <th>mean</th>\n",
       "      <td>31.12</td>\n",
       "      <td>2017-07-23 05:49:45.248326912</td>\n",
       "      <td>1811.12</td>\n",
       "    </tr>\n",
       "    <tr>\n",
       "      <th>min</th>\n",
       "      <td>21.00</td>\n",
       "      <td>2012-02-01 00:00:00</td>\n",
       "      <td>0.00</td>\n",
       "    </tr>\n",
       "    <tr>\n",
       "      <th>25%</th>\n",
       "      <td>25.00</td>\n",
       "      <td>2016-05-04 00:00:00</td>\n",
       "      <td>211.00</td>\n",
       "    </tr>\n",
       "    <tr>\n",
       "      <th>50%</th>\n",
       "      <td>28.00</td>\n",
       "      <td>2017-09-23 00:00:00</td>\n",
       "      <td>688.00</td>\n",
       "    </tr>\n",
       "    <tr>\n",
       "      <th>75%</th>\n",
       "      <td>36.00</td>\n",
       "      <td>2019-01-06 00:00:00</td>\n",
       "      <td>1963.00</td>\n",
       "    </tr>\n",
       "    <tr>\n",
       "      <th>max</th>\n",
       "      <td>85.00</td>\n",
       "      <td>2019-11-30 00:00:00</td>\n",
       "      <td>121163.00</td>\n",
       "    </tr>\n",
       "    <tr>\n",
       "      <th>std</th>\n",
       "      <td>8.64</td>\n",
       "      <td>NaN</td>\n",
       "      <td>3365.77</td>\n",
       "    </tr>\n",
       "  </tbody>\n",
       "</table>\n",
       "</div>"
      ],
      "text/plain": [
       "       member_age            member_created_date  member_total_distance\n",
       "count   227120.00                         227120              223748.00\n",
       "mean        31.12  2017-07-23 05:49:45.248326912                1811.12\n",
       "min         21.00            2012-02-01 00:00:00                   0.00\n",
       "25%         25.00            2016-05-04 00:00:00                 211.00\n",
       "50%         28.00            2017-09-23 00:00:00                 688.00\n",
       "75%         36.00            2019-01-06 00:00:00                1963.00\n",
       "max         85.00            2019-11-30 00:00:00              121163.00\n",
       "std          8.64                            NaN                3365.77"
      ]
     },
     "execution_count": 47,
     "metadata": {},
     "output_type": "execute_result"
    }
   ],
   "source": [
    "# 나이대 및 가입일, 주행거리 등 수치형 데이터 분포 확인\n",
    "# member_total_distance로 쏘카 첫 이용자 확인 가능\n",
    "\n",
    "member_df = df.drop_duplicates('member_id')  # 멤버별 하나의 record 만 남겨 멤버특성 확인\n",
    "member_df[member_features].describe(datetime_is_numeric=True)"
   ]
  },
  {
   "cell_type": "code",
   "execution_count": 48,
   "metadata": {},
   "outputs": [
    {
     "data": {
      "text/plain": [
       "<AxesSubplot:ylabel='Frequency'>"
      ]
     },
     "execution_count": 48,
     "metadata": {},
     "output_type": "execute_result"
    },
    {
     "data": {
      "image/png": "[encoded data removed]",
      "text/plain": [
       "<Figure size 432x288 with 1 Axes>"
      ]
     },
     "metadata": {},
     "output_type": "display_data"
    }
   ],
   "source": [
    "# 나이대 분포\n",
    "member_df.member_age.plot(kind='hist')"
   ]
  },
  {
   "cell_type": "code",
   "execution_count": 49,
   "metadata": {},
   "outputs": [
    {
     "data": {
      "text/plain": [
       "male     0.76\n",
       "female   0.24\n",
       "Name: member_gender, dtype: float64"
      ]
     },
     "execution_count": 49,
     "metadata": {},
     "output_type": "execute_result"
    }
   ],
   "source": [
    "# 3/4 가량이 남성 멤버\n",
    "member_df.member_gender.value_counts(normalize=True)"
   ]
  },
  {
   "cell_type": "markdown",
   "metadata": {},
   "source": [
    "## __2. Trip Log__"
   ]
  },
  {
   "cell_type": "code",
   "execution_count": 50,
   "metadata": {},
   "outputs": [
    {
     "data": {
      "text/plain": [
       "Index(['member_id', 'region', 'reservation_return_at', 'reservation_start_at',\n",
       "       'member_age', 'member_gender', 'member_created_date',\n",
       "       'member_total_distance', 'is_vroom', 'car_name', 'zone_name',\n",
       "       'zone_address', 'zone_lat', 'zone_lng', 'zone_type1', 'zone_type2',\n",
       "       'zone_type3', 'trip'],\n",
       "      dtype='object')"
      ]
     },
     "execution_count": 50,
     "metadata": {},
     "output_type": "execute_result"
    }
   ],
   "source": [
    "df.columns"
   ]
  },
  {
   "cell_type": "code",
   "execution_count": 51,
   "metadata": {},
   "outputs": [],
   "source": [
    "# 이용시간 컬럼 생성\n",
    "df['usage_hour'] = df.reservation_return_at.sub(df.reservation_start_at).map(lambda x: x / np.timedelta64(1, 'h'))"
   ]
  },
  {
   "cell_type": "code",
   "execution_count": 52,
   "metadata": {},
   "outputs": [],
   "source": [
    "trip_df = df.dropna(subset=['trip']).copy()\n",
    "usecol = member_features + ['usage_hour', 'zone_address', 'trip']\n",
    "\n",
    "trip_df = trip_df[usecol]"
   ]
  },
  {
   "cell_type": "code",
   "execution_count": 53,
   "metadata": {},
   "outputs": [
    {
     "data": {
      "text/html": [
       "<div>\n",
       "<style scoped>\n",
       "    .dataframe tbody tr th:only-of-type {\n",
       "        vertical-align: middle;\n",
       "    }\n",
       "\n",
       "    .dataframe tbody tr th {\n",
       "        vertical-align: top;\n",
       "    }\n",
       "\n",
       "    .dataframe thead th {\n",
       "        text-align: right;\n",
       "    }\n",
       "</style>\n",
       "<table border=\"1\" class=\"dataframe\">\n",
       "  <thead>\n",
       "    <tr style=\"text-align: right;\">\n",
       "      <th></th>\n",
       "      <th>member_id</th>\n",
       "      <th>member_age</th>\n",
       "      <th>member_gender</th>\n",
       "      <th>member_created_date</th>\n",
       "      <th>member_total_distance</th>\n",
       "      <th>usage_hour</th>\n",
       "      <th>zone_address</th>\n",
       "      <th>trip</th>\n",
       "    </tr>\n",
       "  </thead>\n",
       "  <tbody>\n",
       "    <tr>\n",
       "      <th>5735</th>\n",
       "      <td>1mGAeA7IOfhkzhQFwLxRBgGzPowVDcSQVK2/V8kDMPM=</td>\n",
       "      <td>35</td>\n",
       "      <td>male</td>\n",
       "      <td>2015-04-11</td>\n",
       "      <td>8774.00</td>\n",
       "      <td>79.57</td>\n",
       "      <td>서울 서대문구 대현동 145</td>\n",
       "      <td>광주광역시 남구,광주광역시 남구,광주광역시 동구,광주광역시 동구,광주광역시 동구,광...</td>\n",
       "    </tr>\n",
       "    <tr>\n",
       "      <th>6295</th>\n",
       "      <td>wbThAF/3/JTlPt/WYFh5smLsm5SiYeHRKUwSdSSTPoU=</td>\n",
       "      <td>35</td>\n",
       "      <td>male</td>\n",
       "      <td>2018-01-27</td>\n",
       "      <td>222.00</td>\n",
       "      <td>34.66</td>\n",
       "      <td>울산 북구 화봉동 1466</td>\n",
       "      <td>부산광역시 남구,부산광역시 남구,부산광역시 남구,부산광역시 남구,부산광역시 동래구,...</td>\n",
       "    </tr>\n",
       "    <tr>\n",
       "      <th>6297</th>\n",
       "      <td>KkyDio56SwjqcZ7on2ABGMAKLFbEB7hRfcZ4DJ5aBlg=</td>\n",
       "      <td>41</td>\n",
       "      <td>male</td>\n",
       "      <td>2014-11-13</td>\n",
       "      <td>191.00</td>\n",
       "      <td>2.95</td>\n",
       "      <td>서울 동대문구 휘경동 283-5</td>\n",
       "      <td>경기도 구리시</td>\n",
       "    </tr>\n",
       "    <tr>\n",
       "      <th>8146</th>\n",
       "      <td>Au2om8v5WY/HEZd81G/gqfWVO14pTUs124HNylTSPjU=</td>\n",
       "      <td>32</td>\n",
       "      <td>female</td>\n",
       "      <td>2015-09-26</td>\n",
       "      <td>19256.00</td>\n",
       "      <td>94.56</td>\n",
       "      <td>서울 강서구 화곡동 98-86</td>\n",
       "      <td>충청북도 보은군,서울특별시 양천구,강원도 원주시,경상북도 의성군,경상북도 의성군,경...</td>\n",
       "    </tr>\n",
       "    <tr>\n",
       "      <th>10111</th>\n",
       "      <td>KCBn3ApdPczY3rDgOmFRYXMbpX9PgsH/LiAUqp3DJnc=</td>\n",
       "      <td>35</td>\n",
       "      <td>male</td>\n",
       "      <td>2013-07-23</td>\n",
       "      <td>1421.00</td>\n",
       "      <td>22.82</td>\n",
       "      <td>부산 강서구 대저2동 2764-2</td>\n",
       "      <td>부산광역시 사하구</td>\n",
       "    </tr>\n",
       "  </tbody>\n",
       "</table>\n",
       "</div>"
      ],
      "text/plain": [
       "                                          member_id  member_age member_gender  \\\n",
       "5735   1mGAeA7IOfhkzhQFwLxRBgGzPowVDcSQVK2/V8kDMPM=          35          male   \n",
       "6295   wbThAF/3/JTlPt/WYFh5smLsm5SiYeHRKUwSdSSTPoU=          35          male   \n",
       "6297   KkyDio56SwjqcZ7on2ABGMAKLFbEB7hRfcZ4DJ5aBlg=          41          male   \n",
       "8146   Au2om8v5WY/HEZd81G/gqfWVO14pTUs124HNylTSPjU=          32        female   \n",
       "10111  KCBn3ApdPczY3rDgOmFRYXMbpX9PgsH/LiAUqp3DJnc=          35          male   \n",
       "\n",
       "      member_created_date  member_total_distance  usage_hour  \\\n",
       "5735           2015-04-11                8774.00       79.57   \n",
       "6295           2018-01-27                 222.00       34.66   \n",
       "6297           2014-11-13                 191.00        2.95   \n",
       "8146           2015-09-26               19256.00       94.56   \n",
       "10111          2013-07-23                1421.00       22.82   \n",
       "\n",
       "             zone_address                                               trip  \n",
       "5735      서울 서대문구 대현동 145  광주광역시 남구,광주광역시 남구,광주광역시 동구,광주광역시 동구,광주광역시 동구,광...  \n",
       "6295       울산 북구 화봉동 1466  부산광역시 남구,부산광역시 남구,부산광역시 남구,부산광역시 남구,부산광역시 동래구,...  \n",
       "6297    서울 동대문구 휘경동 283-5                                            경기도 구리시  \n",
       "8146     서울 강서구 화곡동 98-86  충청북도 보은군,서울특별시 양천구,강원도 원주시,경상북도 의성군,경상북도 의성군,경...  \n",
       "10111  부산 강서구 대저2동 2764-2                                          부산광역시 사하구  "
      ]
     },
     "execution_count": 53,
     "metadata": {},
     "output_type": "execute_result"
    }
   ],
   "source": [
    "trip_df.head()"
   ]
  },
  {
   "cell_type": "code",
   "execution_count": 54,
   "metadata": {},
   "outputs": [],
   "source": [
    "# trip 정보로부터 컬럼 생성\n",
    "trip_df['num_trip'] = trip_df.trip.str.split(',').map(lambda x: len(x))  # triplog의 수: trip cycle의 수\n",
    "trip_df['num_regions'] = trip_df.trip.str.split(',').map(lambda x: len(set(x)))  # unique한 방문지의 수"
   ]
  },
  {
   "cell_type": "code",
   "execution_count": 55,
   "metadata": {},
   "outputs": [
    {
     "data": {
      "text/html": [
       "<div>\n",
       "<style scoped>\n",
       "    .dataframe tbody tr th:only-of-type {\n",
       "        vertical-align: middle;\n",
       "    }\n",
       "\n",
       "    .dataframe tbody tr th {\n",
       "        vertical-align: top;\n",
       "    }\n",
       "\n",
       "    .dataframe thead th {\n",
       "        text-align: right;\n",
       "    }\n",
       "</style>\n",
       "<table border=\"1\" class=\"dataframe\">\n",
       "  <thead>\n",
       "    <tr style=\"text-align: right;\">\n",
       "      <th></th>\n",
       "      <th>member_id</th>\n",
       "      <th>member_age</th>\n",
       "      <th>member_gender</th>\n",
       "      <th>member_created_date</th>\n",
       "      <th>member_total_distance</th>\n",
       "      <th>usage_hour</th>\n",
       "      <th>zone_address</th>\n",
       "      <th>trip</th>\n",
       "      <th>num_trip</th>\n",
       "      <th>num_regions</th>\n",
       "    </tr>\n",
       "  </thead>\n",
       "  <tbody>\n",
       "    <tr>\n",
       "      <th>5735</th>\n",
       "      <td>1mGAeA7IOfhkzhQFwLxRBgGzPowVDcSQVK2/V8kDMPM=</td>\n",
       "      <td>35</td>\n",
       "      <td>male</td>\n",
       "      <td>2015-04-11</td>\n",
       "      <td>8774.00</td>\n",
       "      <td>79.57</td>\n",
       "      <td>서울 서대문구 대현동 145</td>\n",
       "      <td>광주광역시 남구,광주광역시 남구,광주광역시 동구,광주광역시 동구,광주광역시 동구,광...</td>\n",
       "      <td>22</td>\n",
       "      <td>9</td>\n",
       "    </tr>\n",
       "    <tr>\n",
       "      <th>6295</th>\n",
       "      <td>wbThAF/3/JTlPt/WYFh5smLsm5SiYeHRKUwSdSSTPoU=</td>\n",
       "      <td>35</td>\n",
       "      <td>male</td>\n",
       "      <td>2018-01-27</td>\n",
       "      <td>222.00</td>\n",
       "      <td>34.66</td>\n",
       "      <td>울산 북구 화봉동 1466</td>\n",
       "      <td>부산광역시 남구,부산광역시 남구,부산광역시 남구,부산광역시 남구,부산광역시 동래구,...</td>\n",
       "      <td>10</td>\n",
       "      <td>5</td>\n",
       "    </tr>\n",
       "    <tr>\n",
       "      <th>6297</th>\n",
       "      <td>KkyDio56SwjqcZ7on2ABGMAKLFbEB7hRfcZ4DJ5aBlg=</td>\n",
       "      <td>41</td>\n",
       "      <td>male</td>\n",
       "      <td>2014-11-13</td>\n",
       "      <td>191.00</td>\n",
       "      <td>2.95</td>\n",
       "      <td>서울 동대문구 휘경동 283-5</td>\n",
       "      <td>경기도 구리시</td>\n",
       "      <td>1</td>\n",
       "      <td>1</td>\n",
       "    </tr>\n",
       "    <tr>\n",
       "      <th>8146</th>\n",
       "      <td>Au2om8v5WY/HEZd81G/gqfWVO14pTUs124HNylTSPjU=</td>\n",
       "      <td>32</td>\n",
       "      <td>female</td>\n",
       "      <td>2015-09-26</td>\n",
       "      <td>19256.00</td>\n",
       "      <td>94.56</td>\n",
       "      <td>서울 강서구 화곡동 98-86</td>\n",
       "      <td>충청북도 보은군,서울특별시 양천구,강원도 원주시,경상북도 의성군,경상북도 의성군,경...</td>\n",
       "      <td>22</td>\n",
       "      <td>8</td>\n",
       "    </tr>\n",
       "    <tr>\n",
       "      <th>10111</th>\n",
       "      <td>KCBn3ApdPczY3rDgOmFRYXMbpX9PgsH/LiAUqp3DJnc=</td>\n",
       "      <td>35</td>\n",
       "      <td>male</td>\n",
       "      <td>2013-07-23</td>\n",
       "      <td>1421.00</td>\n",
       "      <td>22.82</td>\n",
       "      <td>부산 강서구 대저2동 2764-2</td>\n",
       "      <td>부산광역시 사하구</td>\n",
       "      <td>1</td>\n",
       "      <td>1</td>\n",
       "    </tr>\n",
       "  </tbody>\n",
       "</table>\n",
       "</div>"
      ],
      "text/plain": [
       "                                          member_id  member_age member_gender  \\\n",
       "5735   1mGAeA7IOfhkzhQFwLxRBgGzPowVDcSQVK2/V8kDMPM=          35          male   \n",
       "6295   wbThAF/3/JTlPt/WYFh5smLsm5SiYeHRKUwSdSSTPoU=          35          male   \n",
       "6297   KkyDio56SwjqcZ7on2ABGMAKLFbEB7hRfcZ4DJ5aBlg=          41          male   \n",
       "8146   Au2om8v5WY/HEZd81G/gqfWVO14pTUs124HNylTSPjU=          32        female   \n",
       "10111  KCBn3ApdPczY3rDgOmFRYXMbpX9PgsH/LiAUqp3DJnc=          35          male   \n",
       "\n",
       "      member_created_date  member_total_distance  usage_hour  \\\n",
       "5735           2015-04-11                8774.00       79.57   \n",
       "6295           2018-01-27                 222.00       34.66   \n",
       "6297           2014-11-13                 191.00        2.95   \n",
       "8146           2015-09-26               19256.00       94.56   \n",
       "10111          2013-07-23                1421.00       22.82   \n",
       "\n",
       "             zone_address                                               trip  \\\n",
       "5735      서울 서대문구 대현동 145  광주광역시 남구,광주광역시 남구,광주광역시 동구,광주광역시 동구,광주광역시 동구,광...   \n",
       "6295       울산 북구 화봉동 1466  부산광역시 남구,부산광역시 남구,부산광역시 남구,부산광역시 남구,부산광역시 동래구,...   \n",
       "6297    서울 동대문구 휘경동 283-5                                            경기도 구리시   \n",
       "8146     서울 강서구 화곡동 98-86  충청북도 보은군,서울특별시 양천구,강원도 원주시,경상북도 의성군,경상북도 의성군,경...   \n",
       "10111  부산 강서구 대저2동 2764-2                                          부산광역시 사하구   \n",
       "\n",
       "       num_trip  num_regions  \n",
       "5735         22            9  \n",
       "6295         10            5  \n",
       "6297          1            1  \n",
       "8146         22            8  \n",
       "10111         1            1  "
      ]
     },
     "execution_count": 55,
     "metadata": {},
     "output_type": "execute_result"
    }
   ],
   "source": [
    "trip_df.head()"
   ]
  },
  {
   "cell_type": "code",
   "execution_count": 56,
   "metadata": {},
   "outputs": [],
   "source": [
    "trip_df['last_region'] = trip_df.trip.str.split(',').map(lambda x: x[-1])"
   ]
  },
  {
   "cell_type": "code",
   "execution_count": 57,
   "metadata": {},
   "outputs": [
    {
     "data": {
      "text/html": [
       "<div>\n",
       "<style scoped>\n",
       "    .dataframe tbody tr th:only-of-type {\n",
       "        vertical-align: middle;\n",
       "    }\n",
       "\n",
       "    .dataframe tbody tr th {\n",
       "        vertical-align: top;\n",
       "    }\n",
       "\n",
       "    .dataframe thead th {\n",
       "        text-align: right;\n",
       "    }\n",
       "</style>\n",
       "<table border=\"1\" class=\"dataframe\">\n",
       "  <thead>\n",
       "    <tr style=\"text-align: right;\">\n",
       "      <th></th>\n",
       "      <th>member_id</th>\n",
       "      <th>member_age</th>\n",
       "      <th>member_gender</th>\n",
       "      <th>member_created_date</th>\n",
       "      <th>member_total_distance</th>\n",
       "      <th>usage_hour</th>\n",
       "      <th>zone_address</th>\n",
       "      <th>trip</th>\n",
       "      <th>num_trip</th>\n",
       "      <th>num_regions</th>\n",
       "      <th>last_region</th>\n",
       "    </tr>\n",
       "  </thead>\n",
       "  <tbody>\n",
       "    <tr>\n",
       "      <th>5735</th>\n",
       "      <td>1mGAeA7IOfhkzhQFwLxRBgGzPowVDcSQVK2/V8kDMPM=</td>\n",
       "      <td>35</td>\n",
       "      <td>male</td>\n",
       "      <td>2015-04-11</td>\n",
       "      <td>8774.00</td>\n",
       "      <td>79.57</td>\n",
       "      <td>서울 서대문구 대현동 145</td>\n",
       "      <td>광주광역시 남구,광주광역시 남구,광주광역시 동구,광주광역시 동구,광주광역시 동구,광...</td>\n",
       "      <td>22</td>\n",
       "      <td>9</td>\n",
       "      <td>전라남도 화순군</td>\n",
       "    </tr>\n",
       "    <tr>\n",
       "      <th>6295</th>\n",
       "      <td>wbThAF/3/JTlPt/WYFh5smLsm5SiYeHRKUwSdSSTPoU=</td>\n",
       "      <td>35</td>\n",
       "      <td>male</td>\n",
       "      <td>2018-01-27</td>\n",
       "      <td>222.00</td>\n",
       "      <td>34.66</td>\n",
       "      <td>울산 북구 화봉동 1466</td>\n",
       "      <td>부산광역시 남구,부산광역시 남구,부산광역시 남구,부산광역시 남구,부산광역시 동래구,...</td>\n",
       "      <td>10</td>\n",
       "      <td>5</td>\n",
       "      <td>울산광역시 중구</td>\n",
       "    </tr>\n",
       "    <tr>\n",
       "      <th>6297</th>\n",
       "      <td>KkyDio56SwjqcZ7on2ABGMAKLFbEB7hRfcZ4DJ5aBlg=</td>\n",
       "      <td>41</td>\n",
       "      <td>male</td>\n",
       "      <td>2014-11-13</td>\n",
       "      <td>191.00</td>\n",
       "      <td>2.95</td>\n",
       "      <td>서울 동대문구 휘경동 283-5</td>\n",
       "      <td>경기도 구리시</td>\n",
       "      <td>1</td>\n",
       "      <td>1</td>\n",
       "      <td>경기도 구리시</td>\n",
       "    </tr>\n",
       "    <tr>\n",
       "      <th>8146</th>\n",
       "      <td>Au2om8v5WY/HEZd81G/gqfWVO14pTUs124HNylTSPjU=</td>\n",
       "      <td>32</td>\n",
       "      <td>female</td>\n",
       "      <td>2015-09-26</td>\n",
       "      <td>19256.00</td>\n",
       "      <td>94.56</td>\n",
       "      <td>서울 강서구 화곡동 98-86</td>\n",
       "      <td>충청북도 보은군,서울특별시 양천구,강원도 원주시,경상북도 의성군,경상북도 의성군,경...</td>\n",
       "      <td>22</td>\n",
       "      <td>8</td>\n",
       "      <td>서울특별시 양천구</td>\n",
       "    </tr>\n",
       "    <tr>\n",
       "      <th>10111</th>\n",
       "      <td>KCBn3ApdPczY3rDgOmFRYXMbpX9PgsH/LiAUqp3DJnc=</td>\n",
       "      <td>35</td>\n",
       "      <td>male</td>\n",
       "      <td>2013-07-23</td>\n",
       "      <td>1421.00</td>\n",
       "      <td>22.82</td>\n",
       "      <td>부산 강서구 대저2동 2764-2</td>\n",
       "      <td>부산광역시 사하구</td>\n",
       "      <td>1</td>\n",
       "      <td>1</td>\n",
       "      <td>부산광역시 사하구</td>\n",
       "    </tr>\n",
       "  </tbody>\n",
       "</table>\n",
       "</div>"
      ],
      "text/plain": [
       "                                          member_id  member_age member_gender  \\\n",
       "5735   1mGAeA7IOfhkzhQFwLxRBgGzPowVDcSQVK2/V8kDMPM=          35          male   \n",
       "6295   wbThAF/3/JTlPt/WYFh5smLsm5SiYeHRKUwSdSSTPoU=          35          male   \n",
       "6297   KkyDio56SwjqcZ7on2ABGMAKLFbEB7hRfcZ4DJ5aBlg=          41          male   \n",
       "8146   Au2om8v5WY/HEZd81G/gqfWVO14pTUs124HNylTSPjU=          32        female   \n",
       "10111  KCBn3ApdPczY3rDgOmFRYXMbpX9PgsH/LiAUqp3DJnc=          35          male   \n",
       "\n",
       "      member_created_date  member_total_distance  usage_hour  \\\n",
       "5735           2015-04-11                8774.00       79.57   \n",
       "6295           2018-01-27                 222.00       34.66   \n",
       "6297           2014-11-13                 191.00        2.95   \n",
       "8146           2015-09-26               19256.00       94.56   \n",
       "10111          2013-07-23                1421.00       22.82   \n",
       "\n",
       "             zone_address                                               trip  \\\n",
       "5735      서울 서대문구 대현동 145  광주광역시 남구,광주광역시 남구,광주광역시 동구,광주광역시 동구,광주광역시 동구,광...   \n",
       "6295       울산 북구 화봉동 1466  부산광역시 남구,부산광역시 남구,부산광역시 남구,부산광역시 남구,부산광역시 동래구,...   \n",
       "6297    서울 동대문구 휘경동 283-5                                            경기도 구리시   \n",
       "8146     서울 강서구 화곡동 98-86  충청북도 보은군,서울특별시 양천구,강원도 원주시,경상북도 의성군,경상북도 의성군,경...   \n",
       "10111  부산 강서구 대저2동 2764-2                                          부산광역시 사하구   \n",
       "\n",
       "       num_trip  num_regions last_region  \n",
       "5735         22            9    전라남도 화순군  \n",
       "6295         10            5    울산광역시 중구  \n",
       "6297          1            1     경기도 구리시  \n",
       "8146         22            8   서울특별시 양천구  \n",
       "10111         1            1   부산광역시 사하구  "
      ]
     },
     "execution_count": 57,
     "metadata": {},
     "output_type": "execute_result"
    }
   ],
   "source": [
    "# 예약존 위치 (zone_address)와 trip log의 첫,마지막 레코드가 일치하지는 않음 (중간 방문지 로그인듯)\n",
    "trip_df.head()"
   ]
  },
  {
   "cell_type": "code",
   "execution_count": 58,
   "metadata": {},
   "outputs": [
    {
     "data": {
      "text/html": [
       "<div>\n",
       "<style scoped>\n",
       "    .dataframe tbody tr th:only-of-type {\n",
       "        vertical-align: middle;\n",
       "    }\n",
       "\n",
       "    .dataframe tbody tr th {\n",
       "        vertical-align: top;\n",
       "    }\n",
       "\n",
       "    .dataframe thead th {\n",
       "        text-align: right;\n",
       "    }\n",
       "</style>\n",
       "<table border=\"1\" class=\"dataframe\">\n",
       "  <thead>\n",
       "    <tr style=\"text-align: right;\">\n",
       "      <th></th>\n",
       "      <th>member_age</th>\n",
       "      <th>member_total_distance</th>\n",
       "      <th>usage_hour</th>\n",
       "      <th>num_trip</th>\n",
       "      <th>num_regions</th>\n",
       "    </tr>\n",
       "  </thead>\n",
       "  <tbody>\n",
       "    <tr>\n",
       "      <th>count</th>\n",
       "      <td>555474.00</td>\n",
       "      <td>544417.00</td>\n",
       "      <td>555474.00</td>\n",
       "      <td>555474.00</td>\n",
       "      <td>555474.00</td>\n",
       "    </tr>\n",
       "    <tr>\n",
       "      <th>mean</th>\n",
       "      <td>31.29</td>\n",
       "      <td>4689.23</td>\n",
       "      <td>9.64</td>\n",
       "      <td>2.84</td>\n",
       "      <td>1.72</td>\n",
       "    </tr>\n",
       "    <tr>\n",
       "      <th>std</th>\n",
       "      <td>8.65</td>\n",
       "      <td>7011.80</td>\n",
       "      <td>14.00</td>\n",
       "      <td>3.05</td>\n",
       "      <td>1.10</td>\n",
       "    </tr>\n",
       "    <tr>\n",
       "      <th>min</th>\n",
       "      <td>21.00</td>\n",
       "      <td>0.00</td>\n",
       "      <td>-16.33</td>\n",
       "      <td>1.00</td>\n",
       "      <td>1.00</td>\n",
       "    </tr>\n",
       "    <tr>\n",
       "      <th>25%</th>\n",
       "      <td>25.00</td>\n",
       "      <td>723.00</td>\n",
       "      <td>3.21</td>\n",
       "      <td>1.00</td>\n",
       "      <td>1.00</td>\n",
       "    </tr>\n",
       "    <tr>\n",
       "      <th>50%</th>\n",
       "      <td>29.00</td>\n",
       "      <td>2244.00</td>\n",
       "      <td>5.13</td>\n",
       "      <td>2.00</td>\n",
       "      <td>1.00</td>\n",
       "    </tr>\n",
       "    <tr>\n",
       "      <th>75%</th>\n",
       "      <td>36.00</td>\n",
       "      <td>5876.00</td>\n",
       "      <td>10.04</td>\n",
       "      <td>3.00</td>\n",
       "      <td>2.00</td>\n",
       "    </tr>\n",
       "    <tr>\n",
       "      <th>max</th>\n",
       "      <td>78.00</td>\n",
       "      <td>121163.00</td>\n",
       "      <td>1299.40</td>\n",
       "      <td>251.00</td>\n",
       "      <td>38.00</td>\n",
       "    </tr>\n",
       "  </tbody>\n",
       "</table>\n",
       "</div>"
      ],
      "text/plain": [
       "       member_age  member_total_distance  usage_hour  num_trip  num_regions\n",
       "count   555474.00              544417.00   555474.00 555474.00    555474.00\n",
       "mean        31.29                4689.23        9.64      2.84         1.72\n",
       "std          8.65                7011.80       14.00      3.05         1.10\n",
       "min         21.00                   0.00      -16.33      1.00         1.00\n",
       "25%         25.00                 723.00        3.21      1.00         1.00\n",
       "50%         29.00                2244.00        5.13      2.00         1.00\n",
       "75%         36.00                5876.00       10.04      3.00         2.00\n",
       "max         78.00              121163.00     1299.40    251.00        38.00"
      ]
     },
     "execution_count": 58,
     "metadata": {},
     "output_type": "execute_result"
    }
   ],
   "source": [
    "trip_df.describe()"
   ]
  },
  {
   "cell_type": "code",
   "execution_count": 59,
   "metadata": {},
   "outputs": [
    {
     "data": {
      "text/plain": [
       "<seaborn.axisgrid.PairGrid at 0x22d00ff1988>"
      ]
     },
     "execution_count": 59,
     "metadata": {},
     "output_type": "execute_result"
    },
    {
     "data": {
      "image/png": "[encoded data removed]",
      "text/plain": [
       "<Figure size 648x648 with 12 Axes>"
      ]
     },
     "metadata": {},
     "output_type": "display_data"
    }
   ],
   "source": [
    "# 사용시간, tripcycle수, 방문지역 수 확인\n",
    "\n",
    "sns.pairplot(data=trip_df[['usage_hour', 'num_trip', 'num_regions']], height=3)"
   ]
  },
  {
   "cell_type": "code",
   "execution_count": 60,
   "metadata": {},
   "outputs": [],
   "source": [
    "# 각 컬럼별 상위 1프로 값 제외\n",
    "cond1 = trip_df.usage_hour.lt(trip_df.usage_hour.quantile(0.99))\n",
    "cond2 = trip_df.num_trip.lt(trip_df.num_trip.quantile(0.99))\n",
    "cond3 = trip_df.num_regions.lt(trip_df.num_regions.quantile(0.99))"
   ]
  },
  {
   "cell_type": "code",
   "execution_count": 61,
   "metadata": {},
   "outputs": [
    {
     "data": {
      "text/html": [
       "<div>\n",
       "<style scoped>\n",
       "    .dataframe tbody tr th:only-of-type {\n",
       "        vertical-align: middle;\n",
       "    }\n",
       "\n",
       "    .dataframe tbody tr th {\n",
       "        vertical-align: top;\n",
       "    }\n",
       "\n",
       "    .dataframe thead th {\n",
       "        text-align: right;\n",
       "    }\n",
       "</style>\n",
       "<table border=\"1\" class=\"dataframe\">\n",
       "  <thead>\n",
       "    <tr style=\"text-align: right;\">\n",
       "      <th></th>\n",
       "      <th>member_age</th>\n",
       "      <th>member_total_distance</th>\n",
       "      <th>usage_hour</th>\n",
       "      <th>num_trip</th>\n",
       "      <th>num_regions</th>\n",
       "    </tr>\n",
       "  </thead>\n",
       "  <tbody>\n",
       "    <tr>\n",
       "      <th>count</th>\n",
       "      <td>543834.00</td>\n",
       "      <td>533035.00</td>\n",
       "      <td>543834.00</td>\n",
       "      <td>543834.00</td>\n",
       "      <td>543834.00</td>\n",
       "    </tr>\n",
       "    <tr>\n",
       "      <th>mean</th>\n",
       "      <td>31.21</td>\n",
       "      <td>4629.15</td>\n",
       "      <td>8.38</td>\n",
       "      <td>2.57</td>\n",
       "      <td>1.64</td>\n",
       "    </tr>\n",
       "    <tr>\n",
       "      <th>std</th>\n",
       "      <td>8.61</td>\n",
       "      <td>6858.89</td>\n",
       "      <td>8.96</td>\n",
       "      <td>2.06</td>\n",
       "      <td>0.89</td>\n",
       "    </tr>\n",
       "    <tr>\n",
       "      <th>min</th>\n",
       "      <td>21.00</td>\n",
       "      <td>0.00</td>\n",
       "      <td>-16.33</td>\n",
       "      <td>1.00</td>\n",
       "      <td>1.00</td>\n",
       "    </tr>\n",
       "    <tr>\n",
       "      <th>25%</th>\n",
       "      <td>25.00</td>\n",
       "      <td>714.00</td>\n",
       "      <td>3.17</td>\n",
       "      <td>1.00</td>\n",
       "      <td>1.00</td>\n",
       "    </tr>\n",
       "    <tr>\n",
       "      <th>50%</th>\n",
       "      <td>29.00</td>\n",
       "      <td>2225.00</td>\n",
       "      <td>5.02</td>\n",
       "      <td>2.00</td>\n",
       "      <td>1.00</td>\n",
       "    </tr>\n",
       "    <tr>\n",
       "      <th>75%</th>\n",
       "      <td>36.00</td>\n",
       "      <td>5821.00</td>\n",
       "      <td>9.43</td>\n",
       "      <td>3.00</td>\n",
       "      <td>2.00</td>\n",
       "    </tr>\n",
       "    <tr>\n",
       "      <th>max</th>\n",
       "      <td>78.00</td>\n",
       "      <td>121163.00</td>\n",
       "      <td>62.64</td>\n",
       "      <td>14.00</td>\n",
       "      <td>5.00</td>\n",
       "    </tr>\n",
       "  </tbody>\n",
       "</table>\n",
       "</div>"
      ],
      "text/plain": [
       "       member_age  member_total_distance  usage_hour  num_trip  num_regions\n",
       "count   543834.00              533035.00   543834.00 543834.00    543834.00\n",
       "mean        31.21                4629.15        8.38      2.57         1.64\n",
       "std          8.61                6858.89        8.96      2.06         0.89\n",
       "min         21.00                   0.00      -16.33      1.00         1.00\n",
       "25%         25.00                 714.00        3.17      1.00         1.00\n",
       "50%         29.00                2225.00        5.02      2.00         1.00\n",
       "75%         36.00                5821.00        9.43      3.00         2.00\n",
       "max         78.00              121163.00       62.64     14.00         5.00"
      ]
     },
     "execution_count": 61,
     "metadata": {},
     "output_type": "execute_result"
    }
   ],
   "source": [
    "trip_df[cond1&cond2&cond3].describe()"
   ]
  },
  {
   "cell_type": "code",
   "execution_count": 62,
   "metadata": {},
   "outputs": [
    {
     "data": {
      "text/html": [
       "<div>\n",
       "<style scoped>\n",
       "    .dataframe tbody tr th:only-of-type {\n",
       "        vertical-align: middle;\n",
       "    }\n",
       "\n",
       "    .dataframe tbody tr th {\n",
       "        vertical-align: top;\n",
       "    }\n",
       "\n",
       "    .dataframe thead th {\n",
       "        text-align: right;\n",
       "    }\n",
       "</style>\n",
       "<table border=\"1\" class=\"dataframe\">\n",
       "  <thead>\n",
       "    <tr style=\"text-align: right;\">\n",
       "      <th></th>\n",
       "      <th>member_id</th>\n",
       "      <th>member_age</th>\n",
       "      <th>member_gender</th>\n",
       "      <th>member_created_date</th>\n",
       "      <th>member_total_distance</th>\n",
       "      <th>usage_hour</th>\n",
       "      <th>zone_address</th>\n",
       "      <th>trip</th>\n",
       "      <th>num_trip</th>\n",
       "      <th>num_regions</th>\n",
       "      <th>last_region</th>\n",
       "    </tr>\n",
       "  </thead>\n",
       "  <tbody>\n",
       "    <tr>\n",
       "      <th>5735</th>\n",
       "      <td>1mGAeA7IOfhkzhQFwLxRBgGzPowVDcSQVK2/V8kDMPM=</td>\n",
       "      <td>35</td>\n",
       "      <td>male</td>\n",
       "      <td>2015-04-11</td>\n",
       "      <td>8774.00</td>\n",
       "      <td>79.57</td>\n",
       "      <td>서울 서대문구 대현동 145</td>\n",
       "      <td>광주광역시 남구,광주광역시 남구,광주광역시 동구,광주광역시 동구,광주광역시 동구,광...</td>\n",
       "      <td>22</td>\n",
       "      <td>9</td>\n",
       "      <td>전라남도 화순군</td>\n",
       "    </tr>\n",
       "    <tr>\n",
       "      <th>6295</th>\n",
       "      <td>wbThAF/3/JTlPt/WYFh5smLsm5SiYeHRKUwSdSSTPoU=</td>\n",
       "      <td>35</td>\n",
       "      <td>male</td>\n",
       "      <td>2018-01-27</td>\n",
       "      <td>222.00</td>\n",
       "      <td>34.66</td>\n",
       "      <td>울산 북구 화봉동 1466</td>\n",
       "      <td>부산광역시 남구,부산광역시 남구,부산광역시 남구,부산광역시 남구,부산광역시 동래구,...</td>\n",
       "      <td>10</td>\n",
       "      <td>5</td>\n",
       "      <td>울산광역시 중구</td>\n",
       "    </tr>\n",
       "    <tr>\n",
       "      <th>6297</th>\n",
       "      <td>KkyDio56SwjqcZ7on2ABGMAKLFbEB7hRfcZ4DJ5aBlg=</td>\n",
       "      <td>41</td>\n",
       "      <td>male</td>\n",
       "      <td>2014-11-13</td>\n",
       "      <td>191.00</td>\n",
       "      <td>2.95</td>\n",
       "      <td>서울 동대문구 휘경동 283-5</td>\n",
       "      <td>경기도 구리시</td>\n",
       "      <td>1</td>\n",
       "      <td>1</td>\n",
       "      <td>경기도 구리시</td>\n",
       "    </tr>\n",
       "    <tr>\n",
       "      <th>8146</th>\n",
       "      <td>Au2om8v5WY/HEZd81G/gqfWVO14pTUs124HNylTSPjU=</td>\n",
       "      <td>32</td>\n",
       "      <td>female</td>\n",
       "      <td>2015-09-26</td>\n",
       "      <td>19256.00</td>\n",
       "      <td>94.56</td>\n",
       "      <td>서울 강서구 화곡동 98-86</td>\n",
       "      <td>충청북도 보은군,서울특별시 양천구,강원도 원주시,경상북도 의성군,경상북도 의성군,경...</td>\n",
       "      <td>22</td>\n",
       "      <td>8</td>\n",
       "      <td>서울특별시 양천구</td>\n",
       "    </tr>\n",
       "    <tr>\n",
       "      <th>10111</th>\n",
       "      <td>KCBn3ApdPczY3rDgOmFRYXMbpX9PgsH/LiAUqp3DJnc=</td>\n",
       "      <td>35</td>\n",
       "      <td>male</td>\n",
       "      <td>2013-07-23</td>\n",
       "      <td>1421.00</td>\n",
       "      <td>22.82</td>\n",
       "      <td>부산 강서구 대저2동 2764-2</td>\n",
       "      <td>부산광역시 사하구</td>\n",
       "      <td>1</td>\n",
       "      <td>1</td>\n",
       "      <td>부산광역시 사하구</td>\n",
       "    </tr>\n",
       "    <tr>\n",
       "      <th>...</th>\n",
       "      <td>...</td>\n",
       "      <td>...</td>\n",
       "      <td>...</td>\n",
       "      <td>...</td>\n",
       "      <td>...</td>\n",
       "      <td>...</td>\n",
       "      <td>...</td>\n",
       "      <td>...</td>\n",
       "      <td>...</td>\n",
       "      <td>...</td>\n",
       "      <td>...</td>\n",
       "    </tr>\n",
       "    <tr>\n",
       "      <th>751542</th>\n",
       "      <td>X8aIsbFWJdDldihinn7oWYt46MX/OE57k6OSE0VzPOc=</td>\n",
       "      <td>28</td>\n",
       "      <td>male</td>\n",
       "      <td>2017-04-30</td>\n",
       "      <td>704.00</td>\n",
       "      <td>11.40</td>\n",
       "      <td>전북 전주시 완산구 중화산동2가 629-2</td>\n",
       "      <td>전라북도 완주군,경기도 용인시 기흥구,전라북도 전주시 완산구,전라북도 전주시 덕진구</td>\n",
       "      <td>4</td>\n",
       "      <td>4</td>\n",
       "      <td>전라북도 전주시 덕진구</td>\n",
       "    </tr>\n",
       "    <tr>\n",
       "      <th>751544</th>\n",
       "      <td>isNozhU/SlfjlXncrzi20TgQEev2hiSf+JH/13Vzt1Y=</td>\n",
       "      <td>31</td>\n",
       "      <td>male</td>\n",
       "      <td>2018-03-09</td>\n",
       "      <td>10799.00</td>\n",
       "      <td>22.83</td>\n",
       "      <td>경기 의정부시 의정부동 494 센트럴타워</td>\n",
       "      <td>경기도 양주시,경기도 고양시 일산서구,경기도 양주시,경기도 고양시 일산서구</td>\n",
       "      <td>4</td>\n",
       "      <td>2</td>\n",
       "      <td>경기도 고양시 일산서구</td>\n",
       "    </tr>\n",
       "    <tr>\n",
       "      <th>751545</th>\n",
       "      <td>DBVfEBiHB2Fq4PgtorxeD6SKjkvP+yeofER1mjQ6OD0=</td>\n",
       "      <td>28</td>\n",
       "      <td>male</td>\n",
       "      <td>2015-06-10</td>\n",
       "      <td>9080.00</td>\n",
       "      <td>2.66</td>\n",
       "      <td>서울 강남구 대치동 984-12</td>\n",
       "      <td>서울특별시 노원구</td>\n",
       "      <td>1</td>\n",
       "      <td>1</td>\n",
       "      <td>서울특별시 노원구</td>\n",
       "    </tr>\n",
       "    <tr>\n",
       "      <th>751546</th>\n",
       "      <td>2akRtQ2yPc0zFkPX1EGe72+tJPXrOhFKHmlOiwiwYY0=</td>\n",
       "      <td>21</td>\n",
       "      <td>male</td>\n",
       "      <td>2016-08-04</td>\n",
       "      <td>932.00</td>\n",
       "      <td>6.99</td>\n",
       "      <td>서울 강서구 화곡동 110-65</td>\n",
       "      <td>인천광역시 중구,서울특별시 강서구,서울특별시 영등포구,서울특별시 강서구</td>\n",
       "      <td>4</td>\n",
       "      <td>3</td>\n",
       "      <td>서울특별시 강서구</td>\n",
       "    </tr>\n",
       "    <tr>\n",
       "      <th>751547</th>\n",
       "      <td>pKyxVpBU8+VcqT/J4ZLxYLHGBR3T7rH636FQuFbhWwo=</td>\n",
       "      <td>38</td>\n",
       "      <td>male</td>\n",
       "      <td>2016-10-13</td>\n",
       "      <td>27556.00</td>\n",
       "      <td>4.29</td>\n",
       "      <td>서울 성북구 삼선동4가 18-6</td>\n",
       "      <td>서울특별시 중구,서울특별시 광진구</td>\n",
       "      <td>2</td>\n",
       "      <td>2</td>\n",
       "      <td>서울특별시 광진구</td>\n",
       "    </tr>\n",
       "  </tbody>\n",
       "</table>\n",
       "<p>555474 rows × 11 columns</p>\n",
       "</div>"
      ],
      "text/plain": [
       "                                           member_id  member_age  \\\n",
       "5735    1mGAeA7IOfhkzhQFwLxRBgGzPowVDcSQVK2/V8kDMPM=          35   \n",
       "6295    wbThAF/3/JTlPt/WYFh5smLsm5SiYeHRKUwSdSSTPoU=          35   \n",
       "6297    KkyDio56SwjqcZ7on2ABGMAKLFbEB7hRfcZ4DJ5aBlg=          41   \n",
       "8146    Au2om8v5WY/HEZd81G/gqfWVO14pTUs124HNylTSPjU=          32   \n",
       "10111   KCBn3ApdPczY3rDgOmFRYXMbpX9PgsH/LiAUqp3DJnc=          35   \n",
       "...                                              ...         ...   \n",
       "751542  X8aIsbFWJdDldihinn7oWYt46MX/OE57k6OSE0VzPOc=          28   \n",
       "751544  isNozhU/SlfjlXncrzi20TgQEev2hiSf+JH/13Vzt1Y=          31   \n",
       "751545  DBVfEBiHB2Fq4PgtorxeD6SKjkvP+yeofER1mjQ6OD0=          28   \n",
       "751546  2akRtQ2yPc0zFkPX1EGe72+tJPXrOhFKHmlOiwiwYY0=          21   \n",
       "751547  pKyxVpBU8+VcqT/J4ZLxYLHGBR3T7rH636FQuFbhWwo=          38   \n",
       "\n",
       "       member_gender member_created_date  member_total_distance  usage_hour  \\\n",
       "5735            male          2015-04-11                8774.00       79.57   \n",
       "6295            male          2018-01-27                 222.00       34.66   \n",
       "6297            male          2014-11-13                 191.00        2.95   \n",
       "8146          female          2015-09-26               19256.00       94.56   \n",
       "10111           male          2013-07-23                1421.00       22.82   \n",
       "...              ...                 ...                    ...         ...   \n",
       "751542          male          2017-04-30                 704.00       11.40   \n",
       "751544          male          2018-03-09               10799.00       22.83   \n",
       "751545          male          2015-06-10                9080.00        2.66   \n",
       "751546          male          2016-08-04                 932.00        6.99   \n",
       "751547          male          2016-10-13               27556.00        4.29   \n",
       "\n",
       "                   zone_address  \\\n",
       "5735            서울 서대문구 대현동 145   \n",
       "6295             울산 북구 화봉동 1466   \n",
       "6297          서울 동대문구 휘경동 283-5   \n",
       "8146           서울 강서구 화곡동 98-86   \n",
       "10111        부산 강서구 대저2동 2764-2   \n",
       "...                         ...   \n",
       "751542  전북 전주시 완산구 중화산동2가 629-2   \n",
       "751544   경기 의정부시 의정부동 494 센트럴타워   \n",
       "751545        서울 강남구 대치동 984-12   \n",
       "751546        서울 강서구 화곡동 110-65   \n",
       "751547        서울 성북구 삼선동4가 18-6   \n",
       "\n",
       "                                                     trip  num_trip  \\\n",
       "5735    광주광역시 남구,광주광역시 남구,광주광역시 동구,광주광역시 동구,광주광역시 동구,광...        22   \n",
       "6295    부산광역시 남구,부산광역시 남구,부산광역시 남구,부산광역시 남구,부산광역시 동래구,...        10   \n",
       "6297                                              경기도 구리시         1   \n",
       "8146    충청북도 보은군,서울특별시 양천구,강원도 원주시,경상북도 의성군,경상북도 의성군,경...        22   \n",
       "10111                                           부산광역시 사하구         1   \n",
       "...                                                   ...       ...   \n",
       "751542     전라북도 완주군,경기도 용인시 기흥구,전라북도 전주시 완산구,전라북도 전주시 덕진구         4   \n",
       "751544          경기도 양주시,경기도 고양시 일산서구,경기도 양주시,경기도 고양시 일산서구         4   \n",
       "751545                                          서울특별시 노원구         1   \n",
       "751546            인천광역시 중구,서울특별시 강서구,서울특별시 영등포구,서울특별시 강서구         4   \n",
       "751547                                 서울특별시 중구,서울특별시 광진구         2   \n",
       "\n",
       "        num_regions   last_region  \n",
       "5735              9      전라남도 화순군  \n",
       "6295              5      울산광역시 중구  \n",
       "6297              1       경기도 구리시  \n",
       "8146              8     서울특별시 양천구  \n",
       "10111             1     부산광역시 사하구  \n",
       "...             ...           ...  \n",
       "751542            4  전라북도 전주시 덕진구  \n",
       "751544            2  경기도 고양시 일산서구  \n",
       "751545            1     서울특별시 노원구  \n",
       "751546            3     서울특별시 강서구  \n",
       "751547            2     서울특별시 광진구  \n",
       "\n",
       "[555474 rows x 11 columns]"
      ]
     },
     "execution_count": 62,
     "metadata": {},
     "output_type": "execute_result"
    }
   ],
   "source": [
    "trip_df"
   ]
  },
  {
   "cell_type": "code",
   "execution_count": 70,
   "metadata": {},
   "outputs": [],
   "source": [
    "# 여러 x에 대해\n",
    "# 과거 x기간 동안의 이용 빈도\n",
    "# 과거 x기간 동안 이용시간의 평균, 표준편차\n",
    "# 현재로부터 n회 이용을 만족하는 과거 기간"
   ]
  },
  {
   "cell_type": "markdown",
   "metadata": {},
   "source": [
    "### __예약 주기__"
   ]
  },
  {
   "cell_type": "code",
   "execution_count": 91,
   "metadata": {},
   "outputs": [],
   "source": [
    "def get_cycle(member_df):\n",
    "    start_time = member_df.sort_values('reservation_start_at').reservation_start_at\n",
    "    cycles = start_time[1:].sub(start_time.values[:-1]).divide(np.timedelta64(1, 'D')).values\n",
    "    return cycles"
   ]
  },
  {
   "cell_type": "code",
   "execution_count": 95,
   "metadata": {},
   "outputs": [
    {
     "data": {
      "text/plain": [
       "array([ 1.97222222,  6.00694444,  1.        ,  6.        ,  4.        ,\n",
       "        0.89583333,  1.18055556,  0.91666667,  1.02777778,  3.40972222,\n",
       "        1.42361111,  2.06944444,  5.11805556,  0.95833333,  1.08333333,\n",
       "        0.95138889,  1.04166667,  3.90972222,  2.06944444,  1.92361111,\n",
       "        6.07638889,  2.02083333,  3.97222222,  4.29166667,  0.375     ,\n",
       "        0.20138889,  2.95138889,  1.80555556,  0.34027778,  3.05555556,\n",
       "        1.        ,  2.        ,  0.94444444,  0.83333333,  1.84027778,\n",
       "        2.38888889,  0.81944444,  0.5       ,  3.06944444,  0.22222222,\n",
       "        0.34027778,  3.        ,  2.69444444,  4.14583333,  1.02777778,\n",
       "        1.625     ,  1.18055556,  0.32638889,  1.01388889,  1.97916667,\n",
       "        4.97222222,  1.04861111,  2.8125    ,  4.66666667,  5.5       ,\n",
       "        3.04166667,  3.9375    ,  0.68055556,  1.34027778,  5.01388889,\n",
       "        1.00694444,  1.00694444,  5.        ,  4.01388889,  6.        ,\n",
       "        1.90972222,  3.07638889,  4.42361111,  3.63194444,  0.95833333,\n",
       "        3.97222222,  3.84722222,  2.05555556,  1.78472222,  2.09722222,\n",
       "        2.24305556,  1.95833333,  1.        ,  4.        ,  0.65972222,\n",
       "        0.3125    ,  2.02777778,  2.65277778,  2.27777778,  5.86111111,\n",
       "        2.20833333,  1.        ,  6.79166667,  0.20833333,  2.02777778,\n",
       "        1.        ,  1.66666667,  2.96527778,  0.94444444,  0.36111111,\n",
       "        1.01388889,  0.95833333,  1.08333333,  6.95833333,  2.99305556,\n",
       "        1.02083333,  3.04166667,  3.92361111,  3.74305556,  0.25694444,\n",
       "        4.08333333,  8.5       ,  0.4375    ,  3.07638889, 11.90277778,\n",
       "        2.07638889,  3.50694444,  7.47222222,  3.63194444])"
      ]
     },
     "execution_count": 95,
     "metadata": {},
     "output_type": "execute_result"
    }
   ],
   "source": [
    "sample = df[df.member_id.eq(df.member_id.unique()[5000])]\n",
    "\n",
    "get_cycle(sample)"
   ]
  },
  {
   "cell_type": "code",
   "execution_count": null,
   "metadata": {},
   "outputs": [],
   "source": []
  },
  {
   "cell_type": "code",
   "execution_count": null,
   "metadata": {},
   "outputs": [],
   "source": []
  }
 ],
 "metadata": {
  "interpreter": {
   "hash": "c19bed8a96d3d8901c8f6a57565db10f04f4f18ab56f090724368d30e5f67c1a"
  },
  "kernelspec": {
   "display_name": "Python 3.7.12 64-bit ('socar37': conda)",
   "language": "python",
   "name": "python3"
  },
  "language_info": {
   "codemirror_mode": {
    "name": "ipython",
    "version": 3
   },
   "file_extension": ".py",
   "mimetype": "text/x-python",
   "name": "python",
   "nbconvert_exporter": "python",
   "pygments_lexer": "ipython3",
   "version": "3.7.12"
  },
  "orig_nbformat": 4
 },
 "nbformat": 4,
 "nbformat_minor": 2
}
