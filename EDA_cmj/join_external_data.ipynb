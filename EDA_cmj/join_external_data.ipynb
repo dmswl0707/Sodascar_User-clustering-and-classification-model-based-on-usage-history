{
 "cells": [
  {
   "cell_type": "code",
   "execution_count": 221,
   "metadata": {},
   "outputs": [],
   "source": [
    "import numpy as np\n",
    "import pandas as pd\n",
    "import seaborn as sns\n",
    "import matplotlib.pyplot as plt\n",
    "\n",
    "plt.style.use('ggplot')\n",
    "pd.options.display.float_format = '{:.2f}'.format\n",
    "\n",
    "\n",
    "# 예약id, 차량id 컬럼 및 예약생성시 위치좌표(결측치 3/4가량)컬럼 drop\n",
    "df = pd.read_csv('../data/socar_reservation_triplog.csv', parse_dates=['reservation_start_at', 'reservation_return_at', 'member_created_date'])\n",
    "df = df.drop(columns=['reservation_id', 'car_id', 'reservation_created_lat', 'reservation_created_lng'])"
   ]
  },
  {
   "cell_type": "code",
   "execution_count": 222,
   "metadata": {},
   "outputs": [
    {
     "data": {
      "text/html": [
       "<div>\n",
       "<style scoped>\n",
       "    .dataframe tbody tr th:only-of-type {\n",
       "        vertical-align: middle;\n",
       "    }\n",
       "\n",
       "    .dataframe tbody tr th {\n",
       "        vertical-align: top;\n",
       "    }\n",
       "\n",
       "    .dataframe thead th {\n",
       "        text-align: right;\n",
       "    }\n",
       "</style>\n",
       "<table border=\"1\" class=\"dataframe\">\n",
       "  <thead>\n",
       "    <tr style=\"text-align: right;\">\n",
       "      <th></th>\n",
       "      <th>member_id_encrypted</th>\n",
       "      <th>region</th>\n",
       "      <th>reservation_return_at</th>\n",
       "      <th>reservation_start_at</th>\n",
       "      <th>member_age</th>\n",
       "      <th>member_gender</th>\n",
       "      <th>member_created_date</th>\n",
       "      <th>member_total_distance</th>\n",
       "      <th>is_vroom</th>\n",
       "      <th>car_name</th>\n",
       "      <th>zone_name</th>\n",
       "      <th>zone_address</th>\n",
       "      <th>zone_lat</th>\n",
       "      <th>zone_lng</th>\n",
       "      <th>zone_type1</th>\n",
       "      <th>zone_type2</th>\n",
       "      <th>zone_type3</th>\n",
       "      <th>trip</th>\n",
       "    </tr>\n",
       "  </thead>\n",
       "  <tbody>\n",
       "    <tr>\n",
       "      <th>0</th>\n",
       "      <td>6qA1i9+DXTJYgfWPqSGhszRpgNkUzFATBTG4XG7OciA=</td>\n",
       "      <td>서울특별시 강서구</td>\n",
       "      <td>2019-01-01 17:33:42</td>\n",
       "      <td>2018-12-31 17:30:00</td>\n",
       "      <td>48</td>\n",
       "      <td>male</td>\n",
       "      <td>2016-12-10</td>\n",
       "      <td>2277.00</td>\n",
       "      <td>False</td>\n",
       "      <td>아반떼AD</td>\n",
       "      <td>SK주차장</td>\n",
       "      <td>서울 강서구 방화동 500-8</td>\n",
       "      <td>37.57</td>\n",
       "      <td>126.80</td>\n",
       "      <td>LIVING_APT</td>\n",
       "      <td>TRANSFER_STATION</td>\n",
       "      <td>TRANSFER_SUBWAY</td>\n",
       "      <td>NaN</td>\n",
       "    </tr>\n",
       "    <tr>\n",
       "      <th>1</th>\n",
       "      <td>9uzg+C7Ng5hsI0So4WgJaUME+1dgR1LXyy4c8TEM1zY=</td>\n",
       "      <td>울산광역시 남구</td>\n",
       "      <td>2019-01-01 12:08:55</td>\n",
       "      <td>2018-12-31 16:00:00</td>\n",
       "      <td>25</td>\n",
       "      <td>male</td>\n",
       "      <td>2015-07-06</td>\n",
       "      <td>13156.00</td>\n",
       "      <td>False</td>\n",
       "      <td>스포티지</td>\n",
       "      <td>우정유료주차장</td>\n",
       "      <td>울산 남구 삼산동 1481-10</td>\n",
       "      <td>35.54</td>\n",
       "      <td>129.34</td>\n",
       "      <td>TRANSFER_TERMINAL</td>\n",
       "      <td>TRANSFER_TERMINAL</td>\n",
       "      <td>COMMERCIAL_HOTSPOT</td>\n",
       "      <td>NaN</td>\n",
       "    </tr>\n",
       "    <tr>\n",
       "      <th>2</th>\n",
       "      <td>SwEY5le8plfdi3EKoLBAF87zCTzFgIUo4nGWkZ6tOcM=</td>\n",
       "      <td>경기도 김포시</td>\n",
       "      <td>2019-01-02 17:30:00</td>\n",
       "      <td>2019-01-02 14:50:00</td>\n",
       "      <td>34</td>\n",
       "      <td>male</td>\n",
       "      <td>2015-10-07</td>\n",
       "      <td>318.00</td>\n",
       "      <td>True</td>\n",
       "      <td>카니발 11인승</td>\n",
       "      <td>월드애비뉴</td>\n",
       "      <td>경기 김포시 구래동 6880-7</td>\n",
       "      <td>37.65</td>\n",
       "      <td>126.63</td>\n",
       "      <td>LIVING_APT</td>\n",
       "      <td>COMMERCIAL_HOTSPOT</td>\n",
       "      <td>ETC</td>\n",
       "      <td>NaN</td>\n",
       "    </tr>\n",
       "    <tr>\n",
       "      <th>3</th>\n",
       "      <td>vmk4kp/a2AYP8VnGWJUYlbSOff+SxEG18D6fqKRkAOk=</td>\n",
       "      <td>경기도 남양주시</td>\n",
       "      <td>2019-01-01 20:53:09</td>\n",
       "      <td>2018-12-31 11:00:00</td>\n",
       "      <td>23</td>\n",
       "      <td>male</td>\n",
       "      <td>2017-10-13</td>\n",
       "      <td>1288.00</td>\n",
       "      <td>False</td>\n",
       "      <td>아반떼AD</td>\n",
       "      <td>제뉴빌딩주차장</td>\n",
       "      <td>경기 남양주시 호평동 642-2</td>\n",
       "      <td>37.65</td>\n",
       "      <td>127.24</td>\n",
       "      <td>LIVING_APT</td>\n",
       "      <td>TRANSFER_SUBWAY</td>\n",
       "      <td>COMMERCIAL_HOTSPOT</td>\n",
       "      <td>NaN</td>\n",
       "    </tr>\n",
       "    <tr>\n",
       "      <th>4</th>\n",
       "      <td>gdP+78Hhm+MZ4ZxIm8kNVvMNzKJBxbiDfBsflsMcwLA=</td>\n",
       "      <td>서울특별시 강서구</td>\n",
       "      <td>2019-01-04 14:06:03</td>\n",
       "      <td>2019-01-03 08:00:00</td>\n",
       "      <td>35</td>\n",
       "      <td>male</td>\n",
       "      <td>2017-08-13</td>\n",
       "      <td>2658.00</td>\n",
       "      <td>False</td>\n",
       "      <td>투싼(경유)</td>\n",
       "      <td>용정주차장</td>\n",
       "      <td>서울 강서구 방화동 608-9</td>\n",
       "      <td>37.57</td>\n",
       "      <td>126.82</td>\n",
       "      <td>LIVING_ETC</td>\n",
       "      <td>TRANSFER_SUBWAY</td>\n",
       "      <td>ETC</td>\n",
       "      <td>NaN</td>\n",
       "    </tr>\n",
       "  </tbody>\n",
       "</table>\n",
       "</div>"
      ],
      "text/plain": [
       "                            member_id_encrypted     region  \\\n",
       "0  6qA1i9+DXTJYgfWPqSGhszRpgNkUzFATBTG4XG7OciA=  서울특별시 강서구   \n",
       "1  9uzg+C7Ng5hsI0So4WgJaUME+1dgR1LXyy4c8TEM1zY=   울산광역시 남구   \n",
       "2  SwEY5le8plfdi3EKoLBAF87zCTzFgIUo4nGWkZ6tOcM=    경기도 김포시   \n",
       "3  vmk4kp/a2AYP8VnGWJUYlbSOff+SxEG18D6fqKRkAOk=   경기도 남양주시   \n",
       "4  gdP+78Hhm+MZ4ZxIm8kNVvMNzKJBxbiDfBsflsMcwLA=  서울특별시 강서구   \n",
       "\n",
       "  reservation_return_at reservation_start_at  member_age member_gender  \\\n",
       "0   2019-01-01 17:33:42  2018-12-31 17:30:00          48          male   \n",
       "1   2019-01-01 12:08:55  2018-12-31 16:00:00          25          male   \n",
       "2   2019-01-02 17:30:00  2019-01-02 14:50:00          34          male   \n",
       "3   2019-01-01 20:53:09  2018-12-31 11:00:00          23          male   \n",
       "4   2019-01-04 14:06:03  2019-01-03 08:00:00          35          male   \n",
       "\n",
       "  member_created_date  member_total_distance  is_vroom  car_name zone_name  \\\n",
       "0          2016-12-10                2277.00     False     아반떼AD     SK주차장   \n",
       "1          2015-07-06               13156.00     False      스포티지   우정유료주차장   \n",
       "2          2015-10-07                 318.00      True  카니발 11인승     월드애비뉴   \n",
       "3          2017-10-13                1288.00     False     아반떼AD   제뉴빌딩주차장   \n",
       "4          2017-08-13                2658.00     False    투싼(경유)     용정주차장   \n",
       "\n",
       "        zone_address  zone_lat  zone_lng         zone_type1  \\\n",
       "0   서울 강서구 방화동 500-8     37.57    126.80         LIVING_APT   \n",
       "1  울산 남구 삼산동 1481-10     35.54    129.34  TRANSFER_TERMINAL   \n",
       "2  경기 김포시 구래동 6880-7     37.65    126.63         LIVING_APT   \n",
       "3  경기 남양주시 호평동 642-2     37.65    127.24         LIVING_APT   \n",
       "4   서울 강서구 방화동 608-9     37.57    126.82         LIVING_ETC   \n",
       "\n",
       "           zone_type2          zone_type3 trip  \n",
       "0    TRANSFER_STATION     TRANSFER_SUBWAY  NaN  \n",
       "1   TRANSFER_TERMINAL  COMMERCIAL_HOTSPOT  NaN  \n",
       "2  COMMERCIAL_HOTSPOT                 ETC  NaN  \n",
       "3     TRANSFER_SUBWAY  COMMERCIAL_HOTSPOT  NaN  \n",
       "4     TRANSFER_SUBWAY                 ETC  NaN  "
      ]
     },
     "execution_count": 222,
     "metadata": {},
     "output_type": "execute_result"
    }
   ],
   "source": [
    "df.head()"
   ]
  },
  {
   "cell_type": "code",
   "execution_count": 223,
   "metadata": {},
   "outputs": [
    {
     "name": "stdout",
     "output_type": "stream",
     "text": [
      "<class 'pandas.core.frame.DataFrame'>\n",
      "RangeIndex: 751548 entries, 0 to 751547\n",
      "Data columns (total 18 columns):\n",
      " #   Column                 Non-Null Count   Dtype         \n",
      "---  ------                 --------------   -----         \n",
      " 0   member_id_encrypted    751548 non-null  object        \n",
      " 1   region                 751548 non-null  object        \n",
      " 2   reservation_return_at  751548 non-null  datetime64[ns]\n",
      " 3   reservation_start_at   751548 non-null  datetime64[ns]\n",
      " 4   member_age             751548 non-null  int64         \n",
      " 5   member_gender          699017 non-null  object        \n",
      " 6   member_created_date    751548 non-null  datetime64[ns]\n",
      " 7   member_total_distance  738010 non-null  float64       \n",
      " 8   is_vroom               751548 non-null  bool          \n",
      " 9   car_name               751548 non-null  object        \n",
      " 10  zone_name              750774 non-null  object        \n",
      " 11  zone_address           751548 non-null  object        \n",
      " 12  zone_lat               751548 non-null  float64       \n",
      " 13  zone_lng               751548 non-null  float64       \n",
      " 14  zone_type1             733508 non-null  object        \n",
      " 15  zone_type2             691605 non-null  object        \n",
      " 16  zone_type3             637422 non-null  object        \n",
      " 17  trip                   555474 non-null  object        \n",
      "dtypes: bool(1), datetime64[ns](3), float64(3), int64(1), object(10)\n",
      "memory usage: 98.2+ MB\n"
     ]
    }
   ],
   "source": [
    "df.info()"
   ]
  },
  {
   "cell_type": "code",
   "execution_count": 224,
   "metadata": {},
   "outputs": [],
   "source": [
    "def preprocess(df):\n",
    "    # 활용할 컬럼의 null 행 제거\n",
    "    COLS = ['member_age', 'member_gender', 'trip']\n",
    "    df = df.dropna(subset=COLS)\n",
    "\n",
    "    df = df.rename(columns={'member_id_encrypted':'member_id'})\n",
    "    return df.copy()\n"
   ]
  },
  {
   "cell_type": "code",
   "execution_count": 225,
   "metadata": {},
   "outputs": [],
   "source": [
    "df = preprocess(df)"
   ]
  },
  {
   "cell_type": "code",
   "execution_count": 226,
   "metadata": {},
   "outputs": [
    {
     "name": "stdout",
     "output_type": "stream",
     "text": [
      "<class 'pandas.core.frame.DataFrame'>\n",
      "Int64Index: 516650 entries, 5735 to 751547\n",
      "Data columns (total 18 columns):\n",
      " #   Column                 Non-Null Count   Dtype         \n",
      "---  ------                 --------------   -----         \n",
      " 0   member_id              516650 non-null  object        \n",
      " 1   region                 516650 non-null  object        \n",
      " 2   reservation_return_at  516650 non-null  datetime64[ns]\n",
      " 3   reservation_start_at   516650 non-null  datetime64[ns]\n",
      " 4   member_age             516650 non-null  int64         \n",
      " 5   member_gender          516650 non-null  object        \n",
      " 6   member_created_date    516650 non-null  datetime64[ns]\n",
      " 7   member_total_distance  509060 non-null  float64       \n",
      " 8   is_vroom               516650 non-null  bool          \n",
      " 9   car_name               516650 non-null  object        \n",
      " 10  zone_name              516068 non-null  object        \n",
      " 11  zone_address           516650 non-null  object        \n",
      " 12  zone_lat               516650 non-null  float64       \n",
      " 13  zone_lng               516650 non-null  float64       \n",
      " 14  zone_type1             503378 non-null  object        \n",
      " 15  zone_type2             474192 non-null  object        \n",
      " 16  zone_type3             436674 non-null  object        \n",
      " 17  trip                   516650 non-null  object        \n",
      "dtypes: bool(1), datetime64[ns](3), float64(3), int64(1), object(10)\n",
      "memory usage: 71.4+ MB\n"
     ]
    }
   ],
   "source": [
    "df.info()"
   ]
  },
  {
   "cell_type": "code",
   "execution_count": 227,
   "metadata": {},
   "outputs": [
    {
     "data": {
      "text/html": [
       "<div>\n",
       "<style scoped>\n",
       "    .dataframe tbody tr th:only-of-type {\n",
       "        vertical-align: middle;\n",
       "    }\n",
       "\n",
       "    .dataframe tbody tr th {\n",
       "        vertical-align: top;\n",
       "    }\n",
       "\n",
       "    .dataframe thead th {\n",
       "        text-align: right;\n",
       "    }\n",
       "</style>\n",
       "<table border=\"1\" class=\"dataframe\">\n",
       "  <thead>\n",
       "    <tr style=\"text-align: right;\">\n",
       "      <th></th>\n",
       "      <th>시도코드</th>\n",
       "      <th>시도명칭</th>\n",
       "      <th>시군구코드</th>\n",
       "      <th>시군구명칭</th>\n",
       "      <th>읍면동코드</th>\n",
       "      <th>읍면동명칭</th>\n",
       "    </tr>\n",
       "  </thead>\n",
       "  <tbody>\n",
       "    <tr>\n",
       "      <th>0</th>\n",
       "      <td>11</td>\n",
       "      <td>서울특별시</td>\n",
       "      <td>11010</td>\n",
       "      <td>종로구</td>\n",
       "      <td>1101053</td>\n",
       "      <td>사직동</td>\n",
       "    </tr>\n",
       "    <tr>\n",
       "      <th>1</th>\n",
       "      <td>11</td>\n",
       "      <td>서울특별시</td>\n",
       "      <td>11010</td>\n",
       "      <td>종로구</td>\n",
       "      <td>1101054</td>\n",
       "      <td>삼청동</td>\n",
       "    </tr>\n",
       "    <tr>\n",
       "      <th>2</th>\n",
       "      <td>11</td>\n",
       "      <td>서울특별시</td>\n",
       "      <td>11010</td>\n",
       "      <td>종로구</td>\n",
       "      <td>1101055</td>\n",
       "      <td>부암동</td>\n",
       "    </tr>\n",
       "    <tr>\n",
       "      <th>3</th>\n",
       "      <td>11</td>\n",
       "      <td>서울특별시</td>\n",
       "      <td>11010</td>\n",
       "      <td>종로구</td>\n",
       "      <td>1101056</td>\n",
       "      <td>평창동</td>\n",
       "    </tr>\n",
       "    <tr>\n",
       "      <th>4</th>\n",
       "      <td>11</td>\n",
       "      <td>서울특별시</td>\n",
       "      <td>11010</td>\n",
       "      <td>종로구</td>\n",
       "      <td>1101057</td>\n",
       "      <td>무악동</td>\n",
       "    </tr>\n",
       "  </tbody>\n",
       "</table>\n",
       "</div>"
      ],
      "text/plain": [
       "   시도코드   시도명칭  시군구코드 시군구명칭    읍면동코드 읍면동명칭\n",
       "0    11  서울특별시  11010   종로구  1101053   사직동\n",
       "1    11  서울특별시  11010   종로구  1101054   삼청동\n",
       "2    11  서울특별시  11010   종로구  1101055   부암동\n",
       "3    11  서울특별시  11010   종로구  1101056   평창동\n",
       "4    11  서울특별시  11010   종로구  1101057   무악동"
      ]
     },
     "execution_count": 227,
     "metadata": {},
     "output_type": "execute_result"
    }
   ],
   "source": [
    "code = pd.read_csv('../data/region_data/행정구역코드_sgis_201906.csv')\n",
    "code.head()"
   ]
  },
  {
   "cell_type": "code",
   "execution_count": 228,
   "metadata": {},
   "outputs": [
    {
     "name": "stdout",
     "output_type": "stream",
     "text": [
      "<class 'pandas.core.frame.DataFrame'>\n",
      "RangeIndex: 3512 entries, 0 to 3511\n",
      "Data columns (total 6 columns):\n",
      " #   Column  Non-Null Count  Dtype \n",
      "---  ------  --------------  ----- \n",
      " 0   시도코드    3512 non-null   int64 \n",
      " 1   시도명칭    3512 non-null   object\n",
      " 2   시군구코드   3512 non-null   int64 \n",
      " 3   시군구명칭   3512 non-null   object\n",
      " 4   읍면동코드   3512 non-null   int64 \n",
      " 5   읍면동명칭   3512 non-null   object\n",
      "dtypes: int64(3), object(3)\n",
      "memory usage: 164.8+ KB\n"
     ]
    }
   ],
   "source": [
    "code.info()"
   ]
  },
  {
   "cell_type": "code",
   "execution_count": 229,
   "metadata": {},
   "outputs": [
    {
     "data": {
      "text/html": [
       "<div>\n",
       "<style scoped>\n",
       "    .dataframe tbody tr th:only-of-type {\n",
       "        vertical-align: middle;\n",
       "    }\n",
       "\n",
       "    .dataframe tbody tr th {\n",
       "        vertical-align: top;\n",
       "    }\n",
       "\n",
       "    .dataframe thead th {\n",
       "        text-align: right;\n",
       "    }\n",
       "</style>\n",
       "<table border=\"1\" class=\"dataframe\">\n",
       "  <thead>\n",
       "    <tr style=\"text-align: right;\">\n",
       "      <th></th>\n",
       "      <th>시도코드</th>\n",
       "      <th>시도명칭</th>\n",
       "      <th>시군구코드</th>\n",
       "      <th>시군구명칭</th>\n",
       "      <th>읍면동코드</th>\n",
       "      <th>읍면동명칭</th>\n",
       "      <th>name</th>\n",
       "    </tr>\n",
       "  </thead>\n",
       "  <tbody>\n",
       "    <tr>\n",
       "      <th>0</th>\n",
       "      <td>11</td>\n",
       "      <td>서울특별시</td>\n",
       "      <td>11010</td>\n",
       "      <td>종로구</td>\n",
       "      <td>1101053</td>\n",
       "      <td>사직동</td>\n",
       "      <td>서울특별시 종로구</td>\n",
       "    </tr>\n",
       "    <tr>\n",
       "      <th>17</th>\n",
       "      <td>11</td>\n",
       "      <td>서울특별시</td>\n",
       "      <td>11020</td>\n",
       "      <td>중구</td>\n",
       "      <td>1102052</td>\n",
       "      <td>소공동</td>\n",
       "      <td>서울특별시 중구</td>\n",
       "    </tr>\n",
       "    <tr>\n",
       "      <th>32</th>\n",
       "      <td>11</td>\n",
       "      <td>서울특별시</td>\n",
       "      <td>11030</td>\n",
       "      <td>용산구</td>\n",
       "      <td>1103051</td>\n",
       "      <td>후암동</td>\n",
       "      <td>서울특별시 용산구</td>\n",
       "    </tr>\n",
       "    <tr>\n",
       "      <th>48</th>\n",
       "      <td>11</td>\n",
       "      <td>서울특별시</td>\n",
       "      <td>11040</td>\n",
       "      <td>성동구</td>\n",
       "      <td>1104052</td>\n",
       "      <td>왕십리2동</td>\n",
       "      <td>서울특별시 성동구</td>\n",
       "    </tr>\n",
       "    <tr>\n",
       "      <th>65</th>\n",
       "      <td>11</td>\n",
       "      <td>서울특별시</td>\n",
       "      <td>11050</td>\n",
       "      <td>광진구</td>\n",
       "      <td>1105053</td>\n",
       "      <td>화양동</td>\n",
       "      <td>서울특별시 광진구</td>\n",
       "    </tr>\n",
       "  </tbody>\n",
       "</table>\n",
       "</div>"
      ],
      "text/plain": [
       "    시도코드   시도명칭  시군구코드 시군구명칭    읍면동코드  읍면동명칭       name\n",
       "0     11  서울특별시  11010   종로구  1101053    사직동  서울특별시 종로구\n",
       "17    11  서울특별시  11020    중구  1102052    소공동   서울특별시 중구\n",
       "32    11  서울특별시  11030   용산구  1103051    후암동  서울특별시 용산구\n",
       "48    11  서울특별시  11040   성동구  1104052  왕십리2동  서울특별시 성동구\n",
       "65    11  서울특별시  11050   광진구  1105053    화양동  서울특별시 광진구"
      ]
     },
     "execution_count": 229,
     "metadata": {},
     "output_type": "execute_result"
    }
   ],
   "source": [
    "code['name'] = code.시도명칭.add(' ').add(code.시군구명칭)\n",
    "code = code.drop_duplicates('name')\n",
    "code.head()"
   ]
  },
  {
   "cell_type": "code",
   "execution_count": 230,
   "metadata": {},
   "outputs": [],
   "source": [
    "regions = list()\n",
    "for triplog in df.trip.str.split(','):\n",
    "    regions.extend(triplog)\n",
    "regions = list(set(regions))"
   ]
  },
  {
   "cell_type": "code",
   "execution_count": 231,
   "metadata": {},
   "outputs": [
    {
     "data": {
      "text/html": [
       "<div>\n",
       "<style scoped>\n",
       "    .dataframe tbody tr th:only-of-type {\n",
       "        vertical-align: middle;\n",
       "    }\n",
       "\n",
       "    .dataframe tbody tr th {\n",
       "        vertical-align: top;\n",
       "    }\n",
       "\n",
       "    .dataframe thead th {\n",
       "        text-align: right;\n",
       "    }\n",
       "</style>\n",
       "<table border=\"1\" class=\"dataframe\">\n",
       "  <thead>\n",
       "    <tr style=\"text-align: right;\">\n",
       "      <th></th>\n",
       "      <th>name</th>\n",
       "    </tr>\n",
       "  </thead>\n",
       "  <tbody>\n",
       "    <tr>\n",
       "      <th>0</th>\n",
       "      <td>경상북도 군위군</td>\n",
       "    </tr>\n",
       "    <tr>\n",
       "      <th>1</th>\n",
       "      <td>충청북도 충주시</td>\n",
       "    </tr>\n",
       "    <tr>\n",
       "      <th>2</th>\n",
       "      <td>서울특별시 양천구</td>\n",
       "    </tr>\n",
       "    <tr>\n",
       "      <th>3</th>\n",
       "      <td>서울특별시 서초구</td>\n",
       "    </tr>\n",
       "    <tr>\n",
       "      <th>4</th>\n",
       "      <td>서울특별시 금천구</td>\n",
       "    </tr>\n",
       "  </tbody>\n",
       "</table>\n",
       "</div>"
      ],
      "text/plain": [
       "        name\n",
       "0   경상북도 군위군\n",
       "1   충청북도 충주시\n",
       "2  서울특별시 양천구\n",
       "3  서울특별시 서초구\n",
       "4  서울특별시 금천구"
      ]
     },
     "execution_count": 231,
     "metadata": {},
     "output_type": "execute_result"
    }
   ],
   "source": [
    "# regions : 쏘카 이용정보 triplog에 등장하는 unique한 지역들\n",
    "regions = pd.DataFrame({'name':regions})\n",
    "regions.head()"
   ]
  },
  {
   "cell_type": "code",
   "execution_count": 232,
   "metadata": {},
   "outputs": [
    {
     "name": "stdout",
     "output_type": "stream",
     "text": [
      "<class 'pandas.core.frame.DataFrame'>\n",
      "RangeIndex: 249 entries, 0 to 248\n",
      "Data columns (total 1 columns):\n",
      " #   Column  Non-Null Count  Dtype \n",
      "---  ------  --------------  ----- \n",
      " 0   name    249 non-null    object\n",
      "dtypes: object(1)\n",
      "memory usage: 2.1+ KB\n"
     ]
    }
   ],
   "source": [
    "regions.info()"
   ]
  },
  {
   "cell_type": "code",
   "execution_count": 233,
   "metadata": {},
   "outputs": [
    {
     "data": {
      "text/plain": [
       "(249, 1)"
      ]
     },
     "execution_count": 233,
     "metadata": {},
     "output_type": "execute_result"
    }
   ],
   "source": [
    "regions.shape"
   ]
  },
  {
   "cell_type": "code",
   "execution_count": 234,
   "metadata": {},
   "outputs": [
    {
     "name": "stdout",
     "output_type": "stream",
     "text": [
      "<class 'pandas.core.frame.DataFrame'>\n",
      "Int64Index: 249 entries, 0 to 248\n",
      "Data columns (total 2 columns):\n",
      " #   Column  Non-Null Count  Dtype  \n",
      "---  ------  --------------  -----  \n",
      " 0   name    249 non-null    object \n",
      " 1   시군구코드   248 non-null    float64\n",
      "dtypes: float64(1), object(1)\n",
      "memory usage: 5.8+ KB\n"
     ]
    }
   ],
   "source": [
    "regions = regions.merge(code[['name', '시군구코드']], how='left', on='name')\n",
    "regions.info()"
   ]
  },
  {
   "cell_type": "code",
   "execution_count": 235,
   "metadata": {},
   "outputs": [
    {
     "data": {
      "text/plain": [
       "(249, 2)"
      ]
     },
     "execution_count": 235,
     "metadata": {},
     "output_type": "execute_result"
    }
   ],
   "source": [
    "regions.shape"
   ]
  },
  {
   "cell_type": "code",
   "execution_count": 236,
   "metadata": {},
   "outputs": [
    {
     "data": {
      "text/html": [
       "<div>\n",
       "<style scoped>\n",
       "    .dataframe tbody tr th:only-of-type {\n",
       "        vertical-align: middle;\n",
       "    }\n",
       "\n",
       "    .dataframe tbody tr th {\n",
       "        vertical-align: top;\n",
       "    }\n",
       "\n",
       "    .dataframe thead th {\n",
       "        text-align: right;\n",
       "    }\n",
       "</style>\n",
       "<table border=\"1\" class=\"dataframe\">\n",
       "  <thead>\n",
       "    <tr style=\"text-align: right;\">\n",
       "      <th></th>\n",
       "      <th>name</th>\n",
       "      <th>시군구코드</th>\n",
       "    </tr>\n",
       "  </thead>\n",
       "  <tbody>\n",
       "    <tr>\n",
       "      <th>40</th>\n",
       "      <td>세종특별자치시</td>\n",
       "      <td>NaN</td>\n",
       "    </tr>\n",
       "  </tbody>\n",
       "</table>\n",
       "</div>"
      ],
      "text/plain": [
       "        name  시군구코드\n",
       "40  세종특별자치시     NaN"
      ]
     },
     "execution_count": 236,
     "metadata": {},
     "output_type": "execute_result"
    }
   ],
   "source": [
    "regions[regions.시군구코드.isna()]"
   ]
  },
  {
   "cell_type": "code",
   "execution_count": 237,
   "metadata": {},
   "outputs": [],
   "source": [
    "regions.iloc[40, 1] = 29010"
   ]
  },
  {
   "cell_type": "code",
   "execution_count": 238,
   "metadata": {},
   "outputs": [
    {
     "name": "stdout",
     "output_type": "stream",
     "text": [
      "<class 'pandas.core.frame.DataFrame'>\n",
      "Int64Index: 249 entries, 0 to 248\n",
      "Data columns (total 2 columns):\n",
      " #   Column  Non-Null Count  Dtype  \n",
      "---  ------  --------------  -----  \n",
      " 0   name    249 non-null    object \n",
      " 1   시군구코드   249 non-null    float64\n",
      "dtypes: float64(1), object(1)\n",
      "memory usage: 5.8+ KB\n"
     ]
    }
   ],
   "source": [
    "regions.info()"
   ]
  },
  {
   "cell_type": "code",
   "execution_count": 239,
   "metadata": {},
   "outputs": [],
   "source": [
    "regions = regions.rename(columns={'시군구코드':'rcode'})"
   ]
  },
  {
   "cell_type": "code",
   "execution_count": 240,
   "metadata": {},
   "outputs": [],
   "source": [
    "regions.rcode = regions.rcode.astype(int)"
   ]
  },
  {
   "cell_type": "code",
   "execution_count": 241,
   "metadata": {},
   "outputs": [
    {
     "data": {
      "text/html": [
       "<div>\n",
       "<style scoped>\n",
       "    .dataframe tbody tr th:only-of-type {\n",
       "        vertical-align: middle;\n",
       "    }\n",
       "\n",
       "    .dataframe tbody tr th {\n",
       "        vertical-align: top;\n",
       "    }\n",
       "\n",
       "    .dataframe thead th {\n",
       "        text-align: right;\n",
       "    }\n",
       "</style>\n",
       "<table border=\"1\" class=\"dataframe\">\n",
       "  <thead>\n",
       "    <tr style=\"text-align: right;\">\n",
       "      <th></th>\n",
       "      <th>name</th>\n",
       "      <th>rcode</th>\n",
       "    </tr>\n",
       "  </thead>\n",
       "  <tbody>\n",
       "    <tr>\n",
       "      <th>0</th>\n",
       "      <td>경상북도 군위군</td>\n",
       "      <td>37310</td>\n",
       "    </tr>\n",
       "    <tr>\n",
       "      <th>1</th>\n",
       "      <td>충청북도 충주시</td>\n",
       "      <td>33020</td>\n",
       "    </tr>\n",
       "    <tr>\n",
       "      <th>2</th>\n",
       "      <td>서울특별시 양천구</td>\n",
       "      <td>11150</td>\n",
       "    </tr>\n",
       "    <tr>\n",
       "      <th>3</th>\n",
       "      <td>서울특별시 서초구</td>\n",
       "      <td>11220</td>\n",
       "    </tr>\n",
       "    <tr>\n",
       "      <th>4</th>\n",
       "      <td>서울특별시 금천구</td>\n",
       "      <td>11180</td>\n",
       "    </tr>\n",
       "  </tbody>\n",
       "</table>\n",
       "</div>"
      ],
      "text/plain": [
       "        name  rcode\n",
       "0   경상북도 군위군  37310\n",
       "1   충청북도 충주시  33020\n",
       "2  서울특별시 양천구  11150\n",
       "3  서울특별시 서초구  11220\n",
       "4  서울특별시 금천구  11180"
      ]
     },
     "execution_count": 241,
     "metadata": {},
     "output_type": "execute_result"
    }
   ],
   "source": [
    "regions.head()"
   ]
  },
  {
   "cell_type": "code",
   "execution_count": 242,
   "metadata": {},
   "outputs": [],
   "source": [
    "import os\n",
    "\n",
    "path = '../data/region_data'\n",
    "\n",
    "# foods = pd.read_csv(os.path.join(path, 'KC_618_LLR_RSTRT_CNBAS_TRND_2020.csv'))\n",
    "stores = pd.read_csv(os.path.join(path, 'KC_619_DMSTC_TRV_CNSMP_STATN_BIZAEA_MAP_2019.csv'))\n",
    "# tours = pd.read_csv(os.path.join(path, 'YN_REGNAL_TOUR_ND_TRNSPORT_GOODS_20200831.csv'))"
   ]
  },
  {
   "cell_type": "code",
   "execution_count": 243,
   "metadata": {},
   "outputs": [
    {
     "data": {
      "text/html": [
       "<div>\n",
       "<style scoped>\n",
       "    .dataframe tbody tr th:only-of-type {\n",
       "        vertical-align: middle;\n",
       "    }\n",
       "\n",
       "    .dataframe tbody tr th {\n",
       "        vertical-align: top;\n",
       "    }\n",
       "\n",
       "    .dataframe thead th {\n",
       "        text-align: right;\n",
       "    }\n",
       "</style>\n",
       "<table border=\"1\" class=\"dataframe\">\n",
       "  <thead>\n",
       "    <tr style=\"text-align: right;\">\n",
       "      <th></th>\n",
       "      <th>sido_nm</th>\n",
       "      <th>sgg_nm</th>\n",
       "      <th>hadm_cd</th>\n",
       "      <th>atrctn_cnt</th>\n",
       "      <th>rstrt_cnt</th>\n",
       "      <th>shopng_cnt</th>\n",
       "      <th>residnt_cnt_sum</th>\n",
       "      <th>FILE_NAME</th>\n",
       "      <th>base_ymd</th>\n",
       "    </tr>\n",
       "  </thead>\n",
       "  <tbody>\n",
       "    <tr>\n",
       "      <th>0</th>\n",
       "      <td>강원도</td>\n",
       "      <td>강릉시</td>\n",
       "      <td>42150</td>\n",
       "      <td>308</td>\n",
       "      <td>4685</td>\n",
       "      <td>460</td>\n",
       "      <td>162905</td>\n",
       "      <td>KC_619_DMSTC_TRV_CNSMP_STATN_BIZAEA_MAP_2019</td>\n",
       "      <td>20200214</td>\n",
       "    </tr>\n",
       "    <tr>\n",
       "      <th>1</th>\n",
       "      <td>강원도</td>\n",
       "      <td>고성군</td>\n",
       "      <td>42820</td>\n",
       "      <td>105</td>\n",
       "      <td>795</td>\n",
       "      <td>117</td>\n",
       "      <td>18628</td>\n",
       "      <td>KC_619_DMSTC_TRV_CNSMP_STATN_BIZAEA_MAP_2019</td>\n",
       "      <td>20200214</td>\n",
       "    </tr>\n",
       "    <tr>\n",
       "      <th>2</th>\n",
       "      <td>강원도</td>\n",
       "      <td>동해시</td>\n",
       "      <td>42170</td>\n",
       "      <td>85</td>\n",
       "      <td>1929</td>\n",
       "      <td>247</td>\n",
       "      <td>68772</td>\n",
       "      <td>KC_619_DMSTC_TRV_CNSMP_STATN_BIZAEA_MAP_2019</td>\n",
       "      <td>20200214</td>\n",
       "    </tr>\n",
       "    <tr>\n",
       "      <th>3</th>\n",
       "      <td>강원도</td>\n",
       "      <td>삼척시</td>\n",
       "      <td>42230</td>\n",
       "      <td>135</td>\n",
       "      <td>1597</td>\n",
       "      <td>209</td>\n",
       "      <td>45409</td>\n",
       "      <td>KC_619_DMSTC_TRV_CNSMP_STATN_BIZAEA_MAP_2019</td>\n",
       "      <td>20200214</td>\n",
       "    </tr>\n",
       "    <tr>\n",
       "      <th>4</th>\n",
       "      <td>강원도</td>\n",
       "      <td>속초시</td>\n",
       "      <td>42210</td>\n",
       "      <td>79</td>\n",
       "      <td>2594</td>\n",
       "      <td>210</td>\n",
       "      <td>63203</td>\n",
       "      <td>KC_619_DMSTC_TRV_CNSMP_STATN_BIZAEA_MAP_2019</td>\n",
       "      <td>20200214</td>\n",
       "    </tr>\n",
       "  </tbody>\n",
       "</table>\n",
       "</div>"
      ],
      "text/plain": [
       "  sido_nm sgg_nm  hadm_cd  atrctn_cnt  rstrt_cnt  shopng_cnt  residnt_cnt_sum  \\\n",
       "0     강원도    강릉시    42150         308       4685         460           162905   \n",
       "1     강원도    고성군    42820         105        795         117            18628   \n",
       "2     강원도    동해시    42170          85       1929         247            68772   \n",
       "3     강원도    삼척시    42230         135       1597         209            45409   \n",
       "4     강원도    속초시    42210          79       2594         210            63203   \n",
       "\n",
       "                                      FILE_NAME  base_ymd  \n",
       "0  KC_619_DMSTC_TRV_CNSMP_STATN_BIZAEA_MAP_2019  20200214  \n",
       "1  KC_619_DMSTC_TRV_CNSMP_STATN_BIZAEA_MAP_2019  20200214  \n",
       "2  KC_619_DMSTC_TRV_CNSMP_STATN_BIZAEA_MAP_2019  20200214  \n",
       "3  KC_619_DMSTC_TRV_CNSMP_STATN_BIZAEA_MAP_2019  20200214  \n",
       "4  KC_619_DMSTC_TRV_CNSMP_STATN_BIZAEA_MAP_2019  20200214  "
      ]
     },
     "execution_count": 243,
     "metadata": {},
     "output_type": "execute_result"
    }
   ],
   "source": [
    "stores.head()"
   ]
  },
  {
   "cell_type": "code",
   "execution_count": 244,
   "metadata": {},
   "outputs": [
    {
     "data": {
      "text/html": [
       "<div>\n",
       "<style scoped>\n",
       "    .dataframe tbody tr th:only-of-type {\n",
       "        vertical-align: middle;\n",
       "    }\n",
       "\n",
       "    .dataframe tbody tr th {\n",
       "        vertical-align: top;\n",
       "    }\n",
       "\n",
       "    .dataframe thead th {\n",
       "        text-align: right;\n",
       "    }\n",
       "</style>\n",
       "<table border=\"1\" class=\"dataframe\">\n",
       "  <thead>\n",
       "    <tr style=\"text-align: right;\">\n",
       "      <th></th>\n",
       "      <th>sido_nm</th>\n",
       "      <th>sgg_nm</th>\n",
       "      <th>hadm_cd</th>\n",
       "      <th>atrctn_cnt</th>\n",
       "      <th>rstrt_cnt</th>\n",
       "      <th>shopng_cnt</th>\n",
       "      <th>residnt_cnt_sum</th>\n",
       "      <th>FILE_NAME</th>\n",
       "      <th>base_ymd</th>\n",
       "    </tr>\n",
       "  </thead>\n",
       "  <tbody>\n",
       "    <tr>\n",
       "      <th>165</th>\n",
       "      <td>세종특별자치시</td>\n",
       "      <td>NaN</td>\n",
       "      <td>36110</td>\n",
       "      <td>152</td>\n",
       "      <td>3886</td>\n",
       "      <td>301</td>\n",
       "      <td>229563</td>\n",
       "      <td>KC_619_DMSTC_TRV_CNSMP_STATN_BIZAEA_MAP_2019</td>\n",
       "      <td>20200214</td>\n",
       "    </tr>\n",
       "  </tbody>\n",
       "</table>\n",
       "</div>"
      ],
      "text/plain": [
       "     sido_nm sgg_nm  hadm_cd  atrctn_cnt  rstrt_cnt  shopng_cnt  \\\n",
       "165  세종특별자치시    NaN    36110         152       3886         301   \n",
       "\n",
       "     residnt_cnt_sum                                     FILE_NAME  base_ymd  \n",
       "165           229563  KC_619_DMSTC_TRV_CNSMP_STATN_BIZAEA_MAP_2019  20200214  "
      ]
     },
     "execution_count": 244,
     "metadata": {},
     "output_type": "execute_result"
    }
   ],
   "source": [
    "stores[stores.sgg_nm.isna()]"
   ]
  },
  {
   "cell_type": "code",
   "execution_count": 245,
   "metadata": {},
   "outputs": [],
   "source": [
    "stores['name'] = stores.sido_nm + ' ' + stores.sgg_nm\n",
    "stores = stores.drop(columns=['FILE_NAME', 'base_ymd', 'hadm_cd'])\n",
    "stores = stores.merge(code[['name', '시군구코드']], how='left', on='name')\n",
    "\n",
    "stores = stores.rename(columns={'시군구코드':'rcode'})"
   ]
  },
  {
   "cell_type": "code",
   "execution_count": 246,
   "metadata": {},
   "outputs": [
    {
     "name": "stdout",
     "output_type": "stream",
     "text": [
      "<class 'pandas.core.frame.DataFrame'>\n",
      "Int64Index: 250 entries, 0 to 249\n",
      "Data columns (total 8 columns):\n",
      " #   Column           Non-Null Count  Dtype  \n",
      "---  ------           --------------  -----  \n",
      " 0   sido_nm          250 non-null    object \n",
      " 1   sgg_nm           249 non-null    object \n",
      " 2   atrctn_cnt       250 non-null    int64  \n",
      " 3   rstrt_cnt        250 non-null    int64  \n",
      " 4   shopng_cnt       250 non-null    int64  \n",
      " 5   residnt_cnt_sum  250 non-null    int64  \n",
      " 6   name             249 non-null    object \n",
      " 7   rcode            249 non-null    float64\n",
      "dtypes: float64(1), int64(4), object(3)\n",
      "memory usage: 17.6+ KB\n"
     ]
    }
   ],
   "source": [
    "stores.info()"
   ]
  },
  {
   "cell_type": "code",
   "execution_count": 247,
   "metadata": {},
   "outputs": [
    {
     "name": "stderr",
     "output_type": "stream",
     "text": [
      "C:\\Users\\jomin\\anaconda3\\envs\\socar37\\lib\\site-packages\\pandas\\core\\generic.py:5516: SettingWithCopyWarning: \n",
      "A value is trying to be set on a copy of a slice from a DataFrame.\n",
      "Try using .loc[row_indexer,col_indexer] = value instead\n",
      "\n",
      "See the caveats in the documentation: https://pandas.pydata.org/pandas-docs/stable/user_guide/indexing.html#returning-a-view-versus-a-copy\n",
      "  self[name] = value\n"
     ]
    }
   ],
   "source": [
    "stores[stores.name.isna()].name = '세종특별자치시'\n",
    "stores[stores.name.isna()].rcode = 29010"
   ]
  },
  {
   "cell_type": "code",
   "execution_count": 248,
   "metadata": {},
   "outputs": [
    {
     "name": "stdout",
     "output_type": "stream",
     "text": [
      "<class 'pandas.core.frame.DataFrame'>\n",
      "Int64Index: 250 entries, 0 to 249\n",
      "Data columns (total 8 columns):\n",
      " #   Column           Non-Null Count  Dtype  \n",
      "---  ------           --------------  -----  \n",
      " 0   sido_nm          250 non-null    object \n",
      " 1   sgg_nm           249 non-null    object \n",
      " 2   atrctn_cnt       250 non-null    int64  \n",
      " 3   rstrt_cnt        250 non-null    int64  \n",
      " 4   shopng_cnt       250 non-null    int64  \n",
      " 5   residnt_cnt_sum  250 non-null    int64  \n",
      " 6   name             249 non-null    object \n",
      " 7   rcode            249 non-null    float64\n",
      "dtypes: float64(1), int64(4), object(3)\n",
      "memory usage: 17.6+ KB\n"
     ]
    }
   ],
   "source": [
    "stores.info()"
   ]
  },
  {
   "cell_type": "code",
   "execution_count": 249,
   "metadata": {},
   "outputs": [
    {
     "name": "stdout",
     "output_type": "stream",
     "text": [
      "<class 'pandas.core.frame.DataFrame'>\n",
      "Int64Index: 249 entries, 0 to 248\n",
      "Data columns (total 2 columns):\n",
      " #   Column  Non-Null Count  Dtype \n",
      "---  ------  --------------  ----- \n",
      " 0   name    249 non-null    object\n",
      " 1   rcode   249 non-null    int32 \n",
      "dtypes: int32(1), object(1)\n",
      "memory usage: 4.9+ KB\n"
     ]
    }
   ],
   "source": [
    "regions.info()"
   ]
  },
  {
   "cell_type": "code",
   "execution_count": 250,
   "metadata": {},
   "outputs": [
    {
     "data": {
      "text/plain": [
       "Index(['sido_nm', 'sgg_nm', 'atrctn_cnt', 'rstrt_cnt', 'shopng_cnt',\n",
       "       'residnt_cnt_sum', 'name', 'rcode'],\n",
       "      dtype='object')"
      ]
     },
     "execution_count": 250,
     "metadata": {},
     "output_type": "execute_result"
    }
   ],
   "source": [
    "stores.columns"
   ]
  },
  {
   "cell_type": "code",
   "execution_count": 251,
   "metadata": {},
   "outputs": [],
   "source": [
    "regions = regions.merge(stores[['atrctn_cnt', 'rstrt_cnt', 'shopng_cnt', 'residnt_cnt_sum', 'rcode']], how='left', on='rcode')"
   ]
  },
  {
   "cell_type": "code",
   "execution_count": 253,
   "metadata": {},
   "outputs": [
    {
     "data": {
      "text/html": [
       "<div>\n",
       "<style scoped>\n",
       "    .dataframe tbody tr th:only-of-type {\n",
       "        vertical-align: middle;\n",
       "    }\n",
       "\n",
       "    .dataframe tbody tr th {\n",
       "        vertical-align: top;\n",
       "    }\n",
       "\n",
       "    .dataframe thead th {\n",
       "        text-align: right;\n",
       "    }\n",
       "</style>\n",
       "<table border=\"1\" class=\"dataframe\">\n",
       "  <thead>\n",
       "    <tr style=\"text-align: right;\">\n",
       "      <th></th>\n",
       "      <th>name</th>\n",
       "      <th>rcode</th>\n",
       "      <th>atrctn_cnt</th>\n",
       "      <th>rstrt_cnt</th>\n",
       "      <th>shopng_cnt</th>\n",
       "      <th>residnt_cnt_sum</th>\n",
       "    </tr>\n",
       "  </thead>\n",
       "  <tbody>\n",
       "    <tr>\n",
       "      <th>0</th>\n",
       "      <td>경상북도 군위군</td>\n",
       "      <td>37310</td>\n",
       "      <td>153.00</td>\n",
       "      <td>421.00</td>\n",
       "      <td>82.00</td>\n",
       "      <td>16253.00</td>\n",
       "    </tr>\n",
       "    <tr>\n",
       "      <th>1</th>\n",
       "      <td>충청북도 충주시</td>\n",
       "      <td>33020</td>\n",
       "      <td>260.00</td>\n",
       "      <td>4534.00</td>\n",
       "      <td>520.00</td>\n",
       "      <td>165765.00</td>\n",
       "    </tr>\n",
       "    <tr>\n",
       "      <th>2</th>\n",
       "      <td>서울특별시 양천구</td>\n",
       "      <td>11150</td>\n",
       "      <td>27.00</td>\n",
       "      <td>3716.00</td>\n",
       "      <td>432.00</td>\n",
       "      <td>385006.00</td>\n",
       "    </tr>\n",
       "    <tr>\n",
       "      <th>3</th>\n",
       "      <td>서울특별시 서초구</td>\n",
       "      <td>11220</td>\n",
       "      <td>87.00</td>\n",
       "      <td>6711.00</td>\n",
       "      <td>310.00</td>\n",
       "      <td>379715.00</td>\n",
       "    </tr>\n",
       "    <tr>\n",
       "      <th>4</th>\n",
       "      <td>서울특별시 금천구</td>\n",
       "      <td>11180</td>\n",
       "      <td>26.00</td>\n",
       "      <td>3305.00</td>\n",
       "      <td>301.00</td>\n",
       "      <td>244507.00</td>\n",
       "    </tr>\n",
       "    <tr>\n",
       "      <th>5</th>\n",
       "      <td>전라남도 함평군</td>\n",
       "      <td>36430</td>\n",
       "      <td>170.00</td>\n",
       "      <td>443.00</td>\n",
       "      <td>89.00</td>\n",
       "      <td>21135.00</td>\n",
       "    </tr>\n",
       "    <tr>\n",
       "      <th>6</th>\n",
       "      <td>부산광역시 동래구</td>\n",
       "      <td>21060</td>\n",
       "      <td>85.00</td>\n",
       "      <td>4146.00</td>\n",
       "      <td>320.00</td>\n",
       "      <td>214009.00</td>\n",
       "    </tr>\n",
       "    <tr>\n",
       "      <th>7</th>\n",
       "      <td>충청남도 서산시</td>\n",
       "      <td>34050</td>\n",
       "      <td>153.00</td>\n",
       "      <td>3201.00</td>\n",
       "      <td>311.00</td>\n",
       "      <td>131876.00</td>\n",
       "    </tr>\n",
       "    <tr>\n",
       "      <th>8</th>\n",
       "      <td>경기도 성남시 중원구</td>\n",
       "      <td>31022</td>\n",
       "      <td>30.00</td>\n",
       "      <td>2671.00</td>\n",
       "      <td>271.00</td>\n",
       "      <td>185399.00</td>\n",
       "    </tr>\n",
       "    <tr>\n",
       "      <th>9</th>\n",
       "      <td>경기도 용인시 수지구</td>\n",
       "      <td>31193</td>\n",
       "      <td>30.00</td>\n",
       "      <td>2254.00</td>\n",
       "      <td>218.00</td>\n",
       "      <td>286691.00</td>\n",
       "    </tr>\n",
       "  </tbody>\n",
       "</table>\n",
       "</div>"
      ],
      "text/plain": [
       "          name  rcode  atrctn_cnt  rstrt_cnt  shopng_cnt  residnt_cnt_sum\n",
       "0     경상북도 군위군  37310      153.00     421.00       82.00         16253.00\n",
       "1     충청북도 충주시  33020      260.00    4534.00      520.00        165765.00\n",
       "2    서울특별시 양천구  11150       27.00    3716.00      432.00        385006.00\n",
       "3    서울특별시 서초구  11220       87.00    6711.00      310.00        379715.00\n",
       "4    서울특별시 금천구  11180       26.00    3305.00      301.00        244507.00\n",
       "5     전라남도 함평군  36430      170.00     443.00       89.00         21135.00\n",
       "6    부산광역시 동래구  21060       85.00    4146.00      320.00        214009.00\n",
       "7     충청남도 서산시  34050      153.00    3201.00      311.00        131876.00\n",
       "8  경기도 성남시 중원구  31022       30.00    2671.00      271.00        185399.00\n",
       "9  경기도 용인시 수지구  31193       30.00    2254.00      218.00        286691.00"
      ]
     },
     "execution_count": 253,
     "metadata": {},
     "output_type": "execute_result"
    }
   ],
   "source": [
    "# triplog에 존재하는 모든 지역에 대한 특성정보를 추가함\n",
    "# 이 테이블을 참조하여 이용정보에서 방문한 모든 지역의 특성을 조회할수있음\n",
    "regions.head(10)"
   ]
  },
  {
   "cell_type": "code",
   "execution_count": null,
   "metadata": {},
   "outputs": [],
   "source": []
  },
  {
   "cell_type": "code",
   "execution_count": null,
   "metadata": {},
   "outputs": [],
   "source": []
  }
 ],
 "metadata": {
  "interpreter": {
   "hash": "c19bed8a96d3d8901c8f6a57565db10f04f4f18ab56f090724368d30e5f67c1a"
  },
  "kernelspec": {
   "display_name": "Python 3.7.12 64-bit ('socar37': conda)",
   "language": "python",
   "name": "python3"
  },
  "language_info": {
   "codemirror_mode": {
    "name": "ipython",
    "version": 3
   },
   "file_extension": ".py",
   "mimetype": "text/x-python",
   "name": "python",
   "nbconvert_exporter": "python",
   "pygments_lexer": "ipython3",
   "version": "3.7.12"
  },
  "orig_nbformat": 4
 },
 "nbformat": 4,
 "nbformat_minor": 2
}
