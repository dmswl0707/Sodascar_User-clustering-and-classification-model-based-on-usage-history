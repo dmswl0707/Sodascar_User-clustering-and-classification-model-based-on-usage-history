{
 "cells": [
  {
   "cell_type": "code",
   "execution_count": 9,
   "id": "f5a4cb3b",
   "metadata": {
    "ExecuteTime": {
     "end_time": "2022-01-02T10:10:49.657775Z",
     "start_time": "2022-01-02T10:10:49.634694Z"
    }
   },
   "outputs": [],
   "source": [
    "import pandas as pd\n",
    "import matplotlib.pyplot as plt \n",
    "from matplotlib import font_manager, rc\n",
    "import seaborn as sns \n",
    "sns.set_style(\"darkgrid\")\n",
    "%matplotlib inline \n",
    "rc(\"font\", family=\"Malgun Gothic\")\n",
    "plt.rcParams[\"axes.unicode_minus\"] = False \n",
    "\n",
    "import warnings\n",
    "import os\n",
    "warnings.filterwarnings(action='ignore')"
   ]
  },
  {
   "cell_type": "code",
   "execution_count": 10,
   "id": "f690ff65",
   "metadata": {
    "ExecuteTime": {
     "end_time": "2022-01-02T10:10:53.214152Z",
     "start_time": "2022-01-02T10:10:53.193578Z"
    }
   },
   "outputs": [],
   "source": [
    "data_path = os.getcwd()"
   ]
  },
  {
   "cell_type": "code",
   "execution_count": 11,
   "id": "d72cb652",
   "metadata": {
    "ExecuteTime": {
     "end_time": "2022-01-02T10:11:20.099342Z",
     "start_time": "2022-01-02T10:11:14.722479Z"
    }
   },
   "outputs": [],
   "source": [
    "df_triplog = pd.read_csv(os.path.join(data_path, 'socar_reservation_triplog.csv'))"
   ]
  },
  {
   "cell_type": "code",
   "execution_count": 13,
   "id": "aa7f3745",
   "metadata": {
    "ExecuteTime": {
     "end_time": "2022-01-02T10:13:07.024484Z",
     "start_time": "2022-01-02T10:13:07.011966Z"
    }
   },
   "outputs": [
    {
     "data": {
      "text/plain": [
       "Index(['reservation_id', 'car_id', 'member_id_encrypted', 'region',\n",
       "       'reservation_return_at', 'reservation_start_at', 'member_age',\n",
       "       'member_gender', 'member_created_date', 'member_total_distance',\n",
       "       'is_vroom', 'car_name', 'zone_name', 'zone_address', 'zone_lat',\n",
       "       'zone_lng', 'zone_type1', 'zone_type2', 'zone_type3',\n",
       "       'reservation_created_lat', 'reservation_created_lng', 'trip'],\n",
       "      dtype='object')"
      ]
     },
     "execution_count": 13,
     "metadata": {},
     "output_type": "execute_result"
    }
   ],
   "source": [
    "df_triplog.columns"
   ]
  },
  {
   "cell_type": "markdown",
   "id": "fc7811b7",
   "metadata": {},
   "source": [
    "## 추가, 수정 컬럼\n",
    "- usage_time : reservation_return_at - reservation_start_at (분 단위)\n",
    "- trip : 지역구 중복 제거 (순서X)"
   ]
  },
  {
   "cell_type": "code",
   "execution_count": 25,
   "id": "96fedc08",
   "metadata": {
    "ExecuteTime": {
     "end_time": "2022-01-02T10:20:26.371256Z",
     "start_time": "2022-01-02T10:20:26.354398Z"
    }
   },
   "outputs": [],
   "source": [
    "def preprocess(df):\n",
    "    # 사용 컬럼 선택\n",
    "    use_col = ['reservation_id', 'region', 'reservation_return_at', 'reservation_start_at', 'member_age', \n",
    "           'member_gender', 'member_total_distance', 'is_vroom', 'car_name', 'zone_address', 'zone_lat', 'zone_lng','trip']\n",
    "    df = df[use_col]\n",
    "    \n",
    "    # member_gender 와 trip 결측 데이터 제거\n",
    "    df = df.loc[df['member_gender'].notnull() & df['trip'].notnull()]\n",
    "    \n",
    "\n",
    "    df['reservation_return_at'] =  pd.to_datetime(df['reservation_return_at'], format='%Y-%m-%d %H:%M:%S')\n",
    "    df['reservation_start_at'] =  pd.to_datetime(df['reservation_start_at'], format='%Y-%m-%d %H:%M:%S')\n",
    "    df.dropna(how='any', inplace=True)\n",
    "\n",
    "    # 사용시간 (분), 5분 미만 데이터는 제외\n",
    "    df['usage_time'] = (df['reservation_return_at'] - df['reservation_start_at']).astype('timedelta64[m]')\n",
    "    df = df.loc[df['usage_time']>5]\n",
    "    \n",
    "    # trip의 지역구 중복 제거\n",
    "    df['trip'] = df['trip'].apply(lambda x : ','.join(list(set(x.split(',')))))\n",
    "    return df.copy()"
   ]
  },
  {
   "cell_type": "code",
   "execution_count": 29,
   "id": "721812c4",
   "metadata": {
    "ExecuteTime": {
     "end_time": "2022-01-02T10:21:01.126160Z",
     "start_time": "2022-01-02T10:21:01.104216Z"
    }
   },
   "outputs": [
    {
     "data": {
      "text/plain": [
       "Index(['reservation_id', 'region', 'reservation_return_at',\n",
       "       'reservation_start_at', 'member_age', 'member_gender',\n",
       "       'member_total_distance', 'is_vroom', 'car_name', 'zone_address',\n",
       "       'zone_lat', 'zone_lng', 'trip', 'usage_time'],\n",
       "      dtype='object')"
      ]
     },
     "execution_count": 29,
     "metadata": {},
     "output_type": "execute_result"
    }
   ],
   "source": [
    "a.columns"
   ]
  },
  {
   "cell_type": "code",
   "execution_count": null,
   "id": "3404da7a",
   "metadata": {},
   "outputs": [],
   "source": []
  },
  {
   "cell_type": "code",
   "execution_count": null,
   "id": "3df11bdc",
   "metadata": {},
   "outputs": [],
   "source": []
  },
  {
   "cell_type": "code",
   "execution_count": null,
   "id": "e30a3207",
   "metadata": {},
   "outputs": [],
   "source": []
  },
  {
   "cell_type": "code",
   "execution_count": null,
   "id": "455a96f4",
   "metadata": {},
   "outputs": [],
   "source": []
  },
  {
   "cell_type": "code",
   "execution_count": null,
   "id": "624e7173",
   "metadata": {},
   "outputs": [],
   "source": []
  },
  {
   "cell_type": "code",
   "execution_count": null,
   "id": "f35be5c9",
   "metadata": {},
   "outputs": [],
   "source": []
  },
  {
   "cell_type": "code",
   "execution_count": null,
   "id": "c38df52f",
   "metadata": {},
   "outputs": [],
   "source": []
  },
  {
   "cell_type": "code",
   "execution_count": null,
   "id": "8ba16e12",
   "metadata": {},
   "outputs": [],
   "source": []
  },
  {
   "cell_type": "code",
   "execution_count": null,
   "id": "1c192cf5",
   "metadata": {},
   "outputs": [],
   "source": []
  },
  {
   "cell_type": "code",
   "execution_count": 5,
   "id": "02e036d2",
   "metadata": {
    "ExecuteTime": {
     "end_time": "2022-01-02T10:09:29.727180Z",
     "start_time": "2022-01-02T10:09:29.715139Z"
    }
   },
   "outputs": [
    {
     "data": {
      "text/plain": [
       "Index(['reservation_id', 'car_id', 'member_id_encrypted', 'region',\n",
       "       'reservation_return_at', 'reservation_start_at', 'member_age',\n",
       "       'member_gender', 'member_created_date', 'member_total_distance',\n",
       "       'is_vroom', 'car_name', 'zone_name', 'zone_address', 'zone_lat',\n",
       "       'zone_lng', 'zone_type1', 'zone_type2', 'zone_type3',\n",
       "       'reservation_created_lat', 'reservation_created_lng', 'trip'],\n",
       "      dtype='object')"
      ]
     },
     "execution_count": 5,
     "metadata": {},
     "output_type": "execute_result"
    }
   ],
   "source": [
    "df_triplog.columns"
   ]
  },
  {
   "cell_type": "code",
   "execution_count": 6,
   "id": "388d35f7",
   "metadata": {
    "ExecuteTime": {
     "end_time": "2022-01-02T10:09:30.427922Z",
     "start_time": "2022-01-02T10:09:30.219983Z"
    }
   },
   "outputs": [
    {
     "data": {
      "text/plain": [
       "('2018-12-25 14:10:00', '2019-11-30 23:30:00')"
      ]
     },
     "execution_count": 6,
     "metadata": {},
     "output_type": "execute_result"
    }
   ],
   "source": [
    "min(df_triplog['reservation_start_at']), max(df_triplog['reservation_start_at'])"
   ]
  },
  {
   "cell_type": "code",
   "execution_count": 8,
   "id": "41ee4729",
   "metadata": {
    "ExecuteTime": {
     "end_time": "2022-01-02T10:09:39.283568Z",
     "start_time": "2022-01-02T10:09:39.221191Z"
    }
   },
   "outputs": [
    {
     "data": {
      "text/plain": [
       "array(['male', 'female', nan], dtype=object)"
      ]
     },
     "execution_count": 8,
     "metadata": {},
     "output_type": "execute_result"
    }
   ],
   "source": [
    "df_triplog['member_gender'].unique()"
   ]
  },
  {
   "cell_type": "code",
   "execution_count": 7,
   "id": "26ae7302",
   "metadata": {
    "ExecuteTime": {
     "end_time": "2022-01-02T05:36:24.267180Z",
     "start_time": "2022-01-02T05:36:23.804019Z"
    }
   },
   "outputs": [],
   "source": [
    "df_triplog = df_triplog.loc[df_triplog['member_gender'].notnull() & df_triplog['trip'].notnull()]"
   ]
  },
  {
   "cell_type": "code",
   "execution_count": 8,
   "id": "a60b8b01",
   "metadata": {
    "ExecuteTime": {
     "end_time": "2022-01-02T05:36:26.292565Z",
     "start_time": "2022-01-02T05:36:26.274799Z"
    }
   },
   "outputs": [
    {
     "data": {
      "text/plain": [
       "Index(['reservation_id', 'region', 'reservation_return_at',\n",
       "       'reservation_start_at', 'member_age', 'member_gender', 'car_name',\n",
       "       'zone_name', 'zone_address', 'zone_lat', 'zone_lng', 'zone_type1',\n",
       "       'zone_type2', 'zone_type3'],\n",
       "      dtype='object')"
      ]
     },
     "execution_count": 8,
     "metadata": {},
     "output_type": "execute_result"
    }
   ],
   "source": [
    "df_usage.columns"
   ]
  },
  {
   "cell_type": "code",
   "execution_count": 11,
   "id": "8d0db24e",
   "metadata": {
    "ExecuteTime": {
     "end_time": "2021-12-31T11:54:03.032804Z",
     "start_time": "2021-12-31T11:54:02.897147Z"
    }
   },
   "outputs": [],
   "source": [
    "use_col = ['reservation_id', 'region', 'reservation_return_at', 'reservation_start_at', 'member_age', \n",
    "           'member_gender', 'zone_address', 'zone_lat', 'zone_lng']\n",
    "df_usage = df_usage[use_col]\n",
    "\n",
    "use_col = ['reservation_id', 'member_gender', 'member_total_distance', 'is_vroom', 'car_name', 'trip']\n",
    "df_triplog = df_triplog[use_col]"
   ]
  },
  {
   "cell_type": "code",
   "execution_count": 9,
   "id": "6eb59b58",
   "metadata": {
    "ExecuteTime": {
     "end_time": "2022-01-02T05:36:35.230233Z",
     "start_time": "2022-01-02T05:36:33.614225Z"
    }
   },
   "outputs": [],
   "source": [
    "df_join = pd.merge(df_usage, df_triplog, how='inner', on='reservation_id')"
   ]
  },
  {
   "cell_type": "code",
   "execution_count": 18,
   "id": "5318299d",
   "metadata": {
    "ExecuteTime": {
     "end_time": "2022-01-02T05:39:20.568391Z",
     "start_time": "2022-01-02T05:39:20.542356Z"
    }
   },
   "outputs": [
    {
     "data": {
      "text/html": [
       "<div>\n",
       "<style scoped>\n",
       "    .dataframe tbody tr th:only-of-type {\n",
       "        vertical-align: middle;\n",
       "    }\n",
       "\n",
       "    .dataframe tbody tr th {\n",
       "        vertical-align: top;\n",
       "    }\n",
       "\n",
       "    .dataframe thead th {\n",
       "        text-align: right;\n",
       "    }\n",
       "</style>\n",
       "<table border=\"1\" class=\"dataframe\">\n",
       "  <thead>\n",
       "    <tr style=\"text-align: right;\">\n",
       "      <th></th>\n",
       "      <th>reservation_id</th>\n",
       "      <th>region</th>\n",
       "      <th>reservation_return_at</th>\n",
       "      <th>reservation_start_at</th>\n",
       "      <th>member_age</th>\n",
       "      <th>member_gender</th>\n",
       "      <th>car_name</th>\n",
       "      <th>zone_name</th>\n",
       "      <th>zone_address</th>\n",
       "      <th>zone_lat</th>\n",
       "      <th>zone_lng</th>\n",
       "      <th>zone_type1</th>\n",
       "      <th>zone_type2</th>\n",
       "      <th>zone_type3</th>\n",
       "    </tr>\n",
       "  </thead>\n",
       "  <tbody>\n",
       "    <tr>\n",
       "      <th>6433</th>\n",
       "      <td>20283135</td>\n",
       "      <td>서울특별시 동대문구</td>\n",
       "      <td>2019-02-02 09:27:15</td>\n",
       "      <td>2019-02-02 06:30:00</td>\n",
       "      <td>41</td>\n",
       "      <td>male</td>\n",
       "      <td>카니발 11인승</td>\n",
       "      <td>회기역(삼육서울병원)</td>\n",
       "      <td>서울 동대문구 휘경동 283-5</td>\n",
       "      <td>37.589523</td>\n",
       "      <td>127.063044</td>\n",
       "      <td>SCHOOL_OUT</td>\n",
       "      <td>COMMERCIAL_HOTSPOT</td>\n",
       "      <td>LIVING_ETC</td>\n",
       "    </tr>\n",
       "  </tbody>\n",
       "</table>\n",
       "</div>"
      ],
      "text/plain": [
       "      reservation_id      region reservation_return_at reservation_start_at  \\\n",
       "6433        20283135  서울특별시 동대문구   2019-02-02 09:27:15  2019-02-02 06:30:00   \n",
       "\n",
       "      member_age member_gender  car_name    zone_name       zone_address  \\\n",
       "6433          41          male  카니발 11인승  회기역(삼육서울병원)  서울 동대문구 휘경동 283-5   \n",
       "\n",
       "       zone_lat    zone_lng  zone_type1          zone_type2  zone_type3  \n",
       "6433  37.589523  127.063044  SCHOOL_OUT  COMMERCIAL_HOTSPOT  LIVING_ETC  "
      ]
     },
     "execution_count": 18,
     "metadata": {},
     "output_type": "execute_result"
    }
   ],
   "source": [
    "df_usage.loc[df_usage['reservation_id']==20283135]"
   ]
  },
  {
   "cell_type": "code",
   "execution_count": 19,
   "id": "80038d2a",
   "metadata": {
    "ExecuteTime": {
     "end_time": "2022-01-02T05:39:40.452301Z",
     "start_time": "2022-01-02T05:39:40.409128Z"
    }
   },
   "outputs": [
    {
     "data": {
      "text/html": [
       "<div>\n",
       "<style scoped>\n",
       "    .dataframe tbody tr th:only-of-type {\n",
       "        vertical-align: middle;\n",
       "    }\n",
       "\n",
       "    .dataframe tbody tr th {\n",
       "        vertical-align: top;\n",
       "    }\n",
       "\n",
       "    .dataframe thead th {\n",
       "        text-align: right;\n",
       "    }\n",
       "</style>\n",
       "<table border=\"1\" class=\"dataframe\">\n",
       "  <thead>\n",
       "    <tr style=\"text-align: right;\">\n",
       "      <th></th>\n",
       "      <th>reservation_id</th>\n",
       "      <th>car_id</th>\n",
       "      <th>member_id_encrypted</th>\n",
       "      <th>region</th>\n",
       "      <th>reservation_return_at</th>\n",
       "      <th>reservation_start_at</th>\n",
       "      <th>member_age</th>\n",
       "      <th>member_gender</th>\n",
       "      <th>member_created_date</th>\n",
       "      <th>member_total_distance</th>\n",
       "      <th>...</th>\n",
       "      <th>zone_name</th>\n",
       "      <th>zone_address</th>\n",
       "      <th>zone_lat</th>\n",
       "      <th>zone_lng</th>\n",
       "      <th>zone_type1</th>\n",
       "      <th>zone_type2</th>\n",
       "      <th>zone_type3</th>\n",
       "      <th>reservation_created_lat</th>\n",
       "      <th>reservation_created_lng</th>\n",
       "      <th>trip</th>\n",
       "    </tr>\n",
       "  </thead>\n",
       "  <tbody>\n",
       "    <tr>\n",
       "      <th>6297</th>\n",
       "      <td>20283135</td>\n",
       "      <td>11865</td>\n",
       "      <td>KkyDio56SwjqcZ7on2ABGMAKLFbEB7hRfcZ4DJ5aBlg=</td>\n",
       "      <td>서울특별시 동대문구</td>\n",
       "      <td>2019-02-02 09:27:15</td>\n",
       "      <td>2019-02-02 06:30:00</td>\n",
       "      <td>41</td>\n",
       "      <td>male</td>\n",
       "      <td>2014-11-13</td>\n",
       "      <td>191.0</td>\n",
       "      <td>...</td>\n",
       "      <td>삼육서울병원 정산소 옆 주차장</td>\n",
       "      <td>서울 동대문구 휘경동 283-5</td>\n",
       "      <td>37.589523</td>\n",
       "      <td>127.063044</td>\n",
       "      <td>LIVING_ETC</td>\n",
       "      <td>COMMERCIAL_HOTSPOT</td>\n",
       "      <td>SCHOOL_OUT</td>\n",
       "      <td>NaN</td>\n",
       "      <td>NaN</td>\n",
       "      <td>경기도 구리시</td>\n",
       "    </tr>\n",
       "  </tbody>\n",
       "</table>\n",
       "<p>1 rows × 22 columns</p>\n",
       "</div>"
      ],
      "text/plain": [
       "      reservation_id  car_id                           member_id_encrypted  \\\n",
       "6297        20283135   11865  KkyDio56SwjqcZ7on2ABGMAKLFbEB7hRfcZ4DJ5aBlg=   \n",
       "\n",
       "          region reservation_return_at reservation_start_at  member_age  \\\n",
       "6297  서울특별시 동대문구   2019-02-02 09:27:15  2019-02-02 06:30:00          41   \n",
       "\n",
       "     member_gender member_created_date  member_total_distance  ...  \\\n",
       "6297          male          2014-11-13                  191.0  ...   \n",
       "\n",
       "             zone_name       zone_address   zone_lat    zone_lng  zone_type1  \\\n",
       "6297  삼육서울병원 정산소 옆 주차장  서울 동대문구 휘경동 283-5  37.589523  127.063044  LIVING_ETC   \n",
       "\n",
       "              zone_type2  zone_type3 reservation_created_lat  \\\n",
       "6297  COMMERCIAL_HOTSPOT  SCHOOL_OUT                     NaN   \n",
       "\n",
       "     reservation_created_lng     trip  \n",
       "6297                     NaN  경기도 구리시  \n",
       "\n",
       "[1 rows x 22 columns]"
      ]
     },
     "execution_count": 19,
     "metadata": {},
     "output_type": "execute_result"
    }
   ],
   "source": [
    "df_triplog.loc[df_triplog['reservation_id']==20283135]"
   ]
  },
  {
   "cell_type": "code",
   "execution_count": null,
   "id": "52646111",
   "metadata": {},
   "outputs": [],
   "source": []
  },
  {
   "cell_type": "code",
   "execution_count": 10,
   "id": "01d71976",
   "metadata": {
    "ExecuteTime": {
     "end_time": "2022-01-02T05:36:43.018215Z",
     "start_time": "2022-01-02T05:36:43.000335Z"
    }
   },
   "outputs": [
    {
     "data": {
      "text/plain": [
       "Index(['reservation_id', 'region_x', 'reservation_return_at_x',\n",
       "       'reservation_start_at_x', 'member_age_x', 'member_gender_x',\n",
       "       'car_name_x', 'zone_name_x', 'zone_address_x', 'zone_lat_x',\n",
       "       'zone_lng_x', 'zone_type1_x', 'zone_type2_x', 'zone_type3_x', 'car_id',\n",
       "       'member_id_encrypted', 'region_y', 'reservation_return_at_y',\n",
       "       'reservation_start_at_y', 'member_age_y', 'member_gender_y',\n",
       "       'member_created_date', 'member_total_distance', 'is_vroom',\n",
       "       'car_name_y', 'zone_name_y', 'zone_address_y', 'zone_lat_y',\n",
       "       'zone_lng_y', 'zone_type1_y', 'zone_type2_y', 'zone_type3_y',\n",
       "       'reservation_created_lat', 'reservation_created_lng', 'trip'],\n",
       "      dtype='object')"
      ]
     },
     "execution_count": 10,
     "metadata": {},
     "output_type": "execute_result"
    }
   ],
   "source": [
    "df_join.columns"
   ]
  },
  {
   "cell_type": "code",
   "execution_count": 17,
   "id": "5799515c",
   "metadata": {
    "ExecuteTime": {
     "end_time": "2022-01-02T05:38:41.149693Z",
     "start_time": "2022-01-02T05:38:40.715586Z"
    }
   },
   "outputs": [
    {
     "data": {
      "text/html": [
       "<div>\n",
       "<style scoped>\n",
       "    .dataframe tbody tr th:only-of-type {\n",
       "        vertical-align: middle;\n",
       "    }\n",
       "\n",
       "    .dataframe tbody tr th {\n",
       "        vertical-align: top;\n",
       "    }\n",
       "\n",
       "    .dataframe thead th {\n",
       "        text-align: right;\n",
       "    }\n",
       "</style>\n",
       "<table border=\"1\" class=\"dataframe\">\n",
       "  <thead>\n",
       "    <tr style=\"text-align: right;\">\n",
       "      <th></th>\n",
       "      <th>reservation_id</th>\n",
       "      <th>region_x</th>\n",
       "      <th>reservation_return_at_x</th>\n",
       "      <th>reservation_start_at_x</th>\n",
       "      <th>member_age_x</th>\n",
       "      <th>member_gender_x</th>\n",
       "      <th>car_name_x</th>\n",
       "      <th>zone_name_x</th>\n",
       "      <th>zone_address_x</th>\n",
       "      <th>zone_lat_x</th>\n",
       "      <th>...</th>\n",
       "      <th>zone_name_y</th>\n",
       "      <th>zone_address_y</th>\n",
       "      <th>zone_lat_y</th>\n",
       "      <th>zone_lng_y</th>\n",
       "      <th>zone_type1_y</th>\n",
       "      <th>zone_type2_y</th>\n",
       "      <th>zone_type3_y</th>\n",
       "      <th>reservation_created_lat</th>\n",
       "      <th>reservation_created_lng</th>\n",
       "      <th>trip</th>\n",
       "    </tr>\n",
       "  </thead>\n",
       "  <tbody>\n",
       "    <tr>\n",
       "      <th>0</th>\n",
       "      <td>20277450</td>\n",
       "      <td>서울특별시 서대문구</td>\n",
       "      <td>2019-02-04 23:04:15</td>\n",
       "      <td>2019-02-01 15:30:00</td>\n",
       "      <td>35</td>\n",
       "      <td>male</td>\n",
       "      <td>볼트EV (제주)</td>\n",
       "      <td>yesAPM주차장</td>\n",
       "      <td>서울 서대문구 대현동 145</td>\n",
       "      <td>37.557541</td>\n",
       "      <td>...</td>\n",
       "      <td>yesAPM주차장</td>\n",
       "      <td>서울 서대문구 대현동 145</td>\n",
       "      <td>37.557541</td>\n",
       "      <td>126.944977</td>\n",
       "      <td>TRANSFER_SUBWAY</td>\n",
       "      <td>COMMERCIAL_HOTSPOT</td>\n",
       "      <td>ETC</td>\n",
       "      <td>NaN</td>\n",
       "      <td>NaN</td>\n",
       "      <td>광주광역시 남구,광주광역시 남구,광주광역시 동구,광주광역시 동구,광주광역시 동구,광...</td>\n",
       "    </tr>\n",
       "    <tr>\n",
       "      <th>1</th>\n",
       "      <td>20283135</td>\n",
       "      <td>서울특별시 동대문구</td>\n",
       "      <td>2019-02-02 09:27:15</td>\n",
       "      <td>2019-02-02 06:30:00</td>\n",
       "      <td>41</td>\n",
       "      <td>male</td>\n",
       "      <td>카니발 11인승</td>\n",
       "      <td>회기역(삼육서울병원)</td>\n",
       "      <td>서울 동대문구 휘경동 283-5</td>\n",
       "      <td>37.589523</td>\n",
       "      <td>...</td>\n",
       "      <td>삼육서울병원 정산소 옆 주차장</td>\n",
       "      <td>서울 동대문구 휘경동 283-5</td>\n",
       "      <td>37.589523</td>\n",
       "      <td>127.063044</td>\n",
       "      <td>LIVING_ETC</td>\n",
       "      <td>COMMERCIAL_HOTSPOT</td>\n",
       "      <td>SCHOOL_OUT</td>\n",
       "      <td>NaN</td>\n",
       "      <td>NaN</td>\n",
       "      <td>경기도 구리시</td>\n",
       "    </tr>\n",
       "    <tr>\n",
       "      <th>2</th>\n",
       "      <td>20300527</td>\n",
       "      <td>서울특별시 강서구</td>\n",
       "      <td>2019-02-06 16:33:35</td>\n",
       "      <td>2019-02-02 18:00:00</td>\n",
       "      <td>32</td>\n",
       "      <td>female</td>\n",
       "      <td>볼트EV (제주)</td>\n",
       "      <td>볏골공원 공영주차장</td>\n",
       "      <td>서울 강서구 화곡동 98-86</td>\n",
       "      <td>37.541569</td>\n",
       "      <td>...</td>\n",
       "      <td>볏골공원 공영주차장</td>\n",
       "      <td>서울 강서구 화곡동 98-86</td>\n",
       "      <td>37.541569</td>\n",
       "      <td>126.844612</td>\n",
       "      <td>LIVING_VILLA</td>\n",
       "      <td>LIVING_ETC</td>\n",
       "      <td>TRANSFER_SUBWAY</td>\n",
       "      <td>NaN</td>\n",
       "      <td>NaN</td>\n",
       "      <td>충청북도 보은군,서울특별시 양천구,강원도 원주시,경상북도 의성군,경상북도 의성군,경...</td>\n",
       "    </tr>\n",
       "    <tr>\n",
       "      <th>3</th>\n",
       "      <td>20319207</td>\n",
       "      <td>부산광역시 강서구</td>\n",
       "      <td>2019-02-05 10:48:56</td>\n",
       "      <td>2019-02-04 12:00:00</td>\n",
       "      <td>35</td>\n",
       "      <td>male</td>\n",
       "      <td>레이</td>\n",
       "      <td>직원전용주차장</td>\n",
       "      <td>부산 강서구 대저2동 2764-2</td>\n",
       "      <td>35.171036</td>\n",
       "      <td>...</td>\n",
       "      <td>직원전용주차장</td>\n",
       "      <td>부산 강서구 대저2동 2764-2</td>\n",
       "      <td>35.171036</td>\n",
       "      <td>128.951645</td>\n",
       "      <td>TRANSFER_STATION</td>\n",
       "      <td>ETC</td>\n",
       "      <td>ETC</td>\n",
       "      <td>NaN</td>\n",
       "      <td>NaN</td>\n",
       "      <td>부산광역시 사하구</td>\n",
       "    </tr>\n",
       "    <tr>\n",
       "      <th>4</th>\n",
       "      <td>20320848</td>\n",
       "      <td>부산광역시 강서구</td>\n",
       "      <td>2019-02-05 12:00:12</td>\n",
       "      <td>2019-02-04 12:40:00</td>\n",
       "      <td>44</td>\n",
       "      <td>male</td>\n",
       "      <td>티볼리(경유)</td>\n",
       "      <td>직원전용주차장</td>\n",
       "      <td>부산 강서구 대저2동 2764-2</td>\n",
       "      <td>35.171036</td>\n",
       "      <td>...</td>\n",
       "      <td>직원전용주차장</td>\n",
       "      <td>부산 강서구 대저2동 2764-2</td>\n",
       "      <td>35.171036</td>\n",
       "      <td>128.951645</td>\n",
       "      <td>TRANSFER_STATION</td>\n",
       "      <td>ETC</td>\n",
       "      <td>ETC</td>\n",
       "      <td>NaN</td>\n",
       "      <td>NaN</td>\n",
       "      <td>부산광역시 금정구,부산광역시 금정구,부산광역시 동래구,부산광역시 해운대구</td>\n",
       "    </tr>\n",
       "    <tr>\n",
       "      <th>...</th>\n",
       "      <td>...</td>\n",
       "      <td>...</td>\n",
       "      <td>...</td>\n",
       "      <td>...</td>\n",
       "      <td>...</td>\n",
       "      <td>...</td>\n",
       "      <td>...</td>\n",
       "      <td>...</td>\n",
       "      <td>...</td>\n",
       "      <td>...</td>\n",
       "      <td>...</td>\n",
       "      <td>...</td>\n",
       "      <td>...</td>\n",
       "      <td>...</td>\n",
       "      <td>...</td>\n",
       "      <td>...</td>\n",
       "      <td>...</td>\n",
       "      <td>...</td>\n",
       "      <td>...</td>\n",
       "      <td>...</td>\n",
       "      <td>...</td>\n",
       "    </tr>\n",
       "    <tr>\n",
       "      <th>394462</th>\n",
       "      <td>27626153</td>\n",
       "      <td>경기도 고양시 덕양구</td>\n",
       "      <td>2019-11-30 23:14:33</td>\n",
       "      <td>2019-11-30 21:20:00</td>\n",
       "      <td>28</td>\n",
       "      <td>male</td>\n",
       "      <td>더뉴레이</td>\n",
       "      <td>이케아 고양점</td>\n",
       "      <td>경기 고양시 덕양구 도내동 1003 이케아 고양점</td>\n",
       "      <td>37.629789</td>\n",
       "      <td>...</td>\n",
       "      <td>이케아 고양점</td>\n",
       "      <td>경기 고양시 덕양구 도내동 1003 이케아 고양점</td>\n",
       "      <td>37.629789</td>\n",
       "      <td>126.862958</td>\n",
       "      <td>LIVING_APT</td>\n",
       "      <td>COMMERCIAL_OFFICE</td>\n",
       "      <td>COMMERCIAL_HOTSPOT</td>\n",
       "      <td>37.627940</td>\n",
       "      <td>126.868969</td>\n",
       "      <td>경기도 고양시 덕양구</td>\n",
       "    </tr>\n",
       "    <tr>\n",
       "      <th>394463</th>\n",
       "      <td>27626177</td>\n",
       "      <td>경기도 김포시</td>\n",
       "      <td>2019-11-30 23:18:07</td>\n",
       "      <td>2019-11-30 21:20:00</td>\n",
       "      <td>28</td>\n",
       "      <td>male</td>\n",
       "      <td>아반떼AD</td>\n",
       "      <td>산타마리아 상가주차장</td>\n",
       "      <td>경기 김포시 장기동 1618</td>\n",
       "      <td>37.644100</td>\n",
       "      <td>...</td>\n",
       "      <td>산타마리아 상가주차장</td>\n",
       "      <td>경기 김포시 장기동 1618</td>\n",
       "      <td>37.644100</td>\n",
       "      <td>126.667442</td>\n",
       "      <td>LIVING_ETC</td>\n",
       "      <td>TRANSFER_SUBWAY</td>\n",
       "      <td>COMMERCIAL_HOTSPOT</td>\n",
       "      <td>37.644402</td>\n",
       "      <td>126.667155</td>\n",
       "      <td>경기도 김포시</td>\n",
       "    </tr>\n",
       "    <tr>\n",
       "      <th>394464</th>\n",
       "      <td>27626714</td>\n",
       "      <td>서울특별시 강남구</td>\n",
       "      <td>2019-11-30 23:54:04</td>\n",
       "      <td>2019-11-30 22:00:00</td>\n",
       "      <td>37</td>\n",
       "      <td>male</td>\n",
       "      <td>더뉴레이</td>\n",
       "      <td>군인공제회관</td>\n",
       "      <td>서울 강남구 도곡동 467-13</td>\n",
       "      <td>37.488924</td>\n",
       "      <td>...</td>\n",
       "      <td>군인공제회관</td>\n",
       "      <td>서울 강남구 도곡동 467-13</td>\n",
       "      <td>37.488924</td>\n",
       "      <td>127.052720</td>\n",
       "      <td>LIVING_APT</td>\n",
       "      <td>LIVING_VILLA</td>\n",
       "      <td>TRANSFER_SUBWAY</td>\n",
       "      <td>37.487583</td>\n",
       "      <td>127.053556</td>\n",
       "      <td>서울특별시 강남구</td>\n",
       "    </tr>\n",
       "    <tr>\n",
       "      <th>394465</th>\n",
       "      <td>27626872</td>\n",
       "      <td>경기도 화성시</td>\n",
       "      <td>2019-11-30 23:35:34</td>\n",
       "      <td>2019-11-30 22:10:00</td>\n",
       "      <td>29</td>\n",
       "      <td>male</td>\n",
       "      <td>아반떼AD</td>\n",
       "      <td>세림타운</td>\n",
       "      <td>경기 화성시 반송동 46</td>\n",
       "      <td>37.207886</td>\n",
       "      <td>...</td>\n",
       "      <td>세림타운</td>\n",
       "      <td>경기 화성시 반송동 46</td>\n",
       "      <td>37.207886</td>\n",
       "      <td>127.062042</td>\n",
       "      <td>LIVING_ETC</td>\n",
       "      <td>ETC</td>\n",
       "      <td>ETC</td>\n",
       "      <td>37.208541</td>\n",
       "      <td>127.061897</td>\n",
       "      <td>경기도 화성시</td>\n",
       "    </tr>\n",
       "    <tr>\n",
       "      <th>394466</th>\n",
       "      <td>27627581</td>\n",
       "      <td>서울특별시 강남구</td>\n",
       "      <td>2019-11-30 23:10:32</td>\n",
       "      <td>2019-11-30 22:40:00</td>\n",
       "      <td>30</td>\n",
       "      <td>male</td>\n",
       "      <td>투싼(경유)</td>\n",
       "      <td>계명주차장</td>\n",
       "      <td>서울 강남구 역삼동 756-19</td>\n",
       "      <td>37.497562</td>\n",
       "      <td>...</td>\n",
       "      <td>계명주차장</td>\n",
       "      <td>서울 강남구 역삼동 756-19</td>\n",
       "      <td>37.497562</td>\n",
       "      <td>127.051521</td>\n",
       "      <td>LIVING_APT</td>\n",
       "      <td>TRANSFER_SUBWAY</td>\n",
       "      <td>COMMERCIAL_HOTSPOT</td>\n",
       "      <td>37.498004</td>\n",
       "      <td>127.050625</td>\n",
       "      <td>서울특별시 서초구</td>\n",
       "    </tr>\n",
       "  </tbody>\n",
       "</table>\n",
       "<p>394467 rows × 35 columns</p>\n",
       "</div>"
      ],
      "text/plain": [
       "        reservation_id     region_x reservation_return_at_x  \\\n",
       "0             20277450   서울특별시 서대문구     2019-02-04 23:04:15   \n",
       "1             20283135   서울특별시 동대문구     2019-02-02 09:27:15   \n",
       "2             20300527    서울특별시 강서구     2019-02-06 16:33:35   \n",
       "3             20319207    부산광역시 강서구     2019-02-05 10:48:56   \n",
       "4             20320848    부산광역시 강서구     2019-02-05 12:00:12   \n",
       "...                ...          ...                     ...   \n",
       "394462        27626153  경기도 고양시 덕양구     2019-11-30 23:14:33   \n",
       "394463        27626177      경기도 김포시     2019-11-30 23:18:07   \n",
       "394464        27626714    서울특별시 강남구     2019-11-30 23:54:04   \n",
       "394465        27626872      경기도 화성시     2019-11-30 23:35:34   \n",
       "394466        27627581    서울특별시 강남구     2019-11-30 23:10:32   \n",
       "\n",
       "       reservation_start_at_x  member_age_x member_gender_x car_name_x  \\\n",
       "0         2019-02-01 15:30:00            35            male  볼트EV (제주)   \n",
       "1         2019-02-02 06:30:00            41            male   카니발 11인승   \n",
       "2         2019-02-02 18:00:00            32          female  볼트EV (제주)   \n",
       "3         2019-02-04 12:00:00            35            male         레이   \n",
       "4         2019-02-04 12:40:00            44            male    티볼리(경유)   \n",
       "...                       ...           ...             ...        ...   \n",
       "394462    2019-11-30 21:20:00            28            male       더뉴레이   \n",
       "394463    2019-11-30 21:20:00            28            male      아반떼AD   \n",
       "394464    2019-11-30 22:00:00            37            male       더뉴레이   \n",
       "394465    2019-11-30 22:10:00            29            male      아반떼AD   \n",
       "394466    2019-11-30 22:40:00            30            male     투싼(경유)   \n",
       "\n",
       "        zone_name_x               zone_address_x  zone_lat_x  ...  \\\n",
       "0         yesAPM주차장              서울 서대문구 대현동 145   37.557541  ...   \n",
       "1       회기역(삼육서울병원)            서울 동대문구 휘경동 283-5   37.589523  ...   \n",
       "2        볏골공원 공영주차장             서울 강서구 화곡동 98-86   37.541569  ...   \n",
       "3           직원전용주차장           부산 강서구 대저2동 2764-2   35.171036  ...   \n",
       "4           직원전용주차장           부산 강서구 대저2동 2764-2   35.171036  ...   \n",
       "...             ...                          ...         ...  ...   \n",
       "394462      이케아 고양점  경기 고양시 덕양구 도내동 1003 이케아 고양점   37.629789  ...   \n",
       "394463  산타마리아 상가주차장              경기 김포시 장기동 1618   37.644100  ...   \n",
       "394464       군인공제회관            서울 강남구 도곡동 467-13   37.488924  ...   \n",
       "394465         세림타운                경기 화성시 반송동 46   37.207886  ...   \n",
       "394466        계명주차장            서울 강남구 역삼동 756-19   37.497562  ...   \n",
       "\n",
       "             zone_name_y               zone_address_y zone_lat_y  zone_lng_y  \\\n",
       "0              yesAPM주차장              서울 서대문구 대현동 145  37.557541  126.944977   \n",
       "1       삼육서울병원 정산소 옆 주차장            서울 동대문구 휘경동 283-5  37.589523  127.063044   \n",
       "2             볏골공원 공영주차장             서울 강서구 화곡동 98-86  37.541569  126.844612   \n",
       "3                직원전용주차장           부산 강서구 대저2동 2764-2  35.171036  128.951645   \n",
       "4                직원전용주차장           부산 강서구 대저2동 2764-2  35.171036  128.951645   \n",
       "...                  ...                          ...        ...         ...   \n",
       "394462           이케아 고양점  경기 고양시 덕양구 도내동 1003 이케아 고양점  37.629789  126.862958   \n",
       "394463       산타마리아 상가주차장              경기 김포시 장기동 1618  37.644100  126.667442   \n",
       "394464            군인공제회관            서울 강남구 도곡동 467-13  37.488924  127.052720   \n",
       "394465              세림타운                경기 화성시 반송동 46  37.207886  127.062042   \n",
       "394466             계명주차장            서울 강남구 역삼동 756-19  37.497562  127.051521   \n",
       "\n",
       "            zone_type1_y        zone_type2_y        zone_type3_y  \\\n",
       "0        TRANSFER_SUBWAY  COMMERCIAL_HOTSPOT                 ETC   \n",
       "1             LIVING_ETC  COMMERCIAL_HOTSPOT          SCHOOL_OUT   \n",
       "2           LIVING_VILLA          LIVING_ETC     TRANSFER_SUBWAY   \n",
       "3       TRANSFER_STATION                 ETC                 ETC   \n",
       "4       TRANSFER_STATION                 ETC                 ETC   \n",
       "...                  ...                 ...                 ...   \n",
       "394462        LIVING_APT   COMMERCIAL_OFFICE  COMMERCIAL_HOTSPOT   \n",
       "394463        LIVING_ETC     TRANSFER_SUBWAY  COMMERCIAL_HOTSPOT   \n",
       "394464        LIVING_APT        LIVING_VILLA     TRANSFER_SUBWAY   \n",
       "394465        LIVING_ETC                 ETC                 ETC   \n",
       "394466        LIVING_APT     TRANSFER_SUBWAY  COMMERCIAL_HOTSPOT   \n",
       "\n",
       "       reservation_created_lat reservation_created_lng  \\\n",
       "0                          NaN                     NaN   \n",
       "1                          NaN                     NaN   \n",
       "2                          NaN                     NaN   \n",
       "3                          NaN                     NaN   \n",
       "4                          NaN                     NaN   \n",
       "...                        ...                     ...   \n",
       "394462               37.627940              126.868969   \n",
       "394463               37.644402              126.667155   \n",
       "394464               37.487583              127.053556   \n",
       "394465               37.208541              127.061897   \n",
       "394466               37.498004              127.050625   \n",
       "\n",
       "                                                     trip  \n",
       "0       광주광역시 남구,광주광역시 남구,광주광역시 동구,광주광역시 동구,광주광역시 동구,광...  \n",
       "1                                                 경기도 구리시  \n",
       "2       충청북도 보은군,서울특별시 양천구,강원도 원주시,경상북도 의성군,경상북도 의성군,경...  \n",
       "3                                               부산광역시 사하구  \n",
       "4                부산광역시 금정구,부산광역시 금정구,부산광역시 동래구,부산광역시 해운대구  \n",
       "...                                                   ...  \n",
       "394462                                        경기도 고양시 덕양구  \n",
       "394463                                            경기도 김포시  \n",
       "394464                                          서울특별시 강남구  \n",
       "394465                                            경기도 화성시  \n",
       "394466                                          서울특별시 서초구  \n",
       "\n",
       "[394467 rows x 35 columns]"
      ]
     },
     "execution_count": 17,
     "metadata": {},
     "output_type": "execute_result"
    }
   ],
   "source": [
    "df_join"
   ]
  },
  {
   "cell_type": "code",
   "execution_count": 13,
   "id": "ea5a19a8",
   "metadata": {
    "ExecuteTime": {
     "end_time": "2022-01-02T05:37:14.913762Z",
     "start_time": "2022-01-02T05:37:14.825491Z"
    }
   },
   "outputs": [
    {
     "data": {
      "text/plain": [
       "43843"
      ]
     },
     "execution_count": 13,
     "metadata": {},
     "output_type": "execute_result"
    }
   ],
   "source": [
    "len(df_join.loc[df_join['zone_type1_x'] != df_join['zone_type1_y']])"
   ]
  },
  {
   "cell_type": "code",
   "execution_count": null,
   "id": "33ab1b18",
   "metadata": {},
   "outputs": [],
   "source": []
  },
  {
   "cell_type": "code",
   "execution_count": 15,
   "id": "4827f4a8",
   "metadata": {
    "ExecuteTime": {
     "end_time": "2022-01-02T05:37:32.632446Z",
     "start_time": "2022-01-02T05:37:32.533923Z"
    }
   },
   "outputs": [
    {
     "data": {
      "text/html": [
       "<div>\n",
       "<style scoped>\n",
       "    .dataframe tbody tr th:only-of-type {\n",
       "        vertical-align: middle;\n",
       "    }\n",
       "\n",
       "    .dataframe tbody tr th {\n",
       "        vertical-align: top;\n",
       "    }\n",
       "\n",
       "    .dataframe thead th {\n",
       "        text-align: right;\n",
       "    }\n",
       "</style>\n",
       "<table border=\"1\" class=\"dataframe\">\n",
       "  <thead>\n",
       "    <tr style=\"text-align: right;\">\n",
       "      <th></th>\n",
       "      <th>zone_type1_x</th>\n",
       "      <th>zone_type1_y</th>\n",
       "    </tr>\n",
       "  </thead>\n",
       "  <tbody>\n",
       "    <tr>\n",
       "      <th>1</th>\n",
       "      <td>SCHOOL_OUT</td>\n",
       "      <td>LIVING_ETC</td>\n",
       "    </tr>\n",
       "    <tr>\n",
       "      <th>6</th>\n",
       "      <td>TRANSFER_SUBWAY</td>\n",
       "      <td>LIVING_APT</td>\n",
       "    </tr>\n",
       "    <tr>\n",
       "      <th>18</th>\n",
       "      <td>NaN</td>\n",
       "      <td>NaN</td>\n",
       "    </tr>\n",
       "    <tr>\n",
       "      <th>27</th>\n",
       "      <td>NaN</td>\n",
       "      <td>NaN</td>\n",
       "    </tr>\n",
       "    <tr>\n",
       "      <th>33</th>\n",
       "      <td>NaN</td>\n",
       "      <td>NaN</td>\n",
       "    </tr>\n",
       "    <tr>\n",
       "      <th>...</th>\n",
       "      <td>...</td>\n",
       "      <td>...</td>\n",
       "    </tr>\n",
       "    <tr>\n",
       "      <th>394413</th>\n",
       "      <td>COMMERCIAL_HOTSPOT</td>\n",
       "      <td>TRANSFER_SUBWAY</td>\n",
       "    </tr>\n",
       "    <tr>\n",
       "      <th>394417</th>\n",
       "      <td>NaN</td>\n",
       "      <td>LIVING_ETC</td>\n",
       "    </tr>\n",
       "    <tr>\n",
       "      <th>394420</th>\n",
       "      <td>COMMERCIAL_HOTSPOT</td>\n",
       "      <td>LIVING_APT</td>\n",
       "    </tr>\n",
       "    <tr>\n",
       "      <th>394436</th>\n",
       "      <td>LIVING_VILLA</td>\n",
       "      <td>SCHOOL_OUT</td>\n",
       "    </tr>\n",
       "    <tr>\n",
       "      <th>394437</th>\n",
       "      <td>SCHOOL_OUT</td>\n",
       "      <td>LIVING_VILLA</td>\n",
       "    </tr>\n",
       "  </tbody>\n",
       "</table>\n",
       "<p>43843 rows × 2 columns</p>\n",
       "</div>"
      ],
      "text/plain": [
       "              zone_type1_x     zone_type1_y\n",
       "1               SCHOOL_OUT       LIVING_ETC\n",
       "6          TRANSFER_SUBWAY       LIVING_APT\n",
       "18                     NaN              NaN\n",
       "27                     NaN              NaN\n",
       "33                     NaN              NaN\n",
       "...                    ...              ...\n",
       "394413  COMMERCIAL_HOTSPOT  TRANSFER_SUBWAY\n",
       "394417                 NaN       LIVING_ETC\n",
       "394420  COMMERCIAL_HOTSPOT       LIVING_APT\n",
       "394436        LIVING_VILLA       SCHOOL_OUT\n",
       "394437          SCHOOL_OUT     LIVING_VILLA\n",
       "\n",
       "[43843 rows x 2 columns]"
      ]
     },
     "execution_count": 15,
     "metadata": {},
     "output_type": "execute_result"
    }
   ],
   "source": [
    "df_join.loc[df_join['zone_type1_x'] != df_join['zone_type1_y'], ['zone_type1_x', 'zone_type1_y']]"
   ]
  },
  {
   "cell_type": "code",
   "execution_count": null,
   "id": "87e03028",
   "metadata": {},
   "outputs": [],
   "source": []
  },
  {
   "cell_type": "code",
   "execution_count": 13,
   "id": "6f0f566d",
   "metadata": {
    "ExecuteTime": {
     "end_time": "2021-12-31T11:54:03.643338Z",
     "start_time": "2021-12-31T11:54:03.633399Z"
    }
   },
   "outputs": [
    {
     "data": {
      "text/plain": [
       "Index(['reservation_id', 'region', 'reservation_return_at',\n",
       "       'reservation_start_at', 'member_age', 'member_gender_x', 'zone_address',\n",
       "       'zone_lat', 'zone_lng', 'member_gender_y', 'member_total_distance',\n",
       "       'is_vroom', 'car_name', 'trip'],\n",
       "      dtype='object')"
      ]
     },
     "execution_count": 13,
     "metadata": {},
     "output_type": "execute_result"
    }
   ],
   "source": [
    "df_join.columns"
   ]
  },
  {
   "cell_type": "code",
   "execution_count": 14,
   "id": "5e13bccd",
   "metadata": {
    "ExecuteTime": {
     "end_time": "2021-12-31T11:54:03.856274Z",
     "start_time": "2021-12-31T11:54:03.645689Z"
    }
   },
   "outputs": [],
   "source": [
    "# member gender가 다른 경우 제외\n",
    "df_join = df_join.loc[df_join['member_gender_x'] == df_join['member_gender_y']]"
   ]
  },
  {
   "cell_type": "code",
   "execution_count": 15,
   "id": "34b69442",
   "metadata": {
    "ExecuteTime": {
     "end_time": "2021-12-31T11:54:03.917627Z",
     "start_time": "2021-12-31T11:54:03.857933Z"
    }
   },
   "outputs": [],
   "source": [
    "df_join.drop(columns='member_gender_y', inplace=True)"
   ]
  },
  {
   "cell_type": "code",
   "execution_count": 16,
   "id": "097f2c42",
   "metadata": {
    "ExecuteTime": {
     "end_time": "2021-12-31T11:54:03.932630Z",
     "start_time": "2021-12-31T11:54:03.919627Z"
    }
   },
   "outputs": [],
   "source": [
    "df_join.rename(columns={'member_gender_x': 'member_gender'}, inplace=True)"
   ]
  },
  {
   "cell_type": "code",
   "execution_count": 17,
   "id": "78ad3a77",
   "metadata": {
    "ExecuteTime": {
     "end_time": "2021-12-31T11:54:03.947940Z",
     "start_time": "2021-12-31T11:54:03.934658Z"
    },
    "scrolled": true
   },
   "outputs": [
    {
     "data": {
      "text/plain": [
       "Index(['reservation_id', 'region', 'reservation_return_at',\n",
       "       'reservation_start_at', 'member_age', 'member_gender', 'zone_address',\n",
       "       'zone_lat', 'zone_lng', 'member_total_distance', 'is_vroom', 'car_name',\n",
       "       'trip'],\n",
       "      dtype='object')"
      ]
     },
     "execution_count": 17,
     "metadata": {},
     "output_type": "execute_result"
    }
   ],
   "source": [
    "df_join.columns"
   ]
  },
  {
   "cell_type": "code",
   "execution_count": 18,
   "id": "91bb90d7",
   "metadata": {
    "ExecuteTime": {
     "end_time": "2021-12-31T11:54:04.161119Z",
     "start_time": "2021-12-31T11:54:03.952070Z"
    }
   },
   "outputs": [
    {
     "name": "stdout",
     "output_type": "stream",
     "text": [
      "<class 'pandas.core.frame.DataFrame'>\n",
      "Int64Index: 394399 entries, 0 to 394466\n",
      "Data columns (total 13 columns):\n",
      " #   Column                 Non-Null Count   Dtype  \n",
      "---  ------                 --------------   -----  \n",
      " 0   reservation_id         394399 non-null  int64  \n",
      " 1   region                 394399 non-null  object \n",
      " 2   reservation_return_at  394399 non-null  object \n",
      " 3   reservation_start_at   394399 non-null  object \n",
      " 4   member_age             394399 non-null  int64  \n",
      " 5   member_gender          394399 non-null  object \n",
      " 6   zone_address           394399 non-null  object \n",
      " 7   zone_lat               394399 non-null  float64\n",
      " 8   zone_lng               394399 non-null  float64\n",
      " 9   member_total_distance  389313 non-null  float64\n",
      " 10  is_vroom               394399 non-null  bool   \n",
      " 11  car_name               394399 non-null  object \n",
      " 12  trip                   394399 non-null  object \n",
      "dtypes: bool(1), float64(3), int64(2), object(7)\n",
      "memory usage: 39.5+ MB\n"
     ]
    }
   ],
   "source": [
    "df_join.info()"
   ]
  },
  {
   "cell_type": "code",
   "execution_count": 19,
   "id": "63dcb0fb",
   "metadata": {
    "ExecuteTime": {
     "end_time": "2021-12-31T11:54:04.770831Z",
     "start_time": "2021-12-31T11:54:04.163949Z"
    }
   },
   "outputs": [],
   "source": [
    "df_join['reservation_return_at'] =  pd.to_datetime(df_join['reservation_return_at'], format='%Y-%m-%d %H:%M:%S')\n",
    "df_join['reservation_start_at'] =  pd.to_datetime(df_join['reservation_start_at'], format='%Y-%m-%d %H:%M:%S')"
   ]
  },
  {
   "cell_type": "code",
   "execution_count": 20,
   "id": "3c6b604f",
   "metadata": {
    "ExecuteTime": {
     "end_time": "2021-12-31T11:54:05.014542Z",
     "start_time": "2021-12-31T11:54:04.773329Z"
    }
   },
   "outputs": [],
   "source": [
    "# 결측치 5개 제거\n",
    "df_join.dropna(how='any', inplace=True)"
   ]
  },
  {
   "cell_type": "code",
   "execution_count": null,
   "id": "a5fb73ac",
   "metadata": {},
   "outputs": [],
   "source": [
    "df_join.dropna(how='any', inplace=True)\n",
    "\n",
    "# 사용시간 (분), 5분 미만 데이터는 제외\n",
    "df_join['usage_time'] = (df_join['reservation_return_at'] - df_join['reservation_start_at']).astype('timedelta64[m]')\n",
    "df_join = df_join.loc[df_join['usage_time']>5]"
   ]
  },
  {
   "cell_type": "code",
   "execution_count": 21,
   "id": "f22b99c3",
   "metadata": {
    "ExecuteTime": {
     "end_time": "2021-12-31T11:54:05.121376Z",
     "start_time": "2021-12-31T11:54:05.016032Z"
    }
   },
   "outputs": [],
   "source": [
    "# 사용시간 (분), 5분 미만 데이터는 제외\n",
    "df_join['usage_time'] = (df_join['reservation_return_at'] - df_join['reservation_start_at']).astype('timedelta64[m]')\n",
    "df_join = df_join.loc[df_join['usage_time']>5]"
   ]
  },
  {
   "cell_type": "code",
   "execution_count": 22,
   "id": "a6e60af2",
   "metadata": {
    "ExecuteTime": {
     "end_time": "2021-12-31T11:54:05.136205Z",
     "start_time": "2021-12-31T11:54:05.124156Z"
    }
   },
   "outputs": [
    {
     "data": {
      "text/plain": [
       "389308"
      ]
     },
     "execution_count": 22,
     "metadata": {},
     "output_type": "execute_result"
    }
   ],
   "source": [
    "len(df_join)"
   ]
  },
  {
   "cell_type": "code",
   "execution_count": 23,
   "id": "5ffeee0d",
   "metadata": {
    "ExecuteTime": {
     "end_time": "2021-12-31T11:54:05.151747Z",
     "start_time": "2021-12-31T11:54:05.137678Z"
    }
   },
   "outputs": [
    {
     "data": {
      "text/plain": [
       "Index(['reservation_id', 'region', 'reservation_return_at',\n",
       "       'reservation_start_at', 'member_age', 'member_gender', 'zone_address',\n",
       "       'zone_lat', 'zone_lng', 'member_total_distance', 'is_vroom', 'car_name',\n",
       "       'trip', 'usage_time'],\n",
       "      dtype='object')"
      ]
     },
     "execution_count": 23,
     "metadata": {},
     "output_type": "execute_result"
    }
   ],
   "source": [
    "df_join.columns"
   ]
  },
  {
   "cell_type": "code",
   "execution_count": 24,
   "id": "20989634",
   "metadata": {
    "ExecuteTime": {
     "end_time": "2021-12-31T11:54:05.809205Z",
     "start_time": "2021-12-31T11:54:05.153772Z"
    }
   },
   "outputs": [],
   "source": [
    "# trip의 지역구 중복 제거\n",
    "df_join['trip'] = df_join['trip'].apply(lambda x : ','.join(list(set(x.split(',')))))[0]"
   ]
  },
  {
   "cell_type": "code",
   "execution_count": 30,
   "id": "69b43033",
   "metadata": {
    "ExecuteTime": {
     "end_time": "2021-12-31T12:21:35.368452Z",
     "start_time": "2021-12-31T12:21:35.317229Z"
    }
   },
   "outputs": [
    {
     "data": {
      "text/html": [
       "<div>\n",
       "<style scoped>\n",
       "    .dataframe tbody tr th:only-of-type {\n",
       "        vertical-align: middle;\n",
       "    }\n",
       "\n",
       "    .dataframe tbody tr th {\n",
       "        vertical-align: top;\n",
       "    }\n",
       "\n",
       "    .dataframe thead th {\n",
       "        text-align: right;\n",
       "    }\n",
       "</style>\n",
       "<table border=\"1\" class=\"dataframe\">\n",
       "  <thead>\n",
       "    <tr style=\"text-align: right;\">\n",
       "      <th></th>\n",
       "      <th>reservation_id</th>\n",
       "      <th>region</th>\n",
       "      <th>reservation_return_at</th>\n",
       "      <th>reservation_start_at</th>\n",
       "      <th>member_age</th>\n",
       "      <th>member_gender</th>\n",
       "      <th>zone_address</th>\n",
       "      <th>zone_lat</th>\n",
       "      <th>zone_lng</th>\n",
       "      <th>member_total_distance</th>\n",
       "      <th>is_vroom</th>\n",
       "      <th>car_name</th>\n",
       "      <th>trip</th>\n",
       "      <th>usage_time</th>\n",
       "    </tr>\n",
       "  </thead>\n",
       "  <tbody>\n",
       "    <tr>\n",
       "      <th>0</th>\n",
       "      <td>20277450</td>\n",
       "      <td>서울특별시 서대문구</td>\n",
       "      <td>2019-02-04 23:04:15</td>\n",
       "      <td>2019-02-01 15:30:00</td>\n",
       "      <td>35</td>\n",
       "      <td>male</td>\n",
       "      <td>서울 서대문구 대현동 145</td>\n",
       "      <td>37.557541</td>\n",
       "      <td>126.944977</td>\n",
       "      <td>8774.0</td>\n",
       "      <td>False</td>\n",
       "      <td>볼트EV (제주)</td>\n",
       "      <td>충청남도 예산군,전라남도 화순군,광주광역시 북구,전라북도 정읍시,광주광역시 남구,광...</td>\n",
       "      <td>4774.0</td>\n",
       "    </tr>\n",
       "    <tr>\n",
       "      <th>1</th>\n",
       "      <td>20283135</td>\n",
       "      <td>서울특별시 동대문구</td>\n",
       "      <td>2019-02-02 09:27:15</td>\n",
       "      <td>2019-02-02 06:30:00</td>\n",
       "      <td>41</td>\n",
       "      <td>male</td>\n",
       "      <td>서울 동대문구 휘경동 283-5</td>\n",
       "      <td>37.589523</td>\n",
       "      <td>127.063044</td>\n",
       "      <td>191.0</td>\n",
       "      <td>True</td>\n",
       "      <td>카니발 11인승</td>\n",
       "      <td>충청남도 예산군,전라남도 화순군,광주광역시 북구,전라북도 정읍시,광주광역시 남구,광...</td>\n",
       "      <td>177.0</td>\n",
       "    </tr>\n",
       "    <tr>\n",
       "      <th>2</th>\n",
       "      <td>20300527</td>\n",
       "      <td>서울특별시 강서구</td>\n",
       "      <td>2019-02-06 16:33:35</td>\n",
       "      <td>2019-02-02 18:00:00</td>\n",
       "      <td>32</td>\n",
       "      <td>female</td>\n",
       "      <td>서울 강서구 화곡동 98-86</td>\n",
       "      <td>37.541569</td>\n",
       "      <td>126.844612</td>\n",
       "      <td>19256.0</td>\n",
       "      <td>False</td>\n",
       "      <td>볼트EV (제주)</td>\n",
       "      <td>충청남도 예산군,전라남도 화순군,광주광역시 북구,전라북도 정읍시,광주광역시 남구,광...</td>\n",
       "      <td>5673.0</td>\n",
       "    </tr>\n",
       "    <tr>\n",
       "      <th>3</th>\n",
       "      <td>20319207</td>\n",
       "      <td>부산광역시 강서구</td>\n",
       "      <td>2019-02-05 10:48:56</td>\n",
       "      <td>2019-02-04 12:00:00</td>\n",
       "      <td>35</td>\n",
       "      <td>male</td>\n",
       "      <td>부산 강서구 대저2동 2764-2</td>\n",
       "      <td>35.171036</td>\n",
       "      <td>128.951645</td>\n",
       "      <td>1421.0</td>\n",
       "      <td>False</td>\n",
       "      <td>레이</td>\n",
       "      <td>충청남도 예산군,전라남도 화순군,광주광역시 북구,전라북도 정읍시,광주광역시 남구,광...</td>\n",
       "      <td>1368.0</td>\n",
       "    </tr>\n",
       "    <tr>\n",
       "      <th>4</th>\n",
       "      <td>20320848</td>\n",
       "      <td>부산광역시 강서구</td>\n",
       "      <td>2019-02-05 12:00:12</td>\n",
       "      <td>2019-02-04 12:40:00</td>\n",
       "      <td>44</td>\n",
       "      <td>male</td>\n",
       "      <td>부산 강서구 대저2동 2764-2</td>\n",
       "      <td>35.171036</td>\n",
       "      <td>128.951645</td>\n",
       "      <td>1271.0</td>\n",
       "      <td>False</td>\n",
       "      <td>티볼리(경유)</td>\n",
       "      <td>충청남도 예산군,전라남도 화순군,광주광역시 북구,전라북도 정읍시,광주광역시 남구,광...</td>\n",
       "      <td>1400.0</td>\n",
       "    </tr>\n",
       "  </tbody>\n",
       "</table>\n",
       "</div>"
      ],
      "text/plain": [
       "   reservation_id      region reservation_return_at reservation_start_at  \\\n",
       "0        20277450  서울특별시 서대문구   2019-02-04 23:04:15  2019-02-01 15:30:00   \n",
       "1        20283135  서울특별시 동대문구   2019-02-02 09:27:15  2019-02-02 06:30:00   \n",
       "2        20300527   서울특별시 강서구   2019-02-06 16:33:35  2019-02-02 18:00:00   \n",
       "3        20319207   부산광역시 강서구   2019-02-05 10:48:56  2019-02-04 12:00:00   \n",
       "4        20320848   부산광역시 강서구   2019-02-05 12:00:12  2019-02-04 12:40:00   \n",
       "\n",
       "   member_age member_gender        zone_address   zone_lat    zone_lng  \\\n",
       "0          35          male     서울 서대문구 대현동 145  37.557541  126.944977   \n",
       "1          41          male   서울 동대문구 휘경동 283-5  37.589523  127.063044   \n",
       "2          32        female    서울 강서구 화곡동 98-86  37.541569  126.844612   \n",
       "3          35          male  부산 강서구 대저2동 2764-2  35.171036  128.951645   \n",
       "4          44          male  부산 강서구 대저2동 2764-2  35.171036  128.951645   \n",
       "\n",
       "   member_total_distance  is_vroom   car_name  \\\n",
       "0                 8774.0     False  볼트EV (제주)   \n",
       "1                  191.0      True   카니발 11인승   \n",
       "2                19256.0     False  볼트EV (제주)   \n",
       "3                 1421.0     False         레이   \n",
       "4                 1271.0     False    티볼리(경유)   \n",
       "\n",
       "                                                trip  usage_time  \n",
       "0  충청남도 예산군,전라남도 화순군,광주광역시 북구,전라북도 정읍시,광주광역시 남구,광...      4774.0  \n",
       "1  충청남도 예산군,전라남도 화순군,광주광역시 북구,전라북도 정읍시,광주광역시 남구,광...       177.0  \n",
       "2  충청남도 예산군,전라남도 화순군,광주광역시 북구,전라북도 정읍시,광주광역시 남구,광...      5673.0  \n",
       "3  충청남도 예산군,전라남도 화순군,광주광역시 북구,전라북도 정읍시,광주광역시 남구,광...      1368.0  \n",
       "4  충청남도 예산군,전라남도 화순군,광주광역시 북구,전라북도 정읍시,광주광역시 남구,광...      1400.0  "
      ]
     },
     "execution_count": 30,
     "metadata": {},
     "output_type": "execute_result"
    }
   ],
   "source": [
    "df_join.head()"
   ]
  },
  {
   "cell_type": "code",
   "execution_count": null,
   "id": "109974a9",
   "metadata": {},
   "outputs": [],
   "source": [
    "# 위도, 경도 이상치는 없는 것 같다"
   ]
  },
  {
   "cell_type": "code",
   "execution_count": 32,
   "id": "bc533c87",
   "metadata": {
    "ExecuteTime": {
     "end_time": "2021-12-31T12:23:45.730489Z",
     "start_time": "2021-12-31T12:23:45.570637Z"
    }
   },
   "outputs": [
    {
     "data": {
      "text/plain": [
       "(35.083052, 37.760854)"
      ]
     },
     "execution_count": 32,
     "metadata": {},
     "output_type": "execute_result"
    }
   ],
   "source": [
    "min(df_join['zone_lat']), max(df_join['zone_lat'])"
   ]
  },
  {
   "cell_type": "code",
   "execution_count": 33,
   "id": "411cc485",
   "metadata": {
    "ExecuteTime": {
     "end_time": "2021-12-31T12:24:02.702250Z",
     "start_time": "2021-12-31T12:24:02.529291Z"
    }
   },
   "outputs": [
    {
     "data": {
      "text/plain": [
       "(126.597065, 128.952002)"
      ]
     },
     "execution_count": 33,
     "metadata": {},
     "output_type": "execute_result"
    }
   ],
   "source": [
    "min(df_join['zone_lng']), max(df_join['zone_lng'])"
   ]
  },
  {
   "cell_type": "code",
   "execution_count": null,
   "id": "2f6ac880",
   "metadata": {},
   "outputs": [],
   "source": [
    "######################################"
   ]
  },
  {
   "cell_type": "code",
   "execution_count": null,
   "id": "7eb1386d",
   "metadata": {},
   "outputs": [],
   "source": []
  },
  {
   "cell_type": "code",
   "execution_count": null,
   "id": "555643fd",
   "metadata": {},
   "outputs": [],
   "source": []
  },
  {
   "cell_type": "code",
   "execution_count": null,
   "id": "203b4754",
   "metadata": {},
   "outputs": [],
   "source": []
  },
  {
   "cell_type": "code",
   "execution_count": null,
   "id": "5e6508a5",
   "metadata": {},
   "outputs": [],
   "source": []
  },
  {
   "cell_type": "code",
   "execution_count": null,
   "id": "d60fb02d",
   "metadata": {},
   "outputs": [],
   "source": []
  },
  {
   "cell_type": "markdown",
   "id": "c50e3ec8",
   "metadata": {},
   "source": [
    "### 같은 reservation_id 임에도 성별이 다른 경우 제거"
   ]
  },
  {
   "cell_type": "code",
   "execution_count": 73,
   "id": "4d7e36c0",
   "metadata": {
    "ExecuteTime": {
     "end_time": "2021-12-31T06:11:03.089481Z",
     "start_time": "2021-12-31T06:11:03.072040Z"
    }
   },
   "outputs": [
    {
     "data": {
      "text/plain": [
       "69487    female\n",
       "Name: member_gender, dtype: object"
      ]
     },
     "execution_count": 73,
     "metadata": {},
     "output_type": "execute_result"
    }
   ],
   "source": [
    "df_usage.loc[df_usage['reservation_id']==20877853, 'member_gender']"
   ]
  },
  {
   "cell_type": "code",
   "execution_count": 74,
   "id": "ba3d9afe",
   "metadata": {
    "ExecuteTime": {
     "end_time": "2021-12-31T06:11:10.219884Z",
     "start_time": "2021-12-31T06:11:10.195322Z"
    }
   },
   "outputs": [
    {
     "data": {
      "text/plain": [
       "67728    male\n",
       "Name: member_gender, dtype: object"
      ]
     },
     "execution_count": 74,
     "metadata": {},
     "output_type": "execute_result"
    }
   ],
   "source": [
    "df_triplog.loc[df_triplog['reservation_id']==20877853, 'member_gender']"
   ]
  },
  {
   "cell_type": "code",
   "execution_count": 76,
   "id": "d8b2475e",
   "metadata": {
    "ExecuteTime": {
     "end_time": "2021-12-31T06:11:57.259197Z",
     "start_time": "2021-12-31T06:11:57.004733Z"
    }
   },
   "outputs": [],
   "source": [
    "df_join = df_join.loc[df_join['member_gender_x'] == df_join['member_gender_y']]"
   ]
  },
  {
   "cell_type": "code",
   "execution_count": null,
   "id": "a6cde1b1",
   "metadata": {},
   "outputs": [],
   "source": []
  },
  {
   "cell_type": "code",
   "execution_count": null,
   "id": "28d81979",
   "metadata": {},
   "outputs": [],
   "source": []
  },
  {
   "cell_type": "code",
   "execution_count": null,
   "id": "2ba6589e",
   "metadata": {},
   "outputs": [],
   "source": []
  },
  {
   "cell_type": "code",
   "execution_count": null,
   "id": "57680e30",
   "metadata": {},
   "outputs": [],
   "source": []
  },
  {
   "cell_type": "code",
   "execution_count": null,
   "id": "21a8fe45",
   "metadata": {},
   "outputs": [],
   "source": []
  },
  {
   "cell_type": "code",
   "execution_count": null,
   "id": "7fb4f6b3",
   "metadata": {},
   "outputs": [],
   "source": []
  },
  {
   "cell_type": "code",
   "execution_count": null,
   "id": "76347a36",
   "metadata": {},
   "outputs": [],
   "source": []
  }
 ],
 "metadata": {
  "kernelspec": {
   "display_name": "Python 3 (ipykernel)",
   "language": "python",
   "name": "python3"
  },
  "language_info": {
   "codemirror_mode": {
    "name": "ipython",
    "version": 3
   },
   "file_extension": ".py",
   "mimetype": "text/x-python",
   "name": "python",
   "nbconvert_exporter": "python",
   "pygments_lexer": "ipython3",
   "version": "3.8.12"
  },
  "toc": {
   "base_numbering": 1,
   "nav_menu": {},
   "number_sections": true,
   "sideBar": true,
   "skip_h1_title": false,
   "title_cell": "Table of Contents",
   "title_sidebar": "Contents",
   "toc_cell": false,
   "toc_position": {},
   "toc_section_display": true,
   "toc_window_display": false
  }
 },
 "nbformat": 4,
 "nbformat_minor": 5
}
