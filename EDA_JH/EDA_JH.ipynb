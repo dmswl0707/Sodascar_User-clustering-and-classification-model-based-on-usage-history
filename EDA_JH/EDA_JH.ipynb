{
 "cells": [
  {
   "cell_type": "code",
   "execution_count": 1,
   "id": "f5a4cb3b",
   "metadata": {
    "ExecuteTime": {
     "end_time": "2021-12-31T11:53:51.591744Z",
     "start_time": "2021-12-31T11:53:47.777516Z"
    }
   },
   "outputs": [],
   "source": [
    "import pandas as pd\n",
    "import matplotlib.pyplot as plt \n",
    "from matplotlib import font_manager, rc\n",
    "import seaborn as sns \n",
    "sns.set_style(\"darkgrid\")\n",
    "%matplotlib inline \n",
    "rc(\"font\", family=\"Malgun Gothic\")\n",
    "plt.rcParams[\"axes.unicode_minus\"] = False \n",
    "\n",
    "import warnings\n",
    "warnings.filterwarnings(action='ignore')"
   ]
  },
  {
   "cell_type": "code",
   "execution_count": 2,
   "id": "d72cb652",
   "metadata": {
    "ExecuteTime": {
     "end_time": "2021-12-31T11:54:01.551738Z",
     "start_time": "2021-12-31T11:53:51.594129Z"
    }
   },
   "outputs": [],
   "source": [
    "df_triplog = pd.read_csv('./socar_reservation_triplog.csv')\n",
    "df_usage = pd.read_csv('./socar_usage.csv', encoding='cp949')"
   ]
  },
  {
   "cell_type": "code",
   "execution_count": 3,
   "id": "76622ba3",
   "metadata": {
    "ExecuteTime": {
     "end_time": "2021-12-31T11:54:01.597076Z",
     "start_time": "2021-12-31T11:54:01.553451Z"
    }
   },
   "outputs": [
    {
     "data": {
      "text/html": [
       "<div>\n",
       "<style scoped>\n",
       "    .dataframe tbody tr th:only-of-type {\n",
       "        vertical-align: middle;\n",
       "    }\n",
       "\n",
       "    .dataframe tbody tr th {\n",
       "        vertical-align: top;\n",
       "    }\n",
       "\n",
       "    .dataframe thead th {\n",
       "        text-align: right;\n",
       "    }\n",
       "</style>\n",
       "<table border=\"1\" class=\"dataframe\">\n",
       "  <thead>\n",
       "    <tr style=\"text-align: right;\">\n",
       "      <th></th>\n",
       "      <th>reservation_id</th>\n",
       "      <th>region</th>\n",
       "      <th>reservation_return_at</th>\n",
       "      <th>reservation_start_at</th>\n",
       "      <th>member_age</th>\n",
       "      <th>member_gender</th>\n",
       "      <th>car_name</th>\n",
       "      <th>zone_name</th>\n",
       "      <th>zone_address</th>\n",
       "      <th>zone_lat</th>\n",
       "      <th>zone_lng</th>\n",
       "      <th>zone_type1</th>\n",
       "      <th>zone_type2</th>\n",
       "      <th>zone_type3</th>\n",
       "    </tr>\n",
       "  </thead>\n",
       "  <tbody>\n",
       "    <tr>\n",
       "      <th>0</th>\n",
       "      <td>19600422</td>\n",
       "      <td>서울특별시 강서구</td>\n",
       "      <td>2019-01-01 17:33:42</td>\n",
       "      <td>2018-12-31 17:30:00</td>\n",
       "      <td>48</td>\n",
       "      <td>male</td>\n",
       "      <td>아반떼AD</td>\n",
       "      <td>SK주차장</td>\n",
       "      <td>서울 강서구 방화동 500-8</td>\n",
       "      <td>37.573011</td>\n",
       "      <td>126.804605</td>\n",
       "      <td>LIVING_APT</td>\n",
       "      <td>TRANSFER_STATION</td>\n",
       "      <td>TRANSFER_SUBWAY</td>\n",
       "    </tr>\n",
       "    <tr>\n",
       "      <th>1</th>\n",
       "      <td>19670477</td>\n",
       "      <td>경기도 수원시 팔달구</td>\n",
       "      <td>2019-01-01 16:00:11</td>\n",
       "      <td>2018-12-31 18:20:00</td>\n",
       "      <td>30</td>\n",
       "      <td>male</td>\n",
       "      <td>그랜저IG (LPG)</td>\n",
       "      <td>스타주차장</td>\n",
       "      <td>경기 수원시 팔달구 매산로1가 19-1</td>\n",
       "      <td>37.268503</td>\n",
       "      <td>127.002136</td>\n",
       "      <td>LIVING_ETC</td>\n",
       "      <td>TRANSFER_SUBWAY</td>\n",
       "      <td>COMMERCIAL_HOTSPOT</td>\n",
       "    </tr>\n",
       "    <tr>\n",
       "      <th>2</th>\n",
       "      <td>19670646</td>\n",
       "      <td>경기도 김포시</td>\n",
       "      <td>2019-01-02 17:30:00</td>\n",
       "      <td>2019-01-02 14:50:00</td>\n",
       "      <td>34</td>\n",
       "      <td>male</td>\n",
       "      <td>카니발 11인승</td>\n",
       "      <td>월드애비뉴</td>\n",
       "      <td>경기 김포시 구래동 6880-7</td>\n",
       "      <td>37.645571</td>\n",
       "      <td>126.627879</td>\n",
       "      <td>LIVING_APT</td>\n",
       "      <td>COMMERCIAL_HOTSPOT</td>\n",
       "      <td>ETC</td>\n",
       "    </tr>\n",
       "  </tbody>\n",
       "</table>\n",
       "</div>"
      ],
      "text/plain": [
       "   reservation_id       region reservation_return_at reservation_start_at  \\\n",
       "0        19600422    서울특별시 강서구   2019-01-01 17:33:42  2018-12-31 17:30:00   \n",
       "1        19670477  경기도 수원시 팔달구   2019-01-01 16:00:11  2018-12-31 18:20:00   \n",
       "2        19670646      경기도 김포시   2019-01-02 17:30:00  2019-01-02 14:50:00   \n",
       "\n",
       "   member_age member_gender     car_name zone_name           zone_address  \\\n",
       "0          48          male        아반떼AD     SK주차장       서울 강서구 방화동 500-8   \n",
       "1          30          male  그랜저IG (LPG)     스타주차장  경기 수원시 팔달구 매산로1가 19-1   \n",
       "2          34          male     카니발 11인승     월드애비뉴      경기 김포시 구래동 6880-7   \n",
       "\n",
       "    zone_lat    zone_lng  zone_type1          zone_type2          zone_type3  \n",
       "0  37.573011  126.804605  LIVING_APT    TRANSFER_STATION     TRANSFER_SUBWAY  \n",
       "1  37.268503  127.002136  LIVING_ETC     TRANSFER_SUBWAY  COMMERCIAL_HOTSPOT  \n",
       "2  37.645571  126.627879  LIVING_APT  COMMERCIAL_HOTSPOT                 ETC  "
      ]
     },
     "execution_count": 3,
     "metadata": {},
     "output_type": "execute_result"
    }
   ],
   "source": [
    "df_usage.head(3)"
   ]
  },
  {
   "cell_type": "code",
   "execution_count": 4,
   "id": "4d057889",
   "metadata": {
    "ExecuteTime": {
     "end_time": "2021-12-31T11:54:01.642232Z",
     "start_time": "2021-12-31T11:54:01.600256Z"
    },
    "scrolled": true
   },
   "outputs": [
    {
     "data": {
      "text/html": [
       "<div>\n",
       "<style scoped>\n",
       "    .dataframe tbody tr th:only-of-type {\n",
       "        vertical-align: middle;\n",
       "    }\n",
       "\n",
       "    .dataframe tbody tr th {\n",
       "        vertical-align: top;\n",
       "    }\n",
       "\n",
       "    .dataframe thead th {\n",
       "        text-align: right;\n",
       "    }\n",
       "</style>\n",
       "<table border=\"1\" class=\"dataframe\">\n",
       "  <thead>\n",
       "    <tr style=\"text-align: right;\">\n",
       "      <th></th>\n",
       "      <th>reservation_id</th>\n",
       "      <th>car_id</th>\n",
       "      <th>member_id_encrypted</th>\n",
       "      <th>region</th>\n",
       "      <th>reservation_return_at</th>\n",
       "      <th>reservation_start_at</th>\n",
       "      <th>member_age</th>\n",
       "      <th>member_gender</th>\n",
       "      <th>member_created_date</th>\n",
       "      <th>member_total_distance</th>\n",
       "      <th>...</th>\n",
       "      <th>zone_name</th>\n",
       "      <th>zone_address</th>\n",
       "      <th>zone_lat</th>\n",
       "      <th>zone_lng</th>\n",
       "      <th>zone_type1</th>\n",
       "      <th>zone_type2</th>\n",
       "      <th>zone_type3</th>\n",
       "      <th>reservation_created_lat</th>\n",
       "      <th>reservation_created_lng</th>\n",
       "      <th>trip</th>\n",
       "    </tr>\n",
       "  </thead>\n",
       "  <tbody>\n",
       "    <tr>\n",
       "      <th>0</th>\n",
       "      <td>19600422</td>\n",
       "      <td>8352</td>\n",
       "      <td>6qA1i9+DXTJYgfWPqSGhszRpgNkUzFATBTG4XG7OciA=</td>\n",
       "      <td>서울특별시 강서구</td>\n",
       "      <td>2019-01-01 17:33:42</td>\n",
       "      <td>2018-12-31 17:30:00</td>\n",
       "      <td>48</td>\n",
       "      <td>male</td>\n",
       "      <td>2016-12-10</td>\n",
       "      <td>2277.0</td>\n",
       "      <td>...</td>\n",
       "      <td>SK주차장</td>\n",
       "      <td>서울 강서구 방화동 500-8</td>\n",
       "      <td>37.573011</td>\n",
       "      <td>126.804605</td>\n",
       "      <td>LIVING_APT</td>\n",
       "      <td>TRANSFER_STATION</td>\n",
       "      <td>TRANSFER_SUBWAY</td>\n",
       "      <td>NaN</td>\n",
       "      <td>NaN</td>\n",
       "      <td>NaN</td>\n",
       "    </tr>\n",
       "    <tr>\n",
       "      <th>1</th>\n",
       "      <td>19637831</td>\n",
       "      <td>9699</td>\n",
       "      <td>9uzg+C7Ng5hsI0So4WgJaUME+1dgR1LXyy4c8TEM1zY=</td>\n",
       "      <td>울산광역시 남구</td>\n",
       "      <td>2019-01-01 12:08:55</td>\n",
       "      <td>2018-12-31 16:00:00</td>\n",
       "      <td>25</td>\n",
       "      <td>male</td>\n",
       "      <td>2015-07-06</td>\n",
       "      <td>13156.0</td>\n",
       "      <td>...</td>\n",
       "      <td>우정유료주차장</td>\n",
       "      <td>울산 남구 삼산동 1481-10</td>\n",
       "      <td>35.536034</td>\n",
       "      <td>129.339783</td>\n",
       "      <td>TRANSFER_TERMINAL</td>\n",
       "      <td>TRANSFER_TERMINAL</td>\n",
       "      <td>COMMERCIAL_HOTSPOT</td>\n",
       "      <td>NaN</td>\n",
       "      <td>NaN</td>\n",
       "      <td>NaN</td>\n",
       "    </tr>\n",
       "    <tr>\n",
       "      <th>2</th>\n",
       "      <td>19670646</td>\n",
       "      <td>11933</td>\n",
       "      <td>SwEY5le8plfdi3EKoLBAF87zCTzFgIUo4nGWkZ6tOcM=</td>\n",
       "      <td>경기도 김포시</td>\n",
       "      <td>2019-01-02 17:30:00</td>\n",
       "      <td>2019-01-02 14:50:00</td>\n",
       "      <td>34</td>\n",
       "      <td>male</td>\n",
       "      <td>2015-10-07</td>\n",
       "      <td>318.0</td>\n",
       "      <td>...</td>\n",
       "      <td>월드애비뉴</td>\n",
       "      <td>경기 김포시 구래동 6880-7</td>\n",
       "      <td>37.645571</td>\n",
       "      <td>126.627879</td>\n",
       "      <td>LIVING_APT</td>\n",
       "      <td>COMMERCIAL_HOTSPOT</td>\n",
       "      <td>ETC</td>\n",
       "      <td>NaN</td>\n",
       "      <td>NaN</td>\n",
       "      <td>NaN</td>\n",
       "    </tr>\n",
       "  </tbody>\n",
       "</table>\n",
       "<p>3 rows × 22 columns</p>\n",
       "</div>"
      ],
      "text/plain": [
       "   reservation_id  car_id                           member_id_encrypted  \\\n",
       "0        19600422    8352  6qA1i9+DXTJYgfWPqSGhszRpgNkUzFATBTG4XG7OciA=   \n",
       "1        19637831    9699  9uzg+C7Ng5hsI0So4WgJaUME+1dgR1LXyy4c8TEM1zY=   \n",
       "2        19670646   11933  SwEY5le8plfdi3EKoLBAF87zCTzFgIUo4nGWkZ6tOcM=   \n",
       "\n",
       "      region reservation_return_at reservation_start_at  member_age  \\\n",
       "0  서울특별시 강서구   2019-01-01 17:33:42  2018-12-31 17:30:00          48   \n",
       "1   울산광역시 남구   2019-01-01 12:08:55  2018-12-31 16:00:00          25   \n",
       "2    경기도 김포시   2019-01-02 17:30:00  2019-01-02 14:50:00          34   \n",
       "\n",
       "  member_gender member_created_date  member_total_distance  ...  zone_name  \\\n",
       "0          male          2016-12-10                 2277.0  ...      SK주차장   \n",
       "1          male          2015-07-06                13156.0  ...    우정유료주차장   \n",
       "2          male          2015-10-07                  318.0  ...      월드애비뉴   \n",
       "\n",
       "        zone_address   zone_lat    zone_lng         zone_type1  \\\n",
       "0   서울 강서구 방화동 500-8  37.573011  126.804605         LIVING_APT   \n",
       "1  울산 남구 삼산동 1481-10  35.536034  129.339783  TRANSFER_TERMINAL   \n",
       "2  경기 김포시 구래동 6880-7  37.645571  126.627879         LIVING_APT   \n",
       "\n",
       "           zone_type2          zone_type3 reservation_created_lat  \\\n",
       "0    TRANSFER_STATION     TRANSFER_SUBWAY                     NaN   \n",
       "1   TRANSFER_TERMINAL  COMMERCIAL_HOTSPOT                     NaN   \n",
       "2  COMMERCIAL_HOTSPOT                 ETC                     NaN   \n",
       "\n",
       "  reservation_created_lng  trip  \n",
       "0                     NaN   NaN  \n",
       "1                     NaN   NaN  \n",
       "2                     NaN   NaN  \n",
       "\n",
       "[3 rows x 22 columns]"
      ]
     },
     "execution_count": 4,
     "metadata": {},
     "output_type": "execute_result"
    }
   ],
   "source": [
    "df_triplog.head(3)"
   ]
  },
  {
   "cell_type": "code",
   "execution_count": 5,
   "id": "02e036d2",
   "metadata": {
    "ExecuteTime": {
     "end_time": "2021-12-31T11:54:01.657139Z",
     "start_time": "2021-12-31T11:54:01.645984Z"
    }
   },
   "outputs": [
    {
     "data": {
      "text/plain": [
       "Index(['reservation_id', 'car_id', 'member_id_encrypted', 'region',\n",
       "       'reservation_return_at', 'reservation_start_at', 'member_age',\n",
       "       'member_gender', 'member_created_date', 'member_total_distance',\n",
       "       'is_vroom', 'car_name', 'zone_name', 'zone_address', 'zone_lat',\n",
       "       'zone_lng', 'zone_type1', 'zone_type2', 'zone_type3',\n",
       "       'reservation_created_lat', 'reservation_created_lng', 'trip'],\n",
       "      dtype='object')"
      ]
     },
     "execution_count": 5,
     "metadata": {},
     "output_type": "execute_result"
    }
   ],
   "source": [
    "df_triplog.columns"
   ]
  },
  {
   "cell_type": "code",
   "execution_count": 6,
   "id": "ea546d18",
   "metadata": {
    "ExecuteTime": {
     "end_time": "2021-12-31T11:54:02.114729Z",
     "start_time": "2021-12-31T11:54:01.659303Z"
    }
   },
   "outputs": [
    {
     "name": "stdout",
     "output_type": "stream",
     "text": [
      "<class 'pandas.core.frame.DataFrame'>\n",
      "RangeIndex: 837732 entries, 0 to 837731\n",
      "Data columns (total 14 columns):\n",
      " #   Column                 Non-Null Count   Dtype  \n",
      "---  ------                 --------------   -----  \n",
      " 0   reservation_id         837732 non-null  int64  \n",
      " 1   region                 837732 non-null  object \n",
      " 2   reservation_return_at  837732 non-null  object \n",
      " 3   reservation_start_at   837732 non-null  object \n",
      " 4   member_age             837732 non-null  int64  \n",
      " 5   member_gender          716922 non-null  object \n",
      " 6   car_name               837732 non-null  object \n",
      " 7   zone_name              835922 non-null  object \n",
      " 8   zone_address           837732 non-null  object \n",
      " 9   zone_lat               837732 non-null  float64\n",
      " 10  zone_lng               837732 non-null  float64\n",
      " 11  zone_type1             805109 non-null  object \n",
      " 12  zone_type2             746905 non-null  object \n",
      " 13  zone_type3             695098 non-null  object \n",
      "dtypes: float64(2), int64(2), object(10)\n",
      "memory usage: 89.5+ MB\n"
     ]
    }
   ],
   "source": [
    "df_usage.info()"
   ]
  },
  {
   "cell_type": "code",
   "execution_count": 7,
   "id": "388d35f7",
   "metadata": {
    "ExecuteTime": {
     "end_time": "2021-12-31T11:54:02.406436Z",
     "start_time": "2021-12-31T11:54:02.117045Z"
    }
   },
   "outputs": [
    {
     "data": {
      "text/plain": [
       "('2018-12-25 14:10:00', '2019-12-31 23:30:00')"
      ]
     },
     "execution_count": 7,
     "metadata": {},
     "output_type": "execute_result"
    }
   ],
   "source": [
    "min(df_usage['reservation_start_at']), max(df_usage['reservation_start_at'])"
   ]
  },
  {
   "cell_type": "code",
   "execution_count": 8,
   "id": "41ee4729",
   "metadata": {
    "ExecuteTime": {
     "end_time": "2021-12-31T11:54:02.482446Z",
     "start_time": "2021-12-31T11:54:02.408233Z"
    }
   },
   "outputs": [
    {
     "data": {
      "text/plain": [
       "array(['male', 'female', nan], dtype=object)"
      ]
     },
     "execution_count": 8,
     "metadata": {},
     "output_type": "execute_result"
    }
   ],
   "source": [
    "df_usage['member_gender'].unique()"
   ]
  },
  {
   "cell_type": "code",
   "execution_count": 9,
   "id": "26ae7302",
   "metadata": {
    "ExecuteTime": {
     "end_time": "2021-12-31T11:54:02.878888Z",
     "start_time": "2021-12-31T11:54:02.484829Z"
    }
   },
   "outputs": [],
   "source": [
    "df_usage = df_usage.loc[df_usage['member_gender'].notnull()]\n",
    "df_triplog = df_triplog.loc[df_triplog['member_gender'].notnull() & df_triplog['trip'].notnull()]"
   ]
  },
  {
   "cell_type": "code",
   "execution_count": 10,
   "id": "a60b8b01",
   "metadata": {
    "ExecuteTime": {
     "end_time": "2021-12-31T11:54:02.893625Z",
     "start_time": "2021-12-31T11:54:02.881653Z"
    }
   },
   "outputs": [
    {
     "data": {
      "text/plain": [
       "Index(['reservation_id', 'region', 'reservation_return_at',\n",
       "       'reservation_start_at', 'member_age', 'member_gender', 'car_name',\n",
       "       'zone_name', 'zone_address', 'zone_lat', 'zone_lng', 'zone_type1',\n",
       "       'zone_type2', 'zone_type3'],\n",
       "      dtype='object')"
      ]
     },
     "execution_count": 10,
     "metadata": {},
     "output_type": "execute_result"
    }
   ],
   "source": [
    "df_usage.columns"
   ]
  },
  {
   "cell_type": "code",
   "execution_count": 11,
   "id": "8d0db24e",
   "metadata": {
    "ExecuteTime": {
     "end_time": "2021-12-31T11:54:03.032804Z",
     "start_time": "2021-12-31T11:54:02.897147Z"
    }
   },
   "outputs": [],
   "source": [
    "use_col = ['reservation_id', 'region', 'reservation_return_at', 'reservation_start_at', 'member_age', \n",
    "           'member_gender', 'zone_address', 'zone_lat', 'zone_lng']\n",
    "df_usage = df_usage[use_col]\n",
    "\n",
    "use_col = ['reservation_id', 'member_gender', 'member_total_distance', 'is_vroom', 'car_name', 'trip']\n",
    "df_triplog = df_triplog[use_col]"
   ]
  },
  {
   "cell_type": "code",
   "execution_count": 12,
   "id": "6eb59b58",
   "metadata": {
    "ExecuteTime": {
     "end_time": "2021-12-31T11:54:03.628140Z",
     "start_time": "2021-12-31T11:54:03.034682Z"
    }
   },
   "outputs": [],
   "source": [
    "df_join = pd.merge(df_usage, df_triplog, how='inner', on='reservation_id')"
   ]
  },
  {
   "cell_type": "code",
   "execution_count": 13,
   "id": "6f0f566d",
   "metadata": {
    "ExecuteTime": {
     "end_time": "2021-12-31T11:54:03.643338Z",
     "start_time": "2021-12-31T11:54:03.633399Z"
    }
   },
   "outputs": [
    {
     "data": {
      "text/plain": [
       "Index(['reservation_id', 'region', 'reservation_return_at',\n",
       "       'reservation_start_at', 'member_age', 'member_gender_x', 'zone_address',\n",
       "       'zone_lat', 'zone_lng', 'member_gender_y', 'member_total_distance',\n",
       "       'is_vroom', 'car_name', 'trip'],\n",
       "      dtype='object')"
      ]
     },
     "execution_count": 13,
     "metadata": {},
     "output_type": "execute_result"
    }
   ],
   "source": [
    "df_join.columns"
   ]
  },
  {
   "cell_type": "code",
   "execution_count": 14,
   "id": "5e13bccd",
   "metadata": {
    "ExecuteTime": {
     "end_time": "2021-12-31T11:54:03.856274Z",
     "start_time": "2021-12-31T11:54:03.645689Z"
    }
   },
   "outputs": [],
   "source": [
    "# member gender가 다른 경우 제외\n",
    "df_join = df_join.loc[df_join['member_gender_x'] == df_join['member_gender_y']]"
   ]
  },
  {
   "cell_type": "code",
   "execution_count": 15,
   "id": "34b69442",
   "metadata": {
    "ExecuteTime": {
     "end_time": "2021-12-31T11:54:03.917627Z",
     "start_time": "2021-12-31T11:54:03.857933Z"
    }
   },
   "outputs": [],
   "source": [
    "df_join.drop(columns='member_gender_y', inplace=True)"
   ]
  },
  {
   "cell_type": "code",
   "execution_count": 16,
   "id": "097f2c42",
   "metadata": {
    "ExecuteTime": {
     "end_time": "2021-12-31T11:54:03.932630Z",
     "start_time": "2021-12-31T11:54:03.919627Z"
    }
   },
   "outputs": [],
   "source": [
    "df_join.rename(columns={'member_gender_x': 'member_gender'}, inplace=True)"
   ]
  },
  {
   "cell_type": "code",
   "execution_count": 17,
   "id": "78ad3a77",
   "metadata": {
    "ExecuteTime": {
     "end_time": "2021-12-31T11:54:03.947940Z",
     "start_time": "2021-12-31T11:54:03.934658Z"
    },
    "scrolled": true
   },
   "outputs": [
    {
     "data": {
      "text/plain": [
       "Index(['reservation_id', 'region', 'reservation_return_at',\n",
       "       'reservation_start_at', 'member_age', 'member_gender', 'zone_address',\n",
       "       'zone_lat', 'zone_lng', 'member_total_distance', 'is_vroom', 'car_name',\n",
       "       'trip'],\n",
       "      dtype='object')"
      ]
     },
     "execution_count": 17,
     "metadata": {},
     "output_type": "execute_result"
    }
   ],
   "source": [
    "df_join.columns"
   ]
  },
  {
   "cell_type": "code",
   "execution_count": 18,
   "id": "91bb90d7",
   "metadata": {
    "ExecuteTime": {
     "end_time": "2021-12-31T11:54:04.161119Z",
     "start_time": "2021-12-31T11:54:03.952070Z"
    }
   },
   "outputs": [
    {
     "name": "stdout",
     "output_type": "stream",
     "text": [
      "<class 'pandas.core.frame.DataFrame'>\n",
      "Int64Index: 394399 entries, 0 to 394466\n",
      "Data columns (total 13 columns):\n",
      " #   Column                 Non-Null Count   Dtype  \n",
      "---  ------                 --------------   -----  \n",
      " 0   reservation_id         394399 non-null  int64  \n",
      " 1   region                 394399 non-null  object \n",
      " 2   reservation_return_at  394399 non-null  object \n",
      " 3   reservation_start_at   394399 non-null  object \n",
      " 4   member_age             394399 non-null  int64  \n",
      " 5   member_gender          394399 non-null  object \n",
      " 6   zone_address           394399 non-null  object \n",
      " 7   zone_lat               394399 non-null  float64\n",
      " 8   zone_lng               394399 non-null  float64\n",
      " 9   member_total_distance  389313 non-null  float64\n",
      " 10  is_vroom               394399 non-null  bool   \n",
      " 11  car_name               394399 non-null  object \n",
      " 12  trip                   394399 non-null  object \n",
      "dtypes: bool(1), float64(3), int64(2), object(7)\n",
      "memory usage: 39.5+ MB\n"
     ]
    }
   ],
   "source": [
    "df_join.info()"
   ]
  },
  {
   "cell_type": "code",
   "execution_count": 19,
   "id": "63dcb0fb",
   "metadata": {
    "ExecuteTime": {
     "end_time": "2021-12-31T11:54:04.770831Z",
     "start_time": "2021-12-31T11:54:04.163949Z"
    }
   },
   "outputs": [],
   "source": [
    "df_join['reservation_return_at'] =  pd.to_datetime(df_join['reservation_return_at'], format='%Y-%m-%d %H:%M:%S')\n",
    "df_join['reservation_start_at'] =  pd.to_datetime(df_join['reservation_start_at'], format='%Y-%m-%d %H:%M:%S')"
   ]
  },
  {
   "cell_type": "code",
   "execution_count": 20,
   "id": "3c6b604f",
   "metadata": {
    "ExecuteTime": {
     "end_time": "2021-12-31T11:54:05.014542Z",
     "start_time": "2021-12-31T11:54:04.773329Z"
    }
   },
   "outputs": [],
   "source": [
    "# 결측치 5개 제거\n",
    "df_join.dropna(how='any', inplace=True)"
   ]
  },
  {
   "cell_type": "code",
   "execution_count": 21,
   "id": "f22b99c3",
   "metadata": {
    "ExecuteTime": {
     "end_time": "2021-12-31T11:54:05.121376Z",
     "start_time": "2021-12-31T11:54:05.016032Z"
    }
   },
   "outputs": [],
   "source": [
    "# 사용시간 (분), 5분 미만 데이터는 제외\n",
    "df_join['usage_time'] = (df_join['reservation_return_at'] - df_join['reservation_start_at']).astype('timedelta64[m]')\n",
    "df_join = df_join.loc[df_join['usage_time']>5]"
   ]
  },
  {
   "cell_type": "code",
   "execution_count": 22,
   "id": "a6e60af2",
   "metadata": {
    "ExecuteTime": {
     "end_time": "2021-12-31T11:54:05.136205Z",
     "start_time": "2021-12-31T11:54:05.124156Z"
    }
   },
   "outputs": [
    {
     "data": {
      "text/plain": [
       "389308"
      ]
     },
     "execution_count": 22,
     "metadata": {},
     "output_type": "execute_result"
    }
   ],
   "source": [
    "len(df_join)"
   ]
  },
  {
   "cell_type": "code",
   "execution_count": 23,
   "id": "5ffeee0d",
   "metadata": {
    "ExecuteTime": {
     "end_time": "2021-12-31T11:54:05.151747Z",
     "start_time": "2021-12-31T11:54:05.137678Z"
    }
   },
   "outputs": [
    {
     "data": {
      "text/plain": [
       "Index(['reservation_id', 'region', 'reservation_return_at',\n",
       "       'reservation_start_at', 'member_age', 'member_gender', 'zone_address',\n",
       "       'zone_lat', 'zone_lng', 'member_total_distance', 'is_vroom', 'car_name',\n",
       "       'trip', 'usage_time'],\n",
       "      dtype='object')"
      ]
     },
     "execution_count": 23,
     "metadata": {},
     "output_type": "execute_result"
    }
   ],
   "source": [
    "df_join.columns"
   ]
  },
  {
   "cell_type": "code",
   "execution_count": 24,
   "id": "20989634",
   "metadata": {
    "ExecuteTime": {
     "end_time": "2021-12-31T11:54:05.809205Z",
     "start_time": "2021-12-31T11:54:05.153772Z"
    }
   },
   "outputs": [],
   "source": [
    "# trip의 지역구 중복 제거\n",
    "df_join['trip'] = df_join['trip'].apply(lambda x : ','.join(list(set(x.split(',')))))[0]"
   ]
  },
  {
   "cell_type": "code",
   "execution_count": 30,
   "id": "69b43033",
   "metadata": {
    "ExecuteTime": {
     "end_time": "2021-12-31T12:21:35.368452Z",
     "start_time": "2021-12-31T12:21:35.317229Z"
    }
   },
   "outputs": [
    {
     "data": {
      "text/html": [
       "<div>\n",
       "<style scoped>\n",
       "    .dataframe tbody tr th:only-of-type {\n",
       "        vertical-align: middle;\n",
       "    }\n",
       "\n",
       "    .dataframe tbody tr th {\n",
       "        vertical-align: top;\n",
       "    }\n",
       "\n",
       "    .dataframe thead th {\n",
       "        text-align: right;\n",
       "    }\n",
       "</style>\n",
       "<table border=\"1\" class=\"dataframe\">\n",
       "  <thead>\n",
       "    <tr style=\"text-align: right;\">\n",
       "      <th></th>\n",
       "      <th>reservation_id</th>\n",
       "      <th>region</th>\n",
       "      <th>reservation_return_at</th>\n",
       "      <th>reservation_start_at</th>\n",
       "      <th>member_age</th>\n",
       "      <th>member_gender</th>\n",
       "      <th>zone_address</th>\n",
       "      <th>zone_lat</th>\n",
       "      <th>zone_lng</th>\n",
       "      <th>member_total_distance</th>\n",
       "      <th>is_vroom</th>\n",
       "      <th>car_name</th>\n",
       "      <th>trip</th>\n",
       "      <th>usage_time</th>\n",
       "    </tr>\n",
       "  </thead>\n",
       "  <tbody>\n",
       "    <tr>\n",
       "      <th>0</th>\n",
       "      <td>20277450</td>\n",
       "      <td>서울특별시 서대문구</td>\n",
       "      <td>2019-02-04 23:04:15</td>\n",
       "      <td>2019-02-01 15:30:00</td>\n",
       "      <td>35</td>\n",
       "      <td>male</td>\n",
       "      <td>서울 서대문구 대현동 145</td>\n",
       "      <td>37.557541</td>\n",
       "      <td>126.944977</td>\n",
       "      <td>8774.0</td>\n",
       "      <td>False</td>\n",
       "      <td>볼트EV (제주)</td>\n",
       "      <td>충청남도 예산군,전라남도 화순군,광주광역시 북구,전라북도 정읍시,광주광역시 남구,광...</td>\n",
       "      <td>4774.0</td>\n",
       "    </tr>\n",
       "    <tr>\n",
       "      <th>1</th>\n",
       "      <td>20283135</td>\n",
       "      <td>서울특별시 동대문구</td>\n",
       "      <td>2019-02-02 09:27:15</td>\n",
       "      <td>2019-02-02 06:30:00</td>\n",
       "      <td>41</td>\n",
       "      <td>male</td>\n",
       "      <td>서울 동대문구 휘경동 283-5</td>\n",
       "      <td>37.589523</td>\n",
       "      <td>127.063044</td>\n",
       "      <td>191.0</td>\n",
       "      <td>True</td>\n",
       "      <td>카니발 11인승</td>\n",
       "      <td>충청남도 예산군,전라남도 화순군,광주광역시 북구,전라북도 정읍시,광주광역시 남구,광...</td>\n",
       "      <td>177.0</td>\n",
       "    </tr>\n",
       "    <tr>\n",
       "      <th>2</th>\n",
       "      <td>20300527</td>\n",
       "      <td>서울특별시 강서구</td>\n",
       "      <td>2019-02-06 16:33:35</td>\n",
       "      <td>2019-02-02 18:00:00</td>\n",
       "      <td>32</td>\n",
       "      <td>female</td>\n",
       "      <td>서울 강서구 화곡동 98-86</td>\n",
       "      <td>37.541569</td>\n",
       "      <td>126.844612</td>\n",
       "      <td>19256.0</td>\n",
       "      <td>False</td>\n",
       "      <td>볼트EV (제주)</td>\n",
       "      <td>충청남도 예산군,전라남도 화순군,광주광역시 북구,전라북도 정읍시,광주광역시 남구,광...</td>\n",
       "      <td>5673.0</td>\n",
       "    </tr>\n",
       "    <tr>\n",
       "      <th>3</th>\n",
       "      <td>20319207</td>\n",
       "      <td>부산광역시 강서구</td>\n",
       "      <td>2019-02-05 10:48:56</td>\n",
       "      <td>2019-02-04 12:00:00</td>\n",
       "      <td>35</td>\n",
       "      <td>male</td>\n",
       "      <td>부산 강서구 대저2동 2764-2</td>\n",
       "      <td>35.171036</td>\n",
       "      <td>128.951645</td>\n",
       "      <td>1421.0</td>\n",
       "      <td>False</td>\n",
       "      <td>레이</td>\n",
       "      <td>충청남도 예산군,전라남도 화순군,광주광역시 북구,전라북도 정읍시,광주광역시 남구,광...</td>\n",
       "      <td>1368.0</td>\n",
       "    </tr>\n",
       "    <tr>\n",
       "      <th>4</th>\n",
       "      <td>20320848</td>\n",
       "      <td>부산광역시 강서구</td>\n",
       "      <td>2019-02-05 12:00:12</td>\n",
       "      <td>2019-02-04 12:40:00</td>\n",
       "      <td>44</td>\n",
       "      <td>male</td>\n",
       "      <td>부산 강서구 대저2동 2764-2</td>\n",
       "      <td>35.171036</td>\n",
       "      <td>128.951645</td>\n",
       "      <td>1271.0</td>\n",
       "      <td>False</td>\n",
       "      <td>티볼리(경유)</td>\n",
       "      <td>충청남도 예산군,전라남도 화순군,광주광역시 북구,전라북도 정읍시,광주광역시 남구,광...</td>\n",
       "      <td>1400.0</td>\n",
       "    </tr>\n",
       "  </tbody>\n",
       "</table>\n",
       "</div>"
      ],
      "text/plain": [
       "   reservation_id      region reservation_return_at reservation_start_at  \\\n",
       "0        20277450  서울특별시 서대문구   2019-02-04 23:04:15  2019-02-01 15:30:00   \n",
       "1        20283135  서울특별시 동대문구   2019-02-02 09:27:15  2019-02-02 06:30:00   \n",
       "2        20300527   서울특별시 강서구   2019-02-06 16:33:35  2019-02-02 18:00:00   \n",
       "3        20319207   부산광역시 강서구   2019-02-05 10:48:56  2019-02-04 12:00:00   \n",
       "4        20320848   부산광역시 강서구   2019-02-05 12:00:12  2019-02-04 12:40:00   \n",
       "\n",
       "   member_age member_gender        zone_address   zone_lat    zone_lng  \\\n",
       "0          35          male     서울 서대문구 대현동 145  37.557541  126.944977   \n",
       "1          41          male   서울 동대문구 휘경동 283-5  37.589523  127.063044   \n",
       "2          32        female    서울 강서구 화곡동 98-86  37.541569  126.844612   \n",
       "3          35          male  부산 강서구 대저2동 2764-2  35.171036  128.951645   \n",
       "4          44          male  부산 강서구 대저2동 2764-2  35.171036  128.951645   \n",
       "\n",
       "   member_total_distance  is_vroom   car_name  \\\n",
       "0                 8774.0     False  볼트EV (제주)   \n",
       "1                  191.0      True   카니발 11인승   \n",
       "2                19256.0     False  볼트EV (제주)   \n",
       "3                 1421.0     False         레이   \n",
       "4                 1271.0     False    티볼리(경유)   \n",
       "\n",
       "                                                trip  usage_time  \n",
       "0  충청남도 예산군,전라남도 화순군,광주광역시 북구,전라북도 정읍시,광주광역시 남구,광...      4774.0  \n",
       "1  충청남도 예산군,전라남도 화순군,광주광역시 북구,전라북도 정읍시,광주광역시 남구,광...       177.0  \n",
       "2  충청남도 예산군,전라남도 화순군,광주광역시 북구,전라북도 정읍시,광주광역시 남구,광...      5673.0  \n",
       "3  충청남도 예산군,전라남도 화순군,광주광역시 북구,전라북도 정읍시,광주광역시 남구,광...      1368.0  \n",
       "4  충청남도 예산군,전라남도 화순군,광주광역시 북구,전라북도 정읍시,광주광역시 남구,광...      1400.0  "
      ]
     },
     "execution_count": 30,
     "metadata": {},
     "output_type": "execute_result"
    }
   ],
   "source": [
    "df_join.head()"
   ]
  },
  {
   "cell_type": "code",
   "execution_count": null,
   "id": "109974a9",
   "metadata": {},
   "outputs": [],
   "source": [
    "# 위도, 경도 이상치는 없는 것 같다"
   ]
  },
  {
   "cell_type": "code",
   "execution_count": 32,
   "id": "bc533c87",
   "metadata": {
    "ExecuteTime": {
     "end_time": "2021-12-31T12:23:45.730489Z",
     "start_time": "2021-12-31T12:23:45.570637Z"
    }
   },
   "outputs": [
    {
     "data": {
      "text/plain": [
       "(35.083052, 37.760854)"
      ]
     },
     "execution_count": 32,
     "metadata": {},
     "output_type": "execute_result"
    }
   ],
   "source": [
    "min(df_join['zone_lat']), max(df_join['zone_lat'])"
   ]
  },
  {
   "cell_type": "code",
   "execution_count": 33,
   "id": "411cc485",
   "metadata": {
    "ExecuteTime": {
     "end_time": "2021-12-31T12:24:02.702250Z",
     "start_time": "2021-12-31T12:24:02.529291Z"
    }
   },
   "outputs": [
    {
     "data": {
      "text/plain": [
       "(126.597065, 128.952002)"
      ]
     },
     "execution_count": 33,
     "metadata": {},
     "output_type": "execute_result"
    }
   ],
   "source": [
    "min(df_join['zone_lng']), max(df_join['zone_lng'])"
   ]
  },
  {
   "cell_type": "code",
   "execution_count": null,
   "id": "2f6ac880",
   "metadata": {},
   "outputs": [],
   "source": [
    "######################################"
   ]
  },
  {
   "cell_type": "code",
   "execution_count": null,
   "id": "7eb1386d",
   "metadata": {},
   "outputs": [],
   "source": []
  },
  {
   "cell_type": "code",
   "execution_count": null,
   "id": "555643fd",
   "metadata": {},
   "outputs": [],
   "source": []
  },
  {
   "cell_type": "code",
   "execution_count": null,
   "id": "203b4754",
   "metadata": {},
   "outputs": [],
   "source": []
  },
  {
   "cell_type": "code",
   "execution_count": null,
   "id": "5e6508a5",
   "metadata": {},
   "outputs": [],
   "source": []
  },
  {
   "cell_type": "code",
   "execution_count": null,
   "id": "d60fb02d",
   "metadata": {},
   "outputs": [],
   "source": []
  },
  {
   "cell_type": "markdown",
   "id": "c50e3ec8",
   "metadata": {},
   "source": [
    "### 같은 reservation_id 임에도 성별이 다른 경우 제거"
   ]
  },
  {
   "cell_type": "code",
   "execution_count": 73,
   "id": "4d7e36c0",
   "metadata": {
    "ExecuteTime": {
     "end_time": "2021-12-31T06:11:03.089481Z",
     "start_time": "2021-12-31T06:11:03.072040Z"
    }
   },
   "outputs": [
    {
     "data": {
      "text/plain": [
       "69487    female\n",
       "Name: member_gender, dtype: object"
      ]
     },
     "execution_count": 73,
     "metadata": {},
     "output_type": "execute_result"
    }
   ],
   "source": [
    "df_usage.loc[df_usage['reservation_id']==20877853, 'member_gender']"
   ]
  },
  {
   "cell_type": "code",
   "execution_count": 74,
   "id": "ba3d9afe",
   "metadata": {
    "ExecuteTime": {
     "end_time": "2021-12-31T06:11:10.219884Z",
     "start_time": "2021-12-31T06:11:10.195322Z"
    }
   },
   "outputs": [
    {
     "data": {
      "text/plain": [
       "67728    male\n",
       "Name: member_gender, dtype: object"
      ]
     },
     "execution_count": 74,
     "metadata": {},
     "output_type": "execute_result"
    }
   ],
   "source": [
    "df_triplog.loc[df_triplog['reservation_id']==20877853, 'member_gender']"
   ]
  },
  {
   "cell_type": "code",
   "execution_count": 76,
   "id": "d8b2475e",
   "metadata": {
    "ExecuteTime": {
     "end_time": "2021-12-31T06:11:57.259197Z",
     "start_time": "2021-12-31T06:11:57.004733Z"
    }
   },
   "outputs": [],
   "source": [
    "df_join = df_join.loc[df_join['member_gender_x'] == df_join['member_gender_y']]"
   ]
  },
  {
   "cell_type": "code",
   "execution_count": null,
   "id": "a6cde1b1",
   "metadata": {},
   "outputs": [],
   "source": []
  },
  {
   "cell_type": "code",
   "execution_count": null,
   "id": "28d81979",
   "metadata": {},
   "outputs": [],
   "source": []
  },
  {
   "cell_type": "code",
   "execution_count": null,
   "id": "2ba6589e",
   "metadata": {},
   "outputs": [],
   "source": []
  },
  {
   "cell_type": "code",
   "execution_count": null,
   "id": "57680e30",
   "metadata": {},
   "outputs": [],
   "source": []
  },
  {
   "cell_type": "code",
   "execution_count": null,
   "id": "21a8fe45",
   "metadata": {},
   "outputs": [],
   "source": []
  },
  {
   "cell_type": "code",
   "execution_count": null,
   "id": "7fb4f6b3",
   "metadata": {},
   "outputs": [],
   "source": []
  },
  {
   "cell_type": "code",
   "execution_count": null,
   "id": "76347a36",
   "metadata": {},
   "outputs": [],
   "source": []
  }
 ],
 "metadata": {
  "kernelspec": {
   "display_name": "Python 3 (ipykernel)",
   "language": "python",
   "name": "python3"
  },
  "language_info": {
   "codemirror_mode": {
    "name": "ipython",
    "version": 3
   },
   "file_extension": ".py",
   "mimetype": "text/x-python",
   "name": "python",
   "nbconvert_exporter": "python",
   "pygments_lexer": "ipython3",
   "version": "3.8.12"
  },
  "toc": {
   "base_numbering": 1,
   "nav_menu": {},
   "number_sections": true,
   "sideBar": true,
   "skip_h1_title": false,
   "title_cell": "Table of Contents",
   "title_sidebar": "Contents",
   "toc_cell": false,
   "toc_position": {},
   "toc_section_display": true,
   "toc_window_display": false
  }
 },
 "nbformat": 4,
 "nbformat_minor": 5
}
