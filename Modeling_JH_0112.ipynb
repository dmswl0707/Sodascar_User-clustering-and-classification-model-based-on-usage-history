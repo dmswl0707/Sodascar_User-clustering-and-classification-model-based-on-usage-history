{
 "cells": [
  {
   "cell_type": "code",
   "execution_count": 1,
   "id": "1826dd7d",
   "metadata": {
    "ExecuteTime": {
     "end_time": "2022-01-12T04:56:18.665393Z",
     "start_time": "2022-01-12T04:56:11.082405Z"
    }
   },
   "outputs": [],
   "source": [
    "import os\n",
    "import pandas as pd\n",
    "import numpy as np\n",
    "from sklearn import preprocessing\n",
    "from sklearn.model_selection import GridSearchCV\n",
    "\n",
    "from sklearn.model_selection import KFold\n",
    "from sklearn.ensemble import RandomForestClassifier\n",
    "\n",
    "from lightgbm import LGBMClassifier\n",
    "from imblearn.over_sampling import SMOTE, RandomOverSampler\n",
    "\n",
    "from sklearn.metrics import accuracy_score, precision_score,recall_score,f1_score,confusion_matrix, roc_auc_score\n",
    "import matplotlib.pyplot as plt\n",
    "import seaborn as sns\n",
    "# %matplotlib inline"
   ]
  },
  {
   "cell_type": "code",
   "execution_count": 2,
   "id": "a8b67d93",
   "metadata": {
    "ExecuteTime": {
     "end_time": "2022-01-12T04:56:18.680078Z",
     "start_time": "2022-01-12T04:56:18.670888Z"
    }
   },
   "outputs": [],
   "source": [
    "df_full_r = os.path.join(os.getcwd(), \"member_type_prediction_full_record.csv\")\n",
    "df_5_r = os.path.join(os.getcwd(), \"member_type_prediction_5record.csv\")"
   ]
  },
  {
   "cell_type": "code",
   "execution_count": 3,
   "id": "14f918d3",
   "metadata": {
    "ExecuteTime": {
     "end_time": "2022-01-12T04:56:18.816422Z",
     "start_time": "2022-01-12T04:56:18.684207Z"
    }
   },
   "outputs": [],
   "source": [
    "df = pd.read_csv(df_5_r)"
   ]
  },
  {
   "cell_type": "code",
   "execution_count": 4,
   "id": "b38363a2",
   "metadata": {
    "ExecuteTime": {
     "end_time": "2022-01-12T04:56:18.877870Z",
     "start_time": "2022-01-12T04:56:18.820047Z"
    }
   },
   "outputs": [
    {
     "data": {
      "text/html": [
       "<div>\n",
       "<style scoped>\n",
       "    .dataframe tbody tr th:only-of-type {\n",
       "        vertical-align: middle;\n",
       "    }\n",
       "\n",
       "    .dataframe tbody tr th {\n",
       "        vertical-align: top;\n",
       "    }\n",
       "\n",
       "    .dataframe thead th {\n",
       "        text-align: right;\n",
       "    }\n",
       "</style>\n",
       "<table border=\"1\" class=\"dataframe\">\n",
       "  <thead>\n",
       "    <tr style=\"text-align: right;\">\n",
       "      <th></th>\n",
       "      <th>member_id</th>\n",
       "      <th>member_age</th>\n",
       "      <th>member_gender</th>\n",
       "      <th>member_total_distance</th>\n",
       "      <th>member_period</th>\n",
       "      <th>wd_ratio</th>\n",
       "      <th>usage_per_week</th>\n",
       "      <th>interval_mean</th>\n",
       "      <th>interval_med</th>\n",
       "      <th>interval_std</th>\n",
       "      <th>...</th>\n",
       "      <th>car_type_gini</th>\n",
       "      <th>zone_gini</th>\n",
       "      <th>trip_gini</th>\n",
       "      <th>attraction_mean</th>\n",
       "      <th>attraction_std</th>\n",
       "      <th>restaurant_mean</th>\n",
       "      <th>restaurant_std</th>\n",
       "      <th>shopping_mean</th>\n",
       "      <th>shopping_std</th>\n",
       "      <th>member_type</th>\n",
       "    </tr>\n",
       "  </thead>\n",
       "  <tbody>\n",
       "    <tr>\n",
       "      <th>0</th>\n",
       "      <td>1</td>\n",
       "      <td>35</td>\n",
       "      <td>male</td>\n",
       "      <td>8774.0</td>\n",
       "      <td>1425</td>\n",
       "      <td>0.8</td>\n",
       "      <td>0.115894</td>\n",
       "      <td>8.223958</td>\n",
       "      <td>8.854167</td>\n",
       "      <td>5.366304</td>\n",
       "      <td>...</td>\n",
       "      <td>0.32</td>\n",
       "      <td>0.56</td>\n",
       "      <td>0.906667</td>\n",
       "      <td>0.428380</td>\n",
       "      <td>0.398057</td>\n",
       "      <td>19.438700</td>\n",
       "      <td>3.798821</td>\n",
       "      <td>1.208576</td>\n",
       "      <td>0.590071</td>\n",
       "      <td>0</td>\n",
       "    </tr>\n",
       "    <tr>\n",
       "      <th>1</th>\n",
       "      <td>10</td>\n",
       "      <td>26</td>\n",
       "      <td>male</td>\n",
       "      <td>9550.0</td>\n",
       "      <td>755</td>\n",
       "      <td>0.6</td>\n",
       "      <td>0.117057</td>\n",
       "      <td>33.994792</td>\n",
       "      <td>30.024306</td>\n",
       "      <td>14.787664</td>\n",
       "      <td>...</td>\n",
       "      <td>0.56</td>\n",
       "      <td>0.56</td>\n",
       "      <td>0.736111</td>\n",
       "      <td>0.237014</td>\n",
       "      <td>0.299347</td>\n",
       "      <td>11.824094</td>\n",
       "      <td>0.914811</td>\n",
       "      <td>1.121910</td>\n",
       "      <td>0.201928</td>\n",
       "      <td>3</td>\n",
       "    </tr>\n",
       "    <tr>\n",
       "      <th>2</th>\n",
       "      <td>13</td>\n",
       "      <td>40</td>\n",
       "      <td>male</td>\n",
       "      <td>7105.0</td>\n",
       "      <td>586</td>\n",
       "      <td>1.0</td>\n",
       "      <td>0.115512</td>\n",
       "      <td>27.708333</td>\n",
       "      <td>26.326389</td>\n",
       "      <td>10.186635</td>\n",
       "      <td>...</td>\n",
       "      <td>0.64</td>\n",
       "      <td>0.32</td>\n",
       "      <td>0.760331</td>\n",
       "      <td>0.617962</td>\n",
       "      <td>0.737226</td>\n",
       "      <td>15.569857</td>\n",
       "      <td>3.524970</td>\n",
       "      <td>1.535372</td>\n",
       "      <td>0.537232</td>\n",
       "      <td>1</td>\n",
       "    </tr>\n",
       "    <tr>\n",
       "      <th>3</th>\n",
       "      <td>15</td>\n",
       "      <td>38</td>\n",
       "      <td>male</td>\n",
       "      <td>1881.0</td>\n",
       "      <td>2235</td>\n",
       "      <td>0.6</td>\n",
       "      <td>0.117450</td>\n",
       "      <td>22.281250</td>\n",
       "      <td>24.645833</td>\n",
       "      <td>8.905775</td>\n",
       "      <td>...</td>\n",
       "      <td>0.32</td>\n",
       "      <td>0.56</td>\n",
       "      <td>0.641975</td>\n",
       "      <td>0.121984</td>\n",
       "      <td>0.055053</td>\n",
       "      <td>12.989093</td>\n",
       "      <td>1.141449</td>\n",
       "      <td>1.011056</td>\n",
       "      <td>0.136639</td>\n",
       "      <td>1</td>\n",
       "    </tr>\n",
       "    <tr>\n",
       "      <th>4</th>\n",
       "      <td>22</td>\n",
       "      <td>21</td>\n",
       "      <td>male</td>\n",
       "      <td>5734.0</td>\n",
       "      <td>435</td>\n",
       "      <td>0.4</td>\n",
       "      <td>0.116667</td>\n",
       "      <td>38.510417</td>\n",
       "      <td>28.440972</td>\n",
       "      <td>26.973121</td>\n",
       "      <td>...</td>\n",
       "      <td>0.00</td>\n",
       "      <td>0.64</td>\n",
       "      <td>0.871111</td>\n",
       "      <td>0.701803</td>\n",
       "      <td>0.623375</td>\n",
       "      <td>22.212247</td>\n",
       "      <td>4.153058</td>\n",
       "      <td>1.840245</td>\n",
       "      <td>0.906086</td>\n",
       "      <td>2</td>\n",
       "    </tr>\n",
       "  </tbody>\n",
       "</table>\n",
       "<p>5 rows × 27 columns</p>\n",
       "</div>"
      ],
      "text/plain": [
       "   member_id  member_age member_gender  member_total_distance  member_period  \\\n",
       "0          1          35          male                 8774.0           1425   \n",
       "1         10          26          male                 9550.0            755   \n",
       "2         13          40          male                 7105.0            586   \n",
       "3         15          38          male                 1881.0           2235   \n",
       "4         22          21          male                 5734.0            435   \n",
       "\n",
       "   wd_ratio  usage_per_week  interval_mean  interval_med  interval_std  ...  \\\n",
       "0       0.8        0.115894       8.223958      8.854167      5.366304  ...   \n",
       "1       0.6        0.117057      33.994792     30.024306     14.787664  ...   \n",
       "2       1.0        0.115512      27.708333     26.326389     10.186635  ...   \n",
       "3       0.6        0.117450      22.281250     24.645833      8.905775  ...   \n",
       "4       0.4        0.116667      38.510417     28.440972     26.973121  ...   \n",
       "\n",
       "   car_type_gini  zone_gini  trip_gini  attraction_mean  attraction_std  \\\n",
       "0           0.32       0.56   0.906667         0.428380        0.398057   \n",
       "1           0.56       0.56   0.736111         0.237014        0.299347   \n",
       "2           0.64       0.32   0.760331         0.617962        0.737226   \n",
       "3           0.32       0.56   0.641975         0.121984        0.055053   \n",
       "4           0.00       0.64   0.871111         0.701803        0.623375   \n",
       "\n",
       "   restaurant_mean restaurant_std  shopping_mean  shopping_std  member_type  \n",
       "0        19.438700       3.798821       1.208576      0.590071            0  \n",
       "1        11.824094       0.914811       1.121910      0.201928            3  \n",
       "2        15.569857       3.524970       1.535372      0.537232            1  \n",
       "3        12.989093       1.141449       1.011056      0.136639            1  \n",
       "4        22.212247       4.153058       1.840245      0.906086            2  \n",
       "\n",
       "[5 rows x 27 columns]"
      ]
     },
     "execution_count": 4,
     "metadata": {},
     "output_type": "execute_result"
    }
   ],
   "source": [
    "df.head()"
   ]
  },
  {
   "cell_type": "code",
   "execution_count": 5,
   "id": "2d114b3d",
   "metadata": {
    "ExecuteTime": {
     "end_time": "2022-01-12T04:56:56.663137Z",
     "start_time": "2022-01-12T04:56:56.646466Z"
    }
   },
   "outputs": [
    {
     "data": {
      "text/plain": [
       "Index(['member_id', 'member_age', 'member_gender', 'member_total_distance',\n",
       "       'member_period', 'wd_ratio', 'usage_per_week', 'interval_mean',\n",
       "       'interval_med', 'interval_std', 'usage_time_mean', 'usage_time_std',\n",
       "       'usage_time_med', 'vroom_per_usage', 'num_trips_mean', 'num_trips_std',\n",
       "       'car_type_mode', 'car_type_gini', 'zone_gini', 'trip_gini',\n",
       "       'attraction_mean', 'attraction_std', 'restaurant_mean',\n",
       "       'restaurant_std', 'shopping_mean', 'shopping_std', 'member_type'],\n",
       "      dtype='object')"
      ]
     },
     "execution_count": 5,
     "metadata": {},
     "output_type": "execute_result"
    }
   ],
   "source": [
    "df.columns"
   ]
  },
  {
   "cell_type": "code",
   "execution_count": 6,
   "id": "3ad0ae40",
   "metadata": {
    "ExecuteTime": {
     "end_time": "2022-01-12T04:56:57.467703Z",
     "start_time": "2022-01-12T04:56:57.441625Z"
    }
   },
   "outputs": [],
   "source": [
    "df['member_gender'] = df['member_gender'].replace(['male', 'female'], [0,1])"
   ]
  },
  {
   "cell_type": "code",
   "execution_count": 7,
   "id": "d4ad5912",
   "metadata": {
    "ExecuteTime": {
     "end_time": "2022-01-12T04:56:59.262841Z",
     "start_time": "2022-01-12T04:56:59.240119Z"
    }
   },
   "outputs": [],
   "source": [
    "from sklearn.preprocessing import LabelEncoder\n",
    "\n",
    "le = LabelEncoder()\n",
    "le.fit(df['car_type_mode'])\n",
    "df['car_type_mode'] = le.transform(df['car_type_mode'])"
   ]
  },
  {
   "cell_type": "code",
   "execution_count": 8,
   "id": "07188087",
   "metadata": {
    "ExecuteTime": {
     "end_time": "2022-01-12T04:57:00.729887Z",
     "start_time": "2022-01-12T04:57:00.715843Z"
    }
   },
   "outputs": [],
   "source": [
    "X = df.iloc[:,1:-1] #feature\n",
    "y = df.iloc[:,-1] #target"
   ]
  },
  {
   "cell_type": "code",
   "execution_count": 9,
   "id": "2a68dd4a",
   "metadata": {
    "ExecuteTime": {
     "end_time": "2022-01-12T04:57:08.843098Z",
     "start_time": "2022-01-12T04:57:08.799292Z"
    }
   },
   "outputs": [],
   "source": [
    "col = ['member_age', 'member_total_distance', 'member_period', 'wd_ratio', 'usage_per_week', 'interval_mean',\n",
    "       'interval_med', 'interval_std', 'usage_time_mean', 'usage_time_std', 'usage_time_med', 'vroom_per_usage',\n",
    "       'num_trips_mean', 'num_trips_std', 'car_type_gini', 'zone_gini', 'trip_gini', 'attraction_mean', \n",
    "       'attraction_std', 'restaurant_mean', 'restaurant_std', 'shopping_mean', 'shopping_std']\n",
    "\n",
    "from sklearn.preprocessing import MinMaxScaler\n",
    "from sklearn.preprocessing import StandardScaler\n",
    "#  standard scaler적용\n",
    "scaler_option = 'ss'\n",
    "if scaler_option == 'ss':\n",
    "    scaler = StandardScaler()\n",
    "elif scaler_option == 'mms':\n",
    "    scaler = MinMaxScaler()\n",
    "\n",
    "scaled_X = X.copy()\n",
    "scaled_X[col] = scaler.fit_transform(scaled_X[col])"
   ]
  },
  {
   "cell_type": "code",
   "execution_count": 10,
   "id": "d8d1454d",
   "metadata": {
    "ExecuteTime": {
     "end_time": "2022-01-12T04:57:13.224655Z",
     "start_time": "2022-01-12T04:57:13.175173Z"
    }
   },
   "outputs": [
    {
     "data": {
      "text/plain": [
       "2    3155\n",
       "3    2875\n",
       "1    2860\n",
       "0    1991\n",
       "Name: member_type, dtype: int64"
      ]
     },
     "execution_count": 10,
     "metadata": {},
     "output_type": "execute_result"
    }
   ],
   "source": [
    "from sklearn.model_selection import train_test_split\n",
    "x_train, x_test, y_train, y_test = train_test_split(scaled_X, y, test_size=0.2, stratify=y.to_numpy())\n",
    "y_train.value_counts()"
   ]
  },
  {
   "cell_type": "code",
   "execution_count": 11,
   "id": "056a9e30",
   "metadata": {
    "ExecuteTime": {
     "end_time": "2022-01-12T04:57:14.914183Z",
     "start_time": "2022-01-12T04:57:14.889866Z"
    }
   },
   "outputs": [
    {
     "data": {
      "text/plain": [
       "2    789\n",
       "3    719\n",
       "1    715\n",
       "0    498\n",
       "Name: member_type, dtype: int64"
      ]
     },
     "execution_count": 11,
     "metadata": {},
     "output_type": "execute_result"
    }
   ],
   "source": [
    "y_test.value_counts()"
   ]
  },
  {
   "cell_type": "code",
   "execution_count": 12,
   "id": "f656217e",
   "metadata": {
    "ExecuteTime": {
     "end_time": "2022-01-12T04:57:15.954811Z",
     "start_time": "2022-01-12T04:57:15.392490Z"
    }
   },
   "outputs": [
    {
     "data": {
      "text/plain": [
       "1    3155\n",
       "3    3155\n",
       "2    3155\n",
       "0    3155\n",
       "Name: member_type, dtype: int64"
      ]
     },
     "execution_count": 12,
     "metadata": {},
     "output_type": "execute_result"
    }
   ],
   "source": [
    "# imbalanced data 오버 샘플링 처리\n",
    "x_resampled, y_resampled = SMOTE(random_state=0).fit_resample(x_train, y_train)\n",
    "y_resampled.value_counts()"
   ]
  },
  {
   "cell_type": "code",
   "execution_count": 13,
   "id": "f6f6a87b",
   "metadata": {
    "ExecuteTime": {
     "end_time": "2022-01-12T04:57:17.499753Z",
     "start_time": "2022-01-12T04:57:17.478183Z"
    }
   },
   "outputs": [],
   "source": [
    "model_X = x_resampled.copy()\n",
    "model_y = y_resampled.copy()"
   ]
  },
  {
   "cell_type": "markdown",
   "id": "fbc6103a",
   "metadata": {},
   "source": [
    "### LogisticRegression"
   ]
  },
  {
   "cell_type": "code",
   "execution_count": 35,
   "id": "6ada6a2d",
   "metadata": {
    "ExecuteTime": {
     "end_time": "2022-01-11T13:26:11.229114Z",
     "start_time": "2022-01-11T13:26:07.210113Z"
    },
    "scrolled": true
   },
   "outputs": [
    {
     "name": "stderr",
     "output_type": "stream",
     "text": [
      "E:\\Users\\hong9\\Anaconda3\\envs\\cv2_study\\lib\\site-packages\\sklearn\\linear_model\\_logistic.py:814: ConvergenceWarning: lbfgs failed to converge (status=1):\n",
      "STOP: TOTAL NO. of ITERATIONS REACHED LIMIT.\n",
      "\n",
      "Increase the number of iterations (max_iter) or scale the data as shown in:\n",
      "    https://scikit-learn.org/stable/modules/preprocessing.html\n",
      "Please also refer to the documentation for alternative solver options:\n",
      "    https://scikit-learn.org/stable/modules/linear_model.html#logistic-regression\n",
      "  n_iter_i = _check_optimize_result(\n",
      "E:\\Users\\hong9\\Anaconda3\\envs\\cv2_study\\lib\\site-packages\\sklearn\\linear_model\\_logistic.py:814: ConvergenceWarning: lbfgs failed to converge (status=1):\n",
      "STOP: TOTAL NO. of ITERATIONS REACHED LIMIT.\n",
      "\n",
      "Increase the number of iterations (max_iter) or scale the data as shown in:\n",
      "    https://scikit-learn.org/stable/modules/preprocessing.html\n",
      "Please also refer to the documentation for alternative solver options:\n",
      "    https://scikit-learn.org/stable/modules/linear_model.html#logistic-regression\n",
      "  n_iter_i = _check_optimize_result(\n",
      "E:\\Users\\hong9\\Anaconda3\\envs\\cv2_study\\lib\\site-packages\\sklearn\\linear_model\\_logistic.py:814: ConvergenceWarning: lbfgs failed to converge (status=1):\n",
      "STOP: TOTAL NO. of ITERATIONS REACHED LIMIT.\n",
      "\n",
      "Increase the number of iterations (max_iter) or scale the data as shown in:\n",
      "    https://scikit-learn.org/stable/modules/preprocessing.html\n",
      "Please also refer to the documentation for alternative solver options:\n",
      "    https://scikit-learn.org/stable/modules/linear_model.html#logistic-regression\n",
      "  n_iter_i = _check_optimize_result(\n",
      "E:\\Users\\hong9\\Anaconda3\\envs\\cv2_study\\lib\\site-packages\\sklearn\\linear_model\\_logistic.py:814: ConvergenceWarning: lbfgs failed to converge (status=1):\n",
      "STOP: TOTAL NO. of ITERATIONS REACHED LIMIT.\n",
      "\n",
      "Increase the number of iterations (max_iter) or scale the data as shown in:\n",
      "    https://scikit-learn.org/stable/modules/preprocessing.html\n",
      "Please also refer to the documentation for alternative solver options:\n",
      "    https://scikit-learn.org/stable/modules/linear_model.html#logistic-regression\n",
      "  n_iter_i = _check_optimize_result(\n",
      "E:\\Users\\hong9\\Anaconda3\\envs\\cv2_study\\lib\\site-packages\\sklearn\\linear_model\\_logistic.py:814: ConvergenceWarning: lbfgs failed to converge (status=1):\n",
      "STOP: TOTAL NO. of ITERATIONS REACHED LIMIT.\n",
      "\n",
      "Increase the number of iterations (max_iter) or scale the data as shown in:\n",
      "    https://scikit-learn.org/stable/modules/preprocessing.html\n",
      "Please also refer to the documentation for alternative solver options:\n",
      "    https://scikit-learn.org/stable/modules/linear_model.html#logistic-regression\n",
      "  n_iter_i = _check_optimize_result(\n",
      "E:\\Users\\hong9\\Anaconda3\\envs\\cv2_study\\lib\\site-packages\\sklearn\\model_selection\\_validation.py:372: FitFailedWarning: \n",
      "12 fits failed out of a total of 24.\n",
      "The score on these train-test partitions for these parameters will be set to nan.\n",
      "If these failures are not expected, you can try to debug them by setting error_score='raise'.\n",
      "\n",
      "Below are more details about the failures:\n",
      "--------------------------------------------------------------------------------\n",
      "12 fits failed with the following error:\n",
      "Traceback (most recent call last):\n",
      "  File \"E:\\Users\\hong9\\Anaconda3\\envs\\cv2_study\\lib\\site-packages\\sklearn\\model_selection\\_validation.py\", line 681, in _fit_and_score\n",
      "    estimator.fit(X_train, y_train, **fit_params)\n",
      "  File \"E:\\Users\\hong9\\Anaconda3\\envs\\cv2_study\\lib\\site-packages\\sklearn\\linear_model\\_logistic.py\", line 1461, in fit\n",
      "    solver = _check_solver(self.solver, self.penalty, self.dual)\n",
      "  File \"E:\\Users\\hong9\\Anaconda3\\envs\\cv2_study\\lib\\site-packages\\sklearn\\linear_model\\_logistic.py\", line 447, in _check_solver\n",
      "    raise ValueError(\n",
      "ValueError: Solver lbfgs supports only 'l2' or 'none' penalties, got l1 penalty.\n",
      "\n",
      "  warnings.warn(some_fits_failed_message, FitFailedWarning)\n",
      "E:\\Users\\hong9\\Anaconda3\\envs\\cv2_study\\lib\\site-packages\\sklearn\\model_selection\\_search.py:969: UserWarning: One or more of the test scores are non-finite: [       nan 0.83201268        nan 0.87622821        nan 0.88494453\n",
      "        nan 0.88510301        nan 0.88494453        nan 0.88502377]\n",
      "  warnings.warn(\n",
      "E:\\Users\\hong9\\Anaconda3\\envs\\cv2_study\\lib\\site-packages\\sklearn\\linear_model\\_logistic.py:814: ConvergenceWarning: lbfgs failed to converge (status=1):\n",
      "STOP: TOTAL NO. of ITERATIONS REACHED LIMIT.\n",
      "\n",
      "Increase the number of iterations (max_iter) or scale the data as shown in:\n",
      "    https://scikit-learn.org/stable/modules/preprocessing.html\n",
      "Please also refer to the documentation for alternative solver options:\n",
      "    https://scikit-learn.org/stable/modules/linear_model.html#logistic-regression\n",
      "  n_iter_i = _check_optimize_result(\n"
     ]
    },
    {
     "data": {
      "text/plain": [
       "GridSearchCV(cv=2, estimator=LogisticRegression(random_state=10),\n",
       "             param_grid={'C': [0.001, 0.01, 0.1, 1, 10, 100],\n",
       "                         'penalty': ['l1', 'l2']})"
      ]
     },
     "execution_count": 35,
     "metadata": {},
     "output_type": "execute_result"
    }
   ],
   "source": [
    "from sklearn.linear_model import LogisticRegression\n",
    "\n",
    "param_grid = {'C' : [0.001, 0.01, 0.1, 1, 10, 100],\n",
    "             'penalty' : [\"l1\",\"l2\"]\n",
    "             }\n",
    "#모델 파라미터 조정(규제 파라미터 및 반복 학습 횟수)\n",
    "lr = LogisticRegression(random_state=10)\n",
    "grid_search = GridSearchCV(lr, param_grid=param_grid, cv=2)\n",
    "grid_search.fit(model_X, model_y)\n"
   ]
  },
  {
   "cell_type": "code",
   "execution_count": 36,
   "id": "d9de0b4f",
   "metadata": {
    "ExecuteTime": {
     "end_time": "2022-01-11T13:26:29.321426Z",
     "start_time": "2022-01-11T13:26:29.313101Z"
    }
   },
   "outputs": [
    {
     "name": "stdout",
     "output_type": "stream",
     "text": [
      "Best Parameter: {'C': 1, 'penalty': 'l2'}\n",
      "Best Score: 0.8851\n",
      "Test Score: 0.8780\n"
     ]
    }
   ],
   "source": [
    "print('Best Parameter: {}'.format(grid_search.best_params_))\n",
    "print('Best Score: {:.4f}'.format(grid_search.best_score_))\n",
    "print('Test Score: {:.4f}'.format(grid_search.score(x_test, y_test)))"
   ]
  },
  {
   "cell_type": "code",
   "execution_count": 40,
   "id": "3c8e8404",
   "metadata": {
    "ExecuteTime": {
     "end_time": "2022-01-11T13:29:30.935864Z",
     "start_time": "2022-01-11T13:29:30.901783Z"
    }
   },
   "outputs": [
    {
     "name": "stdout",
     "output_type": "stream",
     "text": [
      "              precision    recall  f1-score   support\n",
      "\n",
      "           0       0.85      0.90      0.87       498\n",
      "           1       0.91      0.90      0.91       715\n",
      "           2       0.88      0.87      0.88       789\n",
      "           3       0.86      0.85      0.86       719\n",
      "\n",
      "    accuracy                           0.88      2721\n",
      "   macro avg       0.88      0.88      0.88      2721\n",
      "weighted avg       0.88      0.88      0.88      2721\n",
      "\n"
     ]
    }
   ],
   "source": [
    "from sklearn.metrics import classification_report\n",
    "\n",
    "pred_y = grid_search.best_estimator_.predict(x_test)\n",
    "\n",
    "cfreport_test = classification_report(y_test, pred_y)\n",
    "print(cfreport_test)"
   ]
  },
  {
   "cell_type": "markdown",
   "id": "77db65bc",
   "metadata": {},
   "source": [
    "### Decision Tree"
   ]
  },
  {
   "cell_type": "code",
   "execution_count": 15,
   "id": "8294e174",
   "metadata": {
    "ExecuteTime": {
     "end_time": "2022-01-12T05:01:35.684379Z",
     "start_time": "2022-01-12T05:01:13.190967Z"
    }
   },
   "outputs": [
    {
     "data": {
      "text/plain": [
       "GridSearchCV(cv=2, estimator=DecisionTreeClassifier(),\n",
       "             param_grid={'max_depth': [10, 11, 12, 13, 14, 15, 16],\n",
       "                         'min_samples_leaf': [3, 4, 5, 6, 7, 8, 9, 10, 11]})"
      ]
     },
     "execution_count": 15,
     "metadata": {},
     "output_type": "execute_result"
    }
   ],
   "source": [
    "from sklearn.tree import DecisionTreeClassifier\n",
    "\n",
    "\n",
    "param_grid = {'max_depth' : [10,11,12,13, 14, 15, 16],\n",
    "             'min_samples_leaf' : [3,4,5,6,7,8,9,10,11]\n",
    "             }\n",
    "dt_clf = DecisionTreeClassifier()\n",
    "grid_search = GridSearchCV(dt_clf, param_grid=param_grid, cv=2)\n",
    "grid_search.fit(model_X, model_y)"
   ]
  },
  {
   "cell_type": "code",
   "execution_count": 14,
   "id": "4f914582",
   "metadata": {
    "ExecuteTime": {
     "end_time": "2022-01-12T05:00:33.227171Z",
     "start_time": "2022-01-12T05:00:32.471272Z"
    }
   },
   "outputs": [
    {
     "name": "stdout",
     "output_type": "stream",
     "text": [
      "정확도 : 0.582139, 정밀도 : 0.581805, 재현율 : 0.580340\n",
      "f1-score : 0.577156\n"
     ]
    },
    {
     "data": {
      "image/png": "[encoded data removed]",
      "text/plain": [
       "<Figure size 432x288 with 2 Axes>"
      ]
     },
     "metadata": {
      "needs_background": "light"
     },
     "output_type": "display_data"
    }
   ],
   "source": [
    "#################\n",
    "from sklearn.tree import DecisionTreeClassifier\n",
    "dt_clf = DecisionTreeClassifier(max_depth=12, min_samples_leaf=5)\n",
    "dt_clf.fit(model_X, model_y)\n",
    "\n",
    "from sklearn.metrics import accuracy_score, precision_score,recall_score,f1_score,confusion_matrix, roc_auc_score\n",
    "final_model = dt_clf\n",
    "final_pred = final_model.predict(x_test)\n",
    "\n",
    "def metric(y_test, pred):\n",
    "    accuracy = accuracy_score(y_test,pred)\n",
    "    precision = precision_score(y_test,pred, average='macro')\n",
    "    recall = recall_score(y_test,pred, average='macro')\n",
    "    f1 = f1_score(y_test,pred, average='macro')\n",
    "    print('정확도 : {0:.6f}, 정밀도 : {1:.6f}, 재현율 : {2:.6f}'.format(accuracy,precision,recall))\n",
    "    print('f1-score : {0:.6f}'.format(f1))\n",
    "\n",
    "metric(y_test, final_pred)\n",
    "\n",
    "# confusion matrix 확인하기\n",
    "\n",
    "\n",
    "con_mat = confusion_matrix(y_test, final_pred)\n",
    "sns.heatmap(con_mat, square=True, annot=True, fmt='d')\n",
    "plt.xlabel('true_label')\n",
    "plt.ylabel('predicted_label')\n",
    "plt.xticks(rotation=45)\n",
    "plt.show()\n",
    "\n",
    "#################"
   ]
  },
  {
   "cell_type": "code",
   "execution_count": 16,
   "id": "e1196e4f",
   "metadata": {
    "ExecuteTime": {
     "end_time": "2022-01-12T05:01:49.228439Z",
     "start_time": "2022-01-12T05:01:49.203694Z"
    }
   },
   "outputs": [
    {
     "name": "stdout",
     "output_type": "stream",
     "text": [
      "Best Parameter: {'max_depth': 10, 'min_samples_leaf': 11}\n",
      "Best Score: 0.6067\n",
      "Test Score: 0.5994\n"
     ]
    }
   ],
   "source": [
    "print('Best Parameter: {}'.format(grid_search.best_params_))\n",
    "print('Best Score: {:.4f}'.format(grid_search.best_score_))\n",
    "print('Test Score: {:.4f}'.format(grid_search.score(x_test, y_test)))"
   ]
  },
  {
   "cell_type": "code",
   "execution_count": 47,
   "id": "7c69e85d",
   "metadata": {
    "ExecuteTime": {
     "end_time": "2022-01-11T13:35:33.068345Z",
     "start_time": "2022-01-11T13:35:33.043017Z"
    }
   },
   "outputs": [
    {
     "name": "stdout",
     "output_type": "stream",
     "text": [
      "              precision    recall  f1-score   support\n",
      "\n",
      "           0       0.85      0.89      0.87       498\n",
      "           1       0.90      0.90      0.90       715\n",
      "           2       0.91      0.87      0.89       789\n",
      "           3       0.87      0.88      0.88       719\n",
      "\n",
      "    accuracy                           0.89      2721\n",
      "   macro avg       0.88      0.89      0.88      2721\n",
      "weighted avg       0.89      0.89      0.89      2721\n",
      "\n"
     ]
    }
   ],
   "source": [
    "pred_y = grid_search.best_estimator_.predict(x_test)\n",
    "\n",
    "cfreport_test = classification_report(y_test, pred_y)\n",
    "print(cfreport_test)"
   ]
  },
  {
   "cell_type": "markdown",
   "id": "2bfb8142",
   "metadata": {},
   "source": [
    "### Random Forest"
   ]
  },
  {
   "cell_type": "code",
   "execution_count": 55,
   "id": "aaaa5943",
   "metadata": {
    "ExecuteTime": {
     "end_time": "2022-01-11T16:07:38.105398Z",
     "start_time": "2022-01-11T13:42:11.034280Z"
    }
   },
   "outputs": [
    {
     "data": {
      "text/plain": [
       "GridSearchCV(cv=2, estimator=RandomForestClassifier(random_state=10),\n",
       "             param_grid={'bootstrap': [True, False],\n",
       "                         'max_depth': [10, 15, 25, 30],\n",
       "                         'min_samples_split': [5, 10, 15, 20],\n",
       "                         'n_estimators': range(100, 1000, 100)})"
      ]
     },
     "execution_count": 55,
     "metadata": {},
     "output_type": "execute_result"
    }
   ],
   "source": [
    "from sklearn.ensemble import RandomForestClassifier\n",
    "\n",
    "param_grid = {\n",
    "              'n_estimators': range(100, 1000, 100),\n",
    "              'max_depth': [10, 15, 25, 30],\n",
    "              'min_samples_split' : [5, 10, 15,20],\n",
    "              'bootstrap':[True, False]\n",
    "              }\n",
    "\n",
    "rf_clf = RandomForestClassifier(random_state=10)\n",
    "grid_search = GridSearchCV(rf_clf, param_grid=param_grid, cv=2)\n",
    "grid_search.fit(model_X, model_y)"
   ]
  },
  {
   "cell_type": "code",
   "execution_count": 56,
   "id": "7bcee6bd",
   "metadata": {
    "ExecuteTime": {
     "end_time": "2022-01-11T16:07:38.593543Z",
     "start_time": "2022-01-11T16:07:38.110886Z"
    }
   },
   "outputs": [
    {
     "name": "stdout",
     "output_type": "stream",
     "text": [
      "Best Parameter: {'bootstrap': False, 'max_depth': 25, 'min_samples_split': 5, 'n_estimators': 800}\n",
      "Best Score: 0.9151\n",
      "Test Score: 0.9247\n"
     ]
    }
   ],
   "source": [
    "print('Best Parameter: {}'.format(grid_search.best_params_))\n",
    "print('Best Score: {:.4f}'.format(grid_search.best_score_))\n",
    "print('Test Score: {:.4f}'.format(grid_search.score(x_test, y_test)))"
   ]
  },
  {
   "cell_type": "code",
   "execution_count": 57,
   "id": "22a1dae1",
   "metadata": {
    "ExecuteTime": {
     "end_time": "2022-01-11T16:07:39.062864Z",
     "start_time": "2022-01-11T16:07:38.595558Z"
    }
   },
   "outputs": [
    {
     "name": "stdout",
     "output_type": "stream",
     "text": [
      "              precision    recall  f1-score   support\n",
      "\n",
      "           0       0.93      0.88      0.90       498\n",
      "           1       0.93      0.94      0.94       715\n",
      "           2       0.93      0.93      0.93       789\n",
      "           3       0.91      0.93      0.92       719\n",
      "\n",
      "    accuracy                           0.92      2721\n",
      "   macro avg       0.92      0.92      0.92      2721\n",
      "weighted avg       0.92      0.92      0.92      2721\n",
      "\n"
     ]
    }
   ],
   "source": [
    "pred_y = grid_search.best_estimator_.predict(x_test)\n",
    "\n",
    "cfreport_test = classification_report(y_test, pred_y)\n",
    "print(cfreport_test)"
   ]
  },
  {
   "cell_type": "markdown",
   "id": "543dd5d4",
   "metadata": {},
   "source": [
    "### Xgboost"
   ]
  },
  {
   "cell_type": "code",
   "execution_count": 58,
   "id": "e200d318",
   "metadata": {
    "ExecuteTime": {
     "end_time": "2022-01-11T16:11:30.461849Z",
     "start_time": "2022-01-11T16:07:39.065381Z"
    }
   },
   "outputs": [
    {
     "name": "stderr",
     "output_type": "stream",
     "text": [
      "E:\\Users\\hong9\\Anaconda3\\envs\\cv2_study\\lib\\site-packages\\xgboost\\sklearn.py:1224: UserWarning: The use of label encoder in XGBClassifier is deprecated and will be removed in a future release. To remove this warning, do the following: 1) Pass option use_label_encoder=False when constructing XGBClassifier object; and 2) Encode your labels (y) as integers starting with 0, i.e. 0, 1, 2, ..., [num_class - 1].\n",
      "  warnings.warn(label_encoder_deprecation_msg, UserWarning)\n"
     ]
    },
    {
     "name": "stdout",
     "output_type": "stream",
     "text": [
      "[01:07:39] WARNING: C:/Users/Administrator/workspace/xgboost-win64_release_1.5.1/src/learner.cc:1115: Starting in XGBoost 1.3.0, the default evaluation metric used with the objective 'multi:softprob' was changed from 'merror' to 'mlogloss'. Explicitly set eval_metric if you'd like to restore the old behavior.\n"
     ]
    },
    {
     "name": "stderr",
     "output_type": "stream",
     "text": [
      "E:\\Users\\hong9\\Anaconda3\\envs\\cv2_study\\lib\\site-packages\\xgboost\\sklearn.py:1224: UserWarning: The use of label encoder in XGBClassifier is deprecated and will be removed in a future release. To remove this warning, do the following: 1) Pass option use_label_encoder=False when constructing XGBClassifier object; and 2) Encode your labels (y) as integers starting with 0, i.e. 0, 1, 2, ..., [num_class - 1].\n",
      "  warnings.warn(label_encoder_deprecation_msg, UserWarning)\n"
     ]
    },
    {
     "name": "stdout",
     "output_type": "stream",
     "text": [
      "[01:07:46] WARNING: C:/Users/Administrator/workspace/xgboost-win64_release_1.5.1/src/learner.cc:1115: Starting in XGBoost 1.3.0, the default evaluation metric used with the objective 'multi:softprob' was changed from 'merror' to 'mlogloss'. Explicitly set eval_metric if you'd like to restore the old behavior.\n"
     ]
    },
    {
     "name": "stderr",
     "output_type": "stream",
     "text": [
      "E:\\Users\\hong9\\Anaconda3\\envs\\cv2_study\\lib\\site-packages\\xgboost\\sklearn.py:1224: UserWarning: The use of label encoder in XGBClassifier is deprecated and will be removed in a future release. To remove this warning, do the following: 1) Pass option use_label_encoder=False when constructing XGBClassifier object; and 2) Encode your labels (y) as integers starting with 0, i.e. 0, 1, 2, ..., [num_class - 1].\n",
      "  warnings.warn(label_encoder_deprecation_msg, UserWarning)\n"
     ]
    },
    {
     "name": "stdout",
     "output_type": "stream",
     "text": [
      "[01:07:52] WARNING: C:/Users/Administrator/workspace/xgboost-win64_release_1.5.1/src/learner.cc:1115: Starting in XGBoost 1.3.0, the default evaluation metric used with the objective 'multi:softprob' was changed from 'merror' to 'mlogloss'. Explicitly set eval_metric if you'd like to restore the old behavior.\n"
     ]
    },
    {
     "name": "stderr",
     "output_type": "stream",
     "text": [
      "E:\\Users\\hong9\\Anaconda3\\envs\\cv2_study\\lib\\site-packages\\xgboost\\sklearn.py:1224: UserWarning: The use of label encoder in XGBClassifier is deprecated and will be removed in a future release. To remove this warning, do the following: 1) Pass option use_label_encoder=False when constructing XGBClassifier object; and 2) Encode your labels (y) as integers starting with 0, i.e. 0, 1, 2, ..., [num_class - 1].\n",
      "  warnings.warn(label_encoder_deprecation_msg, UserWarning)\n"
     ]
    },
    {
     "name": "stdout",
     "output_type": "stream",
     "text": [
      "[01:07:58] WARNING: C:/Users/Administrator/workspace/xgboost-win64_release_1.5.1/src/learner.cc:1115: Starting in XGBoost 1.3.0, the default evaluation metric used with the objective 'multi:softprob' was changed from 'merror' to 'mlogloss'. Explicitly set eval_metric if you'd like to restore the old behavior.\n"
     ]
    },
    {
     "name": "stderr",
     "output_type": "stream",
     "text": [
      "E:\\Users\\hong9\\Anaconda3\\envs\\cv2_study\\lib\\site-packages\\xgboost\\sklearn.py:1224: UserWarning: The use of label encoder in XGBClassifier is deprecated and will be removed in a future release. To remove this warning, do the following: 1) Pass option use_label_encoder=False when constructing XGBClassifier object; and 2) Encode your labels (y) as integers starting with 0, i.e. 0, 1, 2, ..., [num_class - 1].\n",
      "  warnings.warn(label_encoder_deprecation_msg, UserWarning)\n"
     ]
    },
    {
     "name": "stdout",
     "output_type": "stream",
     "text": [
      "[01:08:05] WARNING: C:/Users/Administrator/workspace/xgboost-win64_release_1.5.1/src/learner.cc:1115: Starting in XGBoost 1.3.0, the default evaluation metric used with the objective 'multi:softprob' was changed from 'merror' to 'mlogloss'. Explicitly set eval_metric if you'd like to restore the old behavior.\n"
     ]
    },
    {
     "name": "stderr",
     "output_type": "stream",
     "text": [
      "E:\\Users\\hong9\\Anaconda3\\envs\\cv2_study\\lib\\site-packages\\xgboost\\sklearn.py:1224: UserWarning: The use of label encoder in XGBClassifier is deprecated and will be removed in a future release. To remove this warning, do the following: 1) Pass option use_label_encoder=False when constructing XGBClassifier object; and 2) Encode your labels (y) as integers starting with 0, i.e. 0, 1, 2, ..., [num_class - 1].\n",
      "  warnings.warn(label_encoder_deprecation_msg, UserWarning)\n"
     ]
    },
    {
     "name": "stdout",
     "output_type": "stream",
     "text": [
      "[01:08:10] WARNING: C:/Users/Administrator/workspace/xgboost-win64_release_1.5.1/src/learner.cc:1115: Starting in XGBoost 1.3.0, the default evaluation metric used with the objective 'multi:softprob' was changed from 'merror' to 'mlogloss'. Explicitly set eval_metric if you'd like to restore the old behavior.\n"
     ]
    },
    {
     "name": "stderr",
     "output_type": "stream",
     "text": [
      "E:\\Users\\hong9\\Anaconda3\\envs\\cv2_study\\lib\\site-packages\\xgboost\\sklearn.py:1224: UserWarning: The use of label encoder in XGBClassifier is deprecated and will be removed in a future release. To remove this warning, do the following: 1) Pass option use_label_encoder=False when constructing XGBClassifier object; and 2) Encode your labels (y) as integers starting with 0, i.e. 0, 1, 2, ..., [num_class - 1].\n",
      "  warnings.warn(label_encoder_deprecation_msg, UserWarning)\n"
     ]
    },
    {
     "name": "stdout",
     "output_type": "stream",
     "text": [
      "[01:08:17] WARNING: C:/Users/Administrator/workspace/xgboost-win64_release_1.5.1/src/learner.cc:1115: Starting in XGBoost 1.3.0, the default evaluation metric used with the objective 'multi:softprob' was changed from 'merror' to 'mlogloss'. Explicitly set eval_metric if you'd like to restore the old behavior.\n"
     ]
    },
    {
     "name": "stderr",
     "output_type": "stream",
     "text": [
      "E:\\Users\\hong9\\Anaconda3\\envs\\cv2_study\\lib\\site-packages\\xgboost\\sklearn.py:1224: UserWarning: The use of label encoder in XGBClassifier is deprecated and will be removed in a future release. To remove this warning, do the following: 1) Pass option use_label_encoder=False when constructing XGBClassifier object; and 2) Encode your labels (y) as integers starting with 0, i.e. 0, 1, 2, ..., [num_class - 1].\n",
      "  warnings.warn(label_encoder_deprecation_msg, UserWarning)\n"
     ]
    },
    {
     "name": "stdout",
     "output_type": "stream",
     "text": [
      "[01:08:23] WARNING: C:/Users/Administrator/workspace/xgboost-win64_release_1.5.1/src/learner.cc:1115: Starting in XGBoost 1.3.0, the default evaluation metric used with the objective 'multi:softprob' was changed from 'merror' to 'mlogloss'. Explicitly set eval_metric if you'd like to restore the old behavior.\n"
     ]
    },
    {
     "name": "stderr",
     "output_type": "stream",
     "text": [
      "E:\\Users\\hong9\\Anaconda3\\envs\\cv2_study\\lib\\site-packages\\xgboost\\sklearn.py:1224: UserWarning: The use of label encoder in XGBClassifier is deprecated and will be removed in a future release. To remove this warning, do the following: 1) Pass option use_label_encoder=False when constructing XGBClassifier object; and 2) Encode your labels (y) as integers starting with 0, i.e. 0, 1, 2, ..., [num_class - 1].\n",
      "  warnings.warn(label_encoder_deprecation_msg, UserWarning)\n"
     ]
    },
    {
     "name": "stdout",
     "output_type": "stream",
     "text": [
      "[01:08:29] WARNING: C:/Users/Administrator/workspace/xgboost-win64_release_1.5.1/src/learner.cc:1115: Starting in XGBoost 1.3.0, the default evaluation metric used with the objective 'multi:softprob' was changed from 'merror' to 'mlogloss'. Explicitly set eval_metric if you'd like to restore the old behavior.\n"
     ]
    },
    {
     "name": "stderr",
     "output_type": "stream",
     "text": [
      "E:\\Users\\hong9\\Anaconda3\\envs\\cv2_study\\lib\\site-packages\\xgboost\\sklearn.py:1224: UserWarning: The use of label encoder in XGBClassifier is deprecated and will be removed in a future release. To remove this warning, do the following: 1) Pass option use_label_encoder=False when constructing XGBClassifier object; and 2) Encode your labels (y) as integers starting with 0, i.e. 0, 1, 2, ..., [num_class - 1].\n",
      "  warnings.warn(label_encoder_deprecation_msg, UserWarning)\n"
     ]
    },
    {
     "name": "stdout",
     "output_type": "stream",
     "text": [
      "[01:08:36] WARNING: C:/Users/Administrator/workspace/xgboost-win64_release_1.5.1/src/learner.cc:1115: Starting in XGBoost 1.3.0, the default evaluation metric used with the objective 'multi:softprob' was changed from 'merror' to 'mlogloss'. Explicitly set eval_metric if you'd like to restore the old behavior.\n"
     ]
    },
    {
     "name": "stderr",
     "output_type": "stream",
     "text": [
      "E:\\Users\\hong9\\Anaconda3\\envs\\cv2_study\\lib\\site-packages\\xgboost\\sklearn.py:1224: UserWarning: The use of label encoder in XGBClassifier is deprecated and will be removed in a future release. To remove this warning, do the following: 1) Pass option use_label_encoder=False when constructing XGBClassifier object; and 2) Encode your labels (y) as integers starting with 0, i.e. 0, 1, 2, ..., [num_class - 1].\n",
      "  warnings.warn(label_encoder_deprecation_msg, UserWarning)\n"
     ]
    },
    {
     "name": "stdout",
     "output_type": "stream",
     "text": [
      "[01:08:42] WARNING: C:/Users/Administrator/workspace/xgboost-win64_release_1.5.1/src/learner.cc:1115: Starting in XGBoost 1.3.0, the default evaluation metric used with the objective 'multi:softprob' was changed from 'merror' to 'mlogloss'. Explicitly set eval_metric if you'd like to restore the old behavior.\n"
     ]
    },
    {
     "name": "stderr",
     "output_type": "stream",
     "text": [
      "E:\\Users\\hong9\\Anaconda3\\envs\\cv2_study\\lib\\site-packages\\xgboost\\sklearn.py:1224: UserWarning: The use of label encoder in XGBClassifier is deprecated and will be removed in a future release. To remove this warning, do the following: 1) Pass option use_label_encoder=False when constructing XGBClassifier object; and 2) Encode your labels (y) as integers starting with 0, i.e. 0, 1, 2, ..., [num_class - 1].\n",
      "  warnings.warn(label_encoder_deprecation_msg, UserWarning)\n"
     ]
    },
    {
     "name": "stdout",
     "output_type": "stream",
     "text": [
      "[01:08:49] WARNING: C:/Users/Administrator/workspace/xgboost-win64_release_1.5.1/src/learner.cc:1115: Starting in XGBoost 1.3.0, the default evaluation metric used with the objective 'multi:softprob' was changed from 'merror' to 'mlogloss'. Explicitly set eval_metric if you'd like to restore the old behavior.\n"
     ]
    },
    {
     "name": "stderr",
     "output_type": "stream",
     "text": [
      "E:\\Users\\hong9\\Anaconda3\\envs\\cv2_study\\lib\\site-packages\\xgboost\\sklearn.py:1224: UserWarning: The use of label encoder in XGBClassifier is deprecated and will be removed in a future release. To remove this warning, do the following: 1) Pass option use_label_encoder=False when constructing XGBClassifier object; and 2) Encode your labels (y) as integers starting with 0, i.e. 0, 1, 2, ..., [num_class - 1].\n",
      "  warnings.warn(label_encoder_deprecation_msg, UserWarning)\n"
     ]
    },
    {
     "name": "stdout",
     "output_type": "stream",
     "text": [
      "[01:08:55] WARNING: C:/Users/Administrator/workspace/xgboost-win64_release_1.5.1/src/learner.cc:1115: Starting in XGBoost 1.3.0, the default evaluation metric used with the objective 'multi:softprob' was changed from 'merror' to 'mlogloss'. Explicitly set eval_metric if you'd like to restore the old behavior.\n"
     ]
    },
    {
     "name": "stderr",
     "output_type": "stream",
     "text": [
      "E:\\Users\\hong9\\Anaconda3\\envs\\cv2_study\\lib\\site-packages\\xgboost\\sklearn.py:1224: UserWarning: The use of label encoder in XGBClassifier is deprecated and will be removed in a future release. To remove this warning, do the following: 1) Pass option use_label_encoder=False when constructing XGBClassifier object; and 2) Encode your labels (y) as integers starting with 0, i.e. 0, 1, 2, ..., [num_class - 1].\n",
      "  warnings.warn(label_encoder_deprecation_msg, UserWarning)\n"
     ]
    },
    {
     "name": "stdout",
     "output_type": "stream",
     "text": [
      "[01:09:01] WARNING: C:/Users/Administrator/workspace/xgboost-win64_release_1.5.1/src/learner.cc:1115: Starting in XGBoost 1.3.0, the default evaluation metric used with the objective 'multi:softprob' was changed from 'merror' to 'mlogloss'. Explicitly set eval_metric if you'd like to restore the old behavior.\n"
     ]
    },
    {
     "name": "stderr",
     "output_type": "stream",
     "text": [
      "E:\\Users\\hong9\\Anaconda3\\envs\\cv2_study\\lib\\site-packages\\xgboost\\sklearn.py:1224: UserWarning: The use of label encoder in XGBClassifier is deprecated and will be removed in a future release. To remove this warning, do the following: 1) Pass option use_label_encoder=False when constructing XGBClassifier object; and 2) Encode your labels (y) as integers starting with 0, i.e. 0, 1, 2, ..., [num_class - 1].\n",
      "  warnings.warn(label_encoder_deprecation_msg, UserWarning)\n"
     ]
    },
    {
     "name": "stdout",
     "output_type": "stream",
     "text": [
      "[01:09:08] WARNING: C:/Users/Administrator/workspace/xgboost-win64_release_1.5.1/src/learner.cc:1115: Starting in XGBoost 1.3.0, the default evaluation metric used with the objective 'multi:softprob' was changed from 'merror' to 'mlogloss'. Explicitly set eval_metric if you'd like to restore the old behavior.\n"
     ]
    },
    {
     "name": "stderr",
     "output_type": "stream",
     "text": [
      "E:\\Users\\hong9\\Anaconda3\\envs\\cv2_study\\lib\\site-packages\\xgboost\\sklearn.py:1224: UserWarning: The use of label encoder in XGBClassifier is deprecated and will be removed in a future release. To remove this warning, do the following: 1) Pass option use_label_encoder=False when constructing XGBClassifier object; and 2) Encode your labels (y) as integers starting with 0, i.e. 0, 1, 2, ..., [num_class - 1].\n",
      "  warnings.warn(label_encoder_deprecation_msg, UserWarning)\n"
     ]
    },
    {
     "name": "stdout",
     "output_type": "stream",
     "text": [
      "[01:09:14] WARNING: C:/Users/Administrator/workspace/xgboost-win64_release_1.5.1/src/learner.cc:1115: Starting in XGBoost 1.3.0, the default evaluation metric used with the objective 'multi:softprob' was changed from 'merror' to 'mlogloss'. Explicitly set eval_metric if you'd like to restore the old behavior.\n"
     ]
    },
    {
     "name": "stderr",
     "output_type": "stream",
     "text": [
      "E:\\Users\\hong9\\Anaconda3\\envs\\cv2_study\\lib\\site-packages\\xgboost\\sklearn.py:1224: UserWarning: The use of label encoder in XGBClassifier is deprecated and will be removed in a future release. To remove this warning, do the following: 1) Pass option use_label_encoder=False when constructing XGBClassifier object; and 2) Encode your labels (y) as integers starting with 0, i.e. 0, 1, 2, ..., [num_class - 1].\n",
      "  warnings.warn(label_encoder_deprecation_msg, UserWarning)\n"
     ]
    },
    {
     "name": "stdout",
     "output_type": "stream",
     "text": [
      "[01:09:21] WARNING: C:/Users/Administrator/workspace/xgboost-win64_release_1.5.1/src/learner.cc:1115: Starting in XGBoost 1.3.0, the default evaluation metric used with the objective 'multi:softprob' was changed from 'merror' to 'mlogloss'. Explicitly set eval_metric if you'd like to restore the old behavior.\n"
     ]
    },
    {
     "name": "stderr",
     "output_type": "stream",
     "text": [
      "E:\\Users\\hong9\\Anaconda3\\envs\\cv2_study\\lib\\site-packages\\xgboost\\sklearn.py:1224: UserWarning: The use of label encoder in XGBClassifier is deprecated and will be removed in a future release. To remove this warning, do the following: 1) Pass option use_label_encoder=False when constructing XGBClassifier object; and 2) Encode your labels (y) as integers starting with 0, i.e. 0, 1, 2, ..., [num_class - 1].\n",
      "  warnings.warn(label_encoder_deprecation_msg, UserWarning)\n"
     ]
    },
    {
     "name": "stdout",
     "output_type": "stream",
     "text": [
      "[01:09:28] WARNING: C:/Users/Administrator/workspace/xgboost-win64_release_1.5.1/src/learner.cc:1115: Starting in XGBoost 1.3.0, the default evaluation metric used with the objective 'multi:softprob' was changed from 'merror' to 'mlogloss'. Explicitly set eval_metric if you'd like to restore the old behavior.\n"
     ]
    },
    {
     "name": "stderr",
     "output_type": "stream",
     "text": [
      "E:\\Users\\hong9\\Anaconda3\\envs\\cv2_study\\lib\\site-packages\\xgboost\\sklearn.py:1224: UserWarning: The use of label encoder in XGBClassifier is deprecated and will be removed in a future release. To remove this warning, do the following: 1) Pass option use_label_encoder=False when constructing XGBClassifier object; and 2) Encode your labels (y) as integers starting with 0, i.e. 0, 1, 2, ..., [num_class - 1].\n",
      "  warnings.warn(label_encoder_deprecation_msg, UserWarning)\n"
     ]
    },
    {
     "name": "stdout",
     "output_type": "stream",
     "text": [
      "[01:09:35] WARNING: C:/Users/Administrator/workspace/xgboost-win64_release_1.5.1/src/learner.cc:1115: Starting in XGBoost 1.3.0, the default evaluation metric used with the objective 'multi:softprob' was changed from 'merror' to 'mlogloss'. Explicitly set eval_metric if you'd like to restore the old behavior.\n"
     ]
    },
    {
     "name": "stderr",
     "output_type": "stream",
     "text": [
      "E:\\Users\\hong9\\Anaconda3\\envs\\cv2_study\\lib\\site-packages\\xgboost\\sklearn.py:1224: UserWarning: The use of label encoder in XGBClassifier is deprecated and will be removed in a future release. To remove this warning, do the following: 1) Pass option use_label_encoder=False when constructing XGBClassifier object; and 2) Encode your labels (y) as integers starting with 0, i.e. 0, 1, 2, ..., [num_class - 1].\n",
      "  warnings.warn(label_encoder_deprecation_msg, UserWarning)\n"
     ]
    },
    {
     "name": "stdout",
     "output_type": "stream",
     "text": [
      "[01:09:43] WARNING: C:/Users/Administrator/workspace/xgboost-win64_release_1.5.1/src/learner.cc:1115: Starting in XGBoost 1.3.0, the default evaluation metric used with the objective 'multi:softprob' was changed from 'merror' to 'mlogloss'. Explicitly set eval_metric if you'd like to restore the old behavior.\n"
     ]
    },
    {
     "name": "stderr",
     "output_type": "stream",
     "text": [
      "E:\\Users\\hong9\\Anaconda3\\envs\\cv2_study\\lib\\site-packages\\xgboost\\sklearn.py:1224: UserWarning: The use of label encoder in XGBClassifier is deprecated and will be removed in a future release. To remove this warning, do the following: 1) Pass option use_label_encoder=False when constructing XGBClassifier object; and 2) Encode your labels (y) as integers starting with 0, i.e. 0, 1, 2, ..., [num_class - 1].\n",
      "  warnings.warn(label_encoder_deprecation_msg, UserWarning)\n"
     ]
    },
    {
     "name": "stdout",
     "output_type": "stream",
     "text": [
      "[01:09:50] WARNING: C:/Users/Administrator/workspace/xgboost-win64_release_1.5.1/src/learner.cc:1115: Starting in XGBoost 1.3.0, the default evaluation metric used with the objective 'multi:softprob' was changed from 'merror' to 'mlogloss'. Explicitly set eval_metric if you'd like to restore the old behavior.\n"
     ]
    },
    {
     "name": "stderr",
     "output_type": "stream",
     "text": [
      "E:\\Users\\hong9\\Anaconda3\\envs\\cv2_study\\lib\\site-packages\\xgboost\\sklearn.py:1224: UserWarning: The use of label encoder in XGBClassifier is deprecated and will be removed in a future release. To remove this warning, do the following: 1) Pass option use_label_encoder=False when constructing XGBClassifier object; and 2) Encode your labels (y) as integers starting with 0, i.e. 0, 1, 2, ..., [num_class - 1].\n",
      "  warnings.warn(label_encoder_deprecation_msg, UserWarning)\n"
     ]
    },
    {
     "name": "stdout",
     "output_type": "stream",
     "text": [
      "[01:09:57] WARNING: C:/Users/Administrator/workspace/xgboost-win64_release_1.5.1/src/learner.cc:1115: Starting in XGBoost 1.3.0, the default evaluation metric used with the objective 'multi:softprob' was changed from 'merror' to 'mlogloss'. Explicitly set eval_metric if you'd like to restore the old behavior.\n"
     ]
    },
    {
     "name": "stderr",
     "output_type": "stream",
     "text": [
      "E:\\Users\\hong9\\Anaconda3\\envs\\cv2_study\\lib\\site-packages\\xgboost\\sklearn.py:1224: UserWarning: The use of label encoder in XGBClassifier is deprecated and will be removed in a future release. To remove this warning, do the following: 1) Pass option use_label_encoder=False when constructing XGBClassifier object; and 2) Encode your labels (y) as integers starting with 0, i.e. 0, 1, 2, ..., [num_class - 1].\n",
      "  warnings.warn(label_encoder_deprecation_msg, UserWarning)\n"
     ]
    },
    {
     "name": "stdout",
     "output_type": "stream",
     "text": [
      "[01:10:03] WARNING: C:/Users/Administrator/workspace/xgboost-win64_release_1.5.1/src/learner.cc:1115: Starting in XGBoost 1.3.0, the default evaluation metric used with the objective 'multi:softprob' was changed from 'merror' to 'mlogloss'. Explicitly set eval_metric if you'd like to restore the old behavior.\n"
     ]
    },
    {
     "name": "stderr",
     "output_type": "stream",
     "text": [
      "E:\\Users\\hong9\\Anaconda3\\envs\\cv2_study\\lib\\site-packages\\xgboost\\sklearn.py:1224: UserWarning: The use of label encoder in XGBClassifier is deprecated and will be removed in a future release. To remove this warning, do the following: 1) Pass option use_label_encoder=False when constructing XGBClassifier object; and 2) Encode your labels (y) as integers starting with 0, i.e. 0, 1, 2, ..., [num_class - 1].\n",
      "  warnings.warn(label_encoder_deprecation_msg, UserWarning)\n"
     ]
    },
    {
     "name": "stdout",
     "output_type": "stream",
     "text": [
      "[01:10:10] WARNING: C:/Users/Administrator/workspace/xgboost-win64_release_1.5.1/src/learner.cc:1115: Starting in XGBoost 1.3.0, the default evaluation metric used with the objective 'multi:softprob' was changed from 'merror' to 'mlogloss'. Explicitly set eval_metric if you'd like to restore the old behavior.\n"
     ]
    },
    {
     "name": "stderr",
     "output_type": "stream",
     "text": [
      "E:\\Users\\hong9\\Anaconda3\\envs\\cv2_study\\lib\\site-packages\\xgboost\\sklearn.py:1224: UserWarning: The use of label encoder in XGBClassifier is deprecated and will be removed in a future release. To remove this warning, do the following: 1) Pass option use_label_encoder=False when constructing XGBClassifier object; and 2) Encode your labels (y) as integers starting with 0, i.e. 0, 1, 2, ..., [num_class - 1].\n",
      "  warnings.warn(label_encoder_deprecation_msg, UserWarning)\n"
     ]
    },
    {
     "name": "stdout",
     "output_type": "stream",
     "text": [
      "[01:10:17] WARNING: C:/Users/Administrator/workspace/xgboost-win64_release_1.5.1/src/learner.cc:1115: Starting in XGBoost 1.3.0, the default evaluation metric used with the objective 'multi:softprob' was changed from 'merror' to 'mlogloss'. Explicitly set eval_metric if you'd like to restore the old behavior.\n"
     ]
    },
    {
     "name": "stderr",
     "output_type": "stream",
     "text": [
      "E:\\Users\\hong9\\Anaconda3\\envs\\cv2_study\\lib\\site-packages\\xgboost\\sklearn.py:1224: UserWarning: The use of label encoder in XGBClassifier is deprecated and will be removed in a future release. To remove this warning, do the following: 1) Pass option use_label_encoder=False when constructing XGBClassifier object; and 2) Encode your labels (y) as integers starting with 0, i.e. 0, 1, 2, ..., [num_class - 1].\n",
      "  warnings.warn(label_encoder_deprecation_msg, UserWarning)\n"
     ]
    },
    {
     "name": "stdout",
     "output_type": "stream",
     "text": [
      "[01:10:24] WARNING: C:/Users/Administrator/workspace/xgboost-win64_release_1.5.1/src/learner.cc:1115: Starting in XGBoost 1.3.0, the default evaluation metric used with the objective 'multi:softprob' was changed from 'merror' to 'mlogloss'. Explicitly set eval_metric if you'd like to restore the old behavior.\n"
     ]
    },
    {
     "name": "stderr",
     "output_type": "stream",
     "text": [
      "E:\\Users\\hong9\\Anaconda3\\envs\\cv2_study\\lib\\site-packages\\xgboost\\sklearn.py:1224: UserWarning: The use of label encoder in XGBClassifier is deprecated and will be removed in a future release. To remove this warning, do the following: 1) Pass option use_label_encoder=False when constructing XGBClassifier object; and 2) Encode your labels (y) as integers starting with 0, i.e. 0, 1, 2, ..., [num_class - 1].\n",
      "  warnings.warn(label_encoder_deprecation_msg, UserWarning)\n"
     ]
    },
    {
     "name": "stdout",
     "output_type": "stream",
     "text": [
      "[01:10:31] WARNING: C:/Users/Administrator/workspace/xgboost-win64_release_1.5.1/src/learner.cc:1115: Starting in XGBoost 1.3.0, the default evaluation metric used with the objective 'multi:softprob' was changed from 'merror' to 'mlogloss'. Explicitly set eval_metric if you'd like to restore the old behavior.\n"
     ]
    },
    {
     "name": "stderr",
     "output_type": "stream",
     "text": [
      "E:\\Users\\hong9\\Anaconda3\\envs\\cv2_study\\lib\\site-packages\\xgboost\\sklearn.py:1224: UserWarning: The use of label encoder in XGBClassifier is deprecated and will be removed in a future release. To remove this warning, do the following: 1) Pass option use_label_encoder=False when constructing XGBClassifier object; and 2) Encode your labels (y) as integers starting with 0, i.e. 0, 1, 2, ..., [num_class - 1].\n",
      "  warnings.warn(label_encoder_deprecation_msg, UserWarning)\n"
     ]
    },
    {
     "name": "stdout",
     "output_type": "stream",
     "text": [
      "[01:10:38] WARNING: C:/Users/Administrator/workspace/xgboost-win64_release_1.5.1/src/learner.cc:1115: Starting in XGBoost 1.3.0, the default evaluation metric used with the objective 'multi:softprob' was changed from 'merror' to 'mlogloss'. Explicitly set eval_metric if you'd like to restore the old behavior.\n"
     ]
    },
    {
     "name": "stderr",
     "output_type": "stream",
     "text": [
      "E:\\Users\\hong9\\Anaconda3\\envs\\cv2_study\\lib\\site-packages\\xgboost\\sklearn.py:1224: UserWarning: The use of label encoder in XGBClassifier is deprecated and will be removed in a future release. To remove this warning, do the following: 1) Pass option use_label_encoder=False when constructing XGBClassifier object; and 2) Encode your labels (y) as integers starting with 0, i.e. 0, 1, 2, ..., [num_class - 1].\n",
      "  warnings.warn(label_encoder_deprecation_msg, UserWarning)\n"
     ]
    },
    {
     "name": "stdout",
     "output_type": "stream",
     "text": [
      "[01:10:45] WARNING: C:/Users/Administrator/workspace/xgboost-win64_release_1.5.1/src/learner.cc:1115: Starting in XGBoost 1.3.0, the default evaluation metric used with the objective 'multi:softprob' was changed from 'merror' to 'mlogloss'. Explicitly set eval_metric if you'd like to restore the old behavior.\n"
     ]
    },
    {
     "name": "stderr",
     "output_type": "stream",
     "text": [
      "E:\\Users\\hong9\\Anaconda3\\envs\\cv2_study\\lib\\site-packages\\xgboost\\sklearn.py:1224: UserWarning: The use of label encoder in XGBClassifier is deprecated and will be removed in a future release. To remove this warning, do the following: 1) Pass option use_label_encoder=False when constructing XGBClassifier object; and 2) Encode your labels (y) as integers starting with 0, i.e. 0, 1, 2, ..., [num_class - 1].\n",
      "  warnings.warn(label_encoder_deprecation_msg, UserWarning)\n"
     ]
    },
    {
     "name": "stdout",
     "output_type": "stream",
     "text": [
      "[01:10:52] WARNING: C:/Users/Administrator/workspace/xgboost-win64_release_1.5.1/src/learner.cc:1115: Starting in XGBoost 1.3.0, the default evaluation metric used with the objective 'multi:softprob' was changed from 'merror' to 'mlogloss'. Explicitly set eval_metric if you'd like to restore the old behavior.\n"
     ]
    },
    {
     "name": "stderr",
     "output_type": "stream",
     "text": [
      "E:\\Users\\hong9\\Anaconda3\\envs\\cv2_study\\lib\\site-packages\\xgboost\\sklearn.py:1224: UserWarning: The use of label encoder in XGBClassifier is deprecated and will be removed in a future release. To remove this warning, do the following: 1) Pass option use_label_encoder=False when constructing XGBClassifier object; and 2) Encode your labels (y) as integers starting with 0, i.e. 0, 1, 2, ..., [num_class - 1].\n",
      "  warnings.warn(label_encoder_deprecation_msg, UserWarning)\n"
     ]
    },
    {
     "name": "stdout",
     "output_type": "stream",
     "text": [
      "[01:10:58] WARNING: C:/Users/Administrator/workspace/xgboost-win64_release_1.5.1/src/learner.cc:1115: Starting in XGBoost 1.3.0, the default evaluation metric used with the objective 'multi:softprob' was changed from 'merror' to 'mlogloss'. Explicitly set eval_metric if you'd like to restore the old behavior.\n"
     ]
    },
    {
     "name": "stderr",
     "output_type": "stream",
     "text": [
      "E:\\Users\\hong9\\Anaconda3\\envs\\cv2_study\\lib\\site-packages\\xgboost\\sklearn.py:1224: UserWarning: The use of label encoder in XGBClassifier is deprecated and will be removed in a future release. To remove this warning, do the following: 1) Pass option use_label_encoder=False when constructing XGBClassifier object; and 2) Encode your labels (y) as integers starting with 0, i.e. 0, 1, 2, ..., [num_class - 1].\n",
      "  warnings.warn(label_encoder_deprecation_msg, UserWarning)\n"
     ]
    },
    {
     "name": "stdout",
     "output_type": "stream",
     "text": [
      "[01:11:05] WARNING: C:/Users/Administrator/workspace/xgboost-win64_release_1.5.1/src/learner.cc:1115: Starting in XGBoost 1.3.0, the default evaluation metric used with the objective 'multi:softprob' was changed from 'merror' to 'mlogloss'. Explicitly set eval_metric if you'd like to restore the old behavior.\n"
     ]
    },
    {
     "name": "stderr",
     "output_type": "stream",
     "text": [
      "E:\\Users\\hong9\\Anaconda3\\envs\\cv2_study\\lib\\site-packages\\xgboost\\sklearn.py:1224: UserWarning: The use of label encoder in XGBClassifier is deprecated and will be removed in a future release. To remove this warning, do the following: 1) Pass option use_label_encoder=False when constructing XGBClassifier object; and 2) Encode your labels (y) as integers starting with 0, i.e. 0, 1, 2, ..., [num_class - 1].\n",
      "  warnings.warn(label_encoder_deprecation_msg, UserWarning)\n"
     ]
    },
    {
     "name": "stdout",
     "output_type": "stream",
     "text": [
      "[01:11:12] WARNING: C:/Users/Administrator/workspace/xgboost-win64_release_1.5.1/src/learner.cc:1115: Starting in XGBoost 1.3.0, the default evaluation metric used with the objective 'multi:softprob' was changed from 'merror' to 'mlogloss'. Explicitly set eval_metric if you'd like to restore the old behavior.\n"
     ]
    },
    {
     "data": {
      "text/plain": [
       "GridSearchCV(cv=2,\n",
       "             estimator=XGBClassifier(base_score=None, booster=None,\n",
       "                                     colsample_bylevel=None,\n",
       "                                     colsample_bynode=None,\n",
       "                                     colsample_bytree=None,\n",
       "                                     enable_categorical=False, gamma=None,\n",
       "                                     gpu_id=None, importance_type=None,\n",
       "                                     interaction_constraints=None,\n",
       "                                     learning_rate=None, max_delta_step=None,\n",
       "                                     max_depth=None, min_child_weight=None,\n",
       "                                     missing=nan, monotone_constraints=None,\n",
       "                                     n_estimators=100, n_jobs=None,\n",
       "                                     num_parallel_tree=None, predictor=None,\n",
       "                                     random_state=None, reg_alpha=None,\n",
       "                                     reg_lambda=None, scale_pos_weight=None,\n",
       "                                     subsample=None, tree_method=None,\n",
       "                                     validate_parameters=None, verbosity=None),\n",
       "             param_grid={'colsample_bytree': [0.8, 0.9], 'max_depth': [8, 10],\n",
       "                         'min_child_weight': [5, 8], 'n_estimators': [400, 450],\n",
       "                         'nthread': [8], 'objective': ['multi:softmax']})"
      ]
     },
     "execution_count": 58,
     "metadata": {},
     "output_type": "execute_result"
    }
   ],
   "source": [
    "from xgboost import XGBClassifier\n",
    "\n",
    "param_grid = {\n",
    "              'n_estimators': [400,450],\n",
    "              'max_depth':[8,10],\n",
    "              'min_child_weight':[5,8],\n",
    "              'nthread':[8],\n",
    "              'colsample_bytree':[0.8,0.9],\n",
    "              'objective':['multi:softmax']\n",
    "              }\n",
    "\n",
    "xgb = XGBClassifier()\n",
    "grid_search = GridSearchCV(xgb, param_grid=param_grid, cv=2)\n",
    "grid_search.fit(model_X, model_y)"
   ]
  },
  {
   "cell_type": "code",
   "execution_count": 59,
   "id": "f8f5b386",
   "metadata": {
    "ExecuteTime": {
     "end_time": "2022-01-11T16:11:30.507617Z",
     "start_time": "2022-01-11T16:11:30.463328Z"
    }
   },
   "outputs": [
    {
     "name": "stdout",
     "output_type": "stream",
     "text": [
      "Best Parameter: {'colsample_bytree': 0.9, 'max_depth': 8, 'min_child_weight': 5, 'n_estimators': 450, 'nthread': 8, 'objective': 'multi:softmax'}\n",
      "Best Score: 0.9431\n",
      "Test Score: 0.9460\n"
     ]
    }
   ],
   "source": [
    "print('Best Parameter: {}'.format(grid_search.best_params_))\n",
    "print('Best Score: {:.4f}'.format(grid_search.best_score_))\n",
    "print('Test Score: {:.4f}'.format(grid_search.score(x_test, y_test)))"
   ]
  },
  {
   "cell_type": "code",
   "execution_count": 60,
   "id": "736e849c",
   "metadata": {
    "ExecuteTime": {
     "end_time": "2022-01-11T16:11:30.568174Z",
     "start_time": "2022-01-11T16:11:30.509380Z"
    }
   },
   "outputs": [
    {
     "name": "stdout",
     "output_type": "stream",
     "text": [
      "              precision    recall  f1-score   support\n",
      "\n",
      "           0       0.95      0.91      0.93       498\n",
      "           1       0.95      0.96      0.95       715\n",
      "           2       0.95      0.96      0.96       789\n",
      "           3       0.93      0.94      0.94       719\n",
      "\n",
      "    accuracy                           0.95      2721\n",
      "   macro avg       0.95      0.94      0.94      2721\n",
      "weighted avg       0.95      0.95      0.95      2721\n",
      "\n"
     ]
    }
   ],
   "source": [
    "pred_y = grid_search.best_estimator_.predict(x_test)\n",
    "\n",
    "cfreport_test = classification_report(y_test, pred_y)\n",
    "print(cfreport_test)"
   ]
  },
  {
   "cell_type": "markdown",
   "id": "ecf1a303",
   "metadata": {},
   "source": [
    "### Ensemble Voting"
   ]
  },
  {
   "cell_type": "code",
   "execution_count": 17,
   "id": "6f1c1afa",
   "metadata": {
    "ExecuteTime": {
     "end_time": "2022-01-12T05:04:23.652811Z",
     "start_time": "2022-01-12T05:04:22.886493Z"
    }
   },
   "outputs": [],
   "source": [
    "from sklearn.linear_model import LogisticRegression\n",
    "from sklearn.tree import DecisionTreeClassifier\n",
    "from sklearn.ensemble import RandomForestClassifier\n",
    "from xgboost import XGBClassifier"
   ]
  },
  {
   "cell_type": "code",
   "execution_count": 18,
   "id": "9cfb2c8a",
   "metadata": {
    "ExecuteTime": {
     "end_time": "2022-01-12T05:08:40.214138Z",
     "start_time": "2022-01-12T05:04:23.657785Z"
    }
   },
   "outputs": [
    {
     "name": "stderr",
     "output_type": "stream",
     "text": [
      "E:\\Users\\hong9\\Anaconda3\\envs\\cv2_study\\lib\\site-packages\\sklearn\\linear_model\\_logistic.py:814: ConvergenceWarning: lbfgs failed to converge (status=1):\n",
      "STOP: TOTAL NO. of ITERATIONS REACHED LIMIT.\n",
      "\n",
      "Increase the number of iterations (max_iter) or scale the data as shown in:\n",
      "    https://scikit-learn.org/stable/modules/preprocessing.html\n",
      "Please also refer to the documentation for alternative solver options:\n",
      "    https://scikit-learn.org/stable/modules/linear_model.html#logistic-regression\n",
      "  n_iter_i = _check_optimize_result(\n",
      "E:\\Users\\hong9\\Anaconda3\\envs\\cv2_study\\lib\\site-packages\\xgboost\\sklearn.py:1224: UserWarning: The use of label encoder in XGBClassifier is deprecated and will be removed in a future release. To remove this warning, do the following: 1) Pass option use_label_encoder=False when constructing XGBClassifier object; and 2) Encode your labels (y) as integers starting with 0, i.e. 0, 1, 2, ..., [num_class - 1].\n",
      "  warnings.warn(label_encoder_deprecation_msg, UserWarning)\n"
     ]
    },
    {
     "name": "stdout",
     "output_type": "stream",
     "text": [
      "[14:05:45] WARNING: C:/Users/Administrator/workspace/xgboost-win64_release_1.5.1/src/learner.cc:1115: Starting in XGBoost 1.3.0, the default evaluation metric used with the objective 'multi:softprob' was changed from 'merror' to 'mlogloss'. Explicitly set eval_metric if you'd like to restore the old behavior.\n"
     ]
    },
    {
     "name": "stderr",
     "output_type": "stream",
     "text": [
      "E:\\Users\\hong9\\Anaconda3\\envs\\cv2_study\\lib\\site-packages\\sklearn\\linear_model\\_logistic.py:814: ConvergenceWarning: lbfgs failed to converge (status=1):\n",
      "STOP: TOTAL NO. of ITERATIONS REACHED LIMIT.\n",
      "\n",
      "Increase the number of iterations (max_iter) or scale the data as shown in:\n",
      "    https://scikit-learn.org/stable/modules/preprocessing.html\n",
      "Please also refer to the documentation for alternative solver options:\n",
      "    https://scikit-learn.org/stable/modules/linear_model.html#logistic-regression\n",
      "  n_iter_i = _check_optimize_result(\n",
      "E:\\Users\\hong9\\Anaconda3\\envs\\cv2_study\\lib\\site-packages\\xgboost\\sklearn.py:1224: UserWarning: The use of label encoder in XGBClassifier is deprecated and will be removed in a future release. To remove this warning, do the following: 1) Pass option use_label_encoder=False when constructing XGBClassifier object; and 2) Encode your labels (y) as integers starting with 0, i.e. 0, 1, 2, ..., [num_class - 1].\n",
      "  warnings.warn(label_encoder_deprecation_msg, UserWarning)\n"
     ]
    },
    {
     "name": "stdout",
     "output_type": "stream",
     "text": [
      "[14:07:56] WARNING: C:/Users/Administrator/workspace/xgboost-win64_release_1.5.1/src/learner.cc:1115: Starting in XGBoost 1.3.0, the default evaluation metric used with the objective 'multi:softprob' was changed from 'merror' to 'mlogloss'. Explicitly set eval_metric if you'd like to restore the old behavior.\n"
     ]
    },
    {
     "data": {
      "text/plain": [
       "VotingClassifier(estimators=[('lr', LogisticRegression(C=1, random_state=10)),\n",
       "                             ('dt',\n",
       "                              DecisionTreeClassifier(max_depth=12,\n",
       "                                                     min_samples_leaf=5)),\n",
       "                             ('rf',\n",
       "                              RandomForestClassifier(bootstrap=False,\n",
       "                                                     max_depth=25,\n",
       "                                                     min_samples_split=5,\n",
       "                                                     n_estimators=800,\n",
       "                                                     random_state=10)),\n",
       "                             ('xgb',\n",
       "                              XGBClassifier(base_score=None, booster=None,\n",
       "                                            colsample_bylevel=None,\n",
       "                                            colsample_bynode=None,\n",
       "                                            col...\n",
       "                                            max_delta_step=None, max_depth=8,\n",
       "                                            min_child_weight=5, missing=nan,\n",
       "                                            monotone_constraints=None,\n",
       "                                            n_estimators=450, n_jobs=None,\n",
       "                                            nthread=8, num_parallel_tree=None,\n",
       "                                            objective='multi:softmax',\n",
       "                                            predictor=None, random_state=None,\n",
       "                                            reg_alpha=None, reg_lambda=None,\n",
       "                                            scale_pos_weight=None,\n",
       "                                            subsample=None, tree_method=None,\n",
       "                                            validate_parameters=None,\n",
       "                                            verbosity=None))],\n",
       "                 voting='soft')"
      ]
     },
     "execution_count": 18,
     "metadata": {},
     "output_type": "execute_result"
    }
   ],
   "source": [
    "from sklearn.ensemble import VotingClassifier\n",
    "\n",
    "lr = LogisticRegression(random_state=10, C=1, penalty='l2')\n",
    "dt_clf = DecisionTreeClassifier(max_depth=12, min_samples_leaf=5)\n",
    "rf_clf = RandomForestClassifier(random_state=10, bootstrap=False, max_depth=25, min_samples_split=5, n_estimators=800)\n",
    "xgb = XGBClassifier(colsample_bytree=0.9, max_depth=8, min_child_weight=5, n_estimators=450, nthread=8, objective='multi:softmax')\n",
    "voting_hard = VotingClassifier(\n",
    "                estimators = [('lr', lr), ('dt', dt_clf), ('rf', rf_clf), ('xgb', xgb)], voting='hard')\n",
    "voting_soft = VotingClassifier(\n",
    "                estimators = [('lr', lr), ('dt', dt_clf), ('rf', rf_clf), ('xgb', xgb)], voting='soft')\n",
    "voting_hard.fit(model_X, model_y)\n",
    "voting_soft.fit(model_X, model_y)"
   ]
  },
  {
   "cell_type": "code",
   "execution_count": 34,
   "id": "abfa53ba",
   "metadata": {
    "ExecuteTime": {
     "end_time": "2022-01-12T01:39:13.044863Z",
     "start_time": "2022-01-12T01:34:16.114967Z"
    }
   },
   "outputs": [
    {
     "name": "stderr",
     "output_type": "stream",
     "text": [
      "E:\\Users\\hong9\\Anaconda3\\envs\\cv2_study\\lib\\site-packages\\sklearn\\linear_model\\_logistic.py:814: ConvergenceWarning: lbfgs failed to converge (status=1):\n",
      "STOP: TOTAL NO. of ITERATIONS REACHED LIMIT.\n",
      "\n",
      "Increase the number of iterations (max_iter) or scale the data as shown in:\n",
      "    https://scikit-learn.org/stable/modules/preprocessing.html\n",
      "Please also refer to the documentation for alternative solver options:\n",
      "    https://scikit-learn.org/stable/modules/linear_model.html#logistic-regression\n",
      "  n_iter_i = _check_optimize_result(\n"
     ]
    },
    {
     "name": "stdout",
     "output_type": "stream",
     "text": [
      "LogisticRegression 0.6391032708563028\n",
      "DecisionTreeClassifier 0.5942668136714443\n",
      "RandomForestClassifier 0.6486585814038957\n",
      "[10:35:15] WARNING: C:/Users/Administrator/workspace/xgboost-win64_release_1.5.1/src/learner.cc:1115: Starting in XGBoost 1.3.0, the default evaluation metric used with the objective 'multi:softprob' was changed from 'merror' to 'mlogloss'. Explicitly set eval_metric if you'd like to restore the old behavior.\n"
     ]
    },
    {
     "name": "stderr",
     "output_type": "stream",
     "text": [
      "E:\\Users\\hong9\\Anaconda3\\envs\\cv2_study\\lib\\site-packages\\xgboost\\sklearn.py:1224: UserWarning: The use of label encoder in XGBClassifier is deprecated and will be removed in a future release. To remove this warning, do the following: 1) Pass option use_label_encoder=False when constructing XGBClassifier object; and 2) Encode your labels (y) as integers starting with 0, i.e. 0, 1, 2, ..., [num_class - 1].\n",
      "  warnings.warn(label_encoder_deprecation_msg, UserWarning)\n"
     ]
    },
    {
     "name": "stdout",
     "output_type": "stream",
     "text": [
      "XGBClassifier 0.6361631753031973\n"
     ]
    },
    {
     "name": "stderr",
     "output_type": "stream",
     "text": [
      "E:\\Users\\hong9\\Anaconda3\\envs\\cv2_study\\lib\\site-packages\\sklearn\\linear_model\\_logistic.py:814: ConvergenceWarning: lbfgs failed to converge (status=1):\n",
      "STOP: TOTAL NO. of ITERATIONS REACHED LIMIT.\n",
      "\n",
      "Increase the number of iterations (max_iter) or scale the data as shown in:\n",
      "    https://scikit-learn.org/stable/modules/preprocessing.html\n",
      "Please also refer to the documentation for alternative solver options:\n",
      "    https://scikit-learn.org/stable/modules/linear_model.html#logistic-regression\n",
      "  n_iter_i = _check_optimize_result(\n",
      "E:\\Users\\hong9\\Anaconda3\\envs\\cv2_study\\lib\\site-packages\\xgboost\\sklearn.py:1224: UserWarning: The use of label encoder in XGBClassifier is deprecated and will be removed in a future release. To remove this warning, do the following: 1) Pass option use_label_encoder=False when constructing XGBClassifier object; and 2) Encode your labels (y) as integers starting with 0, i.e. 0, 1, 2, ..., [num_class - 1].\n",
      "  warnings.warn(label_encoder_deprecation_msg, UserWarning)\n"
     ]
    },
    {
     "name": "stdout",
     "output_type": "stream",
     "text": [
      "[10:36:52] WARNING: C:/Users/Administrator/workspace/xgboost-win64_release_1.5.1/src/learner.cc:1115: Starting in XGBoost 1.3.0, the default evaluation metric used with the objective 'multi:softprob' was changed from 'merror' to 'mlogloss'. Explicitly set eval_metric if you'd like to restore the old behavior.\n",
      "VotingClassifier 0.6449834619625138\n"
     ]
    },
    {
     "name": "stderr",
     "output_type": "stream",
     "text": [
      "E:\\Users\\hong9\\Anaconda3\\envs\\cv2_study\\lib\\site-packages\\sklearn\\linear_model\\_logistic.py:814: ConvergenceWarning: lbfgs failed to converge (status=1):\n",
      "STOP: TOTAL NO. of ITERATIONS REACHED LIMIT.\n",
      "\n",
      "Increase the number of iterations (max_iter) or scale the data as shown in:\n",
      "    https://scikit-learn.org/stable/modules/preprocessing.html\n",
      "Please also refer to the documentation for alternative solver options:\n",
      "    https://scikit-learn.org/stable/modules/linear_model.html#logistic-regression\n",
      "  n_iter_i = _check_optimize_result(\n",
      "E:\\Users\\hong9\\Anaconda3\\envs\\cv2_study\\lib\\site-packages\\xgboost\\sklearn.py:1224: UserWarning: The use of label encoder in XGBClassifier is deprecated and will be removed in a future release. To remove this warning, do the following: 1) Pass option use_label_encoder=False when constructing XGBClassifier object; and 2) Encode your labels (y) as integers starting with 0, i.e. 0, 1, 2, ..., [num_class - 1].\n",
      "  warnings.warn(label_encoder_deprecation_msg, UserWarning)\n"
     ]
    },
    {
     "name": "stdout",
     "output_type": "stream",
     "text": [
      "[10:38:34] WARNING: C:/Users/Administrator/workspace/xgboost-win64_release_1.5.1/src/learner.cc:1115: Starting in XGBoost 1.3.0, the default evaluation metric used with the objective 'multi:softprob' was changed from 'merror' to 'mlogloss'. Explicitly set eval_metric if you'd like to restore the old behavior.\n",
      "VotingClassifier 0.6523337008452774\n"
     ]
    }
   ],
   "source": [
    "from sklearn.metrics import accuracy_score\n",
    "\n",
    "for clf in (lr, dt_clf, rf_clf, xgb, voting_hard, voting_soft):\n",
    "    clf.fit(model_X, model_y)\n",
    "    y_pred = clf.predict(x_test)\n",
    "    print(clf.__class__.__name__, accuracy_score(y_test, y_pred))"
   ]
  },
  {
   "cell_type": "code",
   "execution_count": 35,
   "id": "71c5f2ef",
   "metadata": {
    "ExecuteTime": {
     "end_time": "2022-01-12T01:39:13.851372Z",
     "start_time": "2022-01-12T01:39:13.048709Z"
    }
   },
   "outputs": [
    {
     "name": "stdout",
     "output_type": "stream",
     "text": [
      "              precision    recall  f1-score   support\n",
      "\n",
      "           0       0.50      0.52      0.51       498\n",
      "           1       0.64      0.66      0.65       715\n",
      "           2       0.72      0.71      0.71       789\n",
      "           3       0.68      0.65      0.66       719\n",
      "\n",
      "    accuracy                           0.64      2721\n",
      "   macro avg       0.63      0.63      0.63      2721\n",
      "weighted avg       0.65      0.64      0.65      2721\n",
      "\n"
     ]
    }
   ],
   "source": [
    "from sklearn.metrics import classification_report\n",
    "pred_y = voting_hard.predict(x_test)\n",
    "\n",
    "cfreport_test = classification_report(y_test, pred_y)\n",
    "print(cfreport_test)"
   ]
  },
  {
   "cell_type": "code",
   "execution_count": 36,
   "id": "af2a1ea7",
   "metadata": {
    "ExecuteTime": {
     "end_time": "2022-01-12T01:39:14.551012Z",
     "start_time": "2022-01-12T01:39:13.854382Z"
    },
    "scrolled": true
   },
   "outputs": [
    {
     "name": "stdout",
     "output_type": "stream",
     "text": [
      "              precision    recall  f1-score   support\n",
      "\n",
      "           0       0.53      0.48      0.50       498\n",
      "           1       0.64      0.67      0.66       715\n",
      "           2       0.72      0.72      0.72       789\n",
      "           3       0.67      0.68      0.68       719\n",
      "\n",
      "    accuracy                           0.65      2721\n",
      "   macro avg       0.64      0.64      0.64      2721\n",
      "weighted avg       0.65      0.65      0.65      2721\n",
      "\n"
     ]
    }
   ],
   "source": [
    "from sklearn.metrics import classification_report\n",
    "pred_y = voting_soft.predict(x_test)\n",
    "\n",
    "cfreport_test = classification_report(y_test, pred_y)\n",
    "print(cfreport_test)"
   ]
  },
  {
   "cell_type": "code",
   "execution_count": 19,
   "id": "cd8afcee",
   "metadata": {
    "ExecuteTime": {
     "end_time": "2022-01-12T05:08:41.543390Z",
     "start_time": "2022-01-12T05:08:40.216344Z"
    }
   },
   "outputs": [
    {
     "name": "stdout",
     "output_type": "stream",
     "text": [
      "정확도 : 0.664462, 정밀도 : 0.653630, 재현율 : 0.653844\n",
      "f1-score : 0.653494\n"
     ]
    },
    {
     "data": {
      "image/png": "[encoded data removed]",
      "text/plain": [
       "<Figure size 432x288 with 2 Axes>"
      ]
     },
     "metadata": {
      "needs_background": "light"
     },
     "output_type": "display_data"
    }
   ],
   "source": [
    "from sklearn.metrics import accuracy_score, precision_score,recall_score,f1_score,confusion_matrix, roc_auc_score\n",
    "final_model = voting_soft\n",
    "final_pred = final_model.predict(x_test)\n",
    "\n",
    "def metric(y_test, pred):\n",
    "    accuracy = accuracy_score(y_test,pred)\n",
    "    precision = precision_score(y_test,pred, average='macro')\n",
    "    recall = recall_score(y_test,pred, average='macro')\n",
    "    f1 = f1_score(y_test,pred, average='macro')\n",
    "    print('정확도 : {0:.6f}, 정밀도 : {1:.6f}, 재현율 : {2:.6f}'.format(accuracy,precision,recall))\n",
    "    print('f1-score : {0:.6f}'.format(f1))\n",
    "\n",
    "metric(y_test, final_pred)\n",
    "\n",
    "# confusion matrix 확인하기\n",
    "\n",
    "\n",
    "con_mat = confusion_matrix(y_test, final_pred)\n",
    "sns.heatmap(con_mat, square=True, annot=True, fmt='d')\n",
    "plt.xlabel('true_label')\n",
    "plt.ylabel('predicted_label')\n",
    "plt.xticks(rotation=45)\n",
    "plt.show()"
   ]
  },
  {
   "cell_type": "code",
   "execution_count": null,
   "id": "f4223540",
   "metadata": {},
   "outputs": [],
   "source": []
  },
  {
   "cell_type": "code",
   "execution_count": null,
   "id": "d3071d58",
   "metadata": {},
   "outputs": [],
   "source": []
  },
  {
   "cell_type": "code",
   "execution_count": null,
   "id": "389bdf6a",
   "metadata": {},
   "outputs": [],
   "source": []
  },
  {
   "cell_type": "code",
   "execution_count": null,
   "id": "1dba7ab3",
   "metadata": {},
   "outputs": [],
   "source": []
  },
  {
   "cell_type": "code",
   "execution_count": null,
   "id": "8ec5a21f",
   "metadata": {},
   "outputs": [],
   "source": []
  },
  {
   "cell_type": "code",
   "execution_count": 71,
   "id": "a89db5d3",
   "metadata": {
    "ExecuteTime": {
     "end_time": "2022-01-12T02:12:12.176609Z",
     "start_time": "2022-01-12T02:12:12.121746Z"
    }
   },
   "outputs": [
    {
     "ename": "KeyError",
     "evalue": "'key of type tuple not found and not a MultiIndex'",
     "output_type": "error",
     "traceback": [
      "\u001b[1;31m---------------------------------------------------------------------------\u001b[0m",
      "\u001b[1;31mKeyError\u001b[0m                                  Traceback (most recent call last)",
      "\u001b[1;32m~\\AppData\\Local\\Temp/ipykernel_10904/1663781272.py\u001b[0m in \u001b[0;36m<module>\u001b[1;34m\u001b[0m\n\u001b[0;32m      8\u001b[0m \u001b[0mroc_auc\u001b[0m \u001b[1;33m=\u001b[0m \u001b[0mdict\u001b[0m\u001b[1;33m(\u001b[0m\u001b[1;33m)\u001b[0m\u001b[1;33m\u001b[0m\u001b[1;33m\u001b[0m\u001b[0m\n\u001b[0;32m      9\u001b[0m \u001b[1;32mfor\u001b[0m \u001b[0mi\u001b[0m \u001b[1;32min\u001b[0m \u001b[0mrange\u001b[0m\u001b[1;33m(\u001b[0m\u001b[0mn_classes\u001b[0m\u001b[1;33m)\u001b[0m\u001b[1;33m:\u001b[0m\u001b[1;33m\u001b[0m\u001b[1;33m\u001b[0m\u001b[0m\n\u001b[1;32m---> 10\u001b[1;33m     \u001b[0mfpr\u001b[0m\u001b[1;33m[\u001b[0m\u001b[0mi\u001b[0m\u001b[1;33m]\u001b[0m\u001b[1;33m,\u001b[0m \u001b[0mtpr\u001b[0m\u001b[1;33m[\u001b[0m\u001b[0mi\u001b[0m\u001b[1;33m]\u001b[0m\u001b[1;33m,\u001b[0m \u001b[0m_\u001b[0m \u001b[1;33m=\u001b[0m \u001b[0mroc_curve\u001b[0m\u001b[1;33m(\u001b[0m\u001b[0my_test\u001b[0m\u001b[1;33m[\u001b[0m\u001b[1;33m:\u001b[0m\u001b[1;33m,\u001b[0m \u001b[0mi\u001b[0m\u001b[1;33m]\u001b[0m\u001b[1;33m,\u001b[0m \u001b[0my_score\u001b[0m\u001b[1;33m[\u001b[0m\u001b[1;33m:\u001b[0m\u001b[1;33m,\u001b[0m \u001b[0mi\u001b[0m\u001b[1;33m]\u001b[0m\u001b[1;33m)\u001b[0m\u001b[1;33m\u001b[0m\u001b[1;33m\u001b[0m\u001b[0m\n\u001b[0m\u001b[0;32m     11\u001b[0m     \u001b[0mroc_auc\u001b[0m\u001b[1;33m[\u001b[0m\u001b[0mi\u001b[0m\u001b[1;33m]\u001b[0m \u001b[1;33m=\u001b[0m \u001b[0mauc\u001b[0m\u001b[1;33m(\u001b[0m\u001b[0mfpr\u001b[0m\u001b[1;33m[\u001b[0m\u001b[0mi\u001b[0m\u001b[1;33m]\u001b[0m\u001b[1;33m,\u001b[0m \u001b[0mtpr\u001b[0m\u001b[1;33m[\u001b[0m\u001b[0mi\u001b[0m\u001b[1;33m]\u001b[0m\u001b[1;33m)\u001b[0m\u001b[1;33m\u001b[0m\u001b[1;33m\u001b[0m\u001b[0m\n",
      "\u001b[1;32mE:\\Users\\hong9\\Anaconda3\\envs\\cv2_study\\lib\\site-packages\\pandas\\core\\series.py\u001b[0m in \u001b[0;36m__getitem__\u001b[1;34m(self, key)\u001b[0m\n\u001b[0;32m    964\u001b[0m             \u001b[1;32mreturn\u001b[0m \u001b[0mself\u001b[0m\u001b[1;33m.\u001b[0m\u001b[0m_get_values\u001b[0m\u001b[1;33m(\u001b[0m\u001b[0mkey\u001b[0m\u001b[1;33m)\u001b[0m\u001b[1;33m\u001b[0m\u001b[1;33m\u001b[0m\u001b[0m\n\u001b[0;32m    965\u001b[0m \u001b[1;33m\u001b[0m\u001b[0m\n\u001b[1;32m--> 966\u001b[1;33m         \u001b[1;32mreturn\u001b[0m \u001b[0mself\u001b[0m\u001b[1;33m.\u001b[0m\u001b[0m_get_with\u001b[0m\u001b[1;33m(\u001b[0m\u001b[0mkey\u001b[0m\u001b[1;33m)\u001b[0m\u001b[1;33m\u001b[0m\u001b[1;33m\u001b[0m\u001b[0m\n\u001b[0m\u001b[0;32m    967\u001b[0m \u001b[1;33m\u001b[0m\u001b[0m\n\u001b[0;32m    968\u001b[0m     \u001b[1;32mdef\u001b[0m \u001b[0m_get_with\u001b[0m\u001b[1;33m(\u001b[0m\u001b[0mself\u001b[0m\u001b[1;33m,\u001b[0m \u001b[0mkey\u001b[0m\u001b[1;33m)\u001b[0m\u001b[1;33m:\u001b[0m\u001b[1;33m\u001b[0m\u001b[1;33m\u001b[0m\u001b[0m\n",
      "\u001b[1;32mE:\\Users\\hong9\\Anaconda3\\envs\\cv2_study\\lib\\site-packages\\pandas\\core\\series.py\u001b[0m in \u001b[0;36m_get_with\u001b[1;34m(self, key)\u001b[0m\n\u001b[0;32m    979\u001b[0m             )\n\u001b[0;32m    980\u001b[0m         \u001b[1;32melif\u001b[0m \u001b[0misinstance\u001b[0m\u001b[1;33m(\u001b[0m\u001b[0mkey\u001b[0m\u001b[1;33m,\u001b[0m \u001b[0mtuple\u001b[0m\u001b[1;33m)\u001b[0m\u001b[1;33m:\u001b[0m\u001b[1;33m\u001b[0m\u001b[1;33m\u001b[0m\u001b[0m\n\u001b[1;32m--> 981\u001b[1;33m             \u001b[1;32mreturn\u001b[0m \u001b[0mself\u001b[0m\u001b[1;33m.\u001b[0m\u001b[0m_get_values_tuple\u001b[0m\u001b[1;33m(\u001b[0m\u001b[0mkey\u001b[0m\u001b[1;33m)\u001b[0m\u001b[1;33m\u001b[0m\u001b[1;33m\u001b[0m\u001b[0m\n\u001b[0m\u001b[0;32m    982\u001b[0m \u001b[1;33m\u001b[0m\u001b[0m\n\u001b[0;32m    983\u001b[0m         \u001b[1;32melif\u001b[0m \u001b[1;32mnot\u001b[0m \u001b[0mis_list_like\u001b[0m\u001b[1;33m(\u001b[0m\u001b[0mkey\u001b[0m\u001b[1;33m)\u001b[0m\u001b[1;33m:\u001b[0m\u001b[1;33m\u001b[0m\u001b[1;33m\u001b[0m\u001b[0m\n",
      "\u001b[1;32mE:\\Users\\hong9\\Anaconda3\\envs\\cv2_study\\lib\\site-packages\\pandas\\core\\series.py\u001b[0m in \u001b[0;36m_get_values_tuple\u001b[1;34m(self, key)\u001b[0m\n\u001b[0;32m   1014\u001b[0m \u001b[1;33m\u001b[0m\u001b[0m\n\u001b[0;32m   1015\u001b[0m         \u001b[1;32mif\u001b[0m \u001b[1;32mnot\u001b[0m \u001b[0misinstance\u001b[0m\u001b[1;33m(\u001b[0m\u001b[0mself\u001b[0m\u001b[1;33m.\u001b[0m\u001b[0mindex\u001b[0m\u001b[1;33m,\u001b[0m \u001b[0mMultiIndex\u001b[0m\u001b[1;33m)\u001b[0m\u001b[1;33m:\u001b[0m\u001b[1;33m\u001b[0m\u001b[1;33m\u001b[0m\u001b[0m\n\u001b[1;32m-> 1016\u001b[1;33m             \u001b[1;32mraise\u001b[0m \u001b[0mKeyError\u001b[0m\u001b[1;33m(\u001b[0m\u001b[1;34m\"key of type tuple not found and not a MultiIndex\"\u001b[0m\u001b[1;33m)\u001b[0m\u001b[1;33m\u001b[0m\u001b[1;33m\u001b[0m\u001b[0m\n\u001b[0m\u001b[0;32m   1017\u001b[0m \u001b[1;33m\u001b[0m\u001b[0m\n\u001b[0;32m   1018\u001b[0m         \u001b[1;31m# If key is contained, would have returned by now\u001b[0m\u001b[1;33m\u001b[0m\u001b[1;33m\u001b[0m\u001b[1;33m\u001b[0m\u001b[0m\n",
      "\u001b[1;31mKeyError\u001b[0m: 'key of type tuple not found and not a MultiIndex'"
     ]
    }
   ],
   "source": [
    "from sklearn.metrics import roc_curve, auc\n",
    "\n",
    "y_score = model.fit().decision_function(x_test)\n",
    "\n",
    "# Compute ROC curve and ROC area for each class\n",
    "fpr = dict()\n",
    "tpr = dict()\n",
    "roc_auc = dict()\n",
    "for i in range(n_classes):\n",
    "    fpr[i], tpr[i], _ = roc_curve(y_test[:, i], y_score[:, i])\n",
    "    roc_auc[i] = auc(fpr[i], tpr[i])"
   ]
  },
  {
   "cell_type": "code",
   "execution_count": null,
   "id": "2b83dcbb",
   "metadata": {},
   "outputs": [],
   "source": [
    "\n",
    "\n",
    "# First aggregate all false positive rates\n",
    "n_classes = y_train.to_numpy()\n",
    "\n",
    "all_fpr = np.unique(np.concatenate([fpr[i] for i in range(y_train.nunique())]))\n",
    "\n",
    "# Then interpolate all ROC curves at this points\n",
    "mean_tpr = np.zeros_like(all_fpr)\n",
    "for i in range(n_classes):\n",
    "    mean_tpr += np.interp(all_fpr, fpr[i], tpr[i])\n",
    "\n",
    "# Finally average it and compute AUC\n",
    "mean_tpr /= n_classes\n",
    "\n",
    "fpr[\"macro\"] = all_fpr\n",
    "tpr[\"macro\"] = mean_tpr\n",
    "roc_auc[\"macro\"] = auc(fpr[\"macro\"], tpr[\"macro\"])\n",
    "\n",
    "# Plot all ROC curves\n",
    "plt.figure()\n",
    "plt.plot(\n",
    "    fpr[\"micro\"],\n",
    "    tpr[\"micro\"],\n",
    "    label=\"micro-average ROC curve (area = {0:0.2f})\".format(roc_auc[\"micro\"]),\n",
    "    color=\"deeppink\",\n",
    "    linestyle=\":\",\n",
    "    linewidth=4,\n",
    ")\n",
    "\n",
    "plt.plot(\n",
    "    fpr[\"macro\"],\n",
    "    tpr[\"macro\"],\n",
    "    label=\"macro-average ROC curve (area = {0:0.2f})\".format(roc_auc[\"macro\"]),\n",
    "    color=\"navy\",\n",
    "    linestyle=\":\",\n",
    "    linewidth=4,\n",
    ")\n",
    "\n",
    "colors = cycle([\"aqua\", \"darkorange\", \"cornflowerblue\"])\n",
    "for i, color in zip(range(n_classes), colors):\n",
    "    plt.plot(\n",
    "        fpr[i],\n",
    "        tpr[i],\n",
    "        color=color,\n",
    "        lw=lw,\n",
    "        label=\"ROC curve of class {0} (area = {1:0.2f})\".format(i, roc_auc[i]),\n",
    "    )\n",
    "\n",
    "plt.plot([0, 1], [0, 1], \"k--\", lw=lw)\n",
    "plt.xlim([0.0, 1.0])\n",
    "plt.ylim([0.0, 1.05])\n",
    "plt.xlabel(\"False Positive Rate\")\n",
    "plt.ylabel(\"True Positive Rate\")\n",
    "plt.title(\"Some extension of Receiver operating characteristic to multiclass\")\n",
    "plt.legend(loc=\"lower right\")\n",
    "plt.show()"
   ]
  },
  {
   "cell_type": "code",
   "execution_count": 47,
   "id": "ead69d0e",
   "metadata": {
    "ExecuteTime": {
     "end_time": "2022-01-12T01:56:58.722790Z",
     "start_time": "2022-01-12T01:56:58.708315Z"
    }
   },
   "outputs": [],
   "source": [
    "df_pred = pd.DataFrame({'value' : y_test.to_numpy(), 'pred' : pred_y})"
   ]
  },
  {
   "cell_type": "code",
   "execution_count": 81,
   "id": "842f1901",
   "metadata": {
    "ExecuteTime": {
     "end_time": "2022-01-12T02:39:49.713133Z",
     "start_time": "2022-01-12T02:39:49.692823Z"
    }
   },
   "outputs": [
    {
     "data": {
      "text/plain": [
       "1    104\n",
       "2     74\n",
       "3     38\n",
       "Name: value, dtype: int64"
      ]
     },
     "execution_count": 81,
     "metadata": {},
     "output_type": "execute_result"
    }
   ],
   "source": [
    "df_pred.loc[(df_pred['pred']==0) & (df_pred['value']!= df_pred['pred']), 'value'].value_counts()"
   ]
  },
  {
   "cell_type": "code",
   "execution_count": 82,
   "id": "7fd272e6",
   "metadata": {
    "ExecuteTime": {
     "end_time": "2022-01-12T02:39:50.199178Z",
     "start_time": "2022-01-12T02:39:50.188194Z"
    }
   },
   "outputs": [
    {
     "data": {
      "text/plain": [
       "0    239\n",
       "Name: value, dtype: int64"
      ]
     },
     "execution_count": 82,
     "metadata": {},
     "output_type": "execute_result"
    }
   ],
   "source": [
    "df_pred.loc[(df_pred['pred']==0) & (df_pred['value']== df_pred['pred']), 'value'].value_counts()"
   ]
  },
  {
   "cell_type": "code",
   "execution_count": null,
   "id": "76136106",
   "metadata": {},
   "outputs": [],
   "source": []
  },
  {
   "cell_type": "code",
   "execution_count": null,
   "id": "1dc72b3c",
   "metadata": {},
   "outputs": [],
   "source": []
  },
  {
   "cell_type": "code",
   "execution_count": 77,
   "id": "b18e7d08",
   "metadata": {
    "ExecuteTime": {
     "end_time": "2022-01-12T02:37:28.502157Z",
     "start_time": "2022-01-12T02:37:28.480352Z"
    }
   },
   "outputs": [
    {
     "data": {
      "text/plain": [
       "0    239\n",
       "Name: value, dtype: int64"
      ]
     },
     "execution_count": 77,
     "metadata": {},
     "output_type": "execute_result"
    }
   ],
   "source": [
    "df_pred.loc[(df_pred['pred']==0) & (df_pred['value']== df_pred['pred']), 'value'].value_counts()"
   ]
  },
  {
   "cell_type": "code",
   "execution_count": null,
   "id": "772852a3",
   "metadata": {},
   "outputs": [],
   "source": [
    "df_pred.loc[(df_pred['value']==0) & (df_pred['value']== df_pred['pred']), 'pred'].value_counts()"
   ]
  },
  {
   "cell_type": "code",
   "execution_count": 56,
   "id": "e797ebab",
   "metadata": {
    "ExecuteTime": {
     "end_time": "2022-01-12T01:58:53.293514Z",
     "start_time": "2022-01-12T01:58:53.270326Z"
    }
   },
   "outputs": [
    {
     "data": {
      "text/plain": [
       "0    104\n",
       "3     92\n",
       "2     39\n",
       "Name: pred, dtype: int64"
      ]
     },
     "execution_count": 56,
     "metadata": {},
     "output_type": "execute_result"
    }
   ],
   "source": [
    "df_pred.loc[(df_pred['value']==1) & (df_pred['value']!= df_pred['pred']), 'pred'].value_counts()"
   ]
  },
  {
   "cell_type": "code",
   "execution_count": 57,
   "id": "178f6186",
   "metadata": {
    "ExecuteTime": {
     "end_time": "2022-01-12T01:58:59.816396Z",
     "start_time": "2022-01-12T01:58:59.799330Z"
    }
   },
   "outputs": [
    {
     "data": {
      "text/plain": [
       "3    90\n",
       "0    74\n",
       "1    59\n",
       "Name: pred, dtype: int64"
      ]
     },
     "execution_count": 57,
     "metadata": {},
     "output_type": "execute_result"
    }
   ],
   "source": [
    "df_pred.loc[(df_pred['value']==2) & (df_pred['value']!= df_pred['pred']), 'pred'].value_counts()"
   ]
  },
  {
   "cell_type": "code",
   "execution_count": 58,
   "id": "0dc27f46",
   "metadata": {
    "ExecuteTime": {
     "end_time": "2022-01-12T01:59:10.977581Z",
     "start_time": "2022-01-12T01:59:10.967329Z"
    }
   },
   "outputs": [
    {
     "data": {
      "text/plain": [
       "2    96\n",
       "1    95\n",
       "0    38\n",
       "Name: pred, dtype: int64"
      ]
     },
     "execution_count": 58,
     "metadata": {},
     "output_type": "execute_result"
    }
   ],
   "source": [
    "df_pred.loc[(df_pred['value']==3) & (df_pred['value']!= df_pred['pred']), 'pred'].value_counts()"
   ]
  },
  {
   "cell_type": "code",
   "execution_count": null,
   "id": "8e5f118a",
   "metadata": {},
   "outputs": [],
   "source": [
    "###########"
   ]
  },
  {
   "cell_type": "code",
   "execution_count": null,
   "id": "17bb2baa",
   "metadata": {
    "ExecuteTime": {
     "end_time": "2022-01-11T16:11:35.552432Z",
     "start_time": "2022-01-11T16:11:35.552432Z"
    }
   },
   "outputs": [],
   "source": [
    "lr = LogisticRegression(random_state=10, C=1, penalty='l2')\n",
    "dt_clf = DecisionTreeClassifier(max_depth=12, min_samples_leaf=5)\n",
    "rf_clf = RandomForestClassifier(random_state=10)\n",
    "\n",
    "voting_hard = VotingClassifier(\n",
    "                estimators = [('lr', lr), ('dt', dt_clf), ('rf', rf_clf)], voting='soft')\n",
    "voting_hard.fit(model_X, model_y)"
   ]
  },
  {
   "cell_type": "code",
   "execution_count": null,
   "id": "45db5a90",
   "metadata": {
    "ExecuteTime": {
     "end_time": "2022-01-11T16:11:35.554757Z",
     "start_time": "2022-01-11T16:11:35.554757Z"
    }
   },
   "outputs": [],
   "source": [
    "for clf in (lr, dt_clf, rf_clf, voring_hard):\n",
    "    clf.fit(model_X, model_y)\n",
    "    y_pred = clf.predict(x_test)\n",
    "    print(clf.__class__.__name__, accuracy_score(y_test, y_pred))"
   ]
  },
  {
   "cell_type": "code",
   "execution_count": null,
   "id": "e7cb3476",
   "metadata": {
    "ExecuteTime": {
     "end_time": "2022-01-11T16:11:35.557259Z",
     "start_time": "2022-01-11T16:11:35.557259Z"
    }
   },
   "outputs": [],
   "source": [
    "pred_y = voting_hard.predict(x_test)\n",
    "\n",
    "cfreport_test = classification_report(y_test, pred_y)\n",
    "print(cfreport_test)"
   ]
  },
  {
   "cell_type": "code",
   "execution_count": null,
   "id": "0c67c9cd",
   "metadata": {},
   "outputs": [],
   "source": []
  },
  {
   "cell_type": "code",
   "execution_count": null,
   "id": "23aa65bc",
   "metadata": {},
   "outputs": [],
   "source": []
  },
  {
   "cell_type": "code",
   "execution_count": null,
   "id": "5e024dff",
   "metadata": {},
   "outputs": [],
   "source": []
  },
  {
   "cell_type": "code",
   "execution_count": null,
   "id": "fef0d1a0",
   "metadata": {},
   "outputs": [],
   "source": [
    "features = model_X.columns\n",
    "num_features = len(features)\n",
    "def plot_feature_importances(model):\n",
    "    plt.figure(figsize=(12,8))\n",
    "    n_features = num_features\n",
    "    plt.barh(range(n_features), model.feature_importances_, align='center')\n",
    "    plt.yticks(np.arange(n_features), features)\n",
    "    plt.xlabel(\"Feature importance\")\n",
    "    plt.ylabel(\"Feature\")\n",
    "    plt.ylim(-1, n_features)\n",
    "\n",
    "plot_feature_importances(clf)"
   ]
  },
  {
   "cell_type": "code",
   "execution_count": null,
   "id": "0150e423",
   "metadata": {},
   "outputs": [],
   "source": []
  },
  {
   "cell_type": "code",
   "execution_count": null,
   "id": "bf3c2a24",
   "metadata": {},
   "outputs": [],
   "source": []
  },
  {
   "cell_type": "code",
   "execution_count": null,
   "id": "b7ff737b",
   "metadata": {},
   "outputs": [],
   "source": []
  },
  {
   "cell_type": "code",
   "execution_count": null,
   "id": "8a3b5843",
   "metadata": {},
   "outputs": [],
   "source": []
  },
  {
   "cell_type": "code",
   "execution_count": null,
   "id": "74a25d79",
   "metadata": {},
   "outputs": [],
   "source": []
  },
  {
   "cell_type": "code",
   "execution_count": null,
   "id": "28bd338a",
   "metadata": {},
   "outputs": [],
   "source": []
  },
  {
   "cell_type": "code",
   "execution_count": null,
   "id": "e55150f3",
   "metadata": {},
   "outputs": [],
   "source": [
    "\n",
    "\n",
    "\n",
    "\n",
    "\n",
    "\n",
    "\n",
    "\n",
    "\n",
    "# k_fold validation 적용 (연산이 오래 걸릴수도 있음)\n",
    "# -> 연산이 너무 많이 걸리지 않는 선에서 최대 효율을 뽑을 필요가 있어보임\n",
    "k_fold = KFold(random_state=50, n_splits=5, shuffle=True)\n",
    "\n",
    "# 모델 설정\n",
    "#model = RandomForestClassifier()\n",
    "model = XGBClassifier()\n",
    "#model = LGBMClassifier()\n",
    "\n",
    "# 그리드 서치 파라미터 설정\n",
    "\n",
    "# RandomForest 파라미터\n",
    "'''\n",
    "param_grid = {\n",
    "              'n_estimators': [200, 250],\n",
    "              'max_depth': [25,30],\n",
    "              'min_samples_split' : [15,20],\n",
    "              'bootstrap':['False','True'],\n",
    "              'min_samples_leaf': [10,15],\n",
    "              }\n",
    "'''   \n",
    "\n",
    "#XGBoost 파라미터\n",
    "param_grid = {\n",
    "              'n_estimators': [400,450],\n",
    "              'max_depth':[8,10],\n",
    "              'min_child_weight':[5,8], #min sample leaf\n",
    "              'nthread':[8], #스레드 갯수 고정\n",
    "              'colsample_bytree':[0.8,0.9], #max feature\n",
    "              'objective':['multi:softmax']\n",
    "              }\n",
    "\n",
    "\n",
    "'''\n",
    "#lightGBM 파라미터\n",
    "param_grid = {\n",
    "              'n_estimators': [200],\n",
    "              'min_child_samples':[1,2], #과적합을 방지하는 파라미터\n",
    "              'max_depth':[7,8,10],\n",
    "              'num_leaves':[70],\n",
    "              'sub_sample':[0.2,0.4] #과적합 방지하기 위해 데이터 샘플링 하는 비율\n",
    "              }\n",
    "'''\n",
    "\n",
    "grid_search = GridSearchCV(estimator = model, \n",
    "                           param_grid = param_grid,\n",
    "                           cv = k_fold)\n",
    "\n",
    "grid_search.fit(x_resampled, y_resampled)\n",
    "best_param = grid_search.best_params_\n",
    "\n",
    "# 최적 파라미터와 결과\n",
    "print(best_param)\n",
    "print('best score : {}'.format(grid_search.best_score_))\n",
    "\n",
    "# 최종 모델 평가\n",
    "from sklearn.metrics import accuracy_score, precision_score,recall_score,f1_score,confusion_matrix, roc_auc_score\n",
    "final_model = grid_search.best_estimator_\n",
    "final_pred = final_model.predict(x_test)\n",
    "\n",
    "def metric(y_test, pred):\n",
    "    accuracy = accuracy_score(y_test,pred)\n",
    "    precision = precision_score(y_test,pred, average='macro')\n",
    "    recall = recall_score(y_test,pred, average='macro')\n",
    "    f1 = f1_score(y_test,pred, average='macro')\n",
    "    print('정확도 : {0:.6f}, 정밀도 : {1:.6f}, 재현율 : {2:.6f}'.format(accuracy,precision,recall))\n",
    "    print('f1-score : {0:.6f}'.format(f1))\n",
    "\n",
    "metric(y_test, final_pred)\n",
    "\n",
    "# confusion matrix 확인하기\n",
    "\n",
    "\n",
    "con_mat = confusion_matrix(y_test, final_pred)\n",
    "sns.heatmap(con_mat, square=True, annot=True, fmt='d')\n",
    "plt.xlabel('true_label')\n",
    "plt.ylabel('predicted_label')\n",
    "plt.xticks(rotation=45)\n",
    "plt.show()\n",
    "\n",
    "# 특성 중요도 추출하기\n",
    "diction= {}\n",
    "for name, score in zip(df.columns, final_model.feature_importances_):\n",
    "    #print(name, score)\n",
    "    diction[name]=score\n",
    "    \n",
    "feature_importance = pd.DataFrame(list(diction.items()), columns=['features', 'score'])\n",
    "\n",
    "plt.figure(figsize=(10, 8))\n",
    "sns.barplot(x='features', y='score', data=feature_importance)\n",
    "plt.title('Feature Importances', fontsize=15)\n",
    "plt.show()\n"
   ]
  },
  {
   "cell_type": "code",
   "execution_count": null,
   "id": "ea2af482",
   "metadata": {},
   "outputs": [],
   "source": []
  },
  {
   "cell_type": "code",
   "execution_count": null,
   "id": "fed38efb",
   "metadata": {},
   "outputs": [],
   "source": []
  },
  {
   "cell_type": "code",
   "execution_count": null,
   "id": "0818dff1",
   "metadata": {},
   "outputs": [],
   "source": []
  },
  {
   "cell_type": "code",
   "execution_count": null,
   "id": "4fbadfe5",
   "metadata": {},
   "outputs": [],
   "source": []
  }
 ],
 "metadata": {
  "kernelspec": {
   "display_name": "Python 3 (ipykernel)",
   "language": "python",
   "name": "python3"
  },
  "language_info": {
   "codemirror_mode": {
    "name": "ipython",
    "version": 3
   },
   "file_extension": ".py",
   "mimetype": "text/x-python",
   "name": "python",
   "nbconvert_exporter": "python",
   "pygments_lexer": "ipython3",
   "version": "3.8.12"
  },
  "toc": {
   "base_numbering": 1,
   "nav_menu": {},
   "number_sections": true,
   "sideBar": true,
   "skip_h1_title": false,
   "title_cell": "Table of Contents",
   "title_sidebar": "Contents",
   "toc_cell": false,
   "toc_position": {},
   "toc_section_display": true,
   "toc_window_display": false
  }
 },
 "nbformat": 4,
 "nbformat_minor": 5
}
